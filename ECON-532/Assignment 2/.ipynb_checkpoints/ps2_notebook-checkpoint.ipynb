{
 "cells": [
  {
   "cell_type": "markdown",
   "metadata": {},
   "source": [
    "# Problem Set 2\n",
    "### Lukas Hager,  ECON 532\n",
    "___"
   ]
  },
  {
   "cell_type": "markdown",
   "metadata": {},
   "source": [
    "## Market Simulation\n",
    "**For each of these two simulations, compare the distribution of prices, profits and consumer surplus. For consumer surplus, simulate draws of consumers from the true distribution and calculate their optimal purchasing decision and welfare**\n",
    "___\n",
    "To get prices, we simply squeeze the variable `P_opt` to be one dimensional and plot a histogram. To get profit and consumer surplus, we must simulate customers; given the simulation variable `alphas`, we take this number to be 500. Then, we calculate \n",
    "$$\\pi_{jm} = \\text{Market Share} \\times \\text{Consumers} \\times \\left(p_{jm} - mc_{jm}\\right)$$\n",
    "and\n",
    "$$CS_{im} = \\frac{1}{\\alpha_{i}}\\max_{j}U_{ijm}$$"
   ]
  },
  {
   "cell_type": "code",
   "execution_count": 71,
   "metadata": {},
   "outputs": [],
   "source": [
    "# import libraries\n",
    "import numpy as np\n",
    "import numpy.random as rand\n",
    "import pandas as pd\n",
    "import scipy as sp\n",
    "from scipy import optimize as op\n",
    "from scipy.io import loadmat\n",
    "from sklearn import linear_model as lm\n",
    "import matplotlib.pyplot as plt\n",
    "\n",
    "plt.rcParams[\"figure.figsize\"] = (20,5)\n",
    "\n",
    "source_path = '/Users/hlukas/git/uw_grad_school_code/ECON-532/Assignment 2/pset2_upload/Simulated Data/{}markets{}products.mat'\n",
    "gamma = np.array([2,1,1]).reshape(3,1)\n",
    "alpha = 1.\n",
    "sigma_alpha = 1.\n",
    "beta = np.array([5.,1.,1.]).reshape((3,1))"
   ]
  },
  {
   "cell_type": "code",
   "execution_count": 72,
   "metadata": {},
   "outputs": [],
   "source": [
    "# function to import the data into python\n",
    "\n",
    "def import_data(mkts,prods):\n",
    "    mat_data = loadmat(source_path.format(mkts,prods))\n",
    "    variable_names = [x for x in mat_data.keys() if x not in ['__header__', '__version__', '__globals__']]\n",
    "    return([mat_data[x] for x in variable_names])"
   ]
  },
  {
   "cell_type": "code",
   "execution_count": 73,
   "metadata": {},
   "outputs": [],
   "source": [
    "# function to plot prices\n",
    "\n",
    "def plot_prices(mkts, prods):\n",
    "    # import data\n",
    "    x1,xi_all,w,eta,Z,alphas,P_opt,shares = import_data(mkts,prods)\n",
    "    \n",
    "    p_flat = P_opt.reshape(prods * mkts)\n",
    "    plt.hist(p_flat, bins=int(np.ceil(p_flat.max() - np.min([0., np.min(p_flat)]))*2), ec='black', range=(np.floor(np.min([0., np.min(p_flat)])), np.ceil(p_flat.max())))\n",
    "    plt.title('Price Distribution ({} Products, {} Markets)'.format(prods, mkts))\n",
    "    plt.xlabel('Price')\n",
    "    plt.ylabel('Products')\n",
    "    plt.show()"
   ]
  },
  {
   "cell_type": "code",
   "execution_count": 74,
   "metadata": {},
   "outputs": [],
   "source": [
    "# function to plot profits\n",
    "\n",
    "def plot_profit(mkts, prods):\n",
    "    # import data\n",
    "    x1,xi_all,w,eta,Z,alphas,P_opt,shares = import_data(mkts,prods)\n",
    "    \n",
    "    # get consumers\n",
    "    n_consumers = alphas.shape[1]\n",
    "    \n",
    "    # get the marginal cost\n",
    "    mc_jm = np.column_stack([np.ones(prods * mkts),w, Z]) @ gamma + eta\n",
    "    markup = P_opt.T - mc_jm.reshape(mkts, prods)\n",
    "\n",
    "    profit = markup * shares.T * n_consumers\n",
    "    \n",
    "    profit_flat = profit.reshape(prods * mkts)\n",
    "    plt.hist(profit_flat, bins='fd', ec = 'black')\n",
    "    plt.title('Profit Distribution ({} Products, {} Markets, {} Consumers)'.format(prods, mkts, n_consumers))\n",
    "    plt.xlabel('Profit')\n",
    "    plt.ylabel('Products')"
   ]
  },
  {
   "cell_type": "markdown",
   "metadata": {},
   "source": [
    "The way that we calculate consumer surplus requires a little more explication. We know that\n",
    "$$U_{ijm} = X_{jm}\\beta - p_{jm}\\alpha_i + \\xi_{jm} + \\epsilon_{ijm}$$\n",
    "We can instead write utility as a $im\\times j$ matrix, so that each row represents a consumer/market combination, and each column is a given product. We can do this by getting the utility that doesn't depend on the consumer, stacking that matrix $i$ times, stacking the price and $\\xi$ matrix $i$ times, and creating an $\\alpha$ matrix by repeating each $\\alpha_i$ $j$ times:"
   ]
  },
  {
   "cell_type": "code",
   "execution_count": 75,
   "metadata": {},
   "outputs": [],
   "source": [
    "def plot_cs(mkts, prods):\n",
    "    # set a seed\n",
    "    rand.seed(seed=2022)\n",
    "    \n",
    "    # import data\n",
    "    x1,xi_all,w,eta,Z,alphas,P_opt,shares = import_data(mkts,prods)\n",
    "    \n",
    "    # get consumers\n",
    "    n_consumers = alphas.shape[1]\n",
    "\n",
    "    # get the alpha_i, reshape to be in the order first market -> last market 500 times\n",
    "    alpha_i = alphas.reshape((n_consumers * mkts,1), order = 'F')\n",
    "\n",
    "    # repeat the alpha_i for each market\n",
    "    alpha_big = np.tile(alpha_i, (1,prods))\n",
    "\n",
    "    # get the market-product level utility\n",
    "    u_jm = (x1 @ beta + xi_all).reshape((mkts,prods))\n",
    "\n",
    "    # create a big system\n",
    "    u_big = np.tile(u_jm, (n_consumers,1))\n",
    "    p_big = np.tile(P_opt.T, (n_consumers,1))\n",
    "    ep_big = rand.gumbel(size = mkts * prods * n_consumers).reshape((mkts * n_consumers, prods))\n",
    "\n",
    "    # get the CS\n",
    "    u = u_big - alpha_big * p_big + ep_big\n",
    "    u_outside = np.concatenate([u, np.zeros(mkts * n_consumers).reshape((mkts * n_consumers, 1))], axis = 1)\n",
    "    cs = u_outside.max(axis = 1) / alpha_i.squeeze()\n",
    "    cs_mean = np.mean(cs.reshape((100,500), order = 'F'), axis = 1)\n",
    "    \n",
    "    # plot\n",
    "    plt.hist(cs_mean.squeeze(), bins=int(np.ceil(cs_mean.max() - np.min([0., np.min(cs_mean)]))*2), ec='black', range=(np.min([0., np.min(cs_mean)]), np.ceil(np.max(cs_mean))))\n",
    "    plt.title('CS Distribution ({} Products, {} Markets, {} Consumers)'.format(prods, mkts, n_consumers))\n",
    "    plt.xlabel('Surplus')\n",
    "    plt.ylabel('Markets')\n",
    "    plt.show()"
   ]
  },
  {
   "cell_type": "code",
   "execution_count": 76,
   "metadata": {},
   "outputs": [],
   "source": [
    "def plot_cs(mkts, prods):\n",
    "    # import data\n",
    "    x1,xi_all,w,eta,Z,alphas,P_opt,shares = import_data(mkts,prods)\n",
    "    \n",
    "    # get consumers\n",
    "    n_consumers = alphas.shape[1]\n",
    "\n",
    "    # get the alpha_i\n",
    "    alpha_i = alphas.reshape(-1,1) - 1.\n",
    "\n",
    "    # get the market-product mean utility\n",
    "    u_jm = (x1 @ beta + xi_all - P_opt.T.reshape(-1,1)).reshape(mkts, prods)\n",
    "\n",
    "    # create a big system\n",
    "    u_big = np.repeat(u_jm, n_consumers, axis = 0)\n",
    "    p_big = np.repeat(P_opt.T, n_consumers, axis = 0)\n",
    "\n",
    "    # get the CS\n",
    "    u = u_big - alpha_i * p_big\n",
    "    cs = (.5772 + np.log(np.sum(np.exp(u), axis = 1))) / alpha_i.squeeze()\n",
    "    cs_mean = np.mean(cs.reshape(100,500).clip(0), axis = 1)\n",
    "    \n",
    "    # plot\n",
    "    plt.hist(cs_mean.squeeze(), bins=int(np.ceil(cs_mean.max() - np.min([0., np.min(cs_mean)]))), ec='black', range=(np.min([0., np.min(cs_mean)]), np.ceil(np.max(cs_mean))))\n",
    "    plt.title('CS Distribution ({} Products, {} Markets, {} Consumers)'.format(prods, mkts, n_consumers))\n",
    "    plt.xlabel('Surplus')\n",
    "    plt.ylabel('Markets')\n",
    "    plt.show()"
   ]
  },
  {
   "cell_type": "markdown",
   "metadata": {},
   "source": [
    "#### Price Plots\n",
    "___"
   ]
  },
  {
   "cell_type": "code",
   "execution_count": 77,
   "metadata": {},
   "outputs": [
    {
     "data": {
      "image/png": "[encoded data removed]",
      "text/plain": [
       "<Figure size 1440x360 with 1 Axes>"
      ]
     },
     "metadata": {
      "needs_background": "light"
     },
     "output_type": "display_data"
    }
   ],
   "source": [
    "plot_prices(100,3)"
   ]
  },
  {
   "cell_type": "code",
   "execution_count": 78,
   "metadata": {
    "scrolled": true
   },
   "outputs": [
    {
     "data": {
      "image/png": "[encoded data removed]",
      "text/plain": [
       "<Figure size 1440x360 with 1 Axes>"
      ]
     },
     "metadata": {
      "needs_background": "light"
     },
     "output_type": "display_data"
    }
   ],
   "source": [
    "plot_prices(100,5)"
   ]
  },
  {
   "cell_type": "markdown",
   "metadata": {},
   "source": [
    "Prices appear to be higher in the 3 good market compared to the 5 good market; this makes sense, as in a competitive market, more competition should drive down the prices that firms can charge."
   ]
  },
  {
   "cell_type": "markdown",
   "metadata": {},
   "source": [
    "#### Profit Plots\n",
    "___"
   ]
  },
  {
   "cell_type": "code",
   "execution_count": 79,
   "metadata": {},
   "outputs": [
    {
     "data": {
      "image/png": "[encoded data removed]",
      "text/plain": [
       "<Figure size 1440x360 with 1 Axes>"
      ]
     },
     "metadata": {
      "needs_background": "light"
     },
     "output_type": "display_data"
    }
   ],
   "source": [
    "plot_profit(100,3)"
   ]
  },
  {
   "cell_type": "code",
   "execution_count": 80,
   "metadata": {},
   "outputs": [
    {
     "data": {
      "image/png": "[encoded data removed]",
      "text/plain": [
       "<Figure size 1440x360 with 1 Axes>"
      ]
     },
     "metadata": {
      "needs_background": "light"
     },
     "output_type": "display_data"
    }
   ],
   "source": [
    "plot_profit(100,5)"
   ]
  },
  {
   "cell_type": "markdown",
   "metadata": {},
   "source": [
    "The takeaway is similar to the above; when there is more competition, the profits of firms decrease, and the distribution is shifted towards lower amounts of profit."
   ]
  },
  {
   "cell_type": "markdown",
   "metadata": {},
   "source": [
    "#### Consumer Surplus Plots\n",
    "___"
   ]
  },
  {
   "cell_type": "code",
   "execution_count": 81,
   "metadata": {
    "scrolled": true
   },
   "outputs": [
    {
     "data": {
      "image/png": "[encoded data removed]",
      "text/plain": [
       "<Figure size 1440x360 with 1 Axes>"
      ]
     },
     "metadata": {
      "needs_background": "light"
     },
     "output_type": "display_data"
    }
   ],
   "source": [
    "plot_cs(100,3)"
   ]
  },
  {
   "cell_type": "code",
   "execution_count": 82,
   "metadata": {},
   "outputs": [
    {
     "data": {
      "image/png": "[encoded data removed]",
      "text/plain": [
       "<Figure size 1440x360 with 1 Axes>"
      ]
     },
     "metadata": {
      "needs_background": "light"
     },
     "output_type": "display_data"
    }
   ],
   "source": [
    "plot_cs(100,5)"
   ]
  },
  {
   "cell_type": "markdown",
   "metadata": {},
   "source": [
    "Here, we see a large difference. In both simulations, a modal number of customers choose the outside option, but when there are more options, the consumer surplus increases significantly."
   ]
  },
  {
   "cell_type": "markdown",
   "metadata": {},
   "source": [
    "## BLP and Nevo Instruments\n",
    "___"
   ]
  },
  {
   "cell_type": "code",
   "execution_count": 83,
   "metadata": {},
   "outputs": [],
   "source": [
    "# import data\n",
    "x1,xi_all,w,eta,Z,alphas,P_opt,shares = import_data(100,3)\n",
    "\n",
    "# xi/X\n",
    "xi_X = np.mean(x1 * np.tile(xi_all, (1,3)), axis = 0)\n",
    "\n",
    "# xi/p\n",
    "xi_p = np.mean(P_opt.T * xi_all.reshape((100,3)))\n",
    "\n",
    "# xi/p_hat\n",
    "# to get p_hat, we compute average prices across other markets\n",
    "p_hat = np.tile(\n",
    "    np.array([np.mean(np.delete(P_opt.T,x,0)) for x in range(len(P_opt.T))]).reshape((100,1)),\n",
    "    (1,3)\n",
    ")\n",
    "\n",
    "p_hat = np.row_stack([np.mean(np.delete(P_opt.T,x,0), axis = 0) for x in range(len(P_opt.T))])\n",
    "\n",
    "xi_p_hat = np.mean(p_hat * xi_all.reshape((100,3)))"
   ]
  },
  {
   "cell_type": "code",
   "execution_count": 84,
   "metadata": {},
   "outputs": [
    {
     "data": {
      "text/plain": [
       "array([0.04346104, 0.02074192, 0.0355315 ])"
      ]
     },
     "execution_count": 84,
     "metadata": {},
     "output_type": "execute_result"
    }
   ],
   "source": [
    "xi_X"
   ]
  },
  {
   "cell_type": "code",
   "execution_count": 85,
   "metadata": {},
   "outputs": [
    {
     "data": {
      "text/plain": [
       "0.2949581371489729"
      ]
     },
     "execution_count": 85,
     "metadata": {},
     "output_type": "execute_result"
    }
   ],
   "source": [
    "xi_p"
   ]
  },
  {
   "cell_type": "code",
   "execution_count": 86,
   "metadata": {},
   "outputs": [
    {
     "data": {
      "text/plain": [
       "0.14367954767468022"
      ]
     },
     "execution_count": 86,
     "metadata": {},
     "output_type": "execute_result"
    }
   ],
   "source": [
    "xi_p_hat"
   ]
  },
  {
   "cell_type": "markdown",
   "metadata": {},
   "source": [
    "It appears that $\\mathbb{E}[\\xi_{jm}X_{jm}] \\approx 0$ and $\\mathbb{E}[\\xi_{jm}\\overline{p}_{jm}] \\approx 0$, so these conditions are likely roughly valid. Additionally, using $p$ appears to be irrelevant if we use $\\overline{p}$."
   ]
  },
  {
   "cell_type": "markdown",
   "metadata": {},
   "source": [
    "We cannot use BLP and Nevo instruments in this setting, as Nevo uses a dummy variable for brand (firm in our case), which means that the BLP instruments do not have any variance within a given firm. "
   ]
  },
  {
   "cell_type": "markdown",
   "metadata": {},
   "source": [
    "Our estimation algorithm will work as follows:\n",
    "1. Fix $\\hat{\\sigma}_{\\alpha}$\n",
    "2. Using this parameters and the simulated consumers, get\n",
    "   $$\\hat{s}_n \\approx \\frac{1}{n}\\sum_{i=1}^{500}\\frac{e^{\\delta_j + \\mu_{ij}}}{1 + \\sum_se^{\\delta_s + \\mu_{is}}}$$\n",
    "   Further, in our case, we have\n",
    "   $$\\delta_{jm} = X_{jm}\\hat{\\beta} - \\hat{\\alpha}p_{jm} + \\xi_{jm}$$\n",
    "   and \n",
    "   $$\\mu_{ij} = -\\hat{\\sigma}_{\\alpha}\\nu_ip_{jm}$$\n",
    "   We solve the fixed point problem via iteration to get the values of $\\delta_{jm}$ which result in $\\hat{s}_n = s_n$.\n",
    "3. Noting that\n",
    "   $$\\delta_{jm} = X_{jm}\\beta - \\alpha p_{jm} + \\xi_{jm}$$\n",
    "   run an IV regression on the estimated $\\delta_{jm}$ to estimate $\\hat{\\xi}_{jm},\\hat{\\alpha}_{jm},\\hat{\\beta}_{jm}$.\n",
    "4. Calculate the GMM objective function using instruments and $\\hat{\\xi}_{jm}$. When the objective function is minimized, return $\\hat{\\alpha}, \\hat{\\beta}, \\hat{\\sigma}_{\\alpha}$.\n",
    "\n",
    "The GMM objective function will be calculated using BLP-style demand moments. In particular, we will have instruments given by\n",
    "$$Z_j = \\left[X_j,\\sum_{r\\neq j, r\\in \\mathcal{F}_j}X_r,\\sum_{r\\notin \\mathcal{F}_j}X_r\\right]$$\n",
    "Informally, instruments are the product's own characteristics, the sum of other products' characteristics within a product's market, and the sum of all products characteristics in other markets. As each firm is a single-product firm, we cannot use other products' characteristics, and as one of our instrument is a constant, we cannot use a function of this constant for colinearity reasons. This implies that in our problem we will have five instruments, and $Z$ is a $5\\times 1$ vector. Then, the GMM criterion function is given by\n",
    "$$\\hat{\\theta} = \\text{arg min}_{\\theta}\\hat{\\xi}^{\\top}ZWZ'\\hat{\\xi}$$\n",
    "where $W$ is given by\n",
    "$$W = \\left(Z^{\\top}Z\\right)^{-1}$$"
   ]
  },
  {
   "cell_type": "code",
   "execution_count": 87,
   "metadata": {},
   "outputs": [],
   "source": [
    "def get_shares(mkts,prods,n_consumers,price_val,delta,sigma,nu_vals):\n",
    "    u_big = np.repeat(delta, n_consumers, axis = 0)\n",
    "    p_big = np.repeat(price_val, n_consumers, axis = 0)\n",
    "    u_indiv = u_big - sigma * p_big * nu_vals\n",
    "    u_exp = np.exp(u_indiv)\n",
    "    denom = (1. + np.sum(u_exp, axis = 1)).reshape(-1,1)\n",
    "    s_indiv = u_exp / denom\n",
    "    shares_list = [np.mean(s_indiv[(i*n_consumers):((i+1)*n_consumers)], axis = 0) for i in range(mkts)]\n",
    "    return(np.row_stack(shares_list))"
   ]
  },
  {
   "cell_type": "code",
   "execution_count": 88,
   "metadata": {},
   "outputs": [],
   "source": [
    "def calculate_theta1(delta,X,p,Z):\n",
    "    # stack data\n",
    "    big_X = np.column_stack([X, p.T.reshape(-1,1)])\n",
    "    \n",
    "    # projection matrix\n",
    "    P_Z = Z @ np.linalg.inv(Z.T @ Z) @ Z.T\n",
    "    \n",
    "    return(np.linalg.inv(big_X.T @ P_Z @ big_X) @ big_X.T @ P_Z @ delta.reshape(-1,1))"
   ]
  },
  {
   "cell_type": "code",
   "execution_count": 89,
   "metadata": {},
   "outputs": [],
   "source": [
    "def get_xi_hat(delta,X,p,Z):\n",
    "    t1_hat = calculate_theta1(delta,X,p,Z)\n",
    "    return(delta.reshape(-1,1) - np.column_stack([X, p.T.reshape(-1,1)]) @ t1_hat)"
   ]
  },
  {
   "cell_type": "code",
   "execution_count": 90,
   "metadata": {},
   "outputs": [],
   "source": [
    "def get_demand_instruments(X,prods,mkts):\n",
    "    z1 = X # own characteristics\n",
    "    \n",
    "    z2_list = [np.sum(z1[:,1:][(i*prods):((i+1)*prods)], axis = 0) for i in range(int(X.shape[0]/prods))]\n",
    "    z2 = np.repeat(np.row_stack(z2_list), prods, axis = 0) - z1[:,1:] # sum characteristics for the firm's products, subtract z1\n",
    "        \n",
    "    return(np.column_stack([z1,z2]))"
   ]
  },
  {
   "cell_type": "code",
   "execution_count": 91,
   "metadata": {},
   "outputs": [],
   "source": [
    "def get_delta(sigma,nu_i):\n",
    "    # set initial delta guess\n",
    "    delta_new = np.ones(mkts * prods).reshape(mkts,prods)\n",
    "    delta_old = np.ones(mkts * prods).reshape(mkts,prods)\n",
    "\n",
    "    # iterate (as it's a contraction mapping)\n",
    "    while True:\n",
    "        s_calc = get_shares(mkts,prods,n_consumers,P_opt.T,delta_old,sigma,nu_i)\n",
    "        delta_new = delta_old + np.log(shares.T) - np.log(s_calc)\n",
    "        crit = np.max(np.abs(delta_new - delta_old))\n",
    "        if crit > 1e-3:\n",
    "            delta_old = delta_new\n",
    "        else:\n",
    "            break\n",
    "            \n",
    "    return(delta_new)"
   ]
  },
  {
   "cell_type": "code",
   "execution_count": 92,
   "metadata": {},
   "outputs": [],
   "source": [
    "def gmm_obj(sigma, Z, nu_i_val):\n",
    "    \n",
    "    delta_new = get_delta(sigma,nu_i_val)\n",
    "    \n",
    "    theta1 = calculate_theta1(delta_new,x1,P_opt,Z)\n",
    "\n",
    "    xi_hat = get_xi_hat(delta_new,x1,P_opt,Z)\n",
    "    W = np.linalg.inv(Z.T @ Z)\n",
    "    return((xi_hat.T @ Z @ W @ Z.T @ xi_hat).item())"
   ]
  },
  {
   "cell_type": "code",
   "execution_count": 93,
   "metadata": {},
   "outputs": [],
   "source": [
    "def gmm_min(start_val, Z_val, nu_i_val):\n",
    "    return(\n",
    "        op.minimize(\n",
    "            gmm_obj, \n",
    "            x0 = start_val, \n",
    "            args = (Z_val, nu_i_val), \n",
    "            #method='Nelder-Mead',\n",
    "            options = {'disp': True}\n",
    "        )\n",
    "    )"
   ]
  },
  {
   "cell_type": "code",
   "execution_count": 94,
   "metadata": {},
   "outputs": [],
   "source": [
    "def plot_estimated_cs(mkts, prods, t2):\n",
    "    # set a seed\n",
    "    rand.seed(seed=900)\n",
    "    \n",
    "    # import data\n",
    "    x1,xi_all,w,eta,Z,alphas,P_opt,shares = import_data(mkts,prods)\n",
    "    \n",
    "    # get consumers\n",
    "    n_consumers = alphas.shape[1]\n",
    "\n",
    "    # get the alpha_i\n",
    "    nu_i = rand.lognormal(size = n_consumers * mkts).reshape(-1,1)\n",
    "    alpha_i = t2 * nu_i\n",
    "\n",
    "    # get the market-product mean utility\n",
    "    u_jm = get_delta(t2, nu_i)\n",
    "\n",
    "    # create a big system\n",
    "    u_big = np.repeat(u_jm, n_consumers, axis = 0)\n",
    "    p_big = np.repeat(P_opt.T, n_consumers, axis = 0)\n",
    "\n",
    "    # get the CS\n",
    "    u = u_big - alpha_i * p_big\n",
    "    #u_outside = np.concatenate([u, np.zeros(mkts * n_consumers).reshape((mkts * n_consumers, 1))], axis = 1)\n",
    "    cs = (.5772 + np.log(np.sum(np.exp(u), axis = 1))) / alpha_i.squeeze()\n",
    "    cs_mean = np.mean(cs.reshape(100,500).clip(0), axis = 1)\n",
    "    \n",
    "    # plot\n",
    "    plt.hist(cs_mean.squeeze(), bins=int(np.ceil(cs_mean.max() - np.min([0., np.min(cs_mean)]))), ec='black', range=(np.min([0., np.min(cs_mean)]), np.ceil(np.max(cs_mean))))\n",
    "    plt.title('CS Distribution ({} Products, {} Markets, {} Consumers)'.format(prods, mkts, n_consumers))\n",
    "    plt.xlabel('Surplus')\n",
    "    plt.ylabel('Markets')\n",
    "    plt.show()"
   ]
  },
  {
   "cell_type": "code",
   "execution_count": 95,
   "metadata": {},
   "outputs": [],
   "source": [
    "def get_elasticities(mkts,prods,n_consumers,sigma,alpha,price_vals,nu_i_vals):\n",
    "    # get implied delta and shares\n",
    "    delta = get_delta(sigma, nu_i_vals)\n",
    "    share_vals = get_shares(mkts,prods,n_consumers,price_vals.T,delta,sigma,nu_i_vals)\n",
    "    \n",
    "    # get individual shares\n",
    "    u_exp = np.exp(np.repeat(delta, n_consumers, axis = 0) - sigma * np.repeat(price_vals.T, n_consumers, axis = 0) * nu_i_vals.reshape(-1,1))\n",
    "    sum_terms = 1. + np.sum(u_exp, axis = 1).reshape(-1,1)\n",
    "    indiv_shares = (u_exp / sum_terms)\n",
    "    \n",
    "    # convert to 300x3 matrix, where each 3x3 matrix yields all elasticities for a given market\n",
    "    \n",
    "    indiv_mkts_x_shares = [indiv_shares[i].reshape(-1,1) @ indiv_shares[i].reshape(1,-1) for i in range(len(indiv_shares))]\n",
    "    cross_shares_matrix = np.concatenate(indiv_mkts_x_shares, axis = 0)\n",
    "    own_shares_ind = np.repeat(indiv_shares, prods, axis = 0) * np.tile(np.eye(prods), (n_consumers * mkts,1))\n",
    "    \n",
    "    # get the derivative terms\n",
    "    d_terms = np.repeat(alpha + sigma * nu_i_vals.reshape(-1,1), 3, axis = 0)\n",
    "\n",
    "    total_mat = d_terms * (cross_shares_matrix - own_shares_ind)\n",
    "    \n",
    "    all_blocks = []\n",
    "    for i in range(100):    \n",
    "        mkt_blocks = [total_mat[j:(j+prods)] for j in range(i * prods * n_consumers, (i+1) * prods * n_consumers, prods)]\n",
    "        all_blocks.append(np.mean(mkt_blocks, axis = 0))\n",
    "\n",
    "    all_elasticities = np.concatenate(all_blocks, axis = 0) * price_vals.T.reshape(-1,1) / np.repeat(share_vals,prods,axis = 0)\n",
    "    \n",
    "    return(all_elasticities)"
   ]
  },
  {
   "cell_type": "code",
   "execution_count": 97,
   "metadata": {
    "scrolled": true
   },
   "outputs": [
    {
     "name": "stdout",
     "output_type": "stream",
     "text": [
      "Optimization terminated successfully.\n",
      "         Current function value: 0.000000\n",
      "         Iterations: 4\n",
      "         Function evaluations: 10\n",
      "         Gradient evaluations: 5\n",
      "Optimization terminated successfully.\n",
      "         Current function value: 0.000000\n",
      "         Iterations: 5\n",
      "         Function evaluations: 12\n",
      "         Gradient evaluations: 6\n",
      "Optimization terminated successfully.\n",
      "         Current function value: 0.000000\n",
      "         Iterations: 5\n",
      "         Function evaluations: 12\n",
      "         Gradient evaluations: 6\n",
      "Optimization terminated successfully.\n",
      "         Current function value: 0.000000\n",
      "         Iterations: 5\n",
      "         Function evaluations: 12\n",
      "         Gradient evaluations: 6\n",
      "Optimization terminated successfully.\n",
      "         Current function value: 0.000000\n",
      "         Iterations: 6\n",
      "         Function evaluations: 14\n",
      "         Gradient evaluations: 7\n",
      "Optimization terminated successfully.\n",
      "         Current function value: 0.000000\n",
      "         Iterations: 5\n",
      "         Function evaluations: 12\n",
      "         Gradient evaluations: 6\n",
      "Optimization terminated successfully.\n",
      "         Current function value: 0.000000\n",
      "         Iterations: 7\n",
      "         Function evaluations: 16\n",
      "         Gradient evaluations: 8\n",
      "Optimization terminated successfully.\n",
      "         Current function value: 0.000000\n",
      "         Iterations: 8\n",
      "         Function evaluations: 18\n",
      "         Gradient evaluations: 9\n",
      "Optimization terminated successfully.\n",
      "         Current function value: 0.000000\n",
      "         Iterations: 7\n",
      "         Function evaluations: 16\n",
      "         Gradient evaluations: 8\n"
     ]
    }
   ],
   "source": [
    "mkts = 100\n",
    "prods = 3\n",
    "\n",
    "# set a seed\n",
    "rand.seed(seed=900)\n",
    "\n",
    "# import data\n",
    "x1,xi_all,w,eta,Z,alphas,P_opt,shares = import_data(mkts,prods)\n",
    "\n",
    "# get number of consumers\n",
    "n_consumers = alphas.shape[1]\n",
    "\n",
    "# simulate consumers\n",
    "nu_i_fixed = rand.lognormal(size = n_consumers * mkts).reshape(-1,1)\n",
    "\n",
    "# get instruments\n",
    "\n",
    "demand_Z = get_demand_instruments(x1, prods, mkts)\n",
    "\n",
    "# optimize GMM for different values\n",
    "\n",
    "results_dict = {x: gmm_min(x, demand_Z, nu_i_fixed) for x in np.arange(1.,10.,1.)}"
   ]
  },
  {
   "cell_type": "code",
   "execution_count": 98,
   "metadata": {},
   "outputs": [
    {
     "data": {
      "text/plain": [
       "{1.0: 1.1558210796104809,\n",
       " 2.0: 1.1558258386160487,\n",
       " 3.0: 1.1558570079567392,\n",
       " 4.0: 1.1558370577450159,\n",
       " 5.0: 1.155830454901968,\n",
       " 6.0: 1.1558067627174864,\n",
       " 7.0: 1.1558473443139559,\n",
       " 8.0: 1.1558473229558495,\n",
       " 9.0: 1.1558256787152361}"
      ]
     },
     "execution_count": 98,
     "metadata": {},
     "output_type": "execute_result"
    }
   ],
   "source": [
    "{x: results_dict[x]['x'].item() for x in results_dict.keys()}"
   ]
  },
  {
   "cell_type": "markdown",
   "metadata": {},
   "source": [
    "We can see that regardless of the starting value, we converge to roughly the same value of $\\sigma_{\\alpha}$. If we plug these into our formula, we get essentially identical parameter estimates for $\\hat{\\beta},\\hat{\\alpha}$:"
   ]
  },
  {
   "cell_type": "code",
   "execution_count": 99,
   "metadata": {
    "scrolled": true
   },
   "outputs": [
    {
     "data": {
      "text/html": [
       "<div>\n",
       "<style scoped>\n",
       "    .dataframe tbody tr th:only-of-type {\n",
       "        vertical-align: middle;\n",
       "    }\n",
       "\n",
       "    .dataframe tbody tr th {\n",
       "        vertical-align: top;\n",
       "    }\n",
       "\n",
       "    .dataframe thead th {\n",
       "        text-align: right;\n",
       "    }\n",
       "</style>\n",
       "<table border=\"1\" class=\"dataframe\">\n",
       "  <thead>\n",
       "    <tr style=\"text-align: right;\">\n",
       "      <th></th>\n",
       "      <th>1.0</th>\n",
       "      <th>2.0</th>\n",
       "      <th>3.0</th>\n",
       "      <th>4.0</th>\n",
       "      <th>5.0</th>\n",
       "      <th>6.0</th>\n",
       "      <th>7.0</th>\n",
       "      <th>8.0</th>\n",
       "      <th>9.0</th>\n",
       "    </tr>\n",
       "  </thead>\n",
       "  <tbody>\n",
       "    <tr>\n",
       "      <th>b1</th>\n",
       "      <td>6.402645</td>\n",
       "      <td>6.402686</td>\n",
       "      <td>6.402956</td>\n",
       "      <td>6.402783</td>\n",
       "      <td>6.402726</td>\n",
       "      <td>6.402521</td>\n",
       "      <td>6.402872</td>\n",
       "      <td>6.402872</td>\n",
       "      <td>6.402685</td>\n",
       "    </tr>\n",
       "    <tr>\n",
       "      <th>b2</th>\n",
       "      <td>1.250000</td>\n",
       "      <td>1.250008</td>\n",
       "      <td>1.250062</td>\n",
       "      <td>1.250028</td>\n",
       "      <td>1.250016</td>\n",
       "      <td>1.249976</td>\n",
       "      <td>1.250045</td>\n",
       "      <td>1.250045</td>\n",
       "      <td>1.250008</td>\n",
       "    </tr>\n",
       "    <tr>\n",
       "      <th>b3</th>\n",
       "      <td>1.135251</td>\n",
       "      <td>1.135254</td>\n",
       "      <td>1.135273</td>\n",
       "      <td>1.135261</td>\n",
       "      <td>1.135257</td>\n",
       "      <td>1.135242</td>\n",
       "      <td>1.135268</td>\n",
       "      <td>1.135267</td>\n",
       "      <td>1.135254</td>\n",
       "    </tr>\n",
       "    <tr>\n",
       "      <th>a</th>\n",
       "      <td>-1.308879</td>\n",
       "      <td>-1.308888</td>\n",
       "      <td>-1.308951</td>\n",
       "      <td>-1.308911</td>\n",
       "      <td>-1.308897</td>\n",
       "      <td>-1.308850</td>\n",
       "      <td>-1.308931</td>\n",
       "      <td>-1.308931</td>\n",
       "      <td>-1.308888</td>\n",
       "    </tr>\n",
       "  </tbody>\n",
       "</table>\n",
       "</div>"
      ],
      "text/plain": [
       "         1.0       2.0       3.0       4.0       5.0       6.0       7.0  \\\n",
       "b1  6.402645  6.402686  6.402956  6.402783  6.402726  6.402521  6.402872   \n",
       "b2  1.250000  1.250008  1.250062  1.250028  1.250016  1.249976  1.250045   \n",
       "b3  1.135251  1.135254  1.135273  1.135261  1.135257  1.135242  1.135268   \n",
       "a  -1.308879 -1.308888 -1.308951 -1.308911 -1.308897 -1.308850 -1.308931   \n",
       "\n",
       "         8.0       9.0  \n",
       "b1  6.402872  6.402685  \n",
       "b2  1.250045  1.250008  \n",
       "b3  1.135267  1.135254  \n",
       "a  -1.308931 -1.308888  "
      ]
     },
     "execution_count": 99,
     "metadata": {},
     "output_type": "execute_result"
    }
   ],
   "source": [
    "pd.DataFrame(data = {str(s_val): calculate_theta1(get_delta(results_dict[s_val]['x'], nu_i_fixed),x1,P_opt,demand_Z).squeeze() for s_val in results_dict.keys()},\n",
    "             index = ['b1', 'b2', 'b3', 'a'])\n",
    "\n"
   ]
  },
  {
   "cell_type": "markdown",
   "metadata": {},
   "source": [
    "To get SEs, we recall that\n",
    "$$\\hat{\\xi} = \\delta_{jm} - X_{jm}\\hat{\\beta} +p_{jm}\\hat{\\alpha}$$\n",
    "so then\n",
    "$$\\frac{\\partial G_J(\\alpha,\\beta,\\sigma_{\\alpha})}{\\partial \\beta} = -X^{\\top}Z$$\n",
    "and\n",
    "$$\\frac{\\partial G_J(\\alpha,\\beta,\\sigma_{\\alpha})}{\\partial \\alpha} = P^{\\top}Z$$\n",
    "The nonlinear parameter $\\sigma_{\\alpha}$, however, impacts $\\delta$. By the chain rule (very informally), for a given market, we know that\n",
    "$$\\frac{\\partial \\delta}{\\partial \\sigma_{\\alpha}} = \\frac{d \\delta}{d s}\\frac{d s}{d\\sigma_{\\alpha}}$$\n",
    "We have\n",
    "$$\\frac{\\partial s_j}{\\partial \\sigma_{\\alpha}} = \\frac{1}{500}\\sum_{i=1}^{500}\\frac{\\left(1 + \\sum_{k=1}^3\\exp(\\delta_k - \\sigma_{\\alpha}\\nu_ip_k)\\right)\\exp(\\delta_j - \\sigma_{\\alpha}\\nu_ip_j)(-\\nu_ip_j)-\\exp(\\delta_j - \\sigma_{\\alpha}\\nu_ip_j)\\sum_{k=1}^3(-\\nu_ip_k)\\exp(\\delta_k - \\sigma_{\\alpha}\\nu_ip_k)}{\\left(1 + \\sum_{k=1}^3\\exp(\\delta_k - \\sigma_{\\alpha}\\nu_ip_k)\\right)^2}$$\n",
    "Simplifying yields\n",
    "$$\\frac{\\partial s_j}{\\partial \\sigma_{\\alpha}} = -\\frac{1}{500}\\sum_{i=1}^{500}s_j\\nu_i\\left[p_j-\\sum_{k=1}^3s_kp_k\\right]$$\n",
    "Finally, we know that (shown more formally in the elasticity section below)\n",
    "$$\\frac{\\partial s_j}{\\partial \\delta_j} = \\frac{1}{500}\\sum_{i=1}^{500}s_{ij} - s_{ij}^2$$\n",
    "$$\\frac{\\partial s_j}{\\partial \\delta_k} = -\\frac{1}{500}\\sum_{i=1}^{500}s_{ij}s_{ik}$$\n",
    "\n",
    "Denoting this gradient vector by $\\nabla_{\\sigma_{\\alpha}}$, we then have\n",
    "$$\\frac{\\partial G_J(\\alpha,\\beta,\\sigma_{\\alpha})}{\\partial \\sigma_{\\alpha}} = \\nabla_{\\sigma_{\\alpha}}^{\\top}Z$$\n",
    "Stacking these will yield the $5\\times 5$ $\\Gamma$ matrix.\n",
    "\n",
    "We know that at the optimum of our GMM criterion, the Jacobian value is\n",
    "$$J = \\frac{\\partial}{\\partial \\sigma_{\\alpha}}\\left(\\hat{\\xi}^{\\top} Z \\left(Z^{\\top}Z\\right)^{-1} Z^{\\top}\\hat{\\xi}\\right)$$\n",
    "This means that\n",
    "$$J = 2 $$"
   ]
  },
  {
   "cell_type": "code",
   "execution_count": 100,
   "metadata": {},
   "outputs": [],
   "source": [
    "def v_cov(prods, mkts, n_consumers, sigma, Z, X, P, nu_i_vals):\n",
    "    # get implied delta and shares\n",
    "    delta = get_delta(sigma, nu_i_vals)\n",
    "    share_vals = get_shares(mkts,prods,n_consumers,P.T,delta,sigma,nu_i_vals)\n",
    "\n",
    "    # get individual shares\n",
    "    u_exp = np.exp(np.repeat(delta, n_consumers, axis = 0) - sigma * np.repeat(P.T, n_consumers, axis = 0) * nu_i_vals.reshape(-1,1))\n",
    "    sum_terms = 1. + np.sum(u_exp, axis = 1).reshape(-1,1)\n",
    "    indiv_shares = (u_exp / sum_terms)\n",
    "\n",
    "    indiv_mkts_x_shares = [indiv_shares[i].reshape(-1,1) @ indiv_shares[i].reshape(1,-1) for i in range(len(indiv_shares))]\n",
    "    cross_shares_matrix = np.concatenate(indiv_mkts_x_shares, axis = 0)\n",
    "    own_shares_ind = np.repeat(indiv_shares, prods, axis = 0) * np.tile(np.eye(prods), (n_consumers * mkts,1))\n",
    "    total_mat = own_shares_ind - cross_shares_matrix\n",
    "\n",
    "    # get the inverse matrices\n",
    "    inv_derivatives = []\n",
    "    for i in range(100):    \n",
    "        mkt_blocks = [total_mat[j:(j+prods)] for j in range(i * prods * n_consumers, (i+1) * prods * n_consumers, prods)]\n",
    "        inv_derivatives.append(np.linalg.inv(np.mean(mkt_blocks, axis = 0)))\n",
    "\n",
    "    # get the ds/dsigma derivatives and get the product\n",
    "    row_sums = np.sum(np.repeat(P.T, n_consumers, axis = 0) * indiv_shares, axis = 1)\n",
    "    diff_terms = np.repeat(P.T, n_consumers, axis = 0) - row_sums.reshape(-1,1)\n",
    "    prod_terms = -1. * indiv_shares * nu_i_vals * diff_terms\n",
    "\n",
    "    ds_dsigma = [np.mean(prod_terms[(i * 500):((i+1) * 500)], axis = 0).reshape(-1,1) for i in range(mkts)]\n",
    "    ddelta_dsigma = np.concatenate([inv_derivatives[i] @ ds_dsigma[i] for i in range(mkts)])\n",
    "    \n",
    "    # get the derivatives\n",
    "    d_beta = -X.T @ Z\n",
    "    d_alpha = P.T.reshape(-1,1).T @ Z\n",
    "    d_sigma = ddelta_dsigma.T @ Z\n",
    "    \n",
    "    # get total obs\n",
    "    n = prods * mkts\n",
    "    \n",
    "    # create gamma matrix by stacking the individual conditions\n",
    "    G = np.row_stack([d_beta,d_alpha,d_sigma]) / n\n",
    "    G_term = np.linalg.inv(G.T @ G) @ G.T\n",
    "    \n",
    "    # get V1 by getting the variance of the Z * xi terms\n",
    "    xi_hat = get_xi_hat(get_delta(sigma, nu_i_vals), X, P, Z)\n",
    "    Z_e = Z * xi_hat\n",
    "    V1 = Z_e.T @ Z_e / n\n",
    "    \n",
    "    # get V3 by getting the empirical variance from drawing nu 100 times\n",
    "#     ns_sims = []\n",
    "#     s = 100\n",
    "#     for i in range(s):\n",
    "#         nu_i = rand.lognormal(size = n_consumers * mkts).reshape(-1,1)\n",
    "#         xi_hat = get_xi_hat(get_delta(sigma, nu_i), X, P, Z)\n",
    "#         Z_xi = Z * xi_hat\n",
    "#         ns_sims.append(Z_xi.T @ Z_xi)\n",
    "        \n",
    "#     V3 = np.mean(ns_sims, axis = 0)\n",
    "    \n",
    "    #return(G_term @ (V1 + V3) @ G_term.T)\n",
    "    return(G_term @ V1 @ G_term.T)"
   ]
  },
  {
   "cell_type": "code",
   "execution_count": null,
   "metadata": {},
   "outputs": [],
   "source": [
    "# params\n",
    "mkts = 100\n",
    "prods = 3\n",
    "n_consumers = 500\n",
    "price_vals = P_opt\n",
    "sigma = sigma_hat\n",
    "nu_i_vals = nu_i_fixed\n",
    "\n",
    "# get implied delta and shares\n",
    "delta = get_delta(sigma, nu_i_vals)\n",
    "share_vals = get_shares(mkts,prods,n_consumers,price_vals.T,delta,sigma,nu_i_vals)\n",
    "\n",
    "# get individual shares\n",
    "u_exp = np.exp(np.repeat(delta, n_consumers, axis = 0) - sigma * np.repeat(price_vals.T, n_consumers, axis = 0) * nu_i_vals.reshape(-1,1))\n",
    "sum_terms = 1. + np.sum(u_exp, axis = 1).reshape(-1,1)\n",
    "indiv_shares = (u_exp / sum_terms)\n",
    "\n",
    "indiv_mkts_x_shares = [indiv_shares[i].reshape(-1,1) @ indiv_shares[i].reshape(1,-1) for i in range(len(indiv_shares))]\n",
    "cross_shares_matrix = np.concatenate(indiv_mkts_x_shares, axis = 0)\n",
    "own_shares_ind = np.repeat(indiv_shares, prods, axis = 0) * np.tile(np.eye(prods), (n_consumers * mkts,1))\n",
    "total_mat = own_shares_ind - cross_shares_matrix\n",
    "\n",
    "# get the inverse matrices\n",
    "inv_derivatives = []\n",
    "for i in range(100):    \n",
    "    mkt_blocks = [total_mat[j:(j+prods)] for j in range(i * prods * n_consumers, (i+1) * prods * n_consumers, prods)]\n",
    "    inv_derivatives.append(np.linalg.inv(np.mean(mkt_blocks, axis = 0)))\n",
    "\n",
    "# get the ds/dsigma derivatives and get the product\n",
    "row_sums = np.sum(np.repeat(price_vals.T, n_consumers, axis = 0) * indiv_shares, axis = 1)\n",
    "diff_terms = np.repeat(price_vals.T, n_consumers, axis = 0) - row_sums.reshape(-1,1)\n",
    "prod_terms = -1. * indiv_shares * nu_i_vals * diff_terms\n",
    "\n",
    "ds_dsigma = [np.mean(prod_terms[(i * 500):((i+1) * 500)], axis = 0).reshape(-1,1) for i in range(mkts)]\n",
    "ddelta_dsigma = np.concatenate([inv_derivatives[i] @ ds_dsigma[i] for i in range(mkts)])\n",
    "d_beta = -x1.T @ demand_Z\n",
    "d_alpha = P_opt.T.reshape(-1,1).T @ demand_Z\n",
    "d_sigma = ddelta_dsigma.T @ demand_Z\n",
    "\n",
    "Gamma = np.row_stack([d_beta,d_alpha,d_sigma]) / 300\n",
    "\n",
    "# get V1 by getting the variance of the Z * xi terms\n",
    "xi_hat = get_xi_hat(get_delta(sigma, nu_i_vals), x1, P_opt, demand_Z)\n",
    "Z_e = demand_Z * xi_hat\n",
    "V1 = Z_e.T @ Z_e / 300"
   ]
  },
  {
   "cell_type": "markdown",
   "metadata": {},
   "source": [
    "To get elasticity, we need to do some calculations. We know that the cross-price (or same-price, if $j=k$) elasticity is given by\n",
    "$$\\varepsilon_{jk} = \\frac{\\partial s_j/s_j}{\\partial p_k/p_k} = \\frac{\\partial s_j}{\\partial p_k}\\frac{p_k}{s_j}$$\n",
    "\n",
    "Given our shares formulation, we have\n",
    "$$\\frac{\\partial s_j}{\\partial p_j} = \\frac{1}{n}\\sum_{i=1}^{500}\\frac{(1+\\sum_s{\\exp(\\delta_s + \\mu_{is})})(-\\alpha-\\sigma_{\\alpha}\\nu_i)\\exp(\\delta_j + \\mu_{ij}) + (\\alpha + \\sigma_{\\alpha}\\nu_i)(\\exp(\\delta_j + \\mu_{ij}))^2}{(1+\\sum_s{\\exp(\\delta_s + \\mu_{is})})^2}$$\n",
    "Simplifying yields\n",
    "$$\\frac{\\partial s_j}{\\partial p_j} = \\frac{1}{500}\\sum_{i=1}^{500}(\\alpha + \\sigma_{\\alpha}\\nu_i)(s_{ij}^2 - s_{ij})$$\n",
    "and\n",
    "$$\\frac{\\partial s_j}{\\partial p_k} = \\frac{1}{500}\\sum_{i=1}^{500}(\\alpha + \\sigma_{\\alpha}\\nu_i)(s_{ij}s_{ik})$$\n",
    "\n",
    "We implement this by creating a $300\\times 3$ matrix, where each $3\\times 3$ block represents all elasticities within a given market. "
   ]
  },
  {
   "cell_type": "code",
   "execution_count": 101,
   "metadata": {},
   "outputs": [],
   "source": [
    "# arbitrarily take first results to get parameter estimates since they're all roughly the same\n",
    "sigma_hat = results_dict[1.0]['x']\n",
    "theta_hat = calculate_theta1(get_delta(sigma_hat, nu_i_fixed),x1,P_opt,demand_Z)\n",
    "alpha_hat = -1 * theta_hat[3]\n",
    "all_elasticities = get_elasticities(mkts, prods, n_consumers, sigma_hat, alpha_hat, P_opt, nu_i_fixed)"
   ]
  },
  {
   "cell_type": "markdown",
   "metadata": {},
   "source": [
    "It's difficult to report so many elasticities, so I provide an example with the first market (the rows represent the $p_j$, and the columns the $s_k$):"
   ]
  },
  {
   "cell_type": "code",
   "execution_count": 103,
   "metadata": {},
   "outputs": [
    {
     "data": {
      "text/html": [
       "<div>\n",
       "<style scoped>\n",
       "    .dataframe tbody tr th:only-of-type {\n",
       "        vertical-align: middle;\n",
       "    }\n",
       "\n",
       "    .dataframe tbody tr th {\n",
       "        vertical-align: top;\n",
       "    }\n",
       "\n",
       "    .dataframe thead th {\n",
       "        text-align: right;\n",
       "    }\n",
       "</style>\n",
       "<table border=\"1\" class=\"dataframe\">\n",
       "  <thead>\n",
       "    <tr style=\"text-align: right;\">\n",
       "      <th></th>\n",
       "      <th>0</th>\n",
       "      <th>1</th>\n",
       "      <th>2</th>\n",
       "    </tr>\n",
       "  </thead>\n",
       "  <tbody>\n",
       "    <tr>\n",
       "      <th>0</th>\n",
       "      <td>-10.579765</td>\n",
       "      <td>0.000624</td>\n",
       "      <td>0.000824</td>\n",
       "    </tr>\n",
       "    <tr>\n",
       "      <th>1</th>\n",
       "      <td>2.628158</td>\n",
       "      <td>-1.016420</td>\n",
       "      <td>3.461895</td>\n",
       "    </tr>\n",
       "    <tr>\n",
       "      <th>2</th>\n",
       "      <td>0.711420</td>\n",
       "      <td>0.708947</td>\n",
       "      <td>-4.502501</td>\n",
       "    </tr>\n",
       "  </tbody>\n",
       "</table>\n",
       "</div>"
      ],
      "text/plain": [
       "           0         1         2\n",
       "0 -10.579765  0.000624  0.000824\n",
       "1   2.628158 -1.016420  3.461895\n",
       "2   0.711420  0.708947 -4.502501"
      ]
     },
     "execution_count": 103,
     "metadata": {},
     "output_type": "execute_result"
    }
   ],
   "source": [
    "pd.DataFrame(all_elasticities[:3])"
   ]
  },
  {
   "cell_type": "markdown",
   "metadata": {},
   "source": [
    "The other metric that's reported in BLP is the number of firms (here I will use the percentage of total firms) that have inelastic same-price elasticity:"
   ]
  },
  {
   "cell_type": "code",
   "execution_count": 104,
   "metadata": {},
   "outputs": [
    {
     "name": "stdout",
     "output_type": "stream",
     "text": [
      "6.33% of firms are pricing in the inelastic part of demand.\n"
     ]
    }
   ],
   "source": [
    "own_elasticity = all_elasticities * np.tile(np.eye(prods), (mkts,1))\n",
    "own_elasticity = own_elasticity[np.where(own_elasticity != 0)]\n",
    "\n",
    "inelastic_elasticities = np.sum(own_elasticity > -1.) / len(own_elasticity)\n",
    "print('{}% of firms are pricing in the inelastic part of demand.'.format(round(inelastic_elasticities* 100, 2)))"
   ]
  },
  {
   "cell_type": "markdown",
   "metadata": {},
   "source": [
    "To get profits, we need to invert the partials under the oligopoly assumption to get the markup:"
   ]
  },
  {
   "cell_type": "code",
   "execution_count": 105,
   "metadata": {},
   "outputs": [],
   "source": [
    "def get_markup(mkts,prods,n_consumers,sigma,alpha,price_vals,nu_i_vals,comp_type):\n",
    "    if comp_type == 'perfect':\n",
    "        return(np.zeros(mkts * prods).reshape(-1,1))\n",
    "    elif comp_type == 'oligopoly':\n",
    "        s_hat = get_shares(mkts,prods,n_consumers,price_vals.T,get_delta(sigma,nu_i_vals),sigma,nu_i_vals)\n",
    "        elas = get_elasticities(mkts,prods,n_consumers,sigma,alpha,price_vals,nu_i_vals) * np.repeat(s_hat,prods,axis = 0) / price_vals.T.reshape(-1,1)\n",
    "        Delta = -1 * sp.linalg.block_diag(*[elas[(i*prods):((i+1) * prods)] for i in range(mkts)]) * np.eye(300)\n",
    "        markup = np.linalg.inv(Delta) @ s_hat.reshape(-1,1)\n",
    "        return(markup)\n",
    "    elif comp_type == 'collusion':\n",
    "        s_hat = get_shares(mkts,prods,n_consumers,price_vals.T,get_delta(sigma,nu_i_vals),sigma,nu_i_vals)\n",
    "        elas = get_elasticities(mkts,prods,n_consumers,sigma,alpha,price_vals,nu_i_vals) * np.repeat(s_hat,prods,axis = 0) / price_vals.T.reshape(-1,1)\n",
    "        Delta = -1 * sp.linalg.block_diag(*[elas[(i*prods):((i+1) * prods)] for i in range(mkts)])\n",
    "        markup = np.linalg.inv(Delta) @ s_hat.reshape(-1,1)\n",
    "        return(markup)"
   ]
  },
  {
   "cell_type": "code",
   "execution_count": 106,
   "metadata": {},
   "outputs": [],
   "source": [
    "def plot_empirical_profit(mkts,prods,n_consumers,sigma,alpha,price_vals,nu_i_vals,comp_type):\n",
    "    markup = get_markup(mkts,prods,n_consumers,sigma,alpha,price_vals,nu_i_vals,comp_type).reshape(mkts, prods)\n",
    "    emp_shares = get_shares(mkts,prods,n_consumers,price_vals.T,get_delta(sigma,nu_i_vals),sigma,nu_i_vals)\n",
    "    \n",
    "    profit_flat = (emp_shares * markup * n_consumers).reshape(-1)\n",
    "\n",
    "    plt.hist(profit_flat, bins='fd', ec = 'black')\n",
    "    plt.title('Profit Distribution ({} Products, {} Markets, {} Consumers)'.format(prods, mkts, n_consumers))\n",
    "    plt.xlabel('Profit')\n",
    "    plt.ylabel('Products')\n",
    "    plt.show()"
   ]
  },
  {
   "cell_type": "code",
   "execution_count": 107,
   "metadata": {},
   "outputs": [
    {
     "data": {
      "image/png": "[encoded data removed]",
      "text/plain": [
       "<Figure size 1440x360 with 1 Axes>"
      ]
     },
     "metadata": {
      "needs_background": "light"
     },
     "output_type": "display_data"
    }
   ],
   "source": [
    "plot_empirical_profit(mkts,prods,n_consumers,sigma_hat,alpha_hat,P_opt,nu_i_fixed,'oligopoly')"
   ]
  },
  {
   "cell_type": "markdown",
   "metadata": {},
   "source": [
    "Finally, to get the consumer surplus, we need to just get $\\delta$ for our given value of $\\sigma_{\\alpha}$:"
   ]
  },
  {
   "cell_type": "code",
   "execution_count": 109,
   "metadata": {},
   "outputs": [],
   "source": [
    "def plot_empirical_cs(mkts, prods, n_consumers, alpha_hat, sigma_hat, nu_i_vals):\n",
    "    # get the alpha_i\n",
    "    alpha_i = alpha_hat * nu_i_vals\n",
    "\n",
    "    # get the market-product mean utility\n",
    "    u_jm = get_delta(sigma_hat, nu_i_vals)\n",
    "\n",
    "    # create a big system\n",
    "    u_big = np.repeat(u_jm, n_consumers, axis = 0)\n",
    "    p_big = np.repeat(P_opt.T, n_consumers, axis = 0)\n",
    "\n",
    "    # get the CS\n",
    "    u = u_big - alpha_i * p_big\n",
    "    cs = (.5772 + np.log(np.sum(np.exp(u), axis = 1))) / alpha_i.squeeze()\n",
    "    cs_mean = np.mean(cs.reshape(100,500).clip(0), axis = 1)\n",
    "    \n",
    "    # plot\n",
    "    plt.hist(cs_mean.squeeze(), bins=int(np.ceil(cs_mean.max() - np.min([0., np.min(cs_mean)]))), ec='black', range=(np.min([0., np.min(cs_mean)]), np.ceil(np.max(cs_mean))))\n",
    "    plt.title('CS Distribution ({} Products, {} Markets, {} Consumers)'.format(prods, mkts, n_consumers))\n",
    "    plt.xlabel('Surplus')\n",
    "    plt.ylabel('Markets')\n",
    "    plt.show()"
   ]
  },
  {
   "cell_type": "code",
   "execution_count": 110,
   "metadata": {},
   "outputs": [
    {
     "data": {
      "image/png": "[encoded data removed]",
      "text/plain": [
       "<Figure size 1440x360 with 1 Axes>"
      ]
     },
     "metadata": {
      "needs_background": "light"
     },
     "output_type": "display_data"
    }
   ],
   "source": [
    "plot_empirical_cs(100,3,500,alpha_hat,sigma_hat,nu_i_fixed)"
   ]
  },
  {
   "cell_type": "markdown",
   "metadata": {},
   "source": [
    "We now repeat the estimation for $M=10$:"
   ]
  },
  {
   "cell_type": "code",
   "execution_count": 114,
   "metadata": {},
   "outputs": [
    {
     "name": "stdout",
     "output_type": "stream",
     "text": [
      "Optimization terminated successfully.\n",
      "         Current function value: 0.080552\n",
      "         Iterations: 5\n",
      "         Function evaluations: 14\n",
      "         Gradient evaluations: 7\n",
      "Optimization terminated successfully.\n",
      "         Current function value: 0.000000\n",
      "         Iterations: 5\n",
      "         Function evaluations: 22\n",
      "         Gradient evaluations: 11\n",
      "Optimization terminated successfully.\n",
      "         Current function value: 0.080552\n",
      "         Iterations: 6\n",
      "         Function evaluations: 22\n",
      "         Gradient evaluations: 11\n",
      "Optimization terminated successfully.\n",
      "         Current function value: 0.080552\n",
      "         Iterations: 5\n",
      "         Function evaluations: 16\n",
      "         Gradient evaluations: 8\n",
      "Optimization terminated successfully.\n",
      "         Current function value: 0.080552\n",
      "         Iterations: 4\n",
      "         Function evaluations: 14\n",
      "         Gradient evaluations: 7\n",
      "Optimization terminated successfully.\n",
      "         Current function value: 0.000000\n",
      "         Iterations: 7\n",
      "         Function evaluations: 30\n",
      "         Gradient evaluations: 15\n",
      "Optimization terminated successfully.\n",
      "         Current function value: 0.080552\n",
      "         Iterations: 7\n",
      "         Function evaluations: 22\n",
      "         Gradient evaluations: 11\n",
      "Optimization terminated successfully.\n",
      "         Current function value: 0.000000\n",
      "         Iterations: 6\n",
      "         Function evaluations: 22\n",
      "         Gradient evaluations: 11\n",
      "Optimization terminated successfully.\n",
      "         Current function value: 0.080552\n",
      "         Iterations: 8\n",
      "         Function evaluations: 26\n",
      "         Gradient evaluations: 13\n"
     ]
    }
   ],
   "source": [
    "mkts = 10\n",
    "prods = 3\n",
    "\n",
    "# set a seed\n",
    "rand.seed(seed=800)\n",
    "\n",
    "# import data\n",
    "x1,xi_all,w,eta,Z,alphas,P_opt,shares = import_data(mkts,prods)\n",
    "\n",
    "# get number of consumers\n",
    "n_consumers = alphas.shape[1]\n",
    "\n",
    "# simulate consumers\n",
    "nu_i_fixed = rand.lognormal(size = n_consumers * mkts).reshape(-1,1)\n",
    "\n",
    "# get instruments\n",
    "\n",
    "demand_Z = get_demand_instruments(x1, prods, mkts)\n",
    "\n",
    "# optimize GMM for different values\n",
    "\n",
    "results_dict = {x: gmm_min(x, demand_Z, nu_i_fixed) for x in np.arange(1.,10.,1.)}"
   ]
  },
  {
   "cell_type": "code",
   "execution_count": 115,
   "metadata": {},
   "outputs": [
    {
     "data": {
      "text/plain": [
       "{1.0: 0.21279432084286173,\n",
       " 2.0: -0.3087630696838552,\n",
       " 3.0: 0.2127936432936889,\n",
       " 4.0: 0.21279393054235218,\n",
       " 5.0: 0.21280590260688761,\n",
       " 6.0: -0.30876298712973244,\n",
       " 7.0: 0.21279306050245772,\n",
       " 8.0: -0.3087630657780019,\n",
       " 9.0: 0.21279269163922265}"
      ]
     },
     "execution_count": 115,
     "metadata": {},
     "output_type": "execute_result"
    }
   ],
   "source": [
    "{x: results_dict[x]['x'].item() for x in results_dict.keys()}"
   ]
  },
  {
   "cell_type": "code",
   "execution_count": 116,
   "metadata": {},
   "outputs": [
    {
     "data": {
      "text/html": [
       "<div>\n",
       "<style scoped>\n",
       "    .dataframe tbody tr th:only-of-type {\n",
       "        vertical-align: middle;\n",
       "    }\n",
       "\n",
       "    .dataframe tbody tr th {\n",
       "        vertical-align: top;\n",
       "    }\n",
       "\n",
       "    .dataframe thead th {\n",
       "        text-align: right;\n",
       "    }\n",
       "</style>\n",
       "<table border=\"1\" class=\"dataframe\">\n",
       "  <thead>\n",
       "    <tr style=\"text-align: right;\">\n",
       "      <th></th>\n",
       "      <th>1.0</th>\n",
       "      <th>2.0</th>\n",
       "      <th>3.0</th>\n",
       "      <th>4.0</th>\n",
       "      <th>5.0</th>\n",
       "      <th>6.0</th>\n",
       "      <th>7.0</th>\n",
       "      <th>8.0</th>\n",
       "      <th>9.0</th>\n",
       "    </tr>\n",
       "  </thead>\n",
       "  <tbody>\n",
       "    <tr>\n",
       "      <th>b1</th>\n",
       "      <td>1.398912</td>\n",
       "      <td>-2.592345</td>\n",
       "      <td>1.398912</td>\n",
       "      <td>1.398912</td>\n",
       "      <td>1.398902</td>\n",
       "      <td>-2.592343</td>\n",
       "      <td>1.398913</td>\n",
       "      <td>-2.592345</td>\n",
       "      <td>1.398913</td>\n",
       "    </tr>\n",
       "    <tr>\n",
       "      <th>b2</th>\n",
       "      <td>0.169269</td>\n",
       "      <td>-0.110174</td>\n",
       "      <td>0.169269</td>\n",
       "      <td>0.169269</td>\n",
       "      <td>0.169265</td>\n",
       "      <td>-0.110174</td>\n",
       "      <td>0.169270</td>\n",
       "      <td>-0.110174</td>\n",
       "      <td>0.169270</td>\n",
       "    </tr>\n",
       "    <tr>\n",
       "      <th>b3</th>\n",
       "      <td>1.417630</td>\n",
       "      <td>2.565767</td>\n",
       "      <td>1.417630</td>\n",
       "      <td>1.417630</td>\n",
       "      <td>1.417635</td>\n",
       "      <td>2.565766</td>\n",
       "      <td>1.417630</td>\n",
       "      <td>2.565767</td>\n",
       "      <td>1.417630</td>\n",
       "    </tr>\n",
       "    <tr>\n",
       "      <th>a</th>\n",
       "      <td>-0.604867</td>\n",
       "      <td>-0.053827</td>\n",
       "      <td>-0.604869</td>\n",
       "      <td>-0.604868</td>\n",
       "      <td>-0.604845</td>\n",
       "      <td>-0.053827</td>\n",
       "      <td>-0.604870</td>\n",
       "      <td>-0.053827</td>\n",
       "      <td>-0.604870</td>\n",
       "    </tr>\n",
       "  </tbody>\n",
       "</table>\n",
       "</div>"
      ],
      "text/plain": [
       "         1.0       2.0       3.0       4.0       5.0       6.0       7.0  \\\n",
       "b1  1.398912 -2.592345  1.398912  1.398912  1.398902 -2.592343  1.398913   \n",
       "b2  0.169269 -0.110174  0.169269  0.169269  0.169265 -0.110174  0.169270   \n",
       "b3  1.417630  2.565767  1.417630  1.417630  1.417635  2.565766  1.417630   \n",
       "a  -0.604867 -0.053827 -0.604869 -0.604868 -0.604845 -0.053827 -0.604870   \n",
       "\n",
       "         8.0       9.0  \n",
       "b1 -2.592345  1.398913  \n",
       "b2 -0.110174  0.169270  \n",
       "b3  2.565767  1.417630  \n",
       "a  -0.053827 -0.604870  "
      ]
     },
     "execution_count": 116,
     "metadata": {},
     "output_type": "execute_result"
    }
   ],
   "source": [
    "pd.DataFrame(data = {str(s_val): calculate_theta1(get_delta(results_dict[s_val]['x'], nu_i_fixed),x1,P_opt,demand_Z).squeeze() for s_val in results_dict.keys()},\n",
    "             index = ['b1', 'b2', 'b3', 'a'])"
   ]
  },
  {
   "cell_type": "markdown",
   "metadata": {},
   "source": [
    "To estimate using $\\mathbb{E}[\\xi|p] = 0$, we assume this is in addition to the other moments, as otherwise the model is underidentified and cannot be estimated. In this case, we have:"
   ]
  },
  {
   "cell_type": "code",
   "execution_count": 117,
   "metadata": {},
   "outputs": [],
   "source": [
    "def get_demand_price_instruments(X,prods,mkts):\n",
    "    z1 = X # own characteristics\n",
    "    \n",
    "    z2_list = [np.sum(z1[:,1:][(i*prods):((i+1)*prods)], axis = 0) for i in range(int(X.shape[0]/prods))]\n",
    "    z2 = np.repeat(np.row_stack(z2_list), prods, axis = 0) - z1[:,1:] # sum characteristics for the firm's products, subtract z1\n",
    "    \n",
    "    p = P_opt.T.reshape(-1,1)\n",
    "    return(np.column_stack([z1,z2,p]))"
   ]
  },
  {
   "cell_type": "code",
   "execution_count": 118,
   "metadata": {},
   "outputs": [
    {
     "name": "stdout",
     "output_type": "stream",
     "text": [
      "Optimization terminated successfully.\n",
      "         Current function value: 0.005575\n",
      "         Iterations: 4\n",
      "         Function evaluations: 12\n",
      "         Gradient evaluations: 6\n",
      "Optimization terminated successfully.\n",
      "         Current function value: 0.005575\n",
      "         Iterations: 4\n",
      "         Function evaluations: 10\n",
      "         Gradient evaluations: 5\n",
      "Optimization terminated successfully.\n",
      "         Current function value: 0.005575\n",
      "         Iterations: 6\n",
      "         Function evaluations: 14\n",
      "         Gradient evaluations: 7\n",
      "Optimization terminated successfully.\n",
      "         Current function value: 0.005575\n",
      "         Iterations: 6\n",
      "         Function evaluations: 14\n",
      "         Gradient evaluations: 7\n",
      "Optimization terminated successfully.\n",
      "         Current function value: 0.005575\n",
      "         Iterations: 7\n",
      "         Function evaluations: 16\n",
      "         Gradient evaluations: 8\n",
      "Optimization terminated successfully.\n",
      "         Current function value: 0.005575\n",
      "         Iterations: 7\n",
      "         Function evaluations: 16\n",
      "         Gradient evaluations: 8\n",
      "Optimization terminated successfully.\n",
      "         Current function value: 0.005575\n",
      "         Iterations: 7\n",
      "         Function evaluations: 16\n",
      "         Gradient evaluations: 8\n",
      "Optimization terminated successfully.\n",
      "         Current function value: 0.005575\n",
      "         Iterations: 6\n",
      "         Function evaluations: 14\n",
      "         Gradient evaluations: 7\n",
      "Optimization terminated successfully.\n",
      "         Current function value: 0.005575\n",
      "         Iterations: 7\n",
      "         Function evaluations: 16\n",
      "         Gradient evaluations: 8\n"
     ]
    }
   ],
   "source": [
    "mkts = 100\n",
    "prods = 3\n",
    "\n",
    "# set a seed\n",
    "rand.seed(seed=900)\n",
    "\n",
    "# import data\n",
    "x1,xi_all,w,eta,Z,alphas,P_opt,shares = import_data(mkts,prods)\n",
    "\n",
    "# get number of consumers\n",
    "n_consumers = alphas.shape[1]\n",
    "\n",
    "# simulate consumers\n",
    "nu_i_fixed = rand.lognormal(size = n_consumers * mkts).reshape(-1,1)\n",
    "\n",
    "# get instruments\n",
    "\n",
    "demand_price_Z = get_demand_price_instruments(x1, prods, mkts)\n",
    "\n",
    "# optimize GMM for different values\n",
    "\n",
    "results_dict = {x: gmm_min(x, demand_price_Z, nu_i_fixed) for x in np.arange(1.,10.,1.)}"
   ]
  },
  {
   "cell_type": "code",
   "execution_count": 120,
   "metadata": {},
   "outputs": [
    {
     "data": {
      "text/html": [
       "<div>\n",
       "<style scoped>\n",
       "    .dataframe tbody tr th:only-of-type {\n",
       "        vertical-align: middle;\n",
       "    }\n",
       "\n",
       "    .dataframe tbody tr th {\n",
       "        vertical-align: top;\n",
       "    }\n",
       "\n",
       "    .dataframe thead th {\n",
       "        text-align: right;\n",
       "    }\n",
       "</style>\n",
       "<table border=\"1\" class=\"dataframe\">\n",
       "  <thead>\n",
       "    <tr style=\"text-align: right;\">\n",
       "      <th></th>\n",
       "      <th>1.0</th>\n",
       "      <th>2.0</th>\n",
       "      <th>3.0</th>\n",
       "      <th>4.0</th>\n",
       "      <th>5.0</th>\n",
       "      <th>6.0</th>\n",
       "      <th>7.0</th>\n",
       "      <th>8.0</th>\n",
       "      <th>9.0</th>\n",
       "    </tr>\n",
       "  </thead>\n",
       "  <tbody>\n",
       "    <tr>\n",
       "      <th>b1</th>\n",
       "      <td>4.713419</td>\n",
       "      <td>4.713419</td>\n",
       "      <td>4.713419</td>\n",
       "      <td>4.713419</td>\n",
       "      <td>4.713419</td>\n",
       "      <td>4.713419</td>\n",
       "      <td>4.713419</td>\n",
       "      <td>4.713419</td>\n",
       "      <td>4.713419</td>\n",
       "    </tr>\n",
       "    <tr>\n",
       "      <th>b2</th>\n",
       "      <td>0.914325</td>\n",
       "      <td>0.914325</td>\n",
       "      <td>0.914325</td>\n",
       "      <td>0.914325</td>\n",
       "      <td>0.914325</td>\n",
       "      <td>0.914325</td>\n",
       "      <td>0.914325</td>\n",
       "      <td>0.914325</td>\n",
       "      <td>0.914325</td>\n",
       "    </tr>\n",
       "    <tr>\n",
       "      <th>b3</th>\n",
       "      <td>1.014727</td>\n",
       "      <td>1.014727</td>\n",
       "      <td>1.014727</td>\n",
       "      <td>1.014727</td>\n",
       "      <td>1.014727</td>\n",
       "      <td>1.014727</td>\n",
       "      <td>1.014727</td>\n",
       "      <td>1.014727</td>\n",
       "      <td>1.014727</td>\n",
       "    </tr>\n",
       "    <tr>\n",
       "      <th>a</th>\n",
       "      <td>-0.921789</td>\n",
       "      <td>-0.921789</td>\n",
       "      <td>-0.921789</td>\n",
       "      <td>-0.921789</td>\n",
       "      <td>-0.921789</td>\n",
       "      <td>-0.921789</td>\n",
       "      <td>-0.921789</td>\n",
       "      <td>-0.921789</td>\n",
       "      <td>-0.921789</td>\n",
       "    </tr>\n",
       "  </tbody>\n",
       "</table>\n",
       "</div>"
      ],
      "text/plain": [
       "         1.0       2.0       3.0       4.0       5.0       6.0       7.0  \\\n",
       "b1  4.713419  4.713419  4.713419  4.713419  4.713419  4.713419  4.713419   \n",
       "b2  0.914325  0.914325  0.914325  0.914325  0.914325  0.914325  0.914325   \n",
       "b3  1.014727  1.014727  1.014727  1.014727  1.014727  1.014727  1.014727   \n",
       "a  -0.921789 -0.921789 -0.921789 -0.921789 -0.921789 -0.921789 -0.921789   \n",
       "\n",
       "         8.0       9.0  \n",
       "b1  4.713419  4.713419  \n",
       "b2  0.914325  0.914325  \n",
       "b3  1.014727  1.014727  \n",
       "a  -0.921789 -0.921789  "
      ]
     },
     "execution_count": 120,
     "metadata": {},
     "output_type": "execute_result"
    }
   ],
   "source": [
    "pd.DataFrame(data = {str(s_val): calculate_theta1(get_delta(results_dict[s_val]['x'], nu_i_fixed),x1,P_opt,demand_price_Z).squeeze() for s_val in results_dict.keys()},\n",
    "             index = ['b1', 'b2', 'b3', 'a'])"
   ]
  },
  {
   "cell_type": "markdown",
   "metadata": {},
   "source": [
    "### 3. Adding Supply Side Instruments\n",
    "___\n",
    "\n",
    "1a. In this case, we again will have moments given by\n",
    "$$\\mathbb{E}\\left[\\left[X_i, \\sum_{j\\in t}X_{j\\neq i}, W_i\\right]^{\\top}\\xi_i\\right] = 0$$"
   ]
  },
  {
   "cell_type": "code",
   "execution_count": null,
   "metadata": {},
   "outputs": [],
   "source": [
    "def get_demand_supply_instruments(X,W,prds,mkts):\n",
    "    z1 = X # own characteristics\n",
    "    \n",
    "    z2_list = [np.sum(z1[:,1:][(i*prods):((i+1)*prods)], axis = 0) for i in range(int(X.shape[0]/prods))]\n",
    "    z2 = np.repeat(np.row_stack(z2_list), prods, axis = 0) - z1[:,1:] # sum characteristics for the firm's products, subtract z1\n",
    "    \n",
    "    return(np.column_stack([z1,z2,w]))"
   ]
  },
  {
   "cell_type": "code",
   "execution_count": null,
   "metadata": {},
   "outputs": [],
   "source": [
    "mkts = 100\n",
    "prods = 3\n",
    "\n",
    "# set a seed\n",
    "rand.seed(seed=900)\n",
    "\n",
    "# import data\n",
    "x1,xi_all,w,eta,Z,alphas,P_opt,shares = import_data(mkts,prods)\n",
    "\n",
    "# get number of consumers\n",
    "n_consumers = alphas.shape[1]\n",
    "\n",
    "# simulate consumers\n",
    "nu_i_fixed = rand.lognormal(size = n_consumers * mkts).reshape(-1,1)\n",
    "\n",
    "# get instruments\n",
    "\n",
    "Z = get_demand_supply_instruments(x1, w, prods, mkts)\n",
    "\n",
    "# optimize GMM for different values\n",
    "\n",
    "results_dict = {x: gmm_min(x, Z, nu_i_fixed) for x in np.arange(1.,5.,1.)}"
   ]
  },
  {
   "cell_type": "code",
   "execution_count": null,
   "metadata": {},
   "outputs": [],
   "source": [
    "plot_estimated_cs(100, 3, 1.25)"
   ]
  },
  {
   "cell_type": "code",
   "execution_count": null,
   "metadata": {},
   "outputs": [],
   "source": [
    "plot_cs(100, 3)"
   ]
  },
  {
   "cell_type": "markdown",
   "metadata": {},
   "source": [
    "2a. We can here use our elasticity formulations. If there is perfect competition, we know that $MC = P$ and we can just use the prices as marginal costs.\n",
    "\n",
    "If this is oligopoly, and each firm is only pricing for their one product, we will have $\\Delta$ given by\n",
    "\n",
    "$$\\Delta = \\begin{bmatrix}\n",
    "-\\frac{\\partial s_{11}}{\\partial p_{11}} & 0 & 0 & ... & 0 \\\\\n",
    "0 & -\\frac{\\partial s_{12}}{\\partial p_{12}} & 0 & ... & 0 \\\\\n",
    "\\vdots & \\vdots & \\ddots & \\vdots & \\vdots \\\\\n",
    "0 & 0 & ... & -\\frac{\\partial s_{(m-1)(j-1)}}{\\partial p_{(m-1)(j-1)}} & 0 \\\\\n",
    "0 & 0 & 0 & ... & -\\frac{\\partial s_{mj}}{\\partial p_{mj}}\n",
    "\\end{bmatrix}$$\n",
    "\n",
    "which yields $MC = P - \\Delta^{-1}s$\n",
    "\n",
    "Under perfect collusion, all firms care about the impact of price changes on the shares of other products in their market:\n",
    "$$\\Delta = \\begin{bmatrix}\n",
    "-\\frac{\\partial s_{11}}{\\partial p_{11}} & -\\frac{\\partial s_{12}}{\\partial p_{11}} & -\\frac{\\partial s_{13}}{\\partial p_{11}} & ... & -\\frac{\\partial s_{1j}}{\\partial p_{11}} & 0 & 0 & ... & 0 \\\\\n",
    "-\\frac{\\partial s_{11}}{\\partial p_{12}} & -\\frac{\\partial s_{12}}{\\partial p_{12}} & -\\frac{\\partial s_{13}}{\\partial p_{12}} & ... & -\\frac{\\partial s_{1j}}{\\partial p_{12}} & 0 & 0 & ... & 0 \\\\\n",
    "\\vdots & \\vdots & \\vdots & \\vdots & \\vdots & \\vdots & \\vdots & \\vdots & \\vdots \\\\\n",
    "0 & 0 & 0 & ... & 0 & ... & -\\frac{\\partial s_{m(j-2)}}{\\partial p_{mj}} & -\\frac{\\partial s_{m(j-1)}}{\\partial p_{mj}} & -\\frac{\\partial s_{mj}}{\\partial p_{mj}}\n",
    "\\end{bmatrix}$$\n",
    "\n",
    "which yields $MC = P - \\Delta^{-1}s$\n",
    "<!-- We then calculate $\\Delta$. As firms produce one good per market, $\\Delta$ will be diagonal, with elements given by\n",
    "$$-\\frac{\\partial s_j}{\\partial p_j}$$\n",
    "For an individual $i$, the choice probability of choosing product $j$ is given by\n",
    "$$\\mathbb{P}_{ij} = \\frac{\\exp(\\delta_j - p_j \\nu_i \\sigma_{\\alpha})}{1 + \\sum_{k=1}^J\\exp(\\delta_k - p_k \\nu_i \\sigma_{\\alpha})}$$\n",
    "This means that\n",
    "$$\\frac{\\partial \\mathbb{P}_{ij}}{\\partial p_j} = \\frac{\\left(1 + \\sum_{k=1}^J\\exp(\\delta_k - p_k \\nu_i \\sigma_{\\alpha})\\right)\\exp(\\delta_j - p_j \\nu_i \\sigma_{\\alpha})(-\\alpha - \\sigma_{\\alpha}\\nu_i) - \\exp(\\delta_j - p_j \\nu_i \\sigma_{\\alpha})^2(-\\alpha - \\sigma_{\\alpha}\\nu_i)}{\\left(1 + \\sum_{k=1}^J\\exp(\\delta_k - p_k \\nu_i \\sigma_{\\alpha})\\right)^2}$$\n",
    "and\n",
    "$$-\\frac{\\partial s_j}{\\partial p_j} = -\\frac{1}{n}\\sum_{i=1}^{ns}\\frac{\\partial \\mathbb{P}_{ij}}{\\partial p_j}$$\n",
    "Given our shares formulation, we have\n",
    "$$-\\frac{\\partial s_j}{\\partial p_j} = -\\frac{1}{n}\\sum_{i=1}^{500}\\frac{(1+\\sum_s{\\exp(\\delta_s + \\mu_{is})})(-\\alpha-\\sigma_{\\alpha}\\nu_i)\\exp(\\delta_j + \\mu_{ij}) + (\\alpha + \\sigma_{\\alpha}\\nu_i)(\\exp(\\delta_j + \\mu_{ij}))^2}{(1+\\sum_s{\\exp(\\delta_s + \\mu_{is})})^2}$$\n",
    "Simplifying yields\n",
    "$$\\frac{\\partial s_j}{\\partial p_j} = \\frac{1}{n}\\sum_{i=1}^{500}(\\alpha + \\sigma_{\\alpha}\\nu_i)(s_{ij}^2 - s_{ij})$$\n",
    "and\n",
    "$$\\frac{\\partial s_j}{\\partial p_k} = \\frac{1}{n}\\sum_{i=1}^{500}(\\alpha + \\sigma_{\\alpha}\\nu_i)(s_{ij}s_{ik})$$ -->"
   ]
  },
  {
   "cell_type": "code",
   "execution_count": 67,
   "metadata": {},
   "outputs": [
    {
     "data": {
      "text/plain": [
       "array([[0.74946858, 2.2152574 , 0.62023257],\n",
       "       [0.70993113, 0.48693907, 1.48683086],\n",
       "       [0.86933448, 0.76476269, 1.06288297],\n",
       "       [0.70267719, 1.71524208, 0.68686637],\n",
       "       [0.63853418, 1.02496471, 0.76294519],\n",
       "       [0.86513119, 0.99187977, 0.8148029 ]])"
      ]
     },
     "execution_count": 67,
     "metadata": {},
     "output_type": "execute_result"
    }
   ],
   "source": [
    "get_markup(100,3,500,1.,1.,P_opt,alphas.reshape(-1,1) -1.,'oligopoly').reshape(100,3)[:6]"
   ]
  },
  {
   "cell_type": "code",
   "execution_count": 68,
   "metadata": {},
   "outputs": [
    {
     "data": {
      "text/plain": [
       "array([[0.74946858, 2.2152574 , 0.62023257],\n",
       "       [0.70993118, 0.48693846, 1.48683252],\n",
       "       [0.86933448, 0.76476269, 1.06288297],\n",
       "       [0.70267719, 1.71524208, 0.68686637],\n",
       "       [0.63853418, 1.02496471, 0.76294519],\n",
       "       [0.86513154, 0.99187912, 0.81480247]])"
      ]
     },
     "execution_count": 68,
     "metadata": {},
     "output_type": "execute_result"
    }
   ],
   "source": [
    "(P_opt.T - mc_true)[:6]"
   ]
  },
  {
   "cell_type": "code",
   "execution_count": 42,
   "metadata": {},
   "outputs": [],
   "source": [
    "# import data\n",
    "x1,xi_all,w,eta,Z,alphas,P_opt,shares = import_data(mkts,prods)\n",
    "\n",
    "mc_true = (np.column_stack([np.ones(prods * mkts),w, Z]) @ gamma + eta).reshape(100,3)\n",
    "\n",
    "mc_perf_comp = P_opt.T - get_markup(100,3,500,1.,1.,P_opt,alphas.reshape(-1,1)-1., 'perfect').reshape(mkts, prods)\n",
    "mc_olig = P_opt.T - get_markup(100,3,500,1.,1.,P_opt,alphas.reshape(-1,1)-1., 'oligopoly').reshape(mkts, prods)\n",
    "mc_collusion = P_opt.T - get_markup(100,3,500,1.,1.,P_opt,alphas.reshape(-1,1)-1., 'collusion').reshape(mkts, prods)"
   ]
  },
  {
   "cell_type": "code",
   "execution_count": 43,
   "metadata": {},
   "outputs": [
    {
     "data": {
      "text/html": [
       "<div>\n",
       "<style scoped>\n",
       "    .dataframe tbody tr th:only-of-type {\n",
       "        vertical-align: middle;\n",
       "    }\n",
       "\n",
       "    .dataframe tbody tr th {\n",
       "        vertical-align: top;\n",
       "    }\n",
       "\n",
       "    .dataframe thead th {\n",
       "        text-align: right;\n",
       "    }\n",
       "</style>\n",
       "<table border=\"1\" class=\"dataframe\">\n",
       "  <thead>\n",
       "    <tr style=\"text-align: right;\">\n",
       "      <th></th>\n",
       "      <th>mc_true</th>\n",
       "      <th>mc_perf_comp</th>\n",
       "      <th>mc_olig</th>\n",
       "      <th>mc_collusion</th>\n",
       "    </tr>\n",
       "  </thead>\n",
       "  <tbody>\n",
       "    <tr>\n",
       "      <th>count</th>\n",
       "      <td>300.000000</td>\n",
       "      <td>300.000000</td>\n",
       "      <td>300.000000</td>\n",
       "      <td>300.000000</td>\n",
       "    </tr>\n",
       "    <tr>\n",
       "      <th>mean</th>\n",
       "      <td>2.051214</td>\n",
       "      <td>3.026549</td>\n",
       "      <td>2.051223</td>\n",
       "      <td>-0.928146</td>\n",
       "    </tr>\n",
       "    <tr>\n",
       "      <th>std</th>\n",
       "      <td>1.577606</td>\n",
       "      <td>1.371157</td>\n",
       "      <td>1.577590</td>\n",
       "      <td>4.758947</td>\n",
       "    </tr>\n",
       "    <tr>\n",
       "      <th>min</th>\n",
       "      <td>-2.259204</td>\n",
       "      <td>0.163102</td>\n",
       "      <td>-2.259204</td>\n",
       "      <td>-43.009565</td>\n",
       "    </tr>\n",
       "    <tr>\n",
       "      <th>25%</th>\n",
       "      <td>0.847252</td>\n",
       "      <td>1.988151</td>\n",
       "      <td>0.847252</td>\n",
       "      <td>-1.704883</td>\n",
       "    </tr>\n",
       "    <tr>\n",
       "      <th>50%</th>\n",
       "      <td>2.047371</td>\n",
       "      <td>2.827857</td>\n",
       "      <td>2.047371</td>\n",
       "      <td>-0.358615</td>\n",
       "    </tr>\n",
       "    <tr>\n",
       "      <th>75%</th>\n",
       "      <td>3.181108</td>\n",
       "      <td>3.963675</td>\n",
       "      <td>3.181108</td>\n",
       "      <td>1.071092</td>\n",
       "    </tr>\n",
       "    <tr>\n",
       "      <th>max</th>\n",
       "      <td>6.283119</td>\n",
       "      <td>7.028482</td>\n",
       "      <td>6.283119</td>\n",
       "      <td>5.588275</td>\n",
       "    </tr>\n",
       "  </tbody>\n",
       "</table>\n",
       "</div>"
      ],
      "text/plain": [
       "          mc_true  mc_perf_comp     mc_olig  mc_collusion\n",
       "count  300.000000    300.000000  300.000000    300.000000\n",
       "mean     2.051214      3.026549    2.051223     -0.928146\n",
       "std      1.577606      1.371157    1.577590      4.758947\n",
       "min     -2.259204      0.163102   -2.259204    -43.009565\n",
       "25%      0.847252      1.988151    0.847252     -1.704883\n",
       "50%      2.047371      2.827857    2.047371     -0.358615\n",
       "75%      3.181108      3.963675    3.181108      1.071092\n",
       "max      6.283119      7.028482    6.283119      5.588275"
      ]
     },
     "execution_count": 43,
     "metadata": {},
     "output_type": "execute_result"
    }
   ],
   "source": [
    "pd.DataFrame(data = {'mc_true': mc_true.reshape(-1),\n",
    "                     'mc_perf_comp': mc_perf_comp.reshape(-1),\n",
    "                     'mc_olig': mc_olig.reshape(-1),\n",
    "                     'mc_collusion': mc_collusion.reshape(-1)}).describe()"
   ]
  },
  {
   "cell_type": "markdown",
   "metadata": {},
   "source": [
    "To compute all the parameters under these assumptions, we need to get the values of $\\hat{\\omega}$ by using the pricing assumption, and then feed that into the new GMM criterion function. Thus, we need to add code to get the $\\hat{\\omega}$ values, and adjust the GMM criterion."
   ]
  },
  {
   "cell_type": "code",
   "execution_count": null,
   "metadata": {},
   "outputs": [],
   "source": [
    "def calculate_gamma(P,markup_vals,w_val,Z):\n",
    "    # get the marginal cost\n",
    "    mc = P.T - markup_vals\n",
    "    \n",
    "    # projection matrix\n",
    "    P_Z = Z @ np.linalg.inv(Z.T @ Z) @ Z.T\n",
    "    \n",
    "    return(np.linalg.inv(w_val.T @ P_Z @ w_val) @ w_val.T @ P_Z @ mc.reshape(-1,1))"
   ]
  },
  {
   "cell_type": "code",
   "execution_count": null,
   "metadata": {},
   "outputs": [],
   "source": [
    "def calculate_omega_hat(P,markup_vals,w_val,Z):\n",
    "    # get the marginal cost\n",
    "    mc = P.T - markup_vals\n",
    "    # get the gamma hat\n",
    "    gamma_hat = calculate_gamma(P,markup_vals,w_val,Z)\n",
    "    \n",
    "    return(mc.reshape(-1,1) - w_val @ gamma_hat)"
   ]
  },
  {
   "cell_type": "code",
   "execution_count": null,
   "metadata": {},
   "outputs": [],
   "source": [
    "def gmm_supply_obj(sigma, Z, nu_i_val):\n",
    "    \n",
    "    delta_new = get_delta(sigma,nu_i_val)\n",
    "    \n",
    "    theta1 = calculate_theta1(delta_new,x1,P_opt,Z)\n",
    "\n",
    "    xi_hat = get_xi_hat(delta_new,x1,P_opt,Z)\n",
    "    W = np.linalg.inv(Z.T @ Z)\n",
    "    return((xi_hat.T @ Z @ W @ Z.T @ xi_hat).item())"
   ]
  },
  {
   "cell_type": "code",
   "execution_count": 39,
   "metadata": {},
   "outputs": [
    {
     "data": {
      "text/html": [
       "<div>\n",
       "<style scoped>\n",
       "    .dataframe tbody tr th:only-of-type {\n",
       "        vertical-align: middle;\n",
       "    }\n",
       "\n",
       "    .dataframe tbody tr th {\n",
       "        vertical-align: top;\n",
       "    }\n",
       "\n",
       "    .dataframe thead th {\n",
       "        text-align: right;\n",
       "    }\n",
       "</style>\n",
       "<table border=\"1\" class=\"dataframe\">\n",
       "  <thead>\n",
       "    <tr style=\"text-align: right;\">\n",
       "      <th></th>\n",
       "      <th>0</th>\n",
       "    </tr>\n",
       "  </thead>\n",
       "  <tbody>\n",
       "    <tr>\n",
       "      <th>count</th>\n",
       "      <td>300.000000</td>\n",
       "    </tr>\n",
       "    <tr>\n",
       "      <th>mean</th>\n",
       "      <td>1.517773</td>\n",
       "    </tr>\n",
       "    <tr>\n",
       "      <th>std</th>\n",
       "      <td>3.001499</td>\n",
       "    </tr>\n",
       "    <tr>\n",
       "      <th>min</th>\n",
       "      <td>0.039017</td>\n",
       "    </tr>\n",
       "    <tr>\n",
       "      <th>25%</th>\n",
       "      <td>0.518695</td>\n",
       "    </tr>\n",
       "    <tr>\n",
       "      <th>50%</th>\n",
       "      <td>0.856501</td>\n",
       "    </tr>\n",
       "    <tr>\n",
       "      <th>75%</th>\n",
       "      <td>1.396033</td>\n",
       "    </tr>\n",
       "    <tr>\n",
       "      <th>max</th>\n",
       "      <td>33.234577</td>\n",
       "    </tr>\n",
       "  </tbody>\n",
       "</table>\n",
       "</div>"
      ],
      "text/plain": [
       "                0\n",
       "count  300.000000\n",
       "mean     1.517773\n",
       "std      3.001499\n",
       "min      0.039017\n",
       "25%      0.518695\n",
       "50%      0.856501\n",
       "75%      1.396033\n",
       "max     33.234577"
      ]
     },
     "execution_count": 39,
     "metadata": {},
     "output_type": "execute_result"
    }
   ],
   "source": [
    "pd.DataFrame(markup).describe()"
   ]
  },
  {
   "cell_type": "code",
   "execution_count": 40,
   "metadata": {},
   "outputs": [
    {
     "data": {
      "text/html": [
       "<div>\n",
       "<style scoped>\n",
       "    .dataframe tbody tr th:only-of-type {\n",
       "        vertical-align: middle;\n",
       "    }\n",
       "\n",
       "    .dataframe tbody tr th {\n",
       "        vertical-align: top;\n",
       "    }\n",
       "\n",
       "    .dataframe thead th {\n",
       "        text-align: right;\n",
       "    }\n",
       "</style>\n",
       "<table border=\"1\" class=\"dataframe\">\n",
       "  <thead>\n",
       "    <tr style=\"text-align: right;\">\n",
       "      <th></th>\n",
       "      <th>0</th>\n",
       "    </tr>\n",
       "  </thead>\n",
       "  <tbody>\n",
       "    <tr>\n",
       "      <th>count</th>\n",
       "      <td>300.000000</td>\n",
       "    </tr>\n",
       "    <tr>\n",
       "      <th>mean</th>\n",
       "      <td>0.975335</td>\n",
       "    </tr>\n",
       "    <tr>\n",
       "      <th>std</th>\n",
       "      <td>0.483594</td>\n",
       "    </tr>\n",
       "    <tr>\n",
       "      <th>min</th>\n",
       "      <td>0.454138</td>\n",
       "    </tr>\n",
       "    <tr>\n",
       "      <th>25%</th>\n",
       "      <td>0.701109</td>\n",
       "    </tr>\n",
       "    <tr>\n",
       "      <th>50%</th>\n",
       "      <td>0.787384</td>\n",
       "    </tr>\n",
       "    <tr>\n",
       "      <th>75%</th>\n",
       "      <td>1.028896</td>\n",
       "    </tr>\n",
       "    <tr>\n",
       "      <th>max</th>\n",
       "      <td>3.235189</td>\n",
       "    </tr>\n",
       "  </tbody>\n",
       "</table>\n",
       "</div>"
      ],
      "text/plain": [
       "                0\n",
       "count  300.000000\n",
       "mean     0.975335\n",
       "std      0.483594\n",
       "min      0.454138\n",
       "25%      0.701109\n",
       "50%      0.787384\n",
       "75%      1.028896\n",
       "max      3.235189"
      ]
     },
     "execution_count": 40,
     "metadata": {},
     "output_type": "execute_result"
    }
   ],
   "source": [
    "pd.DataFrame(P_opt.T.reshape(-1,1) - mc_true.reshape(-1,1)).describe()"
   ]
  },
  {
   "cell_type": "code",
   "execution_count": 61,
   "metadata": {},
   "outputs": [
    {
     "data": {
      "text/plain": [
       "Text(0, 0.5, 'Products')"
      ]
     },
     "execution_count": 61,
     "metadata": {},
     "output_type": "execute_result"
    },
    {
     "data": {
      "image/png": "[encoded data removed]",
      "text/plain": [
       "<Figure size 1440x360 with 1 Axes>"
      ]
     },
     "metadata": {
      "needs_background": "light"
     },
     "output_type": "display_data"
    }
   ],
   "source": [
    "markup = get_markup(100,3,500,1.,1.,P_opt,alphas.reshape(-1,1)-1., 'oligopoly').reshape(mkts, prods)\n",
    "emp_shares = get_shares(100,3,500,P_opt.T,get_delta(1.,alphas.reshape(-1,1)-1.),1.,alphas.reshape(-1,1)-1.)\n",
    "\n",
    "profit_flat = (emp_shares * markup * 500).reshape(-1)\n",
    "\n",
    "plt.hist(profit_flat, bins='fd', ec = 'black')\n",
    "plt.title('Profit Distribution ({} Products, {} Markets, {} Consumers)'.format(prods, mkts, n_consumers))\n",
    "plt.xlabel('Profit')\n",
    "plt.ylabel('Products')"
   ]
  },
  {
   "cell_type": "code",
   "execution_count": 50,
   "metadata": {},
   "outputs": [
    {
     "data": {
      "image/png": "[encoded data removed]",
      "text/plain": [
       "<Figure size 1440x360 with 1 Axes>"
      ]
     },
     "metadata": {
      "needs_background": "light"
     },
     "output_type": "display_data"
    }
   ],
   "source": [
    "plot_profit(100,3)"
   ]
  },
  {
   "cell_type": "code",
   "execution_count": 70,
   "metadata": {},
   "outputs": [
    {
     "data": {
      "image/png": "[encoded data removed]",
      "text/plain": [
       "<Figure size 1440x360 with 1 Axes>"
      ]
     },
     "metadata": {
      "needs_background": "light"
     },
     "output_type": "display_data"
    }
   ],
   "source": [
    "plot_empirical_profit(100,3,500,1.,1.,P_opt,alphas.reshape(-1,1) - 1.,'oligopoly')"
   ]
  },
  {
   "cell_type": "code",
   "execution_count": 54,
   "metadata": {},
   "outputs": [
    {
     "data": {
      "text/plain": [
       "0.7494685838686443"
      ]
     },
     "execution_count": 54,
     "metadata": {},
     "output_type": "execute_result"
    }
   ],
   "source": [
    "P_opt[0,0] - mc_true[0,0]"
   ]
  },
  {
   "cell_type": "code",
   "execution_count": 59,
   "metadata": {},
   "outputs": [
    {
     "data": {
      "text/plain": [
       "array([[0.74946858, 2.2152574 , 0.62023257],\n",
       "       [0.70993118, 0.48693846, 1.48683252],\n",
       "       [0.86933448, 0.76476269, 1.06288297],\n",
       "       [0.70267719, 1.71524208, 0.68686637],\n",
       "       [0.63853418, 1.02496471, 0.76294519],\n",
       "       [0.86513154, 0.99187912, 0.81480247]])"
      ]
     },
     "execution_count": 59,
     "metadata": {},
     "output_type": "execute_result"
    }
   ],
   "source": []
  },
  {
   "cell_type": "code",
   "execution_count": 60,
   "metadata": {},
   "outputs": [
    {
     "data": {
      "text/plain": [
       "array([[0.74946858, 2.2152574 , 0.62023257],\n",
       "       [0.70993113, 0.48693907, 1.48683086],\n",
       "       [0.86933448, 0.76476269, 1.06288297],\n",
       "       [0.70267719, 1.71524208, 0.68686637],\n",
       "       [0.63853418, 1.02496471, 0.76294519],\n",
       "       [0.86513119, 0.99187977, 0.8148029 ]])"
      ]
     },
     "execution_count": 60,
     "metadata": {},
     "output_type": "execute_result"
    }
   ],
   "source": [
    " * "
   ]
  },
  {
   "cell_type": "code",
   "execution_count": 9,
   "metadata": {},
   "outputs": [
    {
     "data": {
      "text/plain": [
       "0.7494685838686443"
      ]
     },
     "execution_count": 9,
     "metadata": {},
     "output_type": "execute_result"
    }
   ],
   "source": [
    "P_opt.T[0,0] - (np.column_stack([np.ones(prods * mkts),w, Z]) @ gamma + eta)[0,0]"
   ]
  },
  {
   "cell_type": "code",
   "execution_count": null,
   "metadata": {},
   "outputs": [],
   "source": [
    "-shares.T[0,0] / own_elasticity[0]"
   ]
  },
  {
   "cell_type": "code",
   "execution_count": 26,
   "metadata": {},
   "outputs": [
    {
     "name": "stdout",
     "output_type": "stream",
     "text": [
      "[-1.32646287e-04 -4.74772668e-14 -1.91153652e-05 -1.61039938e-09\n",
      " -7.62641179e-16 -3.68243725e-06]\n"
     ]
    }
   ],
   "source": [
    "mkts = 100\n",
    "prods = 3\n",
    "\n",
    "# set a seed\n",
    "rand.seed(seed=900)\n",
    "\n",
    "# import data\n",
    "x1,xi_all,w,eta,Z,alphas,P_opt,shares = import_data(mkts,prods)\n",
    "\n",
    "n_consumers = 500\n",
    "price_vals = P_opt\n",
    "sigma = 1.\n",
    "nu_i_vals = alphas.reshape(-1,1) - 1.\n",
    "\n",
    "# get implied delta and shares\n",
    "delta = get_delta(sigma, nu_i_vals)\n",
    "share_vals = get_shares(mkts,prods,n_consumers,price_vals.T,delta,sigma,nu_i_vals)\n",
    "\n",
    "d_terms = alphas[0].squeeze()\n",
    "\n",
    "# get individual shares\n",
    "u_exp = np.exp(np.repeat(delta[0].reshape(1,-1), n_consumers, axis = 0) - sigma * np.repeat(P_opt.T[0].reshape(1,-1), n_consumers, axis = 0) * nu_i_vals[:500].reshape(-1,1))\n",
    "sum_terms = 1. + np.sum(u_exp, axis = 1).reshape(-1,1)\n",
    "indiv_shares = (u_exp / sum_terms)\n",
    "\n",
    "ela = np.mean(d_terms * (indiv_shares[:,0] ** 2 - indiv_shares[:,0]))\n",
    "print((d_terms * (indiv_shares[:,0] ** 2 - indiv_shares[:,0]))[:6])"
   ]
  },
  {
   "cell_type": "code",
   "execution_count": 11,
   "metadata": {},
   "outputs": [
    {
     "data": {
      "text/plain": [
       "-0.7494685838873372"
      ]
     },
     "execution_count": 11,
     "metadata": {},
     "output_type": "execute_result"
    }
   ],
   "source": [
    "shares[0,0] / ela"
   ]
  },
  {
   "cell_type": "code",
   "execution_count": 12,
   "metadata": {},
   "outputs": [
    {
     "data": {
      "text/plain": [
       "-6.92220595730808e-05"
      ]
     },
     "execution_count": 12,
     "metadata": {},
     "output_type": "execute_result"
    }
   ],
   "source": [
    "ela"
   ]
  },
  {
   "cell_type": "code",
   "execution_count": null,
   "metadata": {},
   "outputs": [],
   "source": [
    "own_elasticity[0] / P_opt[0,0] * shares[0,0]"
   ]
  },
  {
   "cell_type": "code",
   "execution_count": 29,
   "metadata": {},
   "outputs": [],
   "source": [
    "mkts = 100\n",
    "prods = 3\n",
    "\n",
    "# set a seed\n",
    "rand.seed(seed=900)\n",
    "\n",
    "# import data\n",
    "x1,xi_all,w,eta,Z,alphas,P_opt,shares = import_data(mkts,prods)\n",
    "\n",
    "n_consumers = 500\n",
    "price_vals = P_opt\n",
    "sigma = 1.\n",
    "nu_i_vals = alphas.reshape(-1,1) - 1.\n",
    "\n",
    "# get implied delta and shares\n",
    "delta = get_delta(sigma, nu_i_vals)\n",
    "share_vals = get_shares(mkts,prods,n_consumers,price_vals.T,delta,sigma,nu_i_vals)\n",
    "\n",
    "# get individual shares\n",
    "u_exp = np.exp(np.repeat(delta, n_consumers, axis = 0) - sigma * np.repeat(price_vals.T, n_consumers, axis = 0) * nu_i_vals.reshape(-1,1))\n",
    "sum_terms = 1. + np.sum(u_exp, axis = 1).reshape(-1,1)\n",
    "indiv_shares = (u_exp / sum_terms)\n",
    "\n",
    "# convert to 300x3 matrix, where each 3x3 matrix yields all elasticities for a given market\n",
    "\n",
    "indiv_mkts_x_shares = [indiv_shares[i].reshape(-1,1) @ indiv_shares[i].reshape(1,-1) for i in range(len(indiv_shares))]\n",
    "cross_shares_matrix = np.concatenate(indiv_mkts_x_shares, axis = 0)\n",
    "own_shares_ind = np.repeat(indiv_shares, prods, axis = 0) * np.tile(np.eye(prods), (n_consumers * mkts,1))\n",
    "\n",
    "# get the derivative terms\n",
    "d_terms = np.repeat(alpha + sigma * nu_i_vals.reshape(-1,1), 3, axis = 0)\n",
    "\n",
    "total_mat = d_terms * (cross_shares_matrix - own_shares_ind)\n",
    "\n",
    "all_blocks = []\n",
    "for i in range(100):    \n",
    "    mkt_blocks = [total_mat[j:(j+prods)] for j in range(i * prods * n_consumers, (i+1) * prods * n_consumers, prods)]\n",
    "    all_blocks.append(np.mean(mkt_blocks, axis = 0))\n",
    "\n",
    "all_partials = np.concatenate(all_blocks, axis = 0)\n",
    "all_elasticities = all_partials"
   ]
  },
  {
   "cell_type": "code",
   "execution_count": 30,
   "metadata": {},
   "outputs": [
    {
     "data": {
      "text/plain": [
       "array([[-6.92220596e-05,  5.64914420e-05,  1.22528948e-05],\n",
       "       [ 5.64914420e-05, -3.24315731e-01,  1.80306374e-01],\n",
       "       [ 1.22528948e-05,  1.80306374e-01, -1.93074439e-01],\n",
       "       [-1.31232914e-01,  2.17089449e-02,  1.08820557e-01],\n",
       "       [ 2.17089449e-02, -2.83595828e-01,  2.38997866e-01],\n",
       "       [ 1.08820557e-01,  2.38997866e-01, -4.69709809e-01]])"
      ]
     },
     "execution_count": 30,
     "metadata": {},
     "output_type": "execute_result"
    }
   ],
   "source": [
    "all_partials[:6]"
   ]
  },
  {
   "cell_type": "code",
   "execution_count": 32,
   "metadata": {},
   "outputs": [
    {
     "data": {
      "text/plain": [
       "array([[-6.92220596e-05,  5.64914420e-05,  1.22528948e-05],\n",
       "       [ 5.64914420e-05, -3.24315731e-01,  1.80306374e-01],\n",
       "       [ 1.22528948e-05,  1.80306374e-01, -1.93074439e-01],\n",
       "       [-1.31232914e-01,  2.17089449e-02,  1.08820557e-01],\n",
       "       [ 2.17089449e-02, -2.83595828e-01,  2.38997866e-01],\n",
       "       [ 1.08820557e-01,  2.38997866e-01, -4.69709809e-01]])"
      ]
     },
     "execution_count": 32,
     "metadata": {},
     "output_type": "execute_result"
    }
   ],
   "source": [
    "(all_elasticities * np.repeat(share_vals,prods,axis = 0) / price_vals.T.reshape(-1,1))[:6]"
   ]
  },
  {
   "cell_type": "code",
   "execution_count": 24,
   "metadata": {},
   "outputs": [
    {
     "data": {
      "text/plain": [
       "array([-9.09054621e-05, -8.06862872e-15, -9.69487473e-06, -3.93026849e-10,\n",
       "       -1.16341097e-16, -1.54189481e-06])"
      ]
     },
     "execution_count": 24,
     "metadata": {},
     "output_type": "execute_result"
    }
   ],
   "source": [
    "(indiv_shares[:500,0] ** 2 - indiv_shares[:500,0])[:6]"
   ]
  },
  {
   "cell_type": "code",
   "execution_count": 25,
   "metadata": {},
   "outputs": [
    {
     "data": {
      "text/plain": [
       "array([[1.4591674 ],\n",
       "       [1.4591674 ],\n",
       "       [1.4591674 ],\n",
       "       [5.88418038],\n",
       "       [5.88418038],\n",
       "       [5.88418038]])"
      ]
     },
     "execution_count": 25,
     "metadata": {},
     "output_type": "execute_result"
    }
   ],
   "source": [
    "d_terms[:6]"
   ]
  },
  {
   "cell_type": "code",
   "execution_count": null,
   "metadata": {},
   "outputs": [],
   "source": [
    "indiv_shares[:6]"
   ]
  },
  {
   "cell_type": "code",
   "execution_count": null,
   "metadata": {},
   "outputs": [],
   "source": [
    "indiv_shares[0,0] ** 2"
   ]
  },
  {
   "cell_type": "code",
   "execution_count": null,
   "metadata": {},
   "outputs": [],
   "source": [
    "indiv_shares[0].reshape(-1,1) @ indiv_shares[0].reshape(1,-1) - own_shares_ind[:3]"
   ]
  },
  {
   "cell_type": "code",
   "execution_count": 28,
   "metadata": {},
   "outputs": [
    {
     "data": {
      "text/plain": [
       "-6.92220595730808e-05"
      ]
     },
     "execution_count": 28,
     "metadata": {},
     "output_type": "execute_result"
    }
   ],
   "source": [
    "np.mean(total_mat[range(0, 1500, 3), 0])"
   ]
  },
  {
   "cell_type": "code",
   "execution_count": null,
   "metadata": {},
   "outputs": [],
   "source": [
    "(d_terms * (indiv_shares[:,0] ** 2 - indiv_shares[:,0])).shape"
   ]
  }
 ],
 "metadata": {
  "kernelspec": {
   "display_name": "Python 3",
   "language": "python",
   "name": "python3"
  },
  "language_info": {
   "codemirror_mode": {
    "name": "ipython",
    "version": 3
   },
   "file_extension": ".py",
   "mimetype": "text/x-python",
   "name": "python",
   "nbconvert_exporter": "python",
   "pygments_lexer": "ipython3",
   "version": "3.8.5"
  }
 },
 "nbformat": 4,
 "nbformat_minor": 4
}
