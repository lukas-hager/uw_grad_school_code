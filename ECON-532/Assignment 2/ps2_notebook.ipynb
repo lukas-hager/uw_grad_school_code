{
 "cells": [
  {
   "cell_type": "markdown",
   "metadata": {},
   "source": [
    "# Problem Set 2\n",
    "### Lukas Hager,  ECON 532\n",
    "___"
   ]
  },
  {
   "cell_type": "markdown",
   "metadata": {},
   "source": [
    "## Market Simulation\n",
    "**For each of these two simulations, compare the distribution of prices, profits and consumer surplus. For consumer surplus, simulate draws of consumers from the true distribution and calculate their optimal purchasing decision and welfare**\n",
    "___\n",
    "To get prices, we simply squeeze the variable `P_opt` to be one dimensional and plot a histogram. To get profit and consumer surplus, we must simulate customers; arbitrarily, we take the number of customers to be 1,000. Then, we calculate \n",
    "$$\\pi_{jm} = \\text{Market Share} \\times \\text{Consumers} \\times \\left(p_{jm} - mc_{jm}\\right)$$\n",
    "and\n",
    "$$CS_{im} = \\frac{1}{\\alpha_{i}}\\max_{j}U_{ijm}$$"
   ]
  },
  {
   "cell_type": "code",
   "execution_count": 28,
   "metadata": {},
   "outputs": [],
   "source": [
    "# import libraries\n",
    "import numpy as np\n",
    "import numpy.random as rand\n",
    "import pandas as pd\n",
    "import scipy as sp\n",
    "from scipy.io import loadmat\n",
    "import matplotlib.pyplot as plt\n",
    "\n",
    "plt.rcParams[\"figure.figsize\"] = (20,5)\n",
    "\n",
    "source_path = '/Users/hlukas/git/uw_grad_school_code/ECON-532/Assignment 2/pset2_upload/Simulated Data/{}markets{}products.mat'\n",
    "gamma = np.array([2,1,1]).reshape(3,1)\n",
    "alpha = 1.\n",
    "sigma_alpha = 1.\n",
    "beta = np.array([5.,1.,1.]).reshape((3,1))"
   ]
  },
  {
   "cell_type": "code",
   "execution_count": 29,
   "metadata": {},
   "outputs": [],
   "source": [
    "# function to import the data into python\n",
    "\n",
    "def import_data(mkts,prods):\n",
    "    mat_data = loadmat(source_path.format(mkts,prods))\n",
    "    variable_names = [x for x in mat_data.keys() if x not in ['__header__', '__version__', '__globals__']]\n",
    "    return([mat_data[x] for x in variable_names])"
   ]
  },
  {
   "cell_type": "code",
   "execution_count": 30,
   "metadata": {},
   "outputs": [],
   "source": [
    "# function to plot prices\n",
    "\n",
    "def plot_prices(mkts, prods):\n",
    "    # import data\n",
    "    x1,xi_all,w,eta,Z,alphas,P_opt,shares = import_data(mkts,prods)\n",
    "    \n",
    "    p_flat = P_opt.reshape(prods * mkts)\n",
    "    plt.hist(p_flat, bins=int(np.ceil(p_flat.max())*2), ec='black', range=(0, np.ceil(p_flat.max())))\n",
    "    plt.title('Price Distribution ({} Products, {} Markets)'.format(prods, mkts))\n",
    "    plt.xlabel('Price')\n",
    "    plt.ylabel('Products')\n",
    "    plt.show()"
   ]
  },
  {
   "cell_type": "code",
   "execution_count": 31,
   "metadata": {},
   "outputs": [],
   "source": [
    "def plot_profit(mkts, prods):\n",
    "    # import data\n",
    "    x1,xi_all,w,eta,Z,alphas,P_opt,shares = import_data(mkts,prods)\n",
    "    \n",
    "    # get consumers\n",
    "    n_consumers = alphas.shape[1]\n",
    "    \n",
    "    # get the marginal cost\n",
    "    mc_jm = np.column_stack([np.ones(prods * mkts),w, Z]) @ gamma + eta\n",
    "    markup = P_opt.T - mc_jm.reshape((mkts, prods))\n",
    "\n",
    "    profit = markup * shares.T * n_consumers\n",
    "    \n",
    "    profit_flat = profit.reshape(prods * mkts)\n",
    "    plt.hist(profit_flat, bins='fd', ec = 'black')\n",
    "    plt.title('Profit Distribution ({} Products, {} Markets, {} Consumers)'.format(prods, mkts, n_consumers))\n",
    "    plt.xlabel('Profit')\n",
    "    plt.ylabel('Products')"
   ]
  },
  {
   "cell_type": "markdown",
   "metadata": {},
   "source": [
    "The way that we calculate consumer surplus requires a little more explication. We know that\n",
    "$$U_{ijm} = X_{jm}\\beta - p_{jm}\\alpha_i + \\xi_{jm} + \\epsilon_{ijm}$$\n",
    "We can instead write utility as a $im\\times j$ matrix, so that each row represents a consumer/market combination, and each column is a given product. We can do this by getting the utility that doesn't depend on the consumer, stacking that matrix $i$ times, stacking the price and $\\xi$ matrix $i$ times, and creating an $\\alpha$ matrix by repeating each $\\alpha_i$ $j$ times:"
   ]
  },
  {
   "cell_type": "code",
   "execution_count": 50,
   "metadata": {},
   "outputs": [],
   "source": [
    "def plot_cs(mkts, prods):\n",
    "    # set a seed\n",
    "    rand.seed(seed=2022)\n",
    "    \n",
    "    # import data\n",
    "    x1,xi_all,w,eta,Z,alphas,P_opt,shares = import_data(mkts,prods)\n",
    "    \n",
    "    # get consumers\n",
    "    n_consumers = alphas.shape[1]\n",
    "\n",
    "    # get the alpha_i, reshape to be in the order first market -> last market 500 times\n",
    "    alpha_i = alphas.reshape((n_consumers * mkts,1), order = 'F')\n",
    "\n",
    "    # repeat the alpha_i for each market\n",
    "    alpha_big = np.tile(alpha_i, (1,prods))\n",
    "\n",
    "    # get the market-product level utility\n",
    "    u_jm = (x1 @ beta + xi_all).reshape((mkts,prods))\n",
    "\n",
    "    # create a big system\n",
    "    u_big = np.tile(u_jm, (n_consumers,1))\n",
    "    xi_big = np.tile(xi_all.reshape((mkts,prods)), (n_consumers,1))\n",
    "    p_big = np.tile(P_opt.T, (n_consumers,1))\n",
    "    ep_big = rand.gumbel(size = mkts * prods * n_consumers).reshape((mkts * n_consumers, prods))\n",
    "\n",
    "    # get the CS\n",
    "    u = u_big + xi_big - alpha_big * p_big + ep_big\n",
    "    u_outside = np.concatenate([u, np.zeros(mkts * n_consumers).reshape((mkts * n_consumers, 1))], axis = 1)\n",
    "    cs = u_outside.max(axis = 1) / alpha_i.squeeze()\n",
    "    cs_mean = np.mean(cs.reshape((100,500), order = 'F'), axis = 1)\n",
    "    \n",
    "    # plot\n",
    "    plt.hist(cs_mean.squeeze(), bins='auto', ec='black', range=(np.min([0., np.min(cs_mean)]), np.ceil(np.max(cs_mean))))\n",
    "    plt.title('CS Distribution ({} Products, {} Markets, {} Consumers)'.format(prods, mkts, n_consumers))\n",
    "    plt.xlabel('Surplus')\n",
    "    plt.ylabel('Markets')\n",
    "    plt.show()"
   ]
  },
  {
   "cell_type": "markdown",
   "metadata": {},
   "source": [
    "#### Price Plots\n",
    "___"
   ]
  },
  {
   "cell_type": "code",
   "execution_count": 33,
   "metadata": {},
   "outputs": [
    {
     "data": {
      "image/png": "[encoded data removed]",
      "text/plain": [
       "<Figure size 1440x360 with 1 Axes>"
      ]
     },
     "metadata": {
      "needs_background": "light"
     },
     "output_type": "display_data"
    }
   ],
   "source": [
    "plot_prices(100,3)"
   ]
  },
  {
   "cell_type": "code",
   "execution_count": 34,
   "metadata": {
    "scrolled": true
   },
   "outputs": [
    {
     "data": {
      "image/png": "[encoded data removed]",
      "text/plain": [
       "<Figure size 1440x360 with 1 Axes>"
      ]
     },
     "metadata": {
      "needs_background": "light"
     },
     "output_type": "display_data"
    }
   ],
   "source": [
    "plot_prices(100,5)"
   ]
  },
  {
   "cell_type": "markdown",
   "metadata": {},
   "source": [
    "Prices appear to be higher in the 3 good market compared to the 5 good market; this makes sense, as in a competitive market, more competition should drive down the prices that firms can charge."
   ]
  },
  {
   "cell_type": "markdown",
   "metadata": {},
   "source": [
    "#### Profit Plots\n",
    "___"
   ]
  },
  {
   "cell_type": "code",
   "execution_count": 35,
   "metadata": {},
   "outputs": [
    {
     "data": {
      "image/png": "[encoded data removed]",
      "text/plain": [
       "<Figure size 1440x360 with 1 Axes>"
      ]
     },
     "metadata": {
      "needs_background": "light"
     },
     "output_type": "display_data"
    }
   ],
   "source": [
    "plot_profit(100,3)"
   ]
  },
  {
   "cell_type": "code",
   "execution_count": 36,
   "metadata": {},
   "outputs": [
    {
     "data": {
      "image/png": "[encoded data removed]",
      "text/plain": [
       "<Figure size 1440x360 with 1 Axes>"
      ]
     },
     "metadata": {
      "needs_background": "light"
     },
     "output_type": "display_data"
    }
   ],
   "source": [
    "plot_profit(100,5)"
   ]
  },
  {
   "cell_type": "markdown",
   "metadata": {},
   "source": [
    "The takeaway is similar to the above; when there is more competition, the profits of firms decrease, and the distribution is shifted towards lower amounts of profit."
   ]
  },
  {
   "cell_type": "markdown",
   "metadata": {},
   "source": [
    "#### Consumer Surplus Plots\n",
    "___"
   ]
  },
  {
   "cell_type": "code",
   "execution_count": 51,
   "metadata": {
    "scrolled": true
   },
   "outputs": [
    {
     "data": {
      "image/png": "[encoded data removed]",
      "text/plain": [
       "<Figure size 1440x360 with 1 Axes>"
      ]
     },
     "metadata": {
      "needs_background": "light"
     },
     "output_type": "display_data"
    }
   ],
   "source": [
    "plot_cs(100,3)"
   ]
  },
  {
   "cell_type": "code",
   "execution_count": 52,
   "metadata": {},
   "outputs": [
    {
     "data": {
      "image/png": "[encoded data removed]",
      "text/plain": [
       "<Figure size 1440x360 with 1 Axes>"
      ]
     },
     "metadata": {
      "needs_background": "light"
     },
     "output_type": "display_data"
    }
   ],
   "source": [
    "plot_cs(100,5)"
   ]
  },
  {
   "cell_type": "markdown",
   "metadata": {},
   "source": [
    "Here, we see a large difference. In both simulations, a modal number of customers choose the outside option, but when there are more options, the consumer surplus increases significantly."
   ]
  },
  {
   "cell_type": "markdown",
   "metadata": {},
   "source": [
    "## BLP and Nevo Instruments\n",
    "___"
   ]
  },
  {
   "cell_type": "code",
   "execution_count": 39,
   "metadata": {},
   "outputs": [],
   "source": [
    "# import data\n",
    "x1,xi_all,w,eta,Z,alphas,P_opt,shares = import_data(100,3)\n",
    "\n",
    "# xi/X\n",
    "xi_X = np.mean(x1 * np.tile(xi_all, (1,3)), axis = 0)\n",
    "\n",
    "# xi/p\n",
    "xi_p = np.mean(P_opt.T * xi_all.reshape((100,3)))\n",
    "\n",
    "# xi/p_hat\n",
    "# to get p_hat, we compute average prices across other markets\n",
    "p_hat = np.tile(\n",
    "    np.array([np.mean(np.delete(P_opt.T,x,0)) for x in range(len(P_opt.T))]).reshape((100,1)),\n",
    "    (1,3)\n",
    ")\n",
    "\n",
    "p_hat = np.row_stack([np.mean(np.delete(P_opt.T,x,0), axis = 0) for x in range(len(P_opt.T))])\n",
    "\n",
    "xi_p_hat = np.mean(p_hat * xi_all.reshape((100,3)))"
   ]
  },
  {
   "cell_type": "code",
   "execution_count": 40,
   "metadata": {},
   "outputs": [
    {
     "data": {
      "text/plain": [
       "array([0.04346104, 0.02074192, 0.0355315 ])"
      ]
     },
     "execution_count": 40,
     "metadata": {},
     "output_type": "execute_result"
    }
   ],
   "source": [
    "xi_X"
   ]
  },
  {
   "cell_type": "code",
   "execution_count": 41,
   "metadata": {},
   "outputs": [
    {
     "data": {
      "text/plain": [
       "0.2949581371489729"
      ]
     },
     "execution_count": 41,
     "metadata": {},
     "output_type": "execute_result"
    }
   ],
   "source": [
    "xi_p"
   ]
  },
  {
   "cell_type": "code",
   "execution_count": 42,
   "metadata": {},
   "outputs": [
    {
     "data": {
      "text/plain": [
       "0.14367954767468022"
      ]
     },
     "execution_count": 42,
     "metadata": {},
     "output_type": "execute_result"
    }
   ],
   "source": [
    "xi_p_hat"
   ]
  },
  {
   "cell_type": "markdown",
   "metadata": {},
   "source": [
    "It appears that $\\mathbb{E}[\\xi_{jm}X_{jm}] \\approx 0$ and $\\mathbb{E}[\\xi_{jm}\\overline{p}_{jm}] \\approx 0$, so these conditions are likely roughly valid. Additionally, using $p$ appears to be irrelevant if we use $\\overline{p}$."
   ]
  },
  {
   "cell_type": "markdown",
   "metadata": {},
   "source": [
    "We cannot use BLP and Nevo instruments in this setting, as Nevo uses a dummy variable for brand (firm in our case), which means that the BLP instruments do not have any variance within a given firm. "
   ]
  },
  {
   "cell_type": "code",
   "execution_count": 115,
   "metadata": {},
   "outputs": [],
   "source": [
    "def get_shares(mkts,prods,alpha_i,P_opt,delta):\n",
    "    # repeat the alpha_i for each market\n",
    "    alpha_big = np.tile(alpha_i, (1,prods))\n",
    "    \n",
    "    # repeat the prices\n",
    "    p_big = np.tile(P_opt.T, (n_consumers,1))\n",
    "    \n",
    "    # repeat delta\n",
    "    delta_big = np.tile(delta, (n_consumers,1))\n",
    "    \n",
    "    # get the utility, no shocks\n",
    "    u = delta_big - alpha_big * p_big - p_big\n",
    "    \n",
    "    # calculate individual probabilities\n",
    "    denom = np.tile((1. + np.sum(np.exp(u), axis = 1)).reshape(-1,1), (1,prods))\n",
    "    indiv_probs = np.exp(u) / denom\n",
    "    \n",
    "    # calculate the mean of the probabilities as shares (?)\n",
    "    shares = []\n",
    "    for i in range(mkts):\n",
    "        shares.append(np.mean(indiv_probs[list(range(i, mkts * n_consumers, n_consumers))], axis = 0))\n",
    "    \n",
    "    return(np.row_stack(shares))"
   ]
  },
  {
   "cell_type": "code",
   "execution_count": 119,
   "metadata": {},
   "outputs": [],
   "source": [
    "mkts = 10\n",
    "prods = 3\n",
    "\n",
    "# set a seed\n",
    "rand.seed(seed=2022)\n",
    "\n",
    "# import data\n",
    "x1,xi_all,w,eta,Z,alphas,P_opt,shares = import_data(mkts,prods)\n",
    "\n",
    "# get number of consumers\n",
    "n_consumers = alphas.shape[1]\n",
    "\n",
    "# simulate consumers\n",
    "alpha_i = rand.lognormal(size = n_consumers * mkts).reshape((-1,1))\n",
    "\n",
    "# repeat the alpha_i for each market\n",
    "alpha_big = np.tile(alpha_i, (1,prods))\n",
    "\n",
    "# stack the prices\n",
    "p_big = np.tile(P_opt.T, (n_consumers,1))\n",
    "\n",
    "# set initial delta guess\n",
    "delta_new = np.zeros(mkts * prods).reshape((mkts,prods))\n",
    "delta_old = np.zeros(mkts * prods).reshape((mkts,prods))\n",
    "\n",
    "while True:\n",
    "    s_calc = get_shares(mkts,prods,alpha_i,P_opt,delta_old)\n",
    "    delta_new = delta_old + np.log(shares.T) - np.log(s_calc)\n",
    "    crit = np.max(np.abs(delta_new - delta_old))\n",
    "    if crit > 1e-3:\n",
    "        delta_old = delta_new\n",
    "    else:\n",
    "        break"
   ]
  },
  {
   "cell_type": "code",
   "execution_count": 121,
   "metadata": {},
   "outputs": [
    {
     "data": {
      "text/plain": [
       "(3, 10)"
      ]
     },
     "execution_count": 121,
     "metadata": {},
     "output_type": "execute_result"
    }
   ],
   "source": [
    "P_opt.shape"
   ]
  },
  {
   "cell_type": "code",
   "execution_count": 103,
   "metadata": {},
   "outputs": [],
   "source": [
    "\n",
    "    "
   ]
  },
  {
   "cell_type": "code",
   "execution_count": 82,
   "metadata": {},
   "outputs": [
    {
     "data": {
      "text/plain": [
       "array([0.21310387, 0.54306706, 0.16730067])"
      ]
     },
     "execution_count": 82,
     "metadata": {},
     "output_type": "execute_result"
    }
   ],
   "source": [
    "np.mean(get_shares(100,3)[[0,2,4]], axis = 0)"
   ]
  },
  {
   "cell_type": "code",
   "execution_count": 86,
   "metadata": {},
   "outputs": [
    {
     "data": {
      "text/plain": [
       "array([0.21310387, 0.54306706, 0.16730067])"
      ]
     },
     "execution_count": 86,
     "metadata": {},
     "output_type": "execute_result"
    }
   ],
   "source": [
    "np.mean(get_shares(100,3)[list(range(0,5,2))], axis = 0)"
   ]
  },
  {
   "cell_type": "code",
   "execution_count": 95,
   "metadata": {},
   "outputs": [],
   "source": [
    "# import data\n",
    "x1,xi_all,w,eta,Z,alphas,P_opt,shares = import_data(100,3)"
   ]
  },
  {
   "cell_type": "code",
   "execution_count": 100,
   "metadata": {},
   "outputs": [
    {
     "data": {
      "text/plain": [
       "array([[3.85074496e-05, 1.27139064e-01, 8.94453406e-02],\n",
       "       [8.34929342e-02, 4.33664614e-02, 5.28342953e-03],\n",
       "       [2.55426860e-01, 9.61206424e-02, 2.15195189e-01],\n",
       "       [3.96948480e-03, 1.46616926e-01, 9.90585176e-03],\n",
       "       [2.25508542e-02, 4.35568771e-02, 5.81034630e-02],\n",
       "       [1.22251924e-02, 1.34514628e-01, 4.60486696e-02]])"
      ]
     },
     "execution_count": 100,
     "metadata": {},
     "output_type": "execute_result"
    }
   ],
   "source": [
    "np.abs(shares.T[:6] - get_shares(100,3)[:6])"
   ]
  },
  {
   "cell_type": "code",
   "execution_count": 105,
   "metadata": {},
   "outputs": [
    {
     "data": {
      "text/plain": [
       "array([[ 0.27585635, -3.26570655, -2.13731999],\n",
       "       [-2.12257329, -0.50075525, -2.09752722],\n",
       "       [-3.45148125, -2.7267019 , -1.01630801],\n",
       "       [-1.05792994, -2.95599139, -2.00536247],\n",
       "       [-1.56327545, -2.64351859, -2.42432274],\n",
       "       [-4.62116362, -4.46473676, -4.12214507],\n",
       "       [-3.87337497, -3.73479828, -3.68860671],\n",
       "       [-1.1863138 , -2.12161678, -2.81917095],\n",
       "       [-0.33966118, -1.80463717, -3.72573481],\n",
       "       [-1.44587416, -4.15348525,  0.27209328],\n",
       "       [-2.11279923, -2.0636467 , -2.06411637],\n",
       "       [-1.4844478 , -3.74990751, -3.46178981],\n",
       "       [-0.67412795, -3.34452784, -2.63714775],\n",
       "       [-6.40475878, -2.49935365, -3.24184756],\n",
       "       [-1.7014982 , -2.0210996 , -4.57288277],\n",
       "       [-3.27955767, -1.67897636, -3.49194714],\n",
       "       [-2.4458837 , -4.39098411, -1.48406551],\n",
       "       [-2.66496059, -2.85619692, -1.97362213],\n",
       "       [-2.98847259, -1.85978837, -2.03060905],\n",
       "       [-4.05299457, -4.55550583, -1.89715261],\n",
       "       [-1.56017745, -3.00637214, -2.25357371],\n",
       "       [-1.65991871, -3.01715575, -3.66179293],\n",
       "       [ 2.25875274, -0.97748245, -0.41223432],\n",
       "       [-4.58978497, -1.01628114, -4.16327104],\n",
       "       [-2.36141128, -2.97490749, -2.39738139],\n",
       "       [-2.37297397,  1.27237869, -3.76894549],\n",
       "       [-0.46921593, -2.69256365, -1.78171341],\n",
       "       [-1.50123097, -3.32407326, -2.23992244],\n",
       "       [-3.19059672, -2.83140652, -3.30602621],\n",
       "       [-4.20623712, -3.2816829 , -1.54863041],\n",
       "       [-0.43540442, -3.07902251, -1.64960897],\n",
       "       [ 0.76276634, -2.66260062, -3.89587634],\n",
       "       [-3.61563595, -0.35572908, -3.9126817 ],\n",
       "       [-1.37501046, -1.53293555, -1.71813894],\n",
       "       [-2.14624139, -1.85355376, -2.18129888],\n",
       "       [-3.33011925, -1.40154952, -3.93910696],\n",
       "       [-2.45649874, -2.40967689, -5.78111492],\n",
       "       [-2.96786937, -3.22098689, -2.16914101],\n",
       "       [-4.74256834, -2.16912765, -2.22329542],\n",
       "       [-4.53071473, -4.80688191, -1.94064681],\n",
       "       [-2.0608453 ,  1.53029724, -1.64204765],\n",
       "       [-2.28021301, -1.71302261, -4.34019688],\n",
       "       [-3.38332626, -1.64575475, -3.03588226],\n",
       "       [-2.47092526, -0.84489446, -2.60945284],\n",
       "       [-4.08961337, -2.144069  , -2.30815619],\n",
       "       [-2.4881481 , -4.87941539, -3.20095121],\n",
       "       [-4.8512418 , -1.94573355, -3.9466345 ],\n",
       "       [-4.11323353, -3.8237336 , -2.11376069],\n",
       "       [-2.29487194,  0.08977887, -0.42486922],\n",
       "       [-1.03435206, -1.7685102 , -2.96548085],\n",
       "       [-2.18268363, -3.68276553, -1.70096991],\n",
       "       [-1.89894981, -1.50877597, -2.66188168],\n",
       "       [-2.13867493, -2.27503815, -4.01549715],\n",
       "       [-4.03541734, -1.52057388, -4.04849975],\n",
       "       [-2.7961279 , -2.37046378,  2.07541682],\n",
       "       [-3.98615054, -1.01013982, -1.92083473],\n",
       "       [-2.4465408 , -2.3271516 , -1.88551354],\n",
       "       [-1.16786092, -2.83189088, -4.41933093],\n",
       "       [-4.30814996, -3.54538512, -3.01034649],\n",
       "       [-2.2840204 , -1.15075272, -1.77057045],\n",
       "       [-3.68153222, -3.22713624, -0.04333455],\n",
       "       [-1.8531596 , -2.49256657, -3.43952043],\n",
       "       [-2.67083146, -4.98242856, -3.0415457 ],\n",
       "       [-2.57251282, -3.81646174, -0.03323315],\n",
       "       [-3.07032949, -3.02298968, -1.02229409],\n",
       "       [-2.47789667, -4.72333258, -2.82715401],\n",
       "       [-0.84083174, -1.37883067, -2.81433124],\n",
       "       [-3.22145604, -3.50057063, -2.62201099],\n",
       "       [-5.86296287, -3.91765221, -1.68544255],\n",
       "       [-1.94924501, -6.15791282, -2.62633999],\n",
       "       [-3.12217237, -4.04363571, -1.85808949],\n",
       "       [-1.99108137, -3.16688661, -0.72326149],\n",
       "       [-3.3432783 , -3.16606168, -3.33547442],\n",
       "       [-4.06291113, -1.83232866, -2.2479839 ],\n",
       "       [-3.95381234, -3.43397478, -4.5686227 ],\n",
       "       [-2.60343478, -1.96256752,  0.02134913],\n",
       "       [-3.0535867 , -2.97475964, -4.45962035],\n",
       "       [-4.987005  , -2.09109664, -1.95159274],\n",
       "       [-2.79287851, -1.72979579, -3.94104822],\n",
       "       [-0.93652648, -2.76323538, -4.07007595],\n",
       "       [-4.14651326, -5.00468411, -2.81410895],\n",
       "       [-2.03532269, -4.17149944, -1.94396303],\n",
       "       [ 2.7933856 , -2.49084613, -0.05707074],\n",
       "       [-6.41268944, -1.19637161, -1.13595113],\n",
       "       [-2.55776485, -1.70634588, -2.0492232 ],\n",
       "       [-3.31017107, -2.1731136 , -0.9022876 ],\n",
       "       [-3.4492646 , -4.48964182, -3.57171148],\n",
       "       [-1.64955581, -2.61028258, -2.68583994],\n",
       "       [-4.75669507, -1.0480869 , -1.56310583],\n",
       "       [-3.6228466 , -2.42396117, -1.82424902],\n",
       "       [-1.84204759, -1.60494981, -1.98776762],\n",
       "       [-2.70508111, -3.46038516, -2.2523058 ],\n",
       "       [-4.73545854, -1.92587365, -4.1739939 ],\n",
       "       [-2.88180016, -2.90134783, -2.09202429],\n",
       "       [-3.63255394, -2.73852442, -2.78463254],\n",
       "       [-1.12527011, -1.81147824, -4.17599142],\n",
       "       [-2.51394172, -1.92927979, -1.49513914],\n",
       "       [-1.73653655, -4.55479067, -4.16038821],\n",
       "       [-2.66338567, -3.62531456, -1.90806511],\n",
       "       [-1.04628347, -2.68314314, -2.56448487]])"
      ]
     },
     "execution_count": 105,
     "metadata": {},
     "output_type": "execute_result"
    }
   ],
   "source": [
    "np.log(get_shares(100,3,np.zeros(150000).reshape((50000,3)))) - np.log(shares.T)"
   ]
  }
 ],
 "metadata": {
  "kernelspec": {
   "display_name": "Python 3",
   "language": "python",
   "name": "python3"
  },
  "language_info": {
   "codemirror_mode": {
    "name": "ipython",
    "version": 3
   },
   "file_extension": ".py",
   "mimetype": "text/x-python",
   "name": "python",
   "nbconvert_exporter": "python",
   "pygments_lexer": "ipython3",
   "version": "3.8.5"
  }
 },
 "nbformat": 4,
 "nbformat_minor": 4
}
