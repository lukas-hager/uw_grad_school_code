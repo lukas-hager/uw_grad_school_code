{
 "cells": [
  {
   "cell_type": "markdown",
   "metadata": {},
   "source": [
    "# Problem Set 2\n",
    "### Lukas Hager,  ECON 532\n",
    "___"
   ]
  },
  {
   "cell_type": "markdown",
   "metadata": {},
   "source": [
    "## Market Simulation\n",
    "**For each of these two simulations, compare the distribution of prices, profits and consumer surplus. For consumer surplus, simulate draws of consumers from the true distribution and calculate their optimal purchasing decision and welfare**\n",
    "___\n",
    "To get prices, we simply squeeze the variable `P_opt` to be one dimensional and plot a histogram. To get profit and consumer surplus, we must simulate customers; given the simulation variable `alphas`, we take this number to be 500. Then, we calculate \n",
    "$$\\pi_{jm} = \\text{Market Share} \\times \\text{Consumers} \\times \\left(p_{jm} - mc_{jm}\\right)$$\n",
    "and\n",
    "$$CS_{im} = \\frac{1}{\\alpha_{i}}\\max_{j}U_{ijm}$$"
   ]
  },
  {
   "cell_type": "code",
   "execution_count": 1,
   "metadata": {},
   "outputs": [],
   "source": [
    "# import libraries\n",
    "import numpy as np\n",
    "import numpy.random as rand\n",
    "import pandas as pd\n",
    "import scipy as sp\n",
    "from scipy import optimize as op\n",
    "from scipy.io import loadmat\n",
    "from sklearn import linear_model as lm\n",
    "import matplotlib.pyplot as plt\n",
    "\n",
    "plt.rcParams[\"figure.figsize\"] = (20,5)\n",
    "\n",
    "source_path = '/Users/hlukas/git/uw_grad_school_code/ECON-532/Assignment 2/pset2_upload/Simulated Data/{}markets{}products.mat'\n",
    "gamma = np.array([2,1,1]).reshape(3,1)\n",
    "alpha = 1.\n",
    "sigma_alpha = 1.\n",
    "beta = np.array([5.,1.,1.]).reshape((3,1))"
   ]
  },
  {
   "cell_type": "code",
   "execution_count": 2,
   "metadata": {},
   "outputs": [],
   "source": [
    "# function to import the data into python\n",
    "\n",
    "def import_data(mkts,prods):\n",
    "    mat_data = loadmat(source_path.format(mkts,prods))\n",
    "    variable_names = [x for x in mat_data.keys() if x not in ['__header__', '__version__', '__globals__']]\n",
    "    return([mat_data[x] for x in variable_names])"
   ]
  },
  {
   "cell_type": "code",
   "execution_count": 3,
   "metadata": {},
   "outputs": [],
   "source": [
    "# function to plot prices\n",
    "\n",
    "def plot_prices(mkts, prods):\n",
    "    # import data\n",
    "    x1,xi_all,w,eta,Z,alphas,P_opt,shares = import_data(mkts,prods)\n",
    "    \n",
    "    p_flat = P_opt.reshape(prods * mkts)\n",
    "    plt.hist(p_flat, bins=int(np.ceil(p_flat.max() - np.min([0., np.min(p_flat)]))*2), ec='black', range=(np.floor(np.min([0., np.min(p_flat)])), np.ceil(p_flat.max())))\n",
    "    plt.title('Price Distribution ({} Products, {} Markets)'.format(prods, mkts))\n",
    "    plt.xlabel('Price')\n",
    "    plt.ylabel('Products')\n",
    "    plt.show()"
   ]
  },
  {
   "cell_type": "code",
   "execution_count": 4,
   "metadata": {},
   "outputs": [],
   "source": [
    "# function to plot profits\n",
    "\n",
    "def plot_profit(mkts, prods):\n",
    "    # import data\n",
    "    x1,xi_all,w,eta,Z,alphas,P_opt,shares = import_data(mkts,prods)\n",
    "    \n",
    "    # get consumers\n",
    "    n_consumers = alphas.shape[1]\n",
    "    \n",
    "    # get the marginal cost\n",
    "    mc_jm = np.column_stack([np.ones(prods * mkts),w, Z]) @ gamma + eta\n",
    "    markup = P_opt.T - mc_jm.reshape((mkts, prods))\n",
    "\n",
    "    profit = markup * shares.T * n_consumers\n",
    "    \n",
    "    profit_flat = profit.reshape(prods * mkts)\n",
    "    plt.hist(profit_flat, bins='fd', ec = 'black')\n",
    "    plt.title('Profit Distribution ({} Products, {} Markets, {} Consumers)'.format(prods, mkts, n_consumers))\n",
    "    plt.xlabel('Profit')\n",
    "    plt.ylabel('Products')"
   ]
  },
  {
   "cell_type": "markdown",
   "metadata": {},
   "source": [
    "The way that we calculate consumer surplus requires a little more explication. We know that\n",
    "$$U_{ijm} = X_{jm}\\beta - p_{jm}\\alpha_i + \\xi_{jm} + \\epsilon_{ijm}$$\n",
    "We can instead write utility as a $im\\times j$ matrix, so that each row represents a consumer/market combination, and each column is a given product. We can do this by getting the utility that doesn't depend on the consumer, stacking that matrix $i$ times, stacking the price and $\\xi$ matrix $i$ times, and creating an $\\alpha$ matrix by repeating each $\\alpha_i$ $j$ times:"
   ]
  },
  {
   "cell_type": "code",
   "execution_count": 5,
   "metadata": {},
   "outputs": [],
   "source": [
    "def plot_cs(mkts, prods):\n",
    "    # set a seed\n",
    "    rand.seed(seed=2022)\n",
    "    \n",
    "    # import data\n",
    "    x1,xi_all,w,eta,Z,alphas,P_opt,shares = import_data(mkts,prods)\n",
    "    \n",
    "    # get consumers\n",
    "    n_consumers = alphas.shape[1]\n",
    "\n",
    "    # get the alpha_i, reshape to be in the order first market -> last market 500 times\n",
    "    alpha_i = alphas.reshape((n_consumers * mkts,1), order = 'F')\n",
    "\n",
    "    # repeat the alpha_i for each market\n",
    "    alpha_big = np.tile(alpha_i, (1,prods))\n",
    "\n",
    "    # get the market-product level utility\n",
    "    u_jm = (x1 @ beta + xi_all).reshape((mkts,prods))\n",
    "\n",
    "    # create a big system\n",
    "    u_big = np.tile(u_jm, (n_consumers,1))\n",
    "    #xi_big = np.tile(xi_all.reshape((mkts,prods)), (n_consumers,1))\n",
    "    p_big = np.tile(P_opt.T, (n_consumers,1))\n",
    "    ep_big = rand.gumbel(size = mkts * prods * n_consumers).reshape((mkts * n_consumers, prods))\n",
    "\n",
    "    # get the CS\n",
    "    u = u_big - alpha_big * p_big + ep_big\n",
    "    u_outside = np.concatenate([u, np.zeros(mkts * n_consumers).reshape((mkts * n_consumers, 1))], axis = 1)\n",
    "    cs = u_outside.max(axis = 1) / alpha_i.squeeze()\n",
    "    cs_mean = np.mean(cs.reshape((100,500), order = 'F'), axis = 1)\n",
    "    \n",
    "    # plot\n",
    "    plt.hist(cs_mean.squeeze(), bins=int(np.ceil(cs_mean.max() - np.min([0., np.min(cs_mean)]))*2), ec='black', range=(np.min([0., np.min(cs_mean)]), np.ceil(np.max(cs_mean))))\n",
    "    plt.title('CS Distribution ({} Products, {} Markets, {} Consumers)'.format(prods, mkts, n_consumers))\n",
    "    plt.xlabel('Surplus')\n",
    "    plt.ylabel('Markets')\n",
    "    plt.show()"
   ]
  },
  {
   "cell_type": "markdown",
   "metadata": {},
   "source": [
    "#### Price Plots\n",
    "___"
   ]
  },
  {
   "cell_type": "code",
   "execution_count": 6,
   "metadata": {},
   "outputs": [
    {
     "data": {
      "image/png": "[encoded data removed]",
      "text/plain": [
       "<Figure size 1440x360 with 1 Axes>"
      ]
     },
     "metadata": {
      "needs_background": "light"
     },
     "output_type": "display_data"
    }
   ],
   "source": [
    "plot_prices(100,3)"
   ]
  },
  {
   "cell_type": "code",
   "execution_count": 7,
   "metadata": {
    "scrolled": true
   },
   "outputs": [
    {
     "data": {
      "image/png": "[encoded data removed]",
      "text/plain": [
       "<Figure size 1440x360 with 1 Axes>"
      ]
     },
     "metadata": {
      "needs_background": "light"
     },
     "output_type": "display_data"
    }
   ],
   "source": [
    "plot_prices(100,5)"
   ]
  },
  {
   "cell_type": "markdown",
   "metadata": {},
   "source": [
    "Prices appear to be higher in the 3 good market compared to the 5 good market; this makes sense, as in a competitive market, more competition should drive down the prices that firms can charge."
   ]
  },
  {
   "cell_type": "markdown",
   "metadata": {},
   "source": [
    "#### Profit Plots\n",
    "___"
   ]
  },
  {
   "cell_type": "code",
   "execution_count": 8,
   "metadata": {},
   "outputs": [
    {
     "data": {
      "image/png": "[encoded data removed]",
      "text/plain": [
       "<Figure size 1440x360 with 1 Axes>"
      ]
     },
     "metadata": {
      "needs_background": "light"
     },
     "output_type": "display_data"
    }
   ],
   "source": [
    "plot_profit(100,3)"
   ]
  },
  {
   "cell_type": "code",
   "execution_count": 9,
   "metadata": {},
   "outputs": [
    {
     "data": {
      "image/png": "[encoded data removed]",
      "text/plain": [
       "<Figure size 1440x360 with 1 Axes>"
      ]
     },
     "metadata": {
      "needs_background": "light"
     },
     "output_type": "display_data"
    }
   ],
   "source": [
    "plot_profit(100,5)"
   ]
  },
  {
   "cell_type": "markdown",
   "metadata": {},
   "source": [
    "The takeaway is similar to the above; when there is more competition, the profits of firms decrease, and the distribution is shifted towards lower amounts of profit."
   ]
  },
  {
   "cell_type": "markdown",
   "metadata": {},
   "source": [
    "#### Consumer Surplus Plots\n",
    "___"
   ]
  },
  {
   "cell_type": "code",
   "execution_count": 10,
   "metadata": {
    "scrolled": true
   },
   "outputs": [
    {
     "data": {
      "image/png": "[encoded data removed]",
      "text/plain": [
       "<Figure size 1440x360 with 1 Axes>"
      ]
     },
     "metadata": {
      "needs_background": "light"
     },
     "output_type": "display_data"
    }
   ],
   "source": [
    "plot_cs(100,3)"
   ]
  },
  {
   "cell_type": "code",
   "execution_count": 11,
   "metadata": {},
   "outputs": [
    {
     "data": {
      "image/png": "[encoded data removed]",
      "text/plain": [
       "<Figure size 1440x360 with 1 Axes>"
      ]
     },
     "metadata": {
      "needs_background": "light"
     },
     "output_type": "display_data"
    }
   ],
   "source": [
    "plot_cs(100,5)"
   ]
  },
  {
   "cell_type": "markdown",
   "metadata": {},
   "source": [
    "Here, we see a large difference. In both simulations, a modal number of customers choose the outside option, but when there are more options, the consumer surplus increases significantly."
   ]
  },
  {
   "cell_type": "markdown",
   "metadata": {},
   "source": [
    "## BLP and Nevo Instruments\n",
    "___"
   ]
  },
  {
   "cell_type": "code",
   "execution_count": 12,
   "metadata": {},
   "outputs": [],
   "source": [
    "# import data\n",
    "x1,xi_all,w,eta,Z,alphas,P_opt,shares = import_data(100,3)\n",
    "\n",
    "# xi/X\n",
    "xi_X = np.mean(x1 * np.tile(xi_all, (1,3)), axis = 0)\n",
    "\n",
    "# xi/p\n",
    "xi_p = np.mean(P_opt.T * xi_all.reshape((100,3)))\n",
    "\n",
    "# xi/p_hat\n",
    "# to get p_hat, we compute average prices across other markets\n",
    "p_hat = np.tile(\n",
    "    np.array([np.mean(np.delete(P_opt.T,x,0)) for x in range(len(P_opt.T))]).reshape((100,1)),\n",
    "    (1,3)\n",
    ")\n",
    "\n",
    "p_hat = np.row_stack([np.mean(np.delete(P_opt.T,x,0), axis = 0) for x in range(len(P_opt.T))])\n",
    "\n",
    "xi_p_hat = np.mean(p_hat * xi_all.reshape((100,3)))"
   ]
  },
  {
   "cell_type": "code",
   "execution_count": 13,
   "metadata": {},
   "outputs": [
    {
     "data": {
      "text/plain": [
       "array([0.04346104, 0.02074192, 0.0355315 ])"
      ]
     },
     "execution_count": 13,
     "metadata": {},
     "output_type": "execute_result"
    }
   ],
   "source": [
    "xi_X"
   ]
  },
  {
   "cell_type": "code",
   "execution_count": 14,
   "metadata": {},
   "outputs": [
    {
     "data": {
      "text/plain": [
       "0.2949581371489729"
      ]
     },
     "execution_count": 14,
     "metadata": {},
     "output_type": "execute_result"
    }
   ],
   "source": [
    "xi_p"
   ]
  },
  {
   "cell_type": "code",
   "execution_count": 15,
   "metadata": {},
   "outputs": [
    {
     "data": {
      "text/plain": [
       "0.14367954767468022"
      ]
     },
     "execution_count": 15,
     "metadata": {},
     "output_type": "execute_result"
    }
   ],
   "source": [
    "xi_p_hat"
   ]
  },
  {
   "cell_type": "markdown",
   "metadata": {},
   "source": [
    "It appears that $\\mathbb{E}[\\xi_{jm}X_{jm}] \\approx 0$ and $\\mathbb{E}[\\xi_{jm}\\overline{p}_{jm}] \\approx 0$, so these conditions are likely roughly valid. Additionally, using $p$ appears to be irrelevant if we use $\\overline{p}$."
   ]
  },
  {
   "cell_type": "markdown",
   "metadata": {},
   "source": [
    "We cannot use BLP and Nevo instruments in this setting, as Nevo uses a dummy variable for brand (firm in our case), which means that the BLP instruments do not have any variance within a given firm. "
   ]
  },
  {
   "cell_type": "markdown",
   "metadata": {},
   "source": [
    "Our estimation algorithm will work as follows:\n",
    "1. Fix $\\hat{\\sigma}_{\\alpha}$\n",
    "2. Using this parameters and the simulated consumers, get\n",
    "   $$\\hat{s}_n = \\int \\frac{e^{\\delta_j + \\mu_{ij}}}{1 + \\sum_se^{\\delta_s + \\mu_{is}}}f(\\nu)d\\nu$$\n",
    "   where $f(\\cdot)$ is the lognormal PDF. Further, in our case, we have\n",
    "   $$\\delta_{jm} = X_{jm}\\hat{\\beta} - \\hat{\\alpha}p_{jm} + \\xi_{jm}$$\n",
    "   and \n",
    "   $$\\mu_{ij} = -\\hat{\\sigma}_{\\alpha}\\nu_ip_{jm}$$\n",
    "   We solve the fixed point problem via iteration to get the values of $\\delta_{jm}$ which result in $\\hat{s}_n = s_n$.\n",
    "3. Noting that\n",
    "   $$\\delta_{jm} = X_{jm}\\beta - \\alpha p_{jm} + \\xi_{jm}$$\n",
    "   run a regression on the estimated $\\delta_{jm}$ to estimate $\\hat{\\xi}_{jm},\\hat{\\alpha}_{jm},\\hat{\\beta}_{jm}$.\n",
    "4. Calculate the GMM objective function using instruments and $\\hat{\\xi}_{jm}$. When the objective function is minimized, return $\\hat{\\alpha}, \\hat{\\beta}, \\hat{\\sigma}_{\\alpha}$.\n",
    "\n",
    "The GMM objective function will be calculated using BLP-style demand moments. In particular, we will have instruments given by\n",
    "$$Z_j = \\left[X_j,\\sum_{r\\neq j, r\\in \\mathcal{F}_j}X_r,\\sum_{r\\notin \\mathcal{F}_j}X_r\\right]$$\n",
    "Informally, instruments are the product's own characteristics, the sum of other products' characteristics within a product's market, and the sum of all products characteristics in other markets. This implies that (dropping the intercept), in our problem we will have six instruments, and $Z$ is a $6\\times 1$ vector. Then, the GMM criterion function is given by\n",
    "$$\\hat{\\theta} = \\text{arg min}_{\\theta}\\hat{\\xi}^{\\top}ZWZ'\\hat{\\xi}$$\n",
    "where $W$ is given by\n",
    "$$W = \\left(\\frac{1}{jm}\\sum_{\\ell=1}^{jm}Z_{\\ell}^{\\top}\\hat{\\xi}_{\\ell}\\hat{\\xi}_{\\ell}^{\\top}Z_{\\ell}\\right)^{-1}$$"
   ]
  },
  {
   "cell_type": "code",
   "execution_count": 16,
   "metadata": {},
   "outputs": [],
   "source": [
    "def get_shares(mkts,prods,P_opt,sigma,nu_i,delta):\n",
    "    # calculate the alpha coefficients\n",
    "    alpha_i = sigma * nu_i\n",
    "    \n",
    "    # repeat the alpha_i for each market\n",
    "    alpha_big = np.tile(alpha_i, (1,prods))\n",
    "    \n",
    "    # repeat the prices\n",
    "    p_big = np.tile(P_opt.T, (n_consumers,1))\n",
    "    \n",
    "    # repeat delta\n",
    "    delta_big = np.tile(delta, (n_consumers,1))\n",
    "    \n",
    "    # get the utility, no shocks\n",
    "    u = delta_big - alpha_big * p_big\n",
    "    \n",
    "    # calculate individual probabilities\n",
    "    denom = (1. + np.sum(np.exp(u), axis = 1)).reshape(-1,1)\n",
    "    indiv_probs = np.exp(u) / denom\n",
    "    \n",
    "    # calculate the mean of the probabilities as shares (?)\n",
    "    shares = []\n",
    "    for i in range(mkts):\n",
    "        shares.append(np.mean(indiv_probs[list(range(i, mkts * n_consumers, n_consumers))], axis = 0))\n",
    "    \n",
    "    return(np.row_stack(shares))"
   ]
  },
  {
   "cell_type": "code",
   "execution_count": 17,
   "metadata": {},
   "outputs": [],
   "source": [
    "def get_shares(mkts,prods,n_consumers,price_val,delta,sigma,nu_vals):\n",
    "    u_big = np.repeat(delta, n_consumers, axis = 0)\n",
    "    p_big = np.repeat(price_val, n_consumers, axis = 0)\n",
    "    u_indiv = u_big - sigma * p_big * nu_vals\n",
    "    u_exp = np.exp(u_indiv)\n",
    "    denom = (1. + np.sum(u_exp, axis = 1)).reshape(-1,1)\n",
    "    s_indiv = u_exp / denom\n",
    "    shares_list = [np.mean(s_indiv[(i*n_consumers):((i+1)*n_consumers)], axis = 0) for i in range(mkts)]\n",
    "    return(np.row_stack(shares_list))"
   ]
  },
  {
   "cell_type": "code",
   "execution_count": 18,
   "metadata": {},
   "outputs": [],
   "source": [
    "def calculate_theta1(delta,X,p,Z):\n",
    "    # stack data\n",
    "    big_X = np.column_stack([X, p.T.reshape(-1,1)])\n",
    "    \n",
    "    # projection matrix\n",
    "    P_Z = Z @ np.linalg.inv(Z.T @ Z) @ Z.T\n",
    "    \n",
    "    return(np.linalg.inv(big_X.T @ P_Z @ big_X) @ big_X.T @ P_Z @ delta.reshape(-1,1))\n",
    "    #return(np.linalg.inv(big_X.T @ big_X) @ big_X.T @ delta.reshape(-1,1))"
   ]
  },
  {
   "cell_type": "code",
   "execution_count": 19,
   "metadata": {},
   "outputs": [],
   "source": [
    "def get_xi_hat(delta,X,p,Z):\n",
    "    t1_hat = calculate_theta1(delta,X,p,Z)\n",
    "    return(delta.reshape(-1,1) - np.column_stack([X, p.T.reshape(-1,1)]) @ t1_hat)"
   ]
  },
  {
   "cell_type": "code",
   "execution_count": 20,
   "metadata": {},
   "outputs": [],
   "source": [
    "def get_demand_instruments(X,prods,mkts):\n",
    "    z1 = X # own characteristics\n",
    "    \n",
    "    z2_list = [np.sum(z1[:,1:][(i*prods):((i+1)*prods)], axis = 0) for i in range(int(X.shape[0]/prods))]\n",
    "    z2 = np.repeat(np.row_stack(z2_list), prods, axis = 0) - z1[:,1:] # sum characteristics for the firm's products, subtract z1\n",
    "    \n",
    "    #z2 = np.repeat(np.sum(z1[:,1:],axis = 0).reshape(1,-1), mkts*prods, axis = 0) - z1[:,1:]\n",
    "    \n",
    "    return(np.column_stack([z1,z2]))"
   ]
  },
  {
   "cell_type": "code",
   "execution_count": 21,
   "metadata": {},
   "outputs": [],
   "source": [
    "def get_delta(sigma,nu_i):\n",
    "    # set initial delta guess\n",
    "    delta_new = np.ones(mkts * prods).reshape((mkts,prods))\n",
    "    delta_old = np.ones(mkts * prods).reshape((mkts,prods))\n",
    "\n",
    "    # iterate (as it's a contraction mapping)\n",
    "    while True:\n",
    "        s_calc = get_shares(mkts,prods,n_consumers,P_opt.T,delta_old,sigma,nu_i)\n",
    "        delta_new = delta_old + np.log(shares.T) - np.log(s_calc)\n",
    "        crit = np.max(np.abs(delta_new - delta_old))\n",
    "        if crit > 1e-3:\n",
    "            delta_old = delta_new\n",
    "        else:\n",
    "            break\n",
    "            \n",
    "    return(delta_new)"
   ]
  },
  {
   "cell_type": "code",
   "execution_count": 22,
   "metadata": {},
   "outputs": [],
   "source": [
    "def gmm_obj(sigma, Z, nu_i_val):\n",
    "    \n",
    "    delta_new = get_delta(sigma,nu_i_val)\n",
    "    \n",
    "    theta1 = calculate_theta1(delta_new,x1,P_opt,Z)\n",
    "    print(theta1)\n",
    "\n",
    "    xi_hat = get_xi_hat(delta_new,x1,P_opt,Z)\n",
    "    W = np.linalg.inv(Z.T @ Z)\n",
    "    return((xi_hat.T @ Z @ W @ Z.T @ xi_hat).item())"
   ]
  },
  {
   "cell_type": "code",
   "execution_count": 23,
   "metadata": {},
   "outputs": [],
   "source": [
    "def gmm_min(start_val, Z_val, nu_i_val):\n",
    "    return(\n",
    "        op.minimize(\n",
    "            gmm_obj, \n",
    "            x0 = start_val, \n",
    "            args = (Z_val, nu_i_val), \n",
    "            #method='Nelder-Mead',\n",
    "            options = {'disp': True}\n",
    "        )\n",
    "    )"
   ]
  },
  {
   "cell_type": "code",
   "execution_count": 24,
   "metadata": {},
   "outputs": [],
   "source": [
    "def v_cov(sigma, Z, X, P):\n",
    "    G = Z.T @ X / len(X)\n",
    "    G_term = np.linalg.inv(G.T @ G) @ G.T\n",
    "    \n",
    "    xi_hat = get_xi_hat(get_delta(sigma, nu_i_fixed), X, P, Z)\n",
    "    \n",
    "    J = P.size\n",
    "    n = n_consumers * mkts\n",
    "    \n",
    "    Z_e = Z * xi_hat\n",
    "    V1 = Z_e.T @ Z_e / len(xi_hat)\n",
    "    \n",
    "    ns_sims = []\n",
    "    s = 10\n",
    "    for i in range(s):\n",
    "        nu_i = rand.lognormal(size = n_consumers * mkts).reshape(-1,1)\n",
    "        xi_hat = get_xi_hat(get_delta(sigma, nu_i), x1, P_opt, Z)\n",
    "        Z_xi = Z * xi_hat\n",
    "        ns_sims.append(Z_xi.T @ Z_xi)\n",
    "        \n",
    "    V3 = J / (n * s) * np.mean(ns_sims, axis = 0)\n",
    "    \n",
    "    return(G_term @ (V1 + V3) @ G_term.T)"
   ]
  },
  {
   "cell_type": "code",
   "execution_count": 25,
   "metadata": {
    "scrolled": true
   },
   "outputs": [
    {
     "name": "stdout",
     "output_type": "stream",
     "text": [
      "[[ 5.07615893]\n",
      " [ 0.98628157]\n",
      " [ 1.04044948]\n",
      " [-1.00441552]]\n",
      "[[ 5.07615905]\n",
      " [ 0.98628159]\n",
      " [ 1.04044949]\n",
      " [-1.00441555]]\n",
      "[[ 5.44394578]\n",
      " [ 1.05931018]\n",
      " [ 1.06668592]\n",
      " [-1.088248  ]]\n",
      "[[ 5.44394591]\n",
      " [ 1.05931021]\n",
      " [ 1.06668593]\n",
      " [-1.08824803]]\n",
      "[[ 6.32142743]\n",
      " [ 1.23382998]\n",
      " [ 1.12943416]\n",
      " [-1.29008418]]\n",
      "[[ 6.32142756]\n",
      " [ 1.23383001]\n",
      " [ 1.12943417]\n",
      " [-1.29008421]]\n",
      "[[ 6.40823712]\n",
      " [ 1.25111313]\n",
      " [ 1.13565198]\n",
      " [-1.31017391]]\n",
      "[[ 6.40823725]\n",
      " [ 1.25111316]\n",
      " [ 1.13565199]\n",
      " [-1.31017394]]\n",
      "[[ 6.40264529]\n",
      " [ 1.25000014]\n",
      " [ 1.13525123]\n",
      " [-1.30887868]]\n",
      "[[ 6.40264541]\n",
      " [ 1.25000017]\n",
      " [ 1.13525124]\n",
      " [-1.30887871]]\n",
      "Optimization terminated successfully.\n",
      "         Current function value: 0.000000\n",
      "         Iterations: 4\n",
      "         Function evaluations: 10\n",
      "         Gradient evaluations: 5\n",
      "[[14.0762656 ]\n",
      " [ 2.77947522]\n",
      " [ 1.68914756]\n",
      " [-3.13099637]]\n",
      "[[14.07626574]\n",
      " [ 2.77947525]\n",
      " [ 1.68914757]\n",
      " [-3.13099641]]\n",
      "[[10.65549181]\n",
      " [ 2.09799336]\n",
      " [ 1.44146338]\n",
      " [-2.31082375]]\n",
      "[[10.65549195]\n",
      " [ 2.09799339]\n",
      " [ 1.44146339]\n",
      " [-2.31082378]]\n",
      "[[ 7.28274736]\n",
      " [ 1.42533565]\n",
      " [ 1.19838299]\n",
      " [-1.51360842]]\n",
      "[[ 7.28274749]\n",
      " [ 1.42533567]\n",
      " [ 1.198383  ]\n",
      " [-1.51360845]]\n",
      "[[ 6.57529399]\n",
      " [ 1.28438014]\n",
      " [ 1.14762231]\n",
      " [-1.34889055]]\n",
      "[[ 6.57529412]\n",
      " [ 1.28438016]\n",
      " [ 1.14762232]\n",
      " [-1.34889058]]\n",
      "[[ 6.41291926]\n",
      " [ 1.25204507]\n",
      " [ 1.13598754]\n",
      " [-1.31125849]]\n",
      "[[ 6.41291939]\n",
      " [ 1.25204509]\n",
      " [ 1.13598755]\n",
      " [-1.31125852]]\n",
      "[[ 6.40268643]\n",
      " [ 1.25000833]\n",
      " [ 1.13525418]\n",
      " [-1.30888821]]\n",
      "[[ 6.40268656]\n",
      " [ 1.25000836]\n",
      " [ 1.13525419]\n",
      " [-1.30888824]]\n",
      "Optimization terminated successfully.\n",
      "         Current function value: 0.000000\n",
      "         Iterations: 5\n",
      "         Function evaluations: 12\n",
      "         Gradient evaluations: 6\n",
      "[[23.5952739 ]\n",
      " [ 4.66727094]\n",
      " [ 2.38138418]\n",
      " [-5.43592329]]\n",
      "[[23.59527404]\n",
      " [ 4.66727097]\n",
      " [ 2.38138419]\n",
      " [-5.43592333]]\n",
      "[[14.99456328]\n",
      " [ 2.96213392]\n",
      " [ 1.75576486]\n",
      " [-3.35228886]]\n",
      "[[14.99456342]\n",
      " [ 2.96213395]\n",
      " [ 1.75576487]\n",
      " [-3.35228889]]\n",
      "[[ 7.77232187]\n",
      " [ 1.5229361 ]\n",
      " [ 1.23356705]\n",
      " [-1.62822997]]\n",
      "[[ 7.772322  ]\n",
      " [ 1.52293613]\n",
      " [ 1.23356706]\n",
      " [-1.62823   ]]\n",
      "[[ 6.78007584]\n",
      " [ 1.32516756]\n",
      " [ 1.16230564]\n",
      " [-1.39645109]]\n",
      "[[ 6.78007597]\n",
      " [ 1.32516758]\n",
      " [ 1.16230565]\n",
      " [-1.39645112]]\n",
      "[[ 6.43424774]\n",
      " [ 1.25629037]\n",
      " [ 1.13751618]\n",
      " [-1.31619979]]\n",
      "[[ 6.43424787]\n",
      " [ 1.25629039]\n",
      " [ 1.13751619]\n",
      " [-1.31619982]]\n",
      "[[ 6.40295593]\n",
      " [ 1.25006197]\n",
      " [ 1.13527349]\n",
      " [-1.30895063]]\n",
      "[[ 6.40295606]\n",
      " [ 1.250062  ]\n",
      " [ 1.1352735 ]\n",
      " [-1.30895066]]\n",
      "Optimization terminated successfully.\n",
      "         Current function value: 0.000000\n",
      "         Iterations: 5\n",
      "         Function evaluations: 12\n",
      "         Gradient evaluations: 6\n",
      "[[33.2382128 ]\n",
      " [ 6.57044057]\n",
      " [ 3.08580093]\n",
      " [-7.78273955]]\n",
      "[[33.23821294]\n",
      " [ 6.5704406 ]\n",
      " [ 3.08580094]\n",
      " [-7.78273958]]\n",
      "[[23.4992899 ]\n",
      " [ 4.64830958]\n",
      " [ 2.37438614]\n",
      " [-5.41260758]]\n",
      "[[23.49929004]\n",
      " [ 4.64830961]\n",
      " [ 2.37438615]\n",
      " [-5.41260761]]\n",
      "[[ 6.74962461]\n",
      " [ 1.31910372]\n",
      " [ 1.16012081]\n",
      " [-1.38936992]]\n",
      "[[ 6.74962474]\n",
      " [ 1.31910374]\n",
      " [ 1.16012082]\n",
      " [-1.38936995]]\n",
      "[[ 6.52742774]\n",
      " [ 1.27484477]\n",
      " [ 1.14419301]\n",
      " [-1.3377932 ]]\n",
      "[[ 6.52742787]\n",
      " [ 1.27484479]\n",
      " [ 1.14419302]\n",
      " [-1.33779323]]\n",
      "[[ 6.40447717]\n",
      " [ 1.25036476]\n",
      " [ 1.13538251]\n",
      " [-1.30930299]]\n",
      "[[ 6.4044773 ]\n",
      " [ 1.25036478]\n",
      " [ 1.13538252]\n",
      " [-1.30930302]]\n",
      "[[ 6.40278344]\n",
      " [ 1.25002764]\n",
      " [ 1.13526113]\n",
      " [-1.30891068]]\n",
      "[[ 6.40278357]\n",
      " [ 1.25002766]\n",
      " [ 1.13526114]\n",
      " [-1.30891071]]\n",
      "Optimization terminated successfully.\n",
      "         Current function value: 0.000000\n",
      "         Iterations: 5\n",
      "         Function evaluations: 12\n",
      "         Gradient evaluations: 6\n"
     ]
    }
   ],
   "source": [
    "mkts = 100\n",
    "prods = 3\n",
    "\n",
    "# set a seed\n",
    "rand.seed(seed=900)\n",
    "\n",
    "# import data\n",
    "x1,xi_all,w,eta,Z,alphas,P_opt,shares = import_data(mkts,prods)\n",
    "\n",
    "# get number of consumers\n",
    "n_consumers = alphas.shape[1]\n",
    "\n",
    "# simulate consumers\n",
    "# lucy = pd.read_csv('~/Desktop/test.csv')\n",
    "nu_i_fixed = rand.lognormal(size = n_consumers * mkts).reshape(-1,1)\n",
    "# nu_i_fixed = lucy.to_numpy()\n",
    "# nu_i_fixed = alphas.reshape(-1,1) - 1.\n",
    "# get instruments\n",
    "\n",
    "Z = get_demand_instruments(x1, prods, mkts)\n",
    "\n",
    "# optimize GMM for different values\n",
    "\n",
    "results_dict = {x: gmm_min(x, Z, nu_i_fixed) for x in np.arange(1.,5.,1.)}\n",
    "\n",
    "# gmm_min(1., Z, nu_i_fixed)\n",
    "# gmm_obj(1., Z, nu_i_fixed)"
   ]
  },
  {
   "cell_type": "code",
   "execution_count": 33,
   "metadata": {},
   "outputs": [
    {
     "data": {
      "text/plain": [
       "{1.0:       fun: 4.6021827967899197e-11\n",
       "  hess_inv: array([[3.26637005]])\n",
       "       jac: array([-5.37649368e-06])\n",
       "   message: 'Optimization terminated successfully.'\n",
       "      nfev: 10\n",
       "       nit: 4\n",
       "      njev: 5\n",
       "    status: 0\n",
       "   success: True\n",
       "         x: array([1.15582108]),\n",
       " 2.0:       fun: 2.398335394316459e-11\n",
       "  hess_inv: array([[3.21231368]])\n",
       "       jac: array([-3.88062051e-06])\n",
       "   message: 'Optimization terminated successfully.'\n",
       "      nfev: 12\n",
       "       nit: 5\n",
       "      njev: 6\n",
       "    status: 0\n",
       "   success: True\n",
       "         x: array([1.15582584]),\n",
       " 3.0:       fun: 5.5645400734827646e-11\n",
       "  hess_inv: array([[3.15703721]])\n",
       "       jac: array([5.91698e-06])\n",
       "   message: 'Optimization terminated successfully.'\n",
       "      nfev: 12\n",
       "       nit: 5\n",
       "      njev: 6\n",
       "    status: 0\n",
       "   success: True\n",
       "         x: array([1.15585701]),\n",
       " 4.0:       fun: 2.021006536049364e-13\n",
       "  hess_inv: array([[3.19931437]])\n",
       "       jac: array([-3.54104646e-07])\n",
       "   message: 'Optimization terminated successfully.'\n",
       "      nfev: 12\n",
       "       nit: 5\n",
       "      njev: 6\n",
       "    status: 0\n",
       "   success: True\n",
       "         x: array([1.15583706])}"
      ]
     },
     "execution_count": 33,
     "metadata": {},
     "output_type": "execute_result"
    }
   ],
   "source": [
    "results_dict"
   ]
  },
  {
   "cell_type": "markdown",
   "metadata": {},
   "source": [
    "We note that\n",
    "$$\\hat{\\xi}_{jm} = \\delta_{jm} - \\hat{\\beta}X_{jm} - \\hat{\\alpha}p_{jm}$$"
   ]
  },
  {
   "cell_type": "markdown",
   "metadata": {},
   "source": [
    "We then calculate $\\Delta$. As firms produce one good per market, $\\Delta$ will be diagonal, with elements given by\n",
    "$$-\\frac{\\partial s_j}{\\partial p_j}$$\n",
    "For an individual $i$, the choice probability of choosing product $j$ is given by\n",
    "$$\\mathbb{P}_{ij} = \\frac{\\exp(\\delta_j - p_j \\nu_i \\sigma_{\\alpha})}{1 + \\sum_{k=1}^J\\exp(\\delta_k - p_k \\nu_i \\sigma_{\\alpha})}$$\n",
    "This means that\n",
    "$$\\frac{\\partial \\mathbb{P}_{ij}}{\\partial p_j} = \\frac{\\left(1 + \\sum_{k=1}^J\\exp(\\delta_k - p_k \\nu_i \\sigma_{\\alpha})\\right)\\exp(\\delta_j - p_j \\nu_i \\sigma_{\\alpha})(-\\alpha - \\sigma_{\\alpha}\\nu_i) - \\exp(\\delta_j - p_j \\nu_i \\sigma_{\\alpha})^2(-\\alpha - \\sigma_{\\alpha}\\nu_i)}{\\left(1 + \\sum_{k=1}^J\\exp(\\delta_k - p_k \\nu_i \\sigma_{\\alpha})\\right)^2}$$\n",
    "and\n",
    "$$-\\frac{\\partial s_j}{\\partial p_j} = -\\frac{1}{n}\\sum_{i=1}^{ns}\\frac{\\partial \\mathbb{P}_{ij}}{\\partial p_j}$$\n",
    "Given our shares formulation, for an individual, we have\n",
    "$$-\\frac{\\partial s_j}{\\partial p_j} = -\\frac{1}{n}\\sum_{i=1}^{500}\\frac{(1+\\sum_s{\\exp(\\delta_s + \\mu_{is})})(-\\alpha-\\sigma_{\\alpha}\\nu_i)\\exp(\\delta_j + \\mu_{ij}) + (\\alpha + \\sigma_{\\alpha}\\nu_i)(\\exp(\\delta_j + \\mu_{ij}))^2}{(1+\\sum_s{\\exp(\\delta_s + \\mu_{is})})^2}$$"
   ]
  },
  {
   "cell_type": "code",
   "execution_count": 26,
   "metadata": {},
   "outputs": [],
   "source": [
    "sigma = 1.\n",
    "alpha = 1.\n",
    "nu_i = nu_i_fixed\n",
    "delta = get_delta(1., nu_i)\n",
    "\n",
    "u_exp = np.exp(np.repeat(delta, 500, axis = 0) - np.repeat(P_opt.T, 500, axis = 0) * nu_i.reshape(-1,1)).reshape(-1,1)\n",
    "sum_terms = 1. + np.sum(u_exp, axis = 1).reshape(-1,1)\n",
    "d_terms = -alpha - sigma * nu_i\n",
    "\n"
   ]
  },
  {
   "cell_type": "code",
   "execution_count": 27,
   "metadata": {},
   "outputs": [
    {
     "name": "stdout",
     "output_type": "stream",
     "text": [
      "(150000, 1)\n",
      "(50000, 1)\n",
      "(150000, 1)\n"
     ]
    }
   ],
   "source": [
    "print(sum_terms.shape)\n",
    "print(d_terms.shape)\n",
    "print(u_exp.shape)"
   ]
  },
  {
   "cell_type": "code",
   "execution_count": 28,
   "metadata": {},
   "outputs": [
    {
     "data": {
      "text/plain": [
       "array([[0.05065743]])"
      ]
     },
     "execution_count": 28,
     "metadata": {},
     "output_type": "execute_result"
    }
   ],
   "source": [
    "rand.seed(seed=700)\n",
    "\n",
    "X = np.column_stack([x1,P_opt.T.reshape(-1,1)])\n",
    "d = get_delta(.64552633, rand.lognormal(size = n_consumers * mkts).reshape(-1,1)).reshape(-1,1)\n",
    "#d = get_delta(.6455, lucy.to_numpy()).reshape(-1,1)\n",
    "#d = lucy.to_numpy().reshape(-1,1)\n",
    "W0 = np.linalg.inv(Z.T @ Z)\n",
    "t_hat = np.linalg.inv(X.T @ Z @ W0 @ Z.T @ X) @ X.T @ Z @ W0 @ Z.T @ d\n",
    "\n",
    "(d - X @ t_hat).T @ Z @ np.linalg.inv(Z.T @ Z) @ Z.T @ (d - X @ t_hat)"
   ]
  },
  {
   "cell_type": "code",
   "execution_count": 29,
   "metadata": {},
   "outputs": [
    {
     "data": {
      "text/plain": [
       "array([[0.16703351],\n",
       "       [0.53771208],\n",
       "       [0.31004591],\n",
       "       [1.16016812],\n",
       "       [2.44404315],\n",
       "       [0.20697555]])"
      ]
     },
     "execution_count": 29,
     "metadata": {},
     "output_type": "execute_result"
    }
   ],
   "source": [
    "nu_i_fixed[:6]"
   ]
  },
  {
   "cell_type": "code",
   "execution_count": 30,
   "metadata": {},
   "outputs": [],
   "source": [
    "pd.DataFrame(nu_i_fixed).to_csv('~/Desktop/test.csv', index = False)"
   ]
  },
  {
   "cell_type": "code",
   "execution_count": 31,
   "metadata": {},
   "outputs": [
    {
     "data": {
      "text/html": [
       "<div>\n",
       "<style scoped>\n",
       "    .dataframe tbody tr th:only-of-type {\n",
       "        vertical-align: middle;\n",
       "    }\n",
       "\n",
       "    .dataframe tbody tr th {\n",
       "        vertical-align: top;\n",
       "    }\n",
       "\n",
       "    .dataframe thead th {\n",
       "        text-align: right;\n",
       "    }\n",
       "</style>\n",
       "<table border=\"1\" class=\"dataframe\">\n",
       "  <thead>\n",
       "    <tr style=\"text-align: right;\">\n",
       "      <th></th>\n",
       "      <th>0</th>\n",
       "    </tr>\n",
       "  </thead>\n",
       "  <tbody>\n",
       "    <tr>\n",
       "      <th>count</th>\n",
       "      <td>50000.000000</td>\n",
       "    </tr>\n",
       "    <tr>\n",
       "      <th>mean</th>\n",
       "      <td>1.644011</td>\n",
       "    </tr>\n",
       "    <tr>\n",
       "      <th>std</th>\n",
       "      <td>2.156782</td>\n",
       "    </tr>\n",
       "    <tr>\n",
       "      <th>min</th>\n",
       "      <td>0.016714</td>\n",
       "    </tr>\n",
       "    <tr>\n",
       "      <th>25%</th>\n",
       "      <td>0.507510</td>\n",
       "    </tr>\n",
       "    <tr>\n",
       "      <th>50%</th>\n",
       "      <td>0.989284</td>\n",
       "    </tr>\n",
       "    <tr>\n",
       "      <th>75%</th>\n",
       "      <td>1.943379</td>\n",
       "    </tr>\n",
       "    <tr>\n",
       "      <th>max</th>\n",
       "      <td>55.040397</td>\n",
       "    </tr>\n",
       "  </tbody>\n",
       "</table>\n",
       "</div>"
      ],
      "text/plain": [
       "                  0\n",
       "count  50000.000000\n",
       "mean       1.644011\n",
       "std        2.156782\n",
       "min        0.016714\n",
       "25%        0.507510\n",
       "50%        0.989284\n",
       "75%        1.943379\n",
       "max       55.040397"
      ]
     },
     "execution_count": 31,
     "metadata": {},
     "output_type": "execute_result"
    }
   ],
   "source": [
    "pd.DataFrame(nu_i_fixed).describe()"
   ]
  },
  {
   "cell_type": "code",
   "execution_count": 32,
   "metadata": {},
   "outputs": [
    {
     "ename": "NameError",
     "evalue": "name 'lucy' is not defined",
     "output_type": "error",
     "traceback": [
      "\u001b[0;31m---------------------------------------------------------------------------\u001b[0m",
      "\u001b[0;31mNameError\u001b[0m                                 Traceback (most recent call last)",
      "\u001b[0;32m<ipython-input-32-6a09ed6e84b2>\u001b[0m in \u001b[0;36m<module>\u001b[0;34m\u001b[0m\n\u001b[0;32m----> 1\u001b[0;31m \u001b[0mpd\u001b[0m\u001b[0;34m.\u001b[0m\u001b[0mDataFrame\u001b[0m\u001b[0;34m(\u001b[0m\u001b[0mlucy\u001b[0m\u001b[0;34m.\u001b[0m\u001b[0mto_numpy\u001b[0m\u001b[0;34m(\u001b[0m\u001b[0;34m)\u001b[0m\u001b[0;34m)\u001b[0m\u001b[0;34m.\u001b[0m\u001b[0mdescribe\u001b[0m\u001b[0;34m(\u001b[0m\u001b[0;34m)\u001b[0m\u001b[0;34m\u001b[0m\u001b[0;34m\u001b[0m\u001b[0m\n\u001b[0m",
      "\u001b[0;31mNameError\u001b[0m: name 'lucy' is not defined"
     ]
    }
   ],
   "source": [
    "pd.DataFrame(lucy.to_numpy()).describe()"
   ]
  },
  {
   "cell_type": "code",
   "execution_count": null,
   "metadata": {},
   "outputs": [],
   "source": [
    "lucy = pd.read_csv('~/Desktop/test.csv')"
   ]
  },
  {
   "cell_type": "code",
   "execution_count": null,
   "metadata": {},
   "outputs": [],
   "source": [
    "np.mean(nu_i_fixed)"
   ]
  },
  {
   "cell_type": "code",
   "execution_count": null,
   "metadata": {},
   "outputs": [],
   "source": [
    "gmm_min(.6455,Z,rand.lognormal(size = n_consumers * mkts).reshape(-1,1))"
   ]
  },
  {
   "cell_type": "code",
   "execution_count": null,
   "metadata": {},
   "outputs": [],
   "source": [
    "gmm_min(1.)"
   ]
  },
  {
   "cell_type": "code",
   "execution_count": null,
   "metadata": {},
   "outputs": [],
   "source": [
    "d.reshape(100,3)[:6]"
   ]
  },
  {
   "cell_type": "code",
   "execution_count": null,
   "metadata": {},
   "outputs": [],
   "source": [
    "def get_shares(mkts,prods,n_consumers,price_val,delta,sigma,nu_vals):\n",
    "    u_big = np.repeat(delta, n_consumers, axis = 0)\n",
    "    p_big = np.repeat(price_val, n_consumers, axis = 0)\n",
    "    u_indiv = u_big - sigma * p_big * nu_vals\n",
    "    u_exp = np.exp(u_indiv)\n",
    "    denom = (1. + np.sum(u_exp, axis = 1)).reshape(-1,1)\n",
    "    s_indiv = u_exp / denom\n",
    "    shares_list = [np.mean(s_indiv[(i*n_consumers):((i+1)*n_consumers)], axis = 0) for i in range(mkts)]\n",
    "    return(np.row_stack(shares_list))"
   ]
  },
  {
   "cell_type": "code",
   "execution_count": null,
   "metadata": {},
   "outputs": [],
   "source": []
  },
  {
   "cell_type": "code",
   "execution_count": null,
   "metadata": {},
   "outputs": [],
   "source": [
    "true_delta = (x1 @ beta).reshape(100,3) - P_opt.T + xi_all.reshape(100,3)\n",
    "true_nu_i = alphas - 1.\n",
    "print(get_shares(100,3,500,P_opt.T,true_delta,1.,true_nu_i.reshape(-1,1))[:6])\n",
    "print(get_shares(100,3,500,P_opt.T,true_delta,1.,nu_i_fixed)[:6])\n",
    "print(shares.T[:6])"
   ]
  },
  {
   "cell_type": "code",
   "execution_count": null,
   "metadata": {},
   "outputs": [],
   "source": [
    "u_big = np.repeat(true_delta, n_consumers, axis = 0)\n",
    "p_big = np.repeat(P_opt.T, n_consumers, axis = 0)\n",
    "u_indiv = u_big - sigma * p_big * true_nu_i.reshape(-1,1)\n",
    "u_exp = np.exp(u_indiv)\n",
    "denom = (1. + np.sum(u_exp, axis = 1)).reshape(-1,1)\n",
    "s_indiv = u_exp / denom"
   ]
  },
  {
   "cell_type": "code",
   "execution_count": null,
   "metadata": {},
   "outputs": [],
   "source": [
    "u_indiv[:6]"
   ]
  },
  {
   "cell_type": "code",
   "execution_count": null,
   "metadata": {},
   "outputs": [],
   "source": [
    "true_nu_i.reshape(-1,1)[:6]"
   ]
  },
  {
   "cell_type": "code",
   "execution_count": null,
   "metadata": {},
   "outputs": [],
   "source": [
    "u_big[:6]"
   ]
  },
  {
   "cell_type": "code",
   "execution_count": null,
   "metadata": {},
   "outputs": [],
   "source": [
    "(1.+np.sum(np.exp(u_indiv), axis = 1)).reshape(-1,1)[:6]"
   ]
  },
  {
   "cell_type": "code",
   "execution_count": null,
   "metadata": {},
   "outputs": [],
   "source": [
    "np.mean(s_indiv[:500], axis = 0)"
   ]
  },
  {
   "cell_type": "code",
   "execution_count": null,
   "metadata": {},
   "outputs": [],
   "source": []
  }
 ],
 "metadata": {
  "kernelspec": {
   "display_name": "Python 3",
   "language": "python",
   "name": "python3"
  },
  "language_info": {
   "codemirror_mode": {
    "name": "ipython",
    "version": 3
   },
   "file_extension": ".py",
   "mimetype": "text/x-python",
   "name": "python",
   "nbconvert_exporter": "python",
   "pygments_lexer": "ipython3",
   "version": "3.8.5"
  }
 },
 "nbformat": 4,
 "nbformat_minor": 4
}
