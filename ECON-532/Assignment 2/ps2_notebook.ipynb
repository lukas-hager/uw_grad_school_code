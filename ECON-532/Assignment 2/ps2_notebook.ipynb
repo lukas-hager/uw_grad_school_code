{
 "cells": [
  {
   "cell_type": "markdown",
   "metadata": {},
   "source": [
    "# Problem Set 2\n",
    "### Lukas Hager,  ECON 532\n",
    "___"
   ]
  },
  {
   "cell_type": "markdown",
   "metadata": {},
   "source": [
    "## Market Simulation\n",
    "**For each of these two simulations, compare the distribution of prices, profits and consumer surplus. For consumer surplus, simulate draws of consumers from the true distribution and calculate their optimal purchasing decision and welfare**\n",
    "___\n",
    "To get prices, we simply squeeze the variable `P_opt` to be one dimensional and plot a histogram. To get profit and consumer surplus, we must simulate customers; given the simulation variable `alphas`, we take this number to be 500. Then, we calculate \n",
    "$$\\pi_{jm} = \\text{Market Share} \\times \\text{Consumers} \\times \\left(p_{jm} - mc_{jm}\\right)$$\n",
    "and\n",
    "$$CS_{im} = \\frac{1}{\\alpha_{i}}\\max_{j}U_{ijm}$$"
   ]
  },
  {
   "cell_type": "code",
   "execution_count": 1,
   "metadata": {},
   "outputs": [],
   "source": [
    "# import libraries\n",
    "import numpy as np\n",
    "import numpy.random as rand\n",
    "import pandas as pd\n",
    "import scipy as sp\n",
    "from scipy import optimize as op\n",
    "from scipy.io import loadmat\n",
    "from sklearn import linear_model as lm\n",
    "import matplotlib.pyplot as plt\n",
    "\n",
    "plt.rcParams[\"figure.figsize\"] = (20,5)\n",
    "\n",
    "source_path = '/Users/hlukas/git/uw_grad_school_code/ECON-532/Assignment 2/pset2_upload/Simulated Data/{}markets{}products.mat'\n",
    "gamma = np.array([2,1,1]).reshape(3,1)\n",
    "alpha = 1.\n",
    "sigma_alpha = 1.\n",
    "beta = np.array([5.,1.,1.]).reshape((3,1))"
   ]
  },
  {
   "cell_type": "code",
   "execution_count": 2,
   "metadata": {},
   "outputs": [],
   "source": [
    "# function to import the data into python\n",
    "\n",
    "def import_data(mkts,prods):\n",
    "    mat_data = loadmat(source_path.format(mkts,prods))\n",
    "    variable_names = [x for x in mat_data.keys() if x not in ['__header__', '__version__', '__globals__']]\n",
    "    return([mat_data[x] for x in variable_names])"
   ]
  },
  {
   "cell_type": "code",
   "execution_count": 3,
   "metadata": {},
   "outputs": [],
   "source": [
    "# function to plot prices\n",
    "\n",
    "def plot_prices(mkts, prods):\n",
    "    # import data\n",
    "    x1,xi_all,w,eta,Z,alphas,P_opt,shares = import_data(mkts,prods)\n",
    "    \n",
    "    p_flat = P_opt.reshape(prods * mkts)\n",
    "    plt.hist(p_flat, bins=int(np.ceil(p_flat.max() - np.min([0., np.min(p_flat)]))*2), ec='black', range=(np.floor(np.min([0., np.min(p_flat)])), np.ceil(p_flat.max())))\n",
    "    plt.title('Price Distribution ({} Products, {} Markets)'.format(prods, mkts))\n",
    "    plt.xlabel('Price')\n",
    "    plt.ylabel('Products')\n",
    "    plt.show()"
   ]
  },
  {
   "cell_type": "code",
   "execution_count": 4,
   "metadata": {},
   "outputs": [],
   "source": [
    "# function to plot profits\n",
    "\n",
    "def plot_profit(mkts, prods):\n",
    "    # import data\n",
    "    x1,xi_all,w,eta,Z,alphas,P_opt,shares = import_data(mkts,prods)\n",
    "    \n",
    "    # get consumers\n",
    "    n_consumers = alphas.shape[1]\n",
    "    \n",
    "    # get the marginal cost\n",
    "    mc_jm = np.column_stack([np.ones(prods * mkts),w, Z]) @ gamma + eta\n",
    "    markup = P_opt.T - mc_jm.reshape((mkts, prods))\n",
    "\n",
    "    profit = markup * shares.T * n_consumers\n",
    "    \n",
    "    profit_flat = profit.reshape(prods * mkts)\n",
    "    plt.hist(profit_flat, bins='fd', ec = 'black')\n",
    "    plt.title('Profit Distribution ({} Products, {} Markets, {} Consumers)'.format(prods, mkts, n_consumers))\n",
    "    plt.xlabel('Profit')\n",
    "    plt.ylabel('Products')"
   ]
  },
  {
   "cell_type": "markdown",
   "metadata": {},
   "source": [
    "The way that we calculate consumer surplus requires a little more explication. We know that\n",
    "$$U_{ijm} = X_{jm}\\beta - p_{jm}\\alpha_i + \\xi_{jm} + \\epsilon_{ijm}$$\n",
    "We can instead write utility as a $im\\times j$ matrix, so that each row represents a consumer/market combination, and each column is a given product. We can do this by getting the utility that doesn't depend on the consumer, stacking that matrix $i$ times, stacking the price and $\\xi$ matrix $i$ times, and creating an $\\alpha$ matrix by repeating each $\\alpha_i$ $j$ times:"
   ]
  },
  {
   "cell_type": "code",
   "execution_count": 5,
   "metadata": {},
   "outputs": [],
   "source": [
    "def plot_cs(mkts, prods):\n",
    "    # set a seed\n",
    "    rand.seed(seed=2022)\n",
    "    \n",
    "    # import data\n",
    "    x1,xi_all,w,eta,Z,alphas,P_opt,shares = import_data(mkts,prods)\n",
    "    \n",
    "    # get consumers\n",
    "    n_consumers = alphas.shape[1]\n",
    "\n",
    "    # get the alpha_i, reshape to be in the order first market -> last market 500 times\n",
    "    alpha_i = alphas.reshape((n_consumers * mkts,1), order = 'F')\n",
    "\n",
    "    # repeat the alpha_i for each market\n",
    "    alpha_big = np.tile(alpha_i, (1,prods))\n",
    "\n",
    "    # get the market-product level utility\n",
    "    u_jm = (x1 @ beta + xi_all).reshape((mkts,prods))\n",
    "\n",
    "    # create a big system\n",
    "    u_big = np.tile(u_jm, (n_consumers,1))\n",
    "    p_big = np.tile(P_opt.T, (n_consumers,1))\n",
    "    ep_big = rand.gumbel(size = mkts * prods * n_consumers).reshape((mkts * n_consumers, prods))\n",
    "\n",
    "    # get the CS\n",
    "    u = u_big - alpha_big * p_big + ep_big\n",
    "    u_outside = np.concatenate([u, np.zeros(mkts * n_consumers).reshape((mkts * n_consumers, 1))], axis = 1)\n",
    "    cs = u_outside.max(axis = 1) / alpha_i.squeeze()\n",
    "    cs_mean = np.mean(cs.reshape((100,500), order = 'F'), axis = 1)\n",
    "    \n",
    "    # plot\n",
    "    plt.hist(cs_mean.squeeze(), bins=int(np.ceil(cs_mean.max() - np.min([0., np.min(cs_mean)]))*2), ec='black', range=(np.min([0., np.min(cs_mean)]), np.ceil(np.max(cs_mean))))\n",
    "    plt.title('CS Distribution ({} Products, {} Markets, {} Consumers)'.format(prods, mkts, n_consumers))\n",
    "    plt.xlabel('Surplus')\n",
    "    plt.ylabel('Markets')\n",
    "    plt.show()"
   ]
  },
  {
   "cell_type": "markdown",
   "metadata": {},
   "source": [
    "#### Price Plots\n",
    "___"
   ]
  },
  {
   "cell_type": "code",
   "execution_count": 6,
   "metadata": {},
   "outputs": [
    {
     "data": {
      "image/png": "[encoded data removed]",
      "text/plain": [
       "<Figure size 1440x360 with 1 Axes>"
      ]
     },
     "metadata": {
      "needs_background": "light"
     },
     "output_type": "display_data"
    }
   ],
   "source": [
    "plot_prices(100,3)"
   ]
  },
  {
   "cell_type": "code",
   "execution_count": 7,
   "metadata": {
    "scrolled": true
   },
   "outputs": [
    {
     "data": {
      "image/png": "[encoded data removed]",
      "text/plain": [
       "<Figure size 1440x360 with 1 Axes>"
      ]
     },
     "metadata": {
      "needs_background": "light"
     },
     "output_type": "display_data"
    }
   ],
   "source": [
    "plot_prices(100,5)"
   ]
  },
  {
   "cell_type": "markdown",
   "metadata": {},
   "source": [
    "Prices appear to be higher in the 3 good market compared to the 5 good market; this makes sense, as in a competitive market, more competition should drive down the prices that firms can charge."
   ]
  },
  {
   "cell_type": "markdown",
   "metadata": {},
   "source": [
    "#### Profit Plots\n",
    "___"
   ]
  },
  {
   "cell_type": "code",
   "execution_count": 8,
   "metadata": {},
   "outputs": [
    {
     "data": {
      "image/png": "[encoded data removed]",
      "text/plain": [
       "<Figure size 1440x360 with 1 Axes>"
      ]
     },
     "metadata": {
      "needs_background": "light"
     },
     "output_type": "display_data"
    }
   ],
   "source": [
    "plot_profit(100,3)"
   ]
  },
  {
   "cell_type": "code",
   "execution_count": 9,
   "metadata": {},
   "outputs": [
    {
     "data": {
      "image/png": "[encoded data removed]",
      "text/plain": [
       "<Figure size 1440x360 with 1 Axes>"
      ]
     },
     "metadata": {
      "needs_background": "light"
     },
     "output_type": "display_data"
    }
   ],
   "source": [
    "plot_profit(100,5)"
   ]
  },
  {
   "cell_type": "markdown",
   "metadata": {},
   "source": [
    "The takeaway is similar to the above; when there is more competition, the profits of firms decrease, and the distribution is shifted towards lower amounts of profit."
   ]
  },
  {
   "cell_type": "markdown",
   "metadata": {},
   "source": [
    "#### Consumer Surplus Plots\n",
    "___"
   ]
  },
  {
   "cell_type": "code",
   "execution_count": 10,
   "metadata": {
    "scrolled": true
   },
   "outputs": [
    {
     "data": {
      "image/png": "[encoded data removed]",
      "text/plain": [
       "<Figure size 1440x360 with 1 Axes>"
      ]
     },
     "metadata": {
      "needs_background": "light"
     },
     "output_type": "display_data"
    }
   ],
   "source": [
    "plot_cs(100,3)"
   ]
  },
  {
   "cell_type": "code",
   "execution_count": 11,
   "metadata": {},
   "outputs": [
    {
     "data": {
      "image/png": "[encoded data removed]",
      "text/plain": [
       "<Figure size 1440x360 with 1 Axes>"
      ]
     },
     "metadata": {
      "needs_background": "light"
     },
     "output_type": "display_data"
    }
   ],
   "source": [
    "plot_cs(100,5)"
   ]
  },
  {
   "cell_type": "markdown",
   "metadata": {},
   "source": [
    "Here, we see a large difference. In both simulations, a modal number of customers choose the outside option, but when there are more options, the consumer surplus increases significantly."
   ]
  },
  {
   "cell_type": "markdown",
   "metadata": {},
   "source": [
    "## BLP and Nevo Instruments\n",
    "___"
   ]
  },
  {
   "cell_type": "code",
   "execution_count": 12,
   "metadata": {},
   "outputs": [],
   "source": [
    "# import data\n",
    "x1,xi_all,w,eta,Z,alphas,P_opt,shares = import_data(100,3)\n",
    "\n",
    "# xi/X\n",
    "xi_X = np.mean(x1 * np.tile(xi_all, (1,3)), axis = 0)\n",
    "\n",
    "# xi/p\n",
    "xi_p = np.mean(P_opt.T * xi_all.reshape((100,3)))\n",
    "\n",
    "# xi/p_hat\n",
    "# to get p_hat, we compute average prices across other markets\n",
    "p_hat = np.tile(\n",
    "    np.array([np.mean(np.delete(P_opt.T,x,0)) for x in range(len(P_opt.T))]).reshape((100,1)),\n",
    "    (1,3)\n",
    ")\n",
    "\n",
    "p_hat = np.row_stack([np.mean(np.delete(P_opt.T,x,0), axis = 0) for x in range(len(P_opt.T))])\n",
    "\n",
    "xi_p_hat = np.mean(p_hat * xi_all.reshape((100,3)))"
   ]
  },
  {
   "cell_type": "code",
   "execution_count": 13,
   "metadata": {},
   "outputs": [
    {
     "data": {
      "text/plain": [
       "array([0.04346104, 0.02074192, 0.0355315 ])"
      ]
     },
     "execution_count": 13,
     "metadata": {},
     "output_type": "execute_result"
    }
   ],
   "source": [
    "xi_X"
   ]
  },
  {
   "cell_type": "code",
   "execution_count": 14,
   "metadata": {},
   "outputs": [
    {
     "data": {
      "text/plain": [
       "0.2949581371489729"
      ]
     },
     "execution_count": 14,
     "metadata": {},
     "output_type": "execute_result"
    }
   ],
   "source": [
    "xi_p"
   ]
  },
  {
   "cell_type": "code",
   "execution_count": 15,
   "metadata": {},
   "outputs": [
    {
     "data": {
      "text/plain": [
       "0.14367954767468022"
      ]
     },
     "execution_count": 15,
     "metadata": {},
     "output_type": "execute_result"
    }
   ],
   "source": [
    "xi_p_hat"
   ]
  },
  {
   "cell_type": "markdown",
   "metadata": {},
   "source": [
    "It appears that $\\mathbb{E}[\\xi_{jm}X_{jm}] \\approx 0$ and $\\mathbb{E}[\\xi_{jm}\\overline{p}_{jm}] \\approx 0$, so these conditions are likely roughly valid. Additionally, using $p$ appears to be irrelevant if we use $\\overline{p}$."
   ]
  },
  {
   "cell_type": "markdown",
   "metadata": {},
   "source": [
    "We cannot use BLP and Nevo instruments in this setting, as Nevo uses a dummy variable for brand (firm in our case), which means that the BLP instruments do not have any variance within a given firm. "
   ]
  },
  {
   "cell_type": "markdown",
   "metadata": {},
   "source": [
    "Our estimation algorithm will work as follows:\n",
    "1. Fix $\\hat{\\sigma}_{\\alpha}$\n",
    "2. Using this parameters and the simulated consumers, get\n",
    "   $$\\hat{s}_n \\approx \\frac{1}{n}\\sum_{i=1}^{500}\\frac{e^{\\delta_j + \\mu_{ij}}}{1 + \\sum_se^{\\delta_s + \\mu_{is}}}$$\n",
    "   Further, in our case, we have\n",
    "   $$\\delta_{jm} = X_{jm}\\hat{\\beta} - \\hat{\\alpha}p_{jm} + \\xi_{jm}$$\n",
    "   and \n",
    "   $$\\mu_{ij} = -\\hat{\\sigma}_{\\alpha}\\nu_ip_{jm}$$\n",
    "   We solve the fixed point problem via iteration to get the values of $\\delta_{jm}$ which result in $\\hat{s}_n = s_n$.\n",
    "3. Noting that\n",
    "   $$\\delta_{jm} = X_{jm}\\beta - \\alpha p_{jm} + \\xi_{jm}$$\n",
    "   run an IV regression on the estimated $\\delta_{jm}$ to estimate $\\hat{\\xi}_{jm},\\hat{\\alpha}_{jm},\\hat{\\beta}_{jm}$.\n",
    "4. Calculate the GMM objective function using instruments and $\\hat{\\xi}_{jm}$. When the objective function is minimized, return $\\hat{\\alpha}, \\hat{\\beta}, \\hat{\\sigma}_{\\alpha}$.\n",
    "\n",
    "The GMM objective function will be calculated using BLP-style demand moments. In particular, we will have instruments given by\n",
    "$$Z_j = \\left[X_j,\\sum_{r\\neq j, r\\in \\mathcal{F}_j}X_r,\\sum_{r\\notin \\mathcal{F}_j}X_r\\right]$$\n",
    "Informally, instruments are the product's own characteristics, the sum of other products' characteristics within a product's market, and the sum of all products characteristics in other markets. As each firm is a single-product firm, we cannot use other products' characteristics, and as one of our instrument is a constant, we cannot use a function of this constant for colinearity reasons. This implies that in our problem we will have five instruments, and $Z$ is a $5\\times 1$ vector. Then, the GMM criterion function is given by\n",
    "$$\\hat{\\theta} = \\text{arg min}_{\\theta}\\hat{\\xi}^{\\top}ZWZ'\\hat{\\xi}$$\n",
    "where $W$ is given by\n",
    "$$W = \\left(Z^{\\top}Z\\right)^{-1}$$"
   ]
  },
  {
   "cell_type": "code",
   "execution_count": 17,
   "metadata": {},
   "outputs": [],
   "source": [
    "def get_shares(mkts,prods,n_consumers,price_val,delta,sigma,nu_vals):\n",
    "    u_big = np.repeat(delta, n_consumers, axis = 0)\n",
    "    p_big = np.repeat(price_val, n_consumers, axis = 0)\n",
    "    u_indiv = u_big - sigma * p_big * nu_vals\n",
    "    u_exp = np.exp(u_indiv)\n",
    "    denom = (1. + np.sum(u_exp, axis = 1)).reshape(-1,1)\n",
    "    s_indiv = u_exp / denom\n",
    "    shares_list = [np.mean(s_indiv[(i*n_consumers):((i+1)*n_consumers)], axis = 0) for i in range(mkts)]\n",
    "    return(np.row_stack(shares_list))"
   ]
  },
  {
   "cell_type": "code",
   "execution_count": 18,
   "metadata": {},
   "outputs": [],
   "source": [
    "def calculate_theta1(delta,X,p,Z):\n",
    "    # stack data\n",
    "    big_X = np.column_stack([X, p.T.reshape(-1,1)])\n",
    "    \n",
    "    # projection matrix\n",
    "    P_Z = Z @ np.linalg.inv(Z.T @ Z) @ Z.T\n",
    "    \n",
    "    return(np.linalg.inv(big_X.T @ P_Z @ big_X) @ big_X.T @ P_Z @ delta.reshape(-1,1))\n",
    "    #return(np.linalg.inv(big_X.T @ big_X) @ big_X.T @ delta.reshape(-1,1))"
   ]
  },
  {
   "cell_type": "code",
   "execution_count": 19,
   "metadata": {},
   "outputs": [],
   "source": [
    "def get_xi_hat(delta,X,p,Z):\n",
    "    t1_hat = calculate_theta1(delta,X,p,Z)\n",
    "    return(delta.reshape(-1,1) - np.column_stack([X, p.T.reshape(-1,1)]) @ t1_hat)"
   ]
  },
  {
   "cell_type": "code",
   "execution_count": 20,
   "metadata": {},
   "outputs": [],
   "source": [
    "def get_demand_instruments(X,prods,mkts):\n",
    "    z1 = X # own characteristics\n",
    "    \n",
    "    z2_list = [np.sum(z1[:,1:][(i*prods):((i+1)*prods)], axis = 0) for i in range(int(X.shape[0]/prods))]\n",
    "    z2 = np.repeat(np.row_stack(z2_list), prods, axis = 0) - z1[:,1:] # sum characteristics for the firm's products, subtract z1\n",
    "        \n",
    "    return(np.column_stack([z1,z2]))"
   ]
  },
  {
   "cell_type": "code",
   "execution_count": 255,
   "metadata": {},
   "outputs": [],
   "source": [
    "def get_delta(sigma,nu_i):\n",
    "    # set initial delta guess\n",
    "    delta_new = np.ones(mkts * prods).reshape(mkts,prods)\n",
    "    delta_old = np.ones(mkts * prods).reshape(mkts,prods)\n",
    "\n",
    "    # iterate (as it's a contraction mapping)\n",
    "    while True:\n",
    "        s_calc = get_shares(mkts,prods,n_consumers,P_opt.T,delta_old,sigma,nu_i)\n",
    "        delta_new = delta_old + np.log(shares.T) - np.log(s_calc)\n",
    "        crit = np.max(np.abs(delta_new - delta_old))\n",
    "        if crit > 1e-3:\n",
    "            delta_old = delta_new\n",
    "        else:\n",
    "            break\n",
    "            \n",
    "    return(delta_new)"
   ]
  },
  {
   "cell_type": "code",
   "execution_count": 202,
   "metadata": {},
   "outputs": [],
   "source": [
    "def gmm_obj(sigma, Z, nu_i_val):\n",
    "    \n",
    "    delta_new = get_delta(sigma,nu_i_val)\n",
    "    \n",
    "    theta1 = calculate_theta1(delta_new,x1,P_opt,Z)\n",
    "\n",
    "    xi_hat = get_xi_hat(delta_new,x1,P_opt,Z)\n",
    "    W = np.linalg.inv(Z.T @ Z)\n",
    "    return((xi_hat.T @ Z @ W @ Z.T @ xi_hat).item())"
   ]
  },
  {
   "cell_type": "code",
   "execution_count": 23,
   "metadata": {},
   "outputs": [],
   "source": [
    "def gmm_min(start_val, Z_val, nu_i_val):\n",
    "    return(\n",
    "        op.minimize(\n",
    "            gmm_obj, \n",
    "            x0 = start_val, \n",
    "            args = (Z_val, nu_i_val), \n",
    "            #method='Nelder-Mead',\n",
    "            options = {'disp': True}\n",
    "        )\n",
    "    )"
   ]
  },
  {
   "cell_type": "code",
   "execution_count": 257,
   "metadata": {
    "scrolled": true
   },
   "outputs": [],
   "source": [
    "mkts = 100\n",
    "prods = 3\n",
    "\n",
    "# set a seed\n",
    "rand.seed(seed=900)\n",
    "\n",
    "# import data\n",
    "x1,xi_all,w,eta,Z,alphas,P_opt,shares = import_data(mkts,prods)\n",
    "\n",
    "# get number of consumers\n",
    "n_consumers = alphas.shape[1]\n",
    "\n",
    "# simulate consumers\n",
    "nu_i_fixed = rand.lognormal(size = n_consumers * mkts).reshape(-1,1)\n",
    "\n",
    "# get instruments\n",
    "\n",
    "demand_Z = get_demand_instruments(x1, prods, mkts)\n",
    "\n",
    "# optimize GMM for different values\n",
    "\n",
    "results_dict = {x: gmm_min(x, Z, nu_i_fixed) for x in np.arange(1.,10.,1.)}"
   ]
  },
  {
   "cell_type": "code",
   "execution_count": 245,
   "metadata": {},
   "outputs": [
    {
     "data": {
      "text/plain": [
       "{1.0: 1.1900916733692875,\n",
       " 2.0: 1.1901104521408437,\n",
       " 3.0: 1.190111478862404,\n",
       " 4.0: 1.1901080642558537,\n",
       " 5.0: 1.1901088746089905,\n",
       " 6.0: 1.19008676433187,\n",
       " 7.0: 1.1901078609167173,\n",
       " 8.0: 1.1901072565451791,\n",
       " 9.0: 1.1901112768988726}"
      ]
     },
     "execution_count": 245,
     "metadata": {},
     "output_type": "execute_result"
    }
   ],
   "source": [
    "{x: results_dict[x]['x'].item() for x in results_dict.keys()}"
   ]
  },
  {
   "cell_type": "markdown",
   "metadata": {},
   "source": [
    "We can see that regardless of the starting value, we converge to roughly the same value of $\\sigma_{\\alpha}$. If we plug these into our formula, we get essentially identical parameter estimates for $\\hat{\\beta},\\hat{\\alpha}$:"
   ]
  },
  {
   "cell_type": "code",
   "execution_count": 275,
   "metadata": {
    "scrolled": true
   },
   "outputs": [
    {
     "data": {
      "text/html": [
       "<div>\n",
       "<style scoped>\n",
       "    .dataframe tbody tr th:only-of-type {\n",
       "        vertical-align: middle;\n",
       "    }\n",
       "\n",
       "    .dataframe tbody tr th {\n",
       "        vertical-align: top;\n",
       "    }\n",
       "\n",
       "    .dataframe thead th {\n",
       "        text-align: right;\n",
       "    }\n",
       "</style>\n",
       "<table border=\"1\" class=\"dataframe\">\n",
       "  <thead>\n",
       "    <tr style=\"text-align: right;\">\n",
       "      <th></th>\n",
       "      <th>1.0</th>\n",
       "      <th>2.0</th>\n",
       "      <th>3.0</th>\n",
       "      <th>4.0</th>\n",
       "      <th>5.0</th>\n",
       "      <th>6.0</th>\n",
       "      <th>7.0</th>\n",
       "      <th>8.0</th>\n",
       "      <th>9.0</th>\n",
       "    </tr>\n",
       "  </thead>\n",
       "  <tbody>\n",
       "    <tr>\n",
       "      <th>b1</th>\n",
       "      <td>6.699743</td>\n",
       "      <td>6.699906</td>\n",
       "      <td>6.699915</td>\n",
       "      <td>6.699885</td>\n",
       "      <td>6.699892</td>\n",
       "      <td>6.699700</td>\n",
       "      <td>6.699884</td>\n",
       "      <td>6.699878</td>\n",
       "      <td>6.699913</td>\n",
       "    </tr>\n",
       "    <tr>\n",
       "      <th>b2</th>\n",
       "      <td>1.309165</td>\n",
       "      <td>1.309197</td>\n",
       "      <td>1.309199</td>\n",
       "      <td>1.309193</td>\n",
       "      <td>1.309194</td>\n",
       "      <td>1.309156</td>\n",
       "      <td>1.309193</td>\n",
       "      <td>1.309192</td>\n",
       "      <td>1.309198</td>\n",
       "    </tr>\n",
       "    <tr>\n",
       "      <th>b3</th>\n",
       "      <td>1.156545</td>\n",
       "      <td>1.156557</td>\n",
       "      <td>1.156557</td>\n",
       "      <td>1.156555</td>\n",
       "      <td>1.156556</td>\n",
       "      <td>1.156542</td>\n",
       "      <td>1.156555</td>\n",
       "      <td>1.156555</td>\n",
       "      <td>1.156557</td>\n",
       "    </tr>\n",
       "    <tr>\n",
       "      <th>b4</th>\n",
       "      <td>-1.377783</td>\n",
       "      <td>-1.377821</td>\n",
       "      <td>-1.377823</td>\n",
       "      <td>-1.377816</td>\n",
       "      <td>-1.377818</td>\n",
       "      <td>-1.377773</td>\n",
       "      <td>-1.377816</td>\n",
       "      <td>-1.377815</td>\n",
       "      <td>-1.377823</td>\n",
       "    </tr>\n",
       "  </tbody>\n",
       "</table>\n",
       "</div>"
      ],
      "text/plain": [
       "         1.0       2.0       3.0       4.0       5.0       6.0       7.0  \\\n",
       "b1  6.699743  6.699906  6.699915  6.699885  6.699892  6.699700  6.699884   \n",
       "b2  1.309165  1.309197  1.309199  1.309193  1.309194  1.309156  1.309193   \n",
       "b3  1.156545  1.156557  1.156557  1.156555  1.156556  1.156542  1.156555   \n",
       "b4 -1.377783 -1.377821 -1.377823 -1.377816 -1.377818 -1.377773 -1.377816   \n",
       "\n",
       "         8.0       9.0  \n",
       "b1  6.699878  6.699913  \n",
       "b2  1.309192  1.309198  \n",
       "b3  1.156555  1.156557  \n",
       "b4 -1.377815 -1.377823  "
      ]
     },
     "execution_count": 275,
     "metadata": {},
     "output_type": "execute_result"
    }
   ],
   "source": [
    "pd.DataFrame(data = {str(s_val): calculate_theta1(get_delta(results_dict[s_val]['x'], nu_i_fixed),x1,P_opt,demand_Z).squeeze() for s_val in results_dict.keys()},\n",
    "             index = ['b1', 'b2', 'b3', 'a'])\n",
    "\n"
   ]
  },
  {
   "cell_type": "markdown",
   "metadata": {},
   "source": [
    "To get SEs, we recall that\n",
    "$$\\hat{\\xi} = \\delta_{jm} - X_{jm}\\hat{\\beta} +p_{jm}\\hat{\\alpha}$$\n",
    "so then\n",
    "$$\\frac{\\partial G_J(\\alpha,\\beta,\\sigma_{\\alpha})}{\\partial \\beta} = -X^{\\top}Z$$\n",
    "and\n",
    "$$\\frac{\\partial G_J(\\alpha,\\beta,\\sigma_{\\alpha})}{\\partial \\alpha} = P^{\\top}Z$$\n",
    "The nonlinear parameter $\\sigma_{\\alpha}$, however, impacts $\\delta$. By the chain rule (very informally), for a given market, we know that\n",
    "$$\\frac{\\partial \\delta}{\\partial \\sigma_{\\alpha}} = \\frac{d \\delta}{d s}\\frac{d s}{d\\sigma_{\\alpha}}$$\n",
    "We have\n",
    "$$\\frac{\\partial s_j}{\\partial \\sigma_{\\alpha}} = \\frac{1}{500}\\sum_{i=1}^{500}\\frac{\\left(1 + \\sum_{k=1}^3\\exp(\\delta_k - \\sigma_{\\alpha}\\nu_ip_k)\\right)\\exp(\\delta_j - \\sigma_{\\alpha}\\nu_ip_j)(-\\nu_ip_j)-\\exp(\\delta_j - \\sigma_{\\alpha}\\nu_ip_j)\\sum_{k=1}^3(-\\nu_ip_k)\\exp(\\delta_k - \\sigma_{\\alpha}\\nu_ip_k)}{\\left(1 + \\sum_{k=1}^3\\exp(\\delta_k - \\sigma_{\\alpha}\\nu_ip_k)\\right)^2}$$\n",
    "Simplifying yields\n",
    "$$\\frac{\\partial s_j}{\\partial \\sigma_{\\alpha}} = -\\frac{1}{500}\\sum_{i=1}^{500}s_j\\nu_i\\left[p_j-\\sum_{k=1}^3s_kp_k\\right]$$\n",
    "Finally, we know that (shown more formally in the elasticity section below)\n",
    "$$\\frac{\\partial s_j}{\\partial \\delta_j} = \\frac{1}{500}\\sum_{i=1}^{500}s_{ij} - s_{ij}^2$$\n",
    "$$\\frac{\\partial s_j}{\\partial \\delta_k} = -\\frac{1}{500}\\sum_{i=1}^{500}s_{ij}s_{ik}$$\n",
    "\n",
    "Denoting this gradient vector by $\\nabla_{\\sigma_{\\alpha}}$, we then have\n",
    "$$\\frac{\\partial G_J(\\alpha,\\beta,\\sigma_{\\alpha})}{\\partial \\sigma_{\\alpha}} = \\nabla_{\\sigma_{\\alpha}}^{\\top}Z$$\n",
    "Stacking these will yield the $5\\times 5$ $\\Gamma$ matrix.\n",
    "\n",
    "We know that at the optimum of our GMM criterion, the Jacobian value is\n",
    "$$J = \\frac{\\partial}{\\partial \\sigma_{\\alpha}}\\left(\\hat{\\xi}^{\\top} Z \\left(Z^{\\top}Z\\right)^{-1} Z^{\\top}\\hat{\\xi}\\right)$$\n",
    "This means that\n",
    "$$J = 2 $$"
   ]
  },
  {
   "cell_type": "code",
   "execution_count": 397,
   "metadata": {},
   "outputs": [],
   "source": [
    "def v_cov(prods, mkts, n_consumers, sigma, Z, X, P, nu_i_vals):\n",
    "    # get implied delta and shares\n",
    "    delta = get_delta(sigma, nu_i_vals)\n",
    "    share_vals = get_shares(mkts,prods,n_consumers,P.T,delta,sigma,nu_i_vals)\n",
    "\n",
    "    # get individual shares\n",
    "    u_exp = np.exp(np.repeat(delta, n_consumers, axis = 0) - sigma * np.repeat(P.T, n_consumers, axis = 0) * nu_i_vals.reshape(-1,1))\n",
    "    sum_terms = 1. + np.sum(u_exp, axis = 1).reshape(-1,1)\n",
    "    indiv_shares = (u_exp / sum_terms)\n",
    "\n",
    "    indiv_mkts_x_shares = [indiv_shares[i].reshape(-1,1) @ indiv_shares[i].reshape(1,-1) for i in range(len(indiv_shares))]\n",
    "    cross_shares_matrix = np.concatenate(indiv_mkts_x_shares, axis = 0)\n",
    "    own_shares_ind = np.repeat(indiv_shares, prods, axis = 0) * np.tile(np.eye(prods), (n_consumers * mkts,1))\n",
    "    total_mat = own_shares_ind - cross_shares_matrix\n",
    "\n",
    "    # get the inverse matrices\n",
    "    inv_derivatives = []\n",
    "    for i in range(100):    \n",
    "        mkt_blocks = [total_mat[j:(j+prods)] for j in range(i * prods * n_consumers, (i+1) * prods * n_consumers, prods)]\n",
    "        inv_derivatives.append(np.linalg.inv(np.mean(mkt_blocks, axis = 0)))\n",
    "\n",
    "    # get the ds/dsigma derivatives and get the product\n",
    "    row_sums = np.sum(np.repeat(P.T, n_consumers, axis = 0) * indiv_shares, axis = 1)\n",
    "    diff_terms = np.repeat(P.T, n_consumers, axis = 0) - row_sums.reshape(-1,1)\n",
    "    prod_terms = -1. * indiv_shares * nu_i_vals * diff_terms\n",
    "\n",
    "    ds_dsigma = [np.mean(prod_terms[(i * 500):((i+1) * 500)], axis = 0).reshape(-1,1) for i in range(mkts)]\n",
    "    ddelta_dsigma = np.concatenate([inv_derivatives[i] @ ds_dsigma[i] for i in range(mkts)])\n",
    "    \n",
    "    # get the derivatives\n",
    "    d_beta = -X.T @ Z\n",
    "    d_alpha = P.T.reshape(-1,1).T @ Z\n",
    "    d_sigma = ddelta_dsigma.T @ Z\n",
    "    \n",
    "    # get total obs\n",
    "    n = prods * mkts\n",
    "    \n",
    "    # create gamma matrix by stacking the individual conditions\n",
    "    G = np.row_stack([d_beta,d_alpha,d_sigma]) / n\n",
    "    G_term = np.linalg.inv(G.T @ G) @ G.T\n",
    "    \n",
    "    # get V1 by getting the variance of the Z * xi terms\n",
    "    xi_hat = get_xi_hat(get_delta(sigma, nu_i_vals), X, P, Z)\n",
    "    Z_e = Z * xi_hat\n",
    "    V1 = Z_e.T @ Z_e / n\n",
    "    \n",
    "    # get V3 by getting the empirical variance from drawing nu 100 times\n",
    "#     ns_sims = []\n",
    "#     s = 100\n",
    "#     for i in range(s):\n",
    "#         nu_i = rand.lognormal(size = n_consumers * mkts).reshape(-1,1)\n",
    "#         xi_hat = get_xi_hat(get_delta(sigma, nu_i), X, P, Z)\n",
    "#         Z_xi = Z * xi_hat\n",
    "#         ns_sims.append(Z_xi.T @ Z_xi)\n",
    "        \n",
    "#     V3 = np.mean(ns_sims, axis = 0)\n",
    "    \n",
    "    #return(G_term @ (V1 + V3) @ G_term.T)\n",
    "    return(G_term @ V1 @ G_term.T)"
   ]
  },
  {
   "cell_type": "code",
   "execution_count": 402,
   "metadata": {},
   "outputs": [
    {
     "data": {
      "text/plain": [
       "array([[1.00858126e-07, 2.55274679e-04, 6.15385873e-05],\n",
       "       [2.55274679e-04, 6.46107206e-01, 1.55755850e-01],\n",
       "       [6.15385873e-05, 1.55755850e-01, 3.75477702e-02]])"
      ]
     },
     "execution_count": 402,
     "metadata": {},
     "output_type": "execute_result"
    }
   ],
   "source": [
    "cross_shares_matrix[:3]"
   ]
  },
  {
   "cell_type": "code",
   "execution_count": 398,
   "metadata": {},
   "outputs": [
    {
     "data": {
      "text/plain": [
       "array([[171.06070967, -61.04157935,   2.88748345,  45.78046157],\n",
       "       [-61.04157935, 176.05336537,   2.7679358 ,  11.15742797],\n",
       "       [  2.88748345,   2.7679358 ,   1.35238495,   1.48141322],\n",
       "       [ 45.78046157,  11.15742797,   1.48141322,  17.19901358]])"
      ]
     },
     "execution_count": 398,
     "metadata": {},
     "output_type": "execute_result"
    }
   ],
   "source": [
    "v_cov(3,100,500,sigma_hat,demand_Z,x1,P_opt,nu_i_fixed)"
   ]
  },
  {
   "cell_type": "code",
   "execution_count": 399,
   "metadata": {},
   "outputs": [
    {
     "data": {
      "text/plain": [
       "array([0.75511745, 0.7660578 , 0.06714127, 0.23943693])"
      ]
     },
     "execution_count": 399,
     "metadata": {},
     "output_type": "execute_result"
    }
   ],
   "source": [
    "np.sqrt(np.diag(v_cov(3,100,500,sigma_hat,demand_Z,x1,P_opt,nu_i_fixed) / 300))"
   ]
  },
  {
   "cell_type": "code",
   "execution_count": 388,
   "metadata": {},
   "outputs": [],
   "source": [
    "# params\n",
    "mkts = 100\n",
    "prods = 3\n",
    "n_consumers = 500\n",
    "price_vals = P_opt\n",
    "sigma = sigma_hat\n",
    "nu_i_vals = nu_i_fixed\n",
    "\n",
    "# get implied delta and shares\n",
    "delta = get_delta(sigma, nu_i_vals)\n",
    "share_vals = get_shares(mkts,prods,n_consumers,price_vals.T,delta,sigma,nu_i_vals)\n",
    "\n",
    "# get individual shares\n",
    "u_exp = np.exp(np.repeat(delta, n_consumers, axis = 0) - sigma * np.repeat(price_vals.T, n_consumers, axis = 0) * nu_i_vals.reshape(-1,1))\n",
    "sum_terms = 1. + np.sum(u_exp, axis = 1).reshape(-1,1)\n",
    "indiv_shares = (u_exp / sum_terms)\n",
    "\n",
    "indiv_mkts_x_shares = [indiv_shares[i].reshape(-1,1) @ indiv_shares[i].reshape(1,-1) for i in range(len(indiv_shares))]\n",
    "cross_shares_matrix = np.concatenate(indiv_mkts_x_shares, axis = 0)\n",
    "own_shares_ind = np.repeat(indiv_shares, prods, axis = 0) * np.tile(np.eye(prods), (n_consumers * mkts,1))\n",
    "total_mat = own_shares_ind - cross_shares_matrix\n",
    "\n",
    "# get the inverse matrices\n",
    "inv_derivatives = []\n",
    "for i in range(100):    \n",
    "    mkt_blocks = [total_mat[j:(j+prods)] for j in range(i * prods * n_consumers, (i+1) * prods * n_consumers, prods)]\n",
    "    inv_derivatives.append(np.linalg.inv(np.mean(mkt_blocks, axis = 0)))\n",
    "\n",
    "# get the ds/dsigma derivatives and get the product\n",
    "row_sums = np.sum(np.repeat(price_vals.T, n_consumers, axis = 0) * indiv_shares, axis = 1)\n",
    "diff_terms = np.repeat(price_vals.T, n_consumers, axis = 0) - row_sums.reshape(-1,1)\n",
    "prod_terms = -1. * indiv_shares * nu_i_vals * diff_terms\n",
    "\n",
    "ds_dsigma = [np.mean(prod_terms[(i * 500):((i+1) * 500)], axis = 0).reshape(-1,1) for i in range(mkts)]\n",
    "ddelta_dsigma = np.concatenate([inv_derivatives[i] @ ds_dsigma[i] for i in range(mkts)])\n",
    "d_beta = -x1.T @ demand_Z\n",
    "d_alpha = P_opt.T.reshape(-1,1).T @ demand_Z\n",
    "d_sigma = ddelta_dsigma.T @ demand_Z\n",
    "\n",
    "Gamma = np.row_stack([d_beta,d_alpha,d_sigma]) / 300\n",
    "\n",
    "# get V1 by getting the variance of the Z * xi terms\n",
    "xi_hat = get_xi_hat(get_delta(sigma, nu_i_vals), x1, P_opt, demand_Z)\n",
    "Z_e = demand_Z * xi_hat\n",
    "V1 = Z_e.T @ Z_e / 300"
   ]
  },
  {
   "cell_type": "code",
   "execution_count": 401,
   "metadata": {},
   "outputs": [
    {
     "data": {
      "text/plain": [
       "array([[5.92204463, 4.54523591, 4.87303695, 5.22648404, 4.42468025,\n",
       "        4.40694856, 3.36519283, 3.21821855, 1.8309332 , 3.94529371,\n",
       "        3.08418385, 3.40506156, 3.34910524, 2.79852371, 2.94407461,\n",
       "        2.88830214, 2.68277763, 2.80690304, 2.72816616, 2.91848251,\n",
       "        3.1855832 , 3.03285996, 1.84725557, 2.79306433, 5.69360888,\n",
       "        4.0150964 , 5.20698558, 4.62003761, 3.80993806, 3.65914102,\n",
       "        2.42151187, 1.81332069, 2.62158143, 4.28610462, 3.98771626,\n",
       "        4.49947768, 4.24143949, 3.22488885, 3.69510141, 4.22232504,\n",
       "        2.69842233, 3.19824661, 3.83960809, 2.41263127, 3.71558635,\n",
       "        4.15306821, 3.49577631, 3.25910585, 5.61881898, 4.69763584,\n",
       "        3.03198061, 3.206728  , 2.54171865, 3.35138444, 3.85906084,\n",
       "        4.16404233, 2.85723533, 2.6383223 , 2.48687179, 2.12616447,\n",
       "        1.83758994, 2.16524564, 1.65683572, 3.78935826, 2.92792171,\n",
       "        3.74771614, 2.67626283, 1.50362898, 1.18789708, 2.41947406,\n",
       "        0.94412414, 2.40415695, 4.65168445, 3.73467473, 3.88366298,\n",
       "        7.1842533 , 7.655434  , 7.19905829, 4.64721957, 4.39560824,\n",
       "        3.77216449, 5.58022489, 4.6661907 , 4.70309658, 2.01296903,\n",
       "        1.91706492, 1.75234446, 2.89860253, 2.73592225, 2.70118869,\n",
       "        6.62810834, 5.40622508, 5.74121517, 5.50361985, 4.26621353,\n",
       "        5.34772956, 3.26466111, 3.63823667, 3.28157535, 3.66358866,\n",
       "        3.71950469, 4.33961383, 3.89241929, 4.38933074, 3.60498021,\n",
       "        2.88816937, 3.33245273, 2.98481963, 4.43847226, 4.42056261,\n",
       "        3.84031697, 2.68464282, 1.97174607, 2.69966059, 4.73570038,\n",
       "        4.20150127, 3.23805966, 3.40314857, 3.38728198, 2.40999877,\n",
       "        4.14305291, 4.52557825, 3.61062497, 3.02473503, 1.78235423,\n",
       "        3.08168786, 4.10681718, 3.62279733, 3.05904213, 2.26641379,\n",
       "        1.39639546, 2.49953208, 2.4760525 , 2.87666068, 1.75352735,\n",
       "        3.96459387, 3.81984531, 3.17125653, 4.34287796, 3.09772115,\n",
       "        3.76511827, 3.88675258, 3.1275989 , 3.40684588, 3.86220618,\n",
       "        4.88859402, 3.04817734, 3.7447802 , 2.72515483, 3.43825193,\n",
       "        3.57188997, 3.77859401, 4.27486456, 4.1335671 , 2.86162168,\n",
       "        3.41074997, 3.84189871, 2.75492156, 3.86990239, 4.66578356,\n",
       "        3.62941115, 3.59479392, 4.62553235, 4.69245067, 4.5851068 ,\n",
       "        3.92047507, 3.53512016, 3.91976421, 3.06672617, 2.85046207,\n",
       "        2.09363652, 2.98466506, 2.22829687, 3.24506008, 4.04643599,\n",
       "        3.2846587 , 2.81347004, 3.81635763, 3.30380983, 4.33043096,\n",
       "        5.1973111 , 4.24171021, 3.80105118, 5.52696312, 4.2692523 ,\n",
       "        5.16704067, 5.09687258, 4.04169479, 4.41768522, 4.8908899 ,\n",
       "        4.14898265, 3.52745348, 3.63719126, 3.07011684, 4.22856521,\n",
       "        5.02772249, 4.32447213, 4.909613  , 4.37736421, 3.88958401,\n",
       "        4.01616595, 2.60273276, 3.44981826, 3.06311659, 2.30290319,\n",
       "        1.72411759, 1.46472454, 2.76188097, 2.89648299, 2.92940741,\n",
       "        2.63905679, 2.31253753, 2.68963454, 5.15835441, 3.92302008,\n",
       "        4.48571665, 4.31020089, 4.27900174, 4.10237047, 4.56790788,\n",
       "        3.17539881, 3.59249155, 2.82261703, 2.62167923, 3.05308139,\n",
       "        3.48118553, 2.54766212, 3.63692512, 3.09076454, 2.57902026,\n",
       "        2.97625533, 2.39471205, 2.02187894, 1.97155171, 4.50571622,\n",
       "        3.63470591, 3.76746632, 4.89544701, 4.08103212, 5.10265951,\n",
       "        3.52442303, 3.62923104, 3.64091707, 2.78492029, 3.99369772,\n",
       "        3.7677986 , 6.11840314, 5.36486674, 4.35237788, 2.62954754,\n",
       "        2.16451213, 2.25894891, 3.40535176, 2.53119714, 2.74088684,\n",
       "        3.43700896, 2.74090871, 3.43218453, 3.30624713, 3.32259808,\n",
       "        3.14543566, 3.28711456, 2.47539317, 3.67954817, 2.71108927,\n",
       "        2.04749383, 1.46455611, 5.30781178, 4.38621821, 4.2183793 ,\n",
       "        4.34186682, 3.39855169, 2.88134773, 3.01254327, 2.59710794,\n",
       "        2.58176711, 2.43853568, 1.42868974, 2.05529195, 3.4810254 ,\n",
       "        2.4862497 , 2.79284495, 3.10600571, 2.1832837 , 1.91338915,\n",
       "        5.2182138 , 4.0863098 , 4.34812344, 2.93905173, 2.26252544,\n",
       "        3.13244135, 2.48135056, 3.16958296, 3.26912212, 3.27510411,\n",
       "        2.86117642, 2.08745537, 5.30146018, 5.35898258, 4.64993033]])"
      ]
     },
     "execution_count": 401,
     "metadata": {},
     "output_type": "execute_result"
    }
   ],
   "source": [
    "ddelta_dsigma.T"
   ]
  },
  {
   "cell_type": "code",
   "execution_count": 389,
   "metadata": {},
   "outputs": [
    {
     "data": {
      "text/plain": [
       "array([[-1.        , -0.52127388, -0.04981027, -1.04254777, -0.09962055],\n",
       "       [-0.52127388, -0.35232286, -0.01769626, -0.53869456, -0.05278854],\n",
       "       [-0.04981027, -0.01769626, -0.91161199, -0.05278854, -0.06787529],\n",
       "       [ 3.02654876,  1.62179077,  0.23919745,  3.12769694,  0.0657819 ],\n",
       "       [ 3.51648356,  1.87848993,  0.5491657 ,  3.70599766,  0.87875163]])"
      ]
     },
     "execution_count": 389,
     "metadata": {},
     "output_type": "execute_result"
    }
   ],
   "source": [
    "Gamma"
   ]
  },
  {
   "cell_type": "code",
   "execution_count": 386,
   "metadata": {},
   "outputs": [
    {
     "data": {
      "text/plain": [
       "array([1.04876358e+04, 3.39196487e+01, 3.29959120e-01, 9.25318854e+03,\n",
       "       7.51641767e+01])"
      ]
     },
     "execution_count": 386,
     "metadata": {},
     "output_type": "execute_result"
    }
   ],
   "source": [
    "np.diag(np.linalg.inv(Gamma.T @ Gamma) @ Gamma.T @ V1 @ Gamma @ np.linalg.inv(Gamma.T @ Gamma) / 300)"
   ]
  },
  {
   "cell_type": "code",
   "execution_count": 356,
   "metadata": {},
   "outputs": [
    {
     "data": {
      "text/plain": [
       "array([[-3.43403933e-05]])"
      ]
     },
     "execution_count": 356,
     "metadata": {},
     "output_type": "execute_result"
    }
   ],
   "source": [
    "2 / 300 * ddelta_dsigma.T @ demand_Z @ np.linalg.inv(demand_Z.T @ demand_Z) @ demand_Z.T @ get_xi_hat(delta,x1,P_opt,demand_Z)\n",
    "\n"
   ]
  },
  {
   "cell_type": "code",
   "execution_count": 348,
   "metadata": {},
   "outputs": [
    {
     "data": {
      "text/plain": [
       "{1.0:       fun: 3.854076930882367e-11\n",
       "  hess_inv: array([[3.52978348]])\n",
       "       jac: array([-4.69426197e-06])\n",
       "   message: 'Optimization terminated successfully.'\n",
       "      nfev: 10\n",
       "       nit: 4\n",
       "      njev: 5\n",
       "    status: 0\n",
       "   success: True\n",
       "         x: array([1.19009167]),\n",
       " 2.0:       fun: 8.008495007151258e-13\n",
       "  hess_inv: array([[3.47529894]])\n",
       "       jac: array([6.79120014e-07])\n",
       "   message: 'Optimization terminated successfully.'\n",
       "      nfev: 12\n",
       "       nit: 5\n",
       "      njev: 6\n",
       "    status: 0\n",
       "   success: True\n",
       "         x: array([1.19011045]),\n",
       " 3.0:       fun: 1.646750929689474e-12\n",
       "  hess_inv: array([[3.46964159]])\n",
       "       jac: array([9.72910996e-07])\n",
       "   message: 'Optimization terminated successfully.'\n",
       "      nfev: 12\n",
       "       nit: 5\n",
       "      njev: 6\n",
       "    status: 0\n",
       "   success: True\n",
       "         x: array([1.19011148]),\n",
       " 4.0:       fun: 6.908535051937552e-17\n",
       "  hess_inv: array([[3.49338569]])\n",
       "       jac: array([-4.15588489e-09])\n",
       "   message: 'Optimization terminated successfully.'\n",
       "      nfev: 14\n",
       "       nit: 6\n",
       "      njev: 7\n",
       "    status: 0\n",
       "   success: True\n",
       "         x: array([1.19010806]),\n",
       " 5.0:       fun: 8.892499428481815e-14\n",
       "  hess_inv: array([[3.48228528]])\n",
       "       jac: array([2.27722218e-07])\n",
       "   message: 'Optimization terminated successfully.'\n",
       "      nfev: 14\n",
       "       nit: 6\n",
       "      njev: 7\n",
       "    status: 0\n",
       "   success: True\n",
       "         x: array([1.19010887]),\n",
       " 6.0:       fun: 6.504335042572737e-11\n",
       "  hess_inv: array([[3.54168285]])\n",
       "       jac: array([-6.0989218e-06])\n",
       "   message: 'Optimization terminated successfully.'\n",
       "      nfev: 14\n",
       "       nit: 6\n",
       "      njev: 7\n",
       "    status: 0\n",
       "   success: True\n",
       "         x: array([1.19008676]),\n",
       " 7.0:       fun: 7.263206064040412e-15\n",
       "  hess_inv: array([[3.48846656]])\n",
       "       jac: array([-6.23400878e-08])\n",
       "   message: 'Optimization terminated successfully.'\n",
       "      nfev: 16\n",
       "       nit: 7\n",
       "      njev: 8\n",
       "    status: 0\n",
       "   success: True\n",
       "         x: array([1.19010786]),\n",
       " 8.0:       fun: 9.848732207403275e-14\n",
       "  hess_inv: array([[3.51108364]])\n",
       "       jac: array([-2.35276222e-07])\n",
       "   message: 'Optimization terminated successfully.'\n",
       "      nfev: 14\n",
       "       nit: 6\n",
       "      njev: 7\n",
       "    status: 0\n",
       "   success: True\n",
       "         x: array([1.19010726]),\n",
       " 9.0:       fun: 1.4565243853798259e-12\n",
       "  hess_inv: array([[3.47115888]])\n",
       "       jac: array([9.15118861e-07])\n",
       "   message: 'Optimization terminated successfully.'\n",
       "      nfev: 14\n",
       "       nit: 6\n",
       "      njev: 7\n",
       "    status: 0\n",
       "   success: True\n",
       "         x: array([1.19011128])}"
      ]
     },
     "execution_count": 348,
     "metadata": {},
     "output_type": "execute_result"
    }
   ],
   "source": [
    "results_dict"
   ]
  },
  {
   "cell_type": "code",
   "execution_count": 335,
   "metadata": {},
   "outputs": [
    {
     "data": {
      "text/plain": [
       "array([[-5.92689685],\n",
       "       [-4.43292976],\n",
       "       [-4.79613185],\n",
       "       [-5.99922169],\n",
       "       [-5.17348356],\n",
       "       [-5.15438123],\n",
       "       [-3.3013803 ],\n",
       "       [-3.13813375],\n",
       "       [-1.73558151],\n",
       "       [-3.69032491],\n",
       "       [-2.84274927],\n",
       "       [-3.14134113],\n",
       "       [-3.87194057],\n",
       "       [-3.28312974],\n",
       "       [-3.43955958],\n",
       "       [-2.91628593],\n",
       "       [-2.73056792],\n",
       "       [-2.84339295],\n",
       "       [-2.59604921],\n",
       "       [-2.77884514],\n",
       "       [-3.03944132],\n",
       "       [-3.10191077],\n",
       "       [-1.72708044],\n",
       "       [-2.83496017],\n",
       "       [-4.72982766],\n",
       "       [-3.08764504],\n",
       "       [-4.28274963],\n",
       "       [-4.52907804],\n",
       "       [-3.65860638],\n",
       "       [-3.51359292],\n",
       "       [-2.37176767],\n",
       "       [-1.76144308],\n",
       "       [-2.57788153],\n",
       "       [-4.1954907 ],\n",
       "       [-3.90809438],\n",
       "       [-4.41183622],\n",
       "       [-4.3893424 ],\n",
       "       [-3.24841875],\n",
       "       [-3.74569067],\n",
       "       [-4.57388457],\n",
       "       [-2.873868  ],\n",
       "       [-3.40548825],\n",
       "       [-3.90742551],\n",
       "       [-2.41415574],\n",
       "       [-3.7687814 ],\n",
       "       [-4.63124814],\n",
       "       [-3.84155454],\n",
       "       [-3.57718603],\n",
       "       [-5.36166475],\n",
       "       [-4.30654177],\n",
       "       [-2.72089855],\n",
       "       [-3.31860847],\n",
       "       [-2.60299667],\n",
       "       [-3.47514773],\n",
       "       [-4.01777273],\n",
       "       [-4.34541171],\n",
       "       [-2.99122767],\n",
       "       [-2.71049856],\n",
       "       [-2.55399168],\n",
       "       [-2.19021712],\n",
       "       [-1.96462423],\n",
       "       [-2.29414803],\n",
       "       [-1.78385278],\n",
       "       [-4.26897797],\n",
       "       [-3.35364403],\n",
       "       [-4.22660038],\n",
       "       [-2.35497407],\n",
       "       [-0.91584523],\n",
       "       [-0.58129228],\n",
       "       [-2.78665326],\n",
       "       [-1.05833256],\n",
       "       [-2.76834169],\n",
       "       [-4.78371533],\n",
       "       [-3.73670204],\n",
       "       [-3.89147469],\n",
       "       [-6.93321554],\n",
       "       [-7.42687001],\n",
       "       [-6.94780882],\n",
       "       [-4.48380529],\n",
       "       [-4.21692592],\n",
       "       [-3.60400877],\n",
       "       [-5.69813786],\n",
       "       [-4.54181313],\n",
       "       [-4.58001192],\n",
       "       [-2.33763238],\n",
       "       [-2.22486937],\n",
       "       [-2.03248399],\n",
       "       [-2.7979146 ],\n",
       "       [-2.6276561 ],\n",
       "       [-2.5918897 ],\n",
       "       [-6.32057661],\n",
       "       [-5.08442243],\n",
       "       [-5.40799374],\n",
       "       [-5.62602224],\n",
       "       [-4.15795877],\n",
       "       [-5.43168495],\n",
       "       [-3.30653118],\n",
       "       [-3.68521012],\n",
       "       [-3.32375276],\n",
       "       [-3.53254871],\n",
       "       [-3.5909445 ],\n",
       "       [-4.24055106],\n",
       "       [-3.3969094 ],\n",
       "       [-3.91952148],\n",
       "       [-3.12253871],\n",
       "       [-3.245143  ],\n",
       "       [-3.73437135],\n",
       "       [-3.34895589],\n",
       "       [-3.95306295],\n",
       "       [-3.93652216],\n",
       "       [-3.42581902],\n",
       "       [-2.88241846],\n",
       "       [-2.11286256],\n",
       "       [-2.90022529],\n",
       "       [-4.38941559],\n",
       "       [-3.87979415],\n",
       "       [-2.95968719],\n",
       "       [-3.49568451],\n",
       "       [-3.48005011],\n",
       "       [-2.51922126],\n",
       "       [-3.97719295],\n",
       "       [-4.39791716],\n",
       "       [-3.46946826],\n",
       "       [-3.1180199 ],\n",
       "       [-1.82701787],\n",
       "       [-3.17145258],\n",
       "       [-4.72836157],\n",
       "       [-4.09093492],\n",
       "       [-3.45892769],\n",
       "       [-2.17399067],\n",
       "       [-1.32917834],\n",
       "       [-2.40566534],\n",
       "       [-2.66496613],\n",
       "       [-3.08953054],\n",
       "       [-1.9086815 ],\n",
       "       [-4.11109686],\n",
       "       [-3.95637116],\n",
       "       [-3.26722018],\n",
       "       [-4.65277244],\n",
       "       [-3.24353222],\n",
       "       [-4.00174681],\n",
       "       [-3.59438741],\n",
       "       [-2.87471548],\n",
       "       [-3.13460598],\n",
       "       [-4.04738771],\n",
       "       [-5.08492548],\n",
       "       [-3.19413906],\n",
       "       [-3.92819581],\n",
       "       [-2.75323465],\n",
       "       [-3.54955487],\n",
       "       [-3.48077679],\n",
       "       [-3.69231742],\n",
       "       [-4.2256399 ],\n",
       "       [-4.45341641],\n",
       "       [-3.04993959],\n",
       "       [-3.64744005],\n",
       "       [-3.47913451],\n",
       "       [-2.38692302],\n",
       "       [-3.50751661],\n",
       "       [-4.82988077],\n",
       "       [-3.72284387],\n",
       "       [-3.68564027],\n",
       "       [-4.38817679],\n",
       "       [-4.45681021],\n",
       "       [-4.34701574],\n",
       "       [-3.57056883],\n",
       "       [-3.20098609],\n",
       "       [-3.56986277],\n",
       "       [-3.33685726],\n",
       "       [-3.11043672],\n",
       "       [-2.2740051 ],\n",
       "       [-3.18826665],\n",
       "       [-2.38940156],\n",
       "       [-3.45658963],\n",
       "       [-4.28936797],\n",
       "       [-3.34791222],\n",
       "       [-2.8075276 ],\n",
       "       [-3.63857385],\n",
       "       [-3.1492818 ],\n",
       "       [-4.19454317],\n",
       "       [-5.32545527],\n",
       "       [-4.2141254 ],\n",
       "       [-3.75525021],\n",
       "       [-4.70924033],\n",
       "       [-3.4300804 ],\n",
       "       [-4.30127652],\n",
       "       [-4.51510613],\n",
       "       [-3.40892671],\n",
       "       [-3.74731013],\n",
       "       [-4.30920502],\n",
       "       [-3.6085038 ],\n",
       "       [-3.06738084],\n",
       "       [-3.749674  ],\n",
       "       [-3.16082243],\n",
       "       [-4.31773939],\n",
       "       [-4.60650535],\n",
       "       [-3.97420232],\n",
       "       [-4.4911291 ],\n",
       "       [-4.20517947],\n",
       "       [-3.66617636],\n",
       "       [-3.801255  ],\n",
       "       [-2.99709313],\n",
       "       [-3.85591466],\n",
       "       [-3.47937847],\n",
       "       [-2.38292969],\n",
       "       [-1.78736017],\n",
       "       [-1.53284663],\n",
       "       [-2.91063287],\n",
       "       [-3.05124203],\n",
       "       [-3.08591667],\n",
       "       [-2.77033126],\n",
       "       [-2.40451822],\n",
       "       [-2.82929423],\n",
       "       [-4.94000523],\n",
       "       [-3.71842093],\n",
       "       [-4.30249579],\n",
       "       [-4.15657973],\n",
       "       [-4.12671646],\n",
       "       [-3.95934678],\n",
       "       [-4.46187792],\n",
       "       [-3.20626746],\n",
       "       [-3.5885733 ],\n",
       "       [-2.71379273],\n",
       "       [-2.52278822],\n",
       "       [-2.93852456],\n",
       "       [-3.35842999],\n",
       "       [-2.38119152],\n",
       "       [-3.54295442],\n",
       "       [-3.48151745],\n",
       "       [-2.9097588 ],\n",
       "       [-3.35655868],\n",
       "       [-2.56050022],\n",
       "       [-2.14696594],\n",
       "       [-2.09177546],\n",
       "       [-4.19670297],\n",
       "       [-3.40098431],\n",
       "       [-3.52047897],\n",
       "       [-4.64586437],\n",
       "       [-3.79723651],\n",
       "       [-4.87580876],\n",
       "       [-3.55108503],\n",
       "       [-3.65921503],\n",
       "       [-3.67128354],\n",
       "       [-2.97329885],\n",
       "       [-4.25697062],\n",
       "       [-4.02113469],\n",
       "       [-5.75564104],\n",
       "       [-4.94928182],\n",
       "       [-4.0215437 ],\n",
       "       [-2.71125991],\n",
       "       [-2.26238232],\n",
       "       [-2.35360198],\n",
       "       [-3.88798021],\n",
       "       [-2.88442579],\n",
       "       [-3.12342594],\n",
       "       [-3.28779173],\n",
       "       [-2.57379543],\n",
       "       [-3.28262546],\n",
       "       [-3.01145374],\n",
       "       [-3.02580389],\n",
       "       [-2.87237728],\n",
       "       [-3.35536609],\n",
       "       [-2.47309196],\n",
       "       [-3.89739757],\n",
       "       [-3.12733408],\n",
       "       [-2.32259535],\n",
       "       [-1.66899373],\n",
       "       [-4.64526867],\n",
       "       [-3.7062844 ],\n",
       "       [-3.55796108],\n",
       "       [-4.26955769],\n",
       "       [-3.26096587],\n",
       "       [-2.75366995],\n",
       "       [-3.27672695],\n",
       "       [-2.83864725],\n",
       "       [-2.82244117],\n",
       "       [-2.59378415],\n",
       "       [-1.51163847],\n",
       "       [-2.17494928],\n",
       "       [-3.64390361],\n",
       "       [-2.61077944],\n",
       "       [-2.92520198],\n",
       "       [-3.07282967],\n",
       "       [-2.16257842],\n",
       "       [-1.91220629],\n",
       "       [-5.06929034],\n",
       "       [-3.88744726],\n",
       "       [-4.1261426 ],\n",
       "       [-3.0973919 ],\n",
       "       [-2.42619258],\n",
       "       [-3.30600631],\n",
       "       [-2.6632838 ],\n",
       "       [-3.35962258],\n",
       "       [-3.46291565],\n",
       "       [-3.38080527],\n",
       "       [-2.91742745],\n",
       "       [-2.15522322],\n",
       "       [-4.49105377],\n",
       "       [-4.54640701],\n",
       "       [-3.89085949]])"
      ]
     },
     "execution_count": 335,
     "metadata": {},
     "output_type": "execute_result"
    }
   ],
   "source": [
    "np.concatenate(ddelta_dsigma)"
   ]
  },
  {
   "cell_type": "code",
   "execution_count": 330,
   "metadata": {},
   "outputs": [
    {
     "data": {
      "text/plain": [
       "array([0.20218965])"
      ]
     },
     "execution_count": 330,
     "metadata": {},
     "output_type": "execute_result"
    }
   ],
   "source": [
    "indiv_shares[1,1] * nu_i_vals[1] * [price_vals.T[0,1] - np.sum(price_vals.T[0] * indiv_shares[1])]"
   ]
  },
  {
   "cell_type": "markdown",
   "metadata": {},
   "source": [
    "To get elasticity, we need to do some calculations. We know that the cross-price (or same-price, if $j=k$) elasticity is given by\n",
    "$$\\varepsilon_{jk} = \\frac{\\partial s_j/s_j}{\\partial p_k/p_k} = \\frac{\\partial s_j}{\\partial p_k}\\frac{p_k}{s_j}$$\n",
    "\n",
    "Given our shares formulation, we have\n",
    "$$\\frac{\\partial s_j}{\\partial p_j} = \\frac{1}{n}\\sum_{i=1}^{500}\\frac{(1+\\sum_s{\\exp(\\delta_s + \\mu_{is})})(-\\alpha-\\sigma_{\\alpha}\\nu_i)\\exp(\\delta_j + \\mu_{ij}) + (\\alpha + \\sigma_{\\alpha}\\nu_i)(\\exp(\\delta_j + \\mu_{ij}))^2}{(1+\\sum_s{\\exp(\\delta_s + \\mu_{is})})^2}$$\n",
    "Simplifying yields\n",
    "$$\\frac{\\partial s_j}{\\partial p_j} = \\frac{1}{500}\\sum_{i=1}^{500}(\\alpha + \\sigma_{\\alpha}\\nu_i)(s_{ij}^2 - s_{ij})$$\n",
    "and\n",
    "$$\\frac{\\partial s_j}{\\partial p_k} = \\frac{1}{500}\\sum_{i=1}^{500}(\\alpha + \\sigma_{\\alpha}\\nu_i)(s_{ij}s_{ik})$$\n",
    "\n",
    "We implement this by creating a $300\\times 3$ matrix, where each $3\\times 3$ block represents all elasticities within a given market. "
   ]
  },
  {
   "cell_type": "code",
   "execution_count": 196,
   "metadata": {},
   "outputs": [],
   "source": [
    "def get_elasticities(mkts,prods,n_consumers,sigma,alpha,price_vals,nu_i_vals):\n",
    "    # get implied delta and shares\n",
    "    delta = get_delta(sigma, nu_i_vals)\n",
    "    share_vals = get_shares(mkts,prods,n_consumers,price_vals.T,delta,sigma,nu_i_vals)\n",
    "    \n",
    "    # get individual shares\n",
    "    u_exp = np.exp(np.repeat(delta, n_consumers, axis = 0) - sigma * np.repeat(price_vals.T, n_consumers, axis = 0) * nu_i_vals.reshape(-1,1))\n",
    "    sum_terms = 1. + np.sum(u_exp, axis = 1).reshape(-1,1)\n",
    "    indiv_shares = (u_exp / sum_terms)\n",
    "    \n",
    "    # convert to 300x3 matrix, where each 3x3 matrix yields all elasticities for a given market\n",
    "    \n",
    "    indiv_mkts_x_shares = [indiv_shares[i].reshape(-1,1) @ indiv_shares[i].reshape(1,-1) for i in range(len(indiv_shares))]\n",
    "    cross_shares_matrix = np.concatenate(indiv_mkts_x_shares, axis = 0)\n",
    "    own_shares_ind = np.repeat(indiv_shares, prods, axis = 0) * np.tile(np.eye(prods), (n_consumers * mkts,1))\n",
    "    \n",
    "    # get the derivative terms\n",
    "    d_terms = np.repeat(alpha + sigma * nu_i_vals.reshape(-1,1), 3, axis = 0)\n",
    "\n",
    "    total_mat = d_terms * (cross_shares_matrix - own_shares_ind)\n",
    "    \n",
    "    all_blocks = []\n",
    "    for i in range(100):    \n",
    "        mkt_blocks = [total_mat[j:(j+prods)] for j in range(i * prods * n_consumers, (i+1) * prods * n_consumers, prods)]\n",
    "        all_blocks.append(np.mean(mkt_blocks, axis = 0))\n",
    "\n",
    "    all_elasticities = np.concatenate(all_blocks, axis = 0) * price_vals.T.reshape(-1,1) / np.repeat(share_vals,prods,axis = 0)\n",
    "    \n",
    "    return(all_elasticities)\n",
    "    \n",
    "    "
   ]
  },
  {
   "cell_type": "code",
   "execution_count": 281,
   "metadata": {},
   "outputs": [],
   "source": [
    "# arbitrarily take first results to get parameter estimates since they're all roughly the same\n",
    "sigma_hat = results_dict[1.0]['x']\n",
    "theta_hat = calculate_theta1(get_delta(sigma_hat, nu_i_fixed),x1,P_opt,demand_Z)\n",
    "alpha_hat = -1 * theta_hat[3]\n",
    "all_elasticities = get_elasticities(mkts, prods, n_consumers, sigma_hat, alpha_hat, P_opt, nu_i_fixed)"
   ]
  },
  {
   "cell_type": "markdown",
   "metadata": {},
   "source": [
    "It's difficult to report so many elasticities, so I provide an example with the first market (the rows represent the $p_j$, and the columns the $s_k$):"
   ]
  },
  {
   "cell_type": "code",
   "execution_count": 282,
   "metadata": {},
   "outputs": [
    {
     "data": {
      "text/html": [
       "<div>\n",
       "<style scoped>\n",
       "    .dataframe tbody tr th:only-of-type {\n",
       "        vertical-align: middle;\n",
       "    }\n",
       "\n",
       "    .dataframe tbody tr th {\n",
       "        vertical-align: top;\n",
       "    }\n",
       "\n",
       "    .dataframe thead th {\n",
       "        text-align: right;\n",
       "    }\n",
       "</style>\n",
       "<table border=\"1\" class=\"dataframe\">\n",
       "  <thead>\n",
       "    <tr style=\"text-align: right;\">\n",
       "      <th></th>\n",
       "      <th>0</th>\n",
       "      <th>1</th>\n",
       "      <th>2</th>\n",
       "    </tr>\n",
       "  </thead>\n",
       "  <tbody>\n",
       "    <tr>\n",
       "      <th>0</th>\n",
       "      <td>-11.050328</td>\n",
       "      <td>0.000651</td>\n",
       "      <td>0.000868</td>\n",
       "    </tr>\n",
       "    <tr>\n",
       "      <th>1</th>\n",
       "      <td>2.742007</td>\n",
       "      <td>-1.045454</td>\n",
       "      <td>3.610526</td>\n",
       "    </tr>\n",
       "    <tr>\n",
       "      <th>2</th>\n",
       "      <td>0.749070</td>\n",
       "      <td>0.739385</td>\n",
       "      <td>-4.681548</td>\n",
       "    </tr>\n",
       "  </tbody>\n",
       "</table>\n",
       "</div>"
      ],
      "text/plain": [
       "           0         1         2\n",
       "0 -11.050328  0.000651  0.000868\n",
       "1   2.742007 -1.045454  3.610526\n",
       "2   0.749070  0.739385 -4.681548"
      ]
     },
     "execution_count": 282,
     "metadata": {},
     "output_type": "execute_result"
    }
   ],
   "source": [
    "pd.DataFrame(all_elasticities[:3])"
   ]
  },
  {
   "cell_type": "markdown",
   "metadata": {},
   "source": [
    "The other metric that's reported in BLP is the number of firms (here I will use the percentage of total firms) that have inelastic same-price elasticity:"
   ]
  },
  {
   "cell_type": "code",
   "execution_count": 290,
   "metadata": {},
   "outputs": [
    {
     "name": "stdout",
     "output_type": "stream",
     "text": [
      "6.33% of firms are pricing in the inelastic part of demand.\n"
     ]
    }
   ],
   "source": [
    "own_elasticity = all_elasticities * np.tile(np.eye(prods), (mkts,1))\n",
    "own_elasticity = own_elasticity[np.where(own_elasticity != 0)]\n",
    "\n",
    "inelastic_elasticities = np.sum(own_elasticity > -1.) / len(own_elasticity)\n",
    "print('{}% of firms are pricing in the inelastic part of demand.'.format(round(inelastic_elasticities* 100, 2)))"
   ]
  },
  {
   "cell_type": "code",
   "execution_count": 287,
   "metadata": {},
   "outputs": [
    {
     "data": {
      "text/plain": [
       "0.06333333333333334"
      ]
     },
     "execution_count": 287,
     "metadata": {},
     "output_type": "execute_result"
    }
   ],
   "source": [
    "inelastic_elasticities"
   ]
  },
  {
   "cell_type": "code",
   "execution_count": 36,
   "metadata": {},
   "outputs": [],
   "source": [
    "def get_demand_supply_instruments(X,W,prds,mkts):\n",
    "    z1 = X # own characteristics\n",
    "    \n",
    "    z2_list = [np.sum(z1[:,1:][(i*prods):((i+1)*prods)], axis = 0) for i in range(int(X.shape[0]/prods))]\n",
    "    z2 = np.repeat(np.row_stack(z2_list), prods, axis = 0) - z1[:,1:] # sum characteristics for the firm's products, subtract z1\n",
    "    \n",
    "    return(np.column_stack([z1,z2,w]))"
   ]
  },
  {
   "cell_type": "code",
   "execution_count": 230,
   "metadata": {},
   "outputs": [
    {
     "name": "stdout",
     "output_type": "stream",
     "text": [
      "Optimization terminated successfully.\n",
      "         Current function value: 0.012914\n",
      "         Iterations: 3\n",
      "         Function evaluations: 10\n",
      "         Gradient evaluations: 5\n",
      "Optimization terminated successfully.\n",
      "         Current function value: 0.012914\n",
      "         Iterations: 5\n",
      "         Function evaluations: 12\n",
      "         Gradient evaluations: 6\n",
      "Optimization terminated successfully.\n",
      "         Current function value: 0.012914\n",
      "         Iterations: 6\n",
      "         Function evaluations: 14\n",
      "         Gradient evaluations: 7\n",
      "Optimization terminated successfully.\n",
      "         Current function value: 0.012914\n",
      "         Iterations: 6\n",
      "         Function evaluations: 14\n",
      "         Gradient evaluations: 7\n"
     ]
    }
   ],
   "source": [
    "mkts = 100\n",
    "prods = 3\n",
    "\n",
    "# set a seed\n",
    "rand.seed(seed=900)\n",
    "\n",
    "# import data\n",
    "x1,xi_all,w,eta,Z,alphas,P_opt,shares = import_data(mkts,prods)\n",
    "\n",
    "# get number of consumers\n",
    "n_consumers = alphas.shape[1]\n",
    "\n",
    "# simulate consumers\n",
    "nu_i_fixed = rand.lognormal(size = n_consumers * mkts).reshape(-1,1)\n",
    "\n",
    "# get instruments\n",
    "\n",
    "Z = get_demand_supply_instruments(x1, w, prods, mkts)\n",
    "\n",
    "# optimize GMM for different values\n",
    "\n",
    "results_dict = {x: gmm_min(x, Z, nu_i_fixed) for x in np.arange(1.,5.,1.)}"
   ]
  },
  {
   "cell_type": "code",
   "execution_count": 231,
   "metadata": {},
   "outputs": [
    {
     "data": {
      "text/plain": [
       "{1.0:       fun: 0.012914149558182694\n",
       "  hess_inv: array([[0.00984343]])\n",
       "       jac: array([-2.2444874e-06])\n",
       "   message: 'Optimization terminated successfully.'\n",
       "      nfev: 10\n",
       "       nit: 3\n",
       "      njev: 5\n",
       "    status: 0\n",
       "   success: True\n",
       "         x: array([1.02333912]),\n",
       " 2.0:       fun: 0.012914149558140867\n",
       "  hess_inv: array([[0.00983377]])\n",
       "       jac: array([-4.00468707e-08])\n",
       "   message: 'Optimization terminated successfully.'\n",
       "      nfev: 12\n",
       "       nit: 5\n",
       "      njev: 6\n",
       "    status: 0\n",
       "   success: True\n",
       "         x: array([1.02333914]),\n",
       " 3.0:       fun: 0.012914149558140603\n",
       "  hess_inv: array([[0.00983311]])\n",
       "       jac: array([1.12690032e-07])\n",
       "   message: 'Optimization terminated successfully.'\n",
       "      nfev: 14\n",
       "       nit: 6\n",
       "      njev: 7\n",
       "    status: 0\n",
       "   success: True\n",
       "         x: array([1.02333914]),\n",
       " 4.0:       fun: 0.012914149558140256\n",
       "  hess_inv: array([[0.00983353]])\n",
       "       jac: array([1.01514161e-07])\n",
       "   message: 'Optimization terminated successfully.'\n",
       "      nfev: 14\n",
       "       nit: 6\n",
       "      njev: 7\n",
       "    status: 0\n",
       "   success: True\n",
       "         x: array([1.02333914])}"
      ]
     },
     "execution_count": 231,
     "metadata": {},
     "output_type": "execute_result"
    }
   ],
   "source": [
    "results_dict"
   ]
  },
  {
   "cell_type": "markdown",
   "metadata": {},
   "source": [
    "We note that\n",
    "$$\\hat{\\xi}_{jm} = \\delta_{jm} - \\hat{\\beta}X_{jm} - \\hat{\\alpha}p_{jm}$$"
   ]
  },
  {
   "cell_type": "markdown",
   "metadata": {},
   "source": [
    "We then calculate $\\Delta$. As firms produce one good per market, $\\Delta$ will be diagonal, with elements given by\n",
    "$$-\\frac{\\partial s_j}{\\partial p_j}$$\n",
    "For an individual $i$, the choice probability of choosing product $j$ is given by\n",
    "$$\\mathbb{P}_{ij} = \\frac{\\exp(\\delta_j - p_j \\nu_i \\sigma_{\\alpha})}{1 + \\sum_{k=1}^J\\exp(\\delta_k - p_k \\nu_i \\sigma_{\\alpha})}$$\n",
    "This means that\n",
    "$$\\frac{\\partial \\mathbb{P}_{ij}}{\\partial p_j} = \\frac{\\left(1 + \\sum_{k=1}^J\\exp(\\delta_k - p_k \\nu_i \\sigma_{\\alpha})\\right)\\exp(\\delta_j - p_j \\nu_i \\sigma_{\\alpha})(-\\alpha - \\sigma_{\\alpha}\\nu_i) - \\exp(\\delta_j - p_j \\nu_i \\sigma_{\\alpha})^2(-\\alpha - \\sigma_{\\alpha}\\nu_i)}{\\left(1 + \\sum_{k=1}^J\\exp(\\delta_k - p_k \\nu_i \\sigma_{\\alpha})\\right)^2}$$\n",
    "and\n",
    "$$-\\frac{\\partial s_j}{\\partial p_j} = -\\frac{1}{n}\\sum_{i=1}^{ns}\\frac{\\partial \\mathbb{P}_{ij}}{\\partial p_j}$$\n",
    "Given our shares formulation, we have\n",
    "$$-\\frac{\\partial s_j}{\\partial p_j} = -\\frac{1}{n}\\sum_{i=1}^{500}\\frac{(1+\\sum_s{\\exp(\\delta_s + \\mu_{is})})(-\\alpha-\\sigma_{\\alpha}\\nu_i)\\exp(\\delta_j + \\mu_{ij}) + (\\alpha + \\sigma_{\\alpha}\\nu_i)(\\exp(\\delta_j + \\mu_{ij}))^2}{(1+\\sum_s{\\exp(\\delta_s + \\mu_{is})})^2}$$\n",
    "Simplifying yields\n",
    "$$\\frac{\\partial s_j}{\\partial p_j} = \\frac{1}{n}\\sum_{i=1}^{500}(\\alpha + \\sigma_{\\alpha}\\nu_i)(s_{ij}^2 - s_{ij})$$\n",
    "and\n",
    "$$\\frac{\\partial s_j}{\\partial p_k} = \\frac{1}{n}\\sum_{i=1}^{500}(\\alpha + \\sigma_{\\alpha}\\nu_i)(s_{ij}s_{ik})$$"
   ]
  },
  {
   "cell_type": "code",
   "execution_count": 199,
   "metadata": {},
   "outputs": [],
   "source": [
    "# elasticities\n",
    "\n",
    "delta_og = (x1 @ np.array([5,1,1])).reshape(100,3) - P_opt.T + xi_all.reshape(100,3)\n",
    "\n",
    "sigma = 1.\n",
    "alpha = 1.\n",
    "nu_i = alphas.reshape(-1,1) -1.\n",
    "delta = delta_og\n",
    "\n",
    "# we have (ds/dp) * p/s\n",
    "\n",
    "u_exp = np.exp(np.repeat(delta, 500, axis = 0) - np.repeat(P_opt.T, 500, axis = 0) * nu_i.reshape(-1,1))\n",
    "sum_terms = 1. + np.sum(u_exp, axis = 1).reshape(-1,1)\n",
    "indiv_shares = (u_exp / sum_terms)\n",
    "\n",
    "# get a 300x3 matrix, where each 3x3 matrix yields all elasticities for a given market\n",
    "\n",
    "indiv_mkts_x_shares = [indiv_shares[i].reshape(-1,1) @ indiv_shares[i].reshape(1,-1) for i in range(len(indiv_shares))]\n",
    "cross_shares_matrix = np.concatenate(indiv_mkts_x_shares, axis = 0)\n",
    "own_shares_ind = np.repeat(indiv_shares, 3, axis = 0) * np.tile(np.eye(3), (50000,1))\n",
    "\n",
    "d_terms = np.repeat(1. + nu_i.reshape(-1,1), 3, axis = 0)\n",
    "\n",
    "total_mat = d_terms * (cross_shares_matrix - own_shares_ind)\n",
    "\n",
    "all_blocks = []\n",
    "for i in range(100):    \n",
    "    mkt_blocks = [total_mat[j:(j+3)] for j in range(i * 1500, (i+1) * 1500, 3)]\n",
    "    all_blocks.append(np.mean(mkt_blocks, axis = 0))\n",
    "\n",
    "all_elasticities_2 = np.concatenate(all_blocks, axis = 0) * P_opt.T.reshape(-1,1) / np.repeat(shares.T,3,axis = 0)\n",
    "\n",
    "own_elasticity = all_elasticities * np.tile(np.eye(3), (100,1))\n",
    "own_elasticity = own_elasticity[np.where(own_elasticity != 0)]\n",
    "\n",
    "inelastic_elasticities = np.sum(own_elasticity > -1.) / len(own_elasticity)\n"
   ]
  },
  {
   "cell_type": "code",
   "execution_count": 197,
   "metadata": {},
   "outputs": [],
   "source": [
    "all_elasticities = get_elasticities(100,3,500,1.,1.,P_opt,alphas.reshape(-1,1)-1.)\n",
    "own_elasticity = all_elasticities * np.tile(np.eye(prods), (mkts,1))\n",
    "own_elasticity = own_elasticity[np.where(own_elasticity != 0)]\n",
    "\n",
    "inelastic_elasticities = np.sum(own_elasticity > -1.) / len(own_elasticity)"
   ]
  },
  {
   "cell_type": "code",
   "execution_count": 198,
   "metadata": {},
   "outputs": [
    {
     "data": {
      "text/plain": [
       "array([[-8.46216171e+00,  4.98683734e-04,  6.48924406e-04],\n",
       "       [ 2.10200072e+00, -8.71412836e-01,  2.90656393e+00],\n",
       "       [ 5.60146631e-01,  5.95223190e-01, -3.82389894e+00],\n",
       "       [-3.47082960e+00,  3.87359101e-01,  3.83945214e-01],\n",
       "       [ 2.72297670e-01, -2.39988026e+00,  3.99914384e-01],\n",
       "       [ 1.34808996e+00,  1.99749858e+00, -7.76256681e-01]])"
      ]
     },
     "execution_count": 198,
     "metadata": {},
     "output_type": "execute_result"
    }
   ],
   "source": [
    "all_elasticities[:6]"
   ]
  },
  {
   "cell_type": "code",
   "execution_count": 200,
   "metadata": {},
   "outputs": [
    {
     "data": {
      "text/plain": [
       "array([[-8.46216171e+00,  4.98683734e-04,  6.48924406e-04],\n",
       "       [ 2.10200072e+00, -8.71412836e-01,  2.90656393e+00],\n",
       "       [ 5.60146631e-01,  5.95223190e-01, -3.82389894e+00],\n",
       "       [-3.47082933e+00,  3.87359165e-01,  3.83945261e-01],\n",
       "       [ 2.72297707e-01, -2.39988326e+00,  3.99915330e-01],\n",
       "       [ 1.34809008e+00,  1.99750330e+00, -7.76255814e-01]])"
      ]
     },
     "execution_count": 200,
     "metadata": {},
     "output_type": "execute_result"
    }
   ],
   "source": [
    "all_elasticities_2[:6]"
   ]
  },
  {
   "cell_type": "code",
   "execution_count": 191,
   "metadata": {},
   "outputs": [
    {
     "data": {
      "text/plain": [
       "(100, 3)"
      ]
     },
     "execution_count": 191,
     "metadata": {},
     "output_type": "execute_result"
    }
   ],
   "source": [
    "get_delta(sigma, nu_i_fixed).shape"
   ]
  },
  {
   "cell_type": "code",
   "execution_count": null,
   "metadata": {},
   "outputs": [],
   "source": [
    "def plot_estimated_cs(mkts, prods, n_consumers, t1, t2):\n",
    "    # set a seed\n",
    "    rand.seed(seed=900)\n",
    "    \n",
    "    # import data\n",
    "    x1,xi_all,w,eta,Z,alphas,P_opt,shares = import_data(mkts,prods)\n",
    "    \n",
    "    # get consumers\n",
    "    n_consumers = alphas.shape[1]\n",
    "\n",
    "    # get the alpha_i\n",
    "    nu_i = rand.lognormal(size = n_consumers * mkts).reshape(-1,1)\n",
    "    alpha_i = t2 * nu_i\n",
    "\n",
    "    # get the market-product mean utility\n",
    "    u_jm = get_delta(t2, nu_i)\n",
    "\n",
    "    # create a big system\n",
    "    u_big = np.repeat(u_jm, n_consumers, axis = 0)\n",
    "    p_big = np.repeat(P_opt.T, n_consumers, axis = 0)\n",
    "\n",
    "    # get the CS\n",
    "    u = u_big - alpha_i * p_big\n",
    "    u_outside = np.concatenate([u, np.zeros(mkts * n_consumers).reshape((mkts * n_consumers, 1))], axis = 1)\n",
    "    cs = u_outside.max(axis = 1) / alpha_i.squeeze()\n",
    "    cs_mean = np.mean(cs.reshape(100,500), axis = 1)\n",
    "    \n",
    "    # plot\n",
    "    plt.hist(cs_mean.squeeze(), bins=int(np.ceil(cs_mean.max() - np.min([0., np.min(cs_mean)]))*2), ec='black', range=(np.min([0., np.min(cs_mean)]), np.ceil(np.max(cs_mean))))\n",
    "    plt.title('CS Distribution ({} Products, {} Markets, {} Consumers)'.format(prods, mkts, n_consumers))\n",
    "    plt.xlabel('Surplus')\n",
    "    plt.ylabel('Markets')\n",
    "    plt.show()"
   ]
  },
  {
   "cell_type": "code",
   "execution_count": 215,
   "metadata": {},
   "outputs": [
    {
     "data": {
      "image/png": "[encoded data removed]",
      "text/plain": [
       "<Figure size 1440x360 with 1 Axes>"
      ]
     },
     "metadata": {
      "needs_background": "light"
     },
     "output_type": "display_data"
    }
   ],
   "source": [
    "# set a seed\n",
    "rand.seed(seed=900)\n",
    "\n",
    "# import data\n",
    "x1,xi_all,w,eta,Z,alphas,P_opt,shares = import_data(mkts,prods)\n",
    "\n",
    "# get consumers\n",
    "n_consumers = alphas.shape[1]\n",
    "\n",
    "# get the alpha_i\n",
    "nu_i = rand.lognormal(size = n_consumers * mkts).reshape(-1,1)\n",
    "alpha_i = 1. * nu_i\n",
    "\n",
    "# get the market-product mean utility\n",
    "u_jm = get_delta(1., nu_i)\n",
    "\n",
    "# create a big system\n",
    "u_big = np.repeat(u_jm, n_consumers, axis = 0)\n",
    "p_big = np.repeat(P_opt.T, n_consumers, axis = 0)\n",
    "\n",
    "# get the CS\n",
    "u = u_big - alpha_i * p_big\n",
    "u_outside = np.concatenate([u, np.zeros(mkts * n_consumers).reshape((mkts * n_consumers, 1))], axis = 1)\n",
    "cs = u_outside.max(axis = 1) / alpha_i.squeeze()\n",
    "cs_mean = np.mean(cs.reshape(100,500), axis = 1)\n",
    "# plot\n",
    "plt.hist(cs_mean.squeeze(), bins=int(np.ceil(cs_mean.max() - np.min([0., np.min(cs_mean)]))*2), ec='black', range=(np.min([0., np.min(cs_mean)]), np.ceil(np.max(cs_mean))))\n",
    "plt.title('CS Distribution ({} Products, {} Markets, {} Consumers)'.format(prods, mkts, n_consumers))\n",
    "plt.xlabel('Surplus')\n",
    "plt.ylabel('Markets')\n",
    "plt.show()"
   ]
  },
  {
   "cell_type": "code",
   "execution_count": 228,
   "metadata": {},
   "outputs": [
    {
     "data": {
      "image/png": "[encoded data removed]",
      "text/plain": [
       "<Figure size 1440x360 with 1 Axes>"
      ]
     },
     "metadata": {
      "needs_background": "light"
     },
     "output_type": "display_data"
    }
   ],
   "source": [
    "# set a seed\n",
    "rand.seed(seed=2022)\n",
    "\n",
    "# import data\n",
    "x1,xi_all,w,eta,Z,alphas,P_opt,shares = import_data(100,3)\n",
    "\n",
    "# get consumers\n",
    "n_consumers = alphas.shape[1]\n",
    "\n",
    "# get the alpha_i\n",
    "alpha_i = alphas.reshape(-1,1)\n",
    "\n",
    "# get the market-product mean utility\n",
    "u_jm = x1 @ np.array([5.,1.,1.]).reshape(-1,1) + xi_all.reshape(-1,1) - P_opt.T.reshape(-1,1)\n",
    "u_jm = u_jm.reshape(100,3)\n",
    "\n",
    "# create a big system\n",
    "u_big = np.repeat(u_jm, n_consumers, axis = 0)\n",
    "p_big = np.repeat(P_opt.T, n_consumers, axis = 0)\n",
    "ep_big = rand.gumbel(size = mkts * 3 * n_consumers).reshape(mkts * n_consumers, 3)\n",
    "\n",
    "# get the CS\n",
    "u = u_big - alpha_i * p_big + ep_big\n",
    "u_outside = np.concatenate([u, np.zeros(mkts * n_consumers).reshape((mkts * n_consumers, 1))], axis = 1)\n",
    "cs = u_outside.max(axis = 1) / alpha_i.squeeze()\n",
    "cs_mean = np.mean(cs.reshape(100,500), axis = 1)\n",
    "# plot\n",
    "plt.hist(cs_mean.squeeze(), bins=int(np.ceil(cs_mean.max() - np.min([0., np.min(cs_mean)]))*2), ec='black', range=(np.min([0., np.min(cs_mean)]), np.ceil(np.max(cs_mean))))\n",
    "plt.title('CS Distribution ({} Products, {} Markets, {} Consumers)'.format(prods, mkts, n_consumers))\n",
    "plt.xlabel('Surplus')\n",
    "plt.ylabel('Markets')\n",
    "plt.show()"
   ]
  },
  {
   "cell_type": "code",
   "execution_count": 229,
   "metadata": {},
   "outputs": [
    {
     "data": {
      "text/html": [
       "<div>\n",
       "<style scoped>\n",
       "    .dataframe tbody tr th:only-of-type {\n",
       "        vertical-align: middle;\n",
       "    }\n",
       "\n",
       "    .dataframe tbody tr th {\n",
       "        vertical-align: top;\n",
       "    }\n",
       "\n",
       "    .dataframe thead th {\n",
       "        text-align: right;\n",
       "    }\n",
       "</style>\n",
       "<table border=\"1\" class=\"dataframe\">\n",
       "  <thead>\n",
       "    <tr style=\"text-align: right;\">\n",
       "      <th></th>\n",
       "      <th>0</th>\n",
       "    </tr>\n",
       "  </thead>\n",
       "  <tbody>\n",
       "    <tr>\n",
       "      <th>count</th>\n",
       "      <td>100.000000</td>\n",
       "    </tr>\n",
       "    <tr>\n",
       "      <th>mean</th>\n",
       "      <td>0.772600</td>\n",
       "    </tr>\n",
       "    <tr>\n",
       "      <th>std</th>\n",
       "      <td>0.690931</td>\n",
       "    </tr>\n",
       "    <tr>\n",
       "      <th>min</th>\n",
       "      <td>0.000000</td>\n",
       "    </tr>\n",
       "    <tr>\n",
       "      <th>25%</th>\n",
       "      <td>0.213057</td>\n",
       "    </tr>\n",
       "    <tr>\n",
       "      <th>50%</th>\n",
       "      <td>0.597055</td>\n",
       "    </tr>\n",
       "    <tr>\n",
       "      <th>75%</th>\n",
       "      <td>1.130920</td>\n",
       "    </tr>\n",
       "    <tr>\n",
       "      <th>max</th>\n",
       "      <td>2.936556</td>\n",
       "    </tr>\n",
       "  </tbody>\n",
       "</table>\n",
       "</div>"
      ],
      "text/plain": [
       "                0\n",
       "count  100.000000\n",
       "mean     0.772600\n",
       "std      0.690931\n",
       "min      0.000000\n",
       "25%      0.213057\n",
       "50%      0.597055\n",
       "75%      1.130920\n",
       "max      2.936556"
      ]
     },
     "execution_count": 229,
     "metadata": {},
     "output_type": "execute_result"
    }
   ],
   "source": [
    "pd.DataFrame(cs_mean).describe()"
   ]
  },
  {
   "cell_type": "code",
   "execution_count": 220,
   "metadata": {},
   "outputs": [
    {
     "data": {
      "text/plain": [
       "array([[5.25675369],\n",
       "       [6.40083716],\n",
       "       [6.98366277],\n",
       "       [6.62497569],\n",
       "       [5.60589147],\n",
       "       [6.80821882],\n",
       "       [5.74497462],\n",
       "       [6.82043824],\n",
       "       [4.46479655],\n",
       "       [6.70350519],\n",
       "       [6.72807454],\n",
       "       [5.778162  ],\n",
       "       [6.14934433],\n",
       "       [5.85705892],\n",
       "       [6.04444277],\n",
       "       [5.72217758],\n",
       "       [5.08775109],\n",
       "       [6.14914455],\n",
       "       [4.69999037],\n",
       "       [4.94116379],\n",
       "       [5.73166634],\n",
       "       [5.12055108],\n",
       "       [4.12799934],\n",
       "       [5.59002407],\n",
       "       [5.53722453],\n",
       "       [6.66394736],\n",
       "       [7.8949184 ],\n",
       "       [5.43270843],\n",
       "       [5.37844225],\n",
       "       [5.547056  ],\n",
       "       [3.85355487],\n",
       "       [4.67583389],\n",
       "       [4.45005318],\n",
       "       [6.09909489],\n",
       "       [6.31913931],\n",
       "       [5.0771173 ],\n",
       "       [6.1034193 ],\n",
       "       [5.89907587],\n",
       "       [5.61179232],\n",
       "       [6.91358784],\n",
       "       [5.4540152 ],\n",
       "       [5.11105462],\n",
       "       [4.97870265],\n",
       "       [5.42898493],\n",
       "       [7.0258432 ],\n",
       "       [7.09745505],\n",
       "       [5.23917438],\n",
       "       [6.23158416],\n",
       "       [5.35611655],\n",
       "       [5.93174754],\n",
       "       [5.0011741 ],\n",
       "       [5.51310842],\n",
       "       [5.71320608],\n",
       "       [4.91733259],\n",
       "       [8.43390069],\n",
       "       [6.05962584],\n",
       "       [5.95220603],\n",
       "       [5.36771289],\n",
       "       [6.41260414],\n",
       "       [3.60443012],\n",
       "       [4.54521343],\n",
       "       [5.24636102],\n",
       "       [5.20858567],\n",
       "       [5.74031624],\n",
       "       [5.24470535],\n",
       "       [5.88094919],\n",
       "       [3.84271177],\n",
       "       [6.22209616],\n",
       "       [5.46514616],\n",
       "       [8.21304423],\n",
       "       [3.26656484],\n",
       "       [6.74620107],\n",
       "       [4.84151871],\n",
       "       [6.47540752],\n",
       "       [6.63784573],\n",
       "       [6.93320237],\n",
       "       [4.28459598],\n",
       "       [7.86920238],\n",
       "       [6.19540324],\n",
       "       [6.25673209],\n",
       "       [6.11481236],\n",
       "       [7.3866874 ],\n",
       "       [7.16422658],\n",
       "       [6.1563116 ],\n",
       "       [4.82530534],\n",
       "       [5.79330765],\n",
       "       [5.31623436],\n",
       "       [5.68191113],\n",
       "       [4.64476394],\n",
       "       [5.02401128],\n",
       "       [5.85333226],\n",
       "       [6.88094428],\n",
       "       [5.86670838],\n",
       "       [4.06645189],\n",
       "       [6.05238994],\n",
       "       [6.81881499],\n",
       "       [4.13120483],\n",
       "       [4.66781604],\n",
       "       [6.37277334],\n",
       "       [5.7583399 ],\n",
       "       [6.32084842],\n",
       "       [6.10042205],\n",
       "       [3.83497694],\n",
       "       [5.58370685],\n",
       "       [3.70535243],\n",
       "       [5.79801607],\n",
       "       [3.56157906],\n",
       "       [7.34758065],\n",
       "       [5.32904677],\n",
       "       [5.6556037 ],\n",
       "       [6.40007278],\n",
       "       [6.05280304],\n",
       "       [4.84916707],\n",
       "       [4.03161742],\n",
       "       [6.00309702],\n",
       "       [6.48139126],\n",
       "       [5.02483489],\n",
       "       [5.951309  ],\n",
       "       [6.43493237],\n",
       "       [3.8069214 ],\n",
       "       [5.35762423],\n",
       "       [4.03583311],\n",
       "       [6.03886622],\n",
       "       [5.99243769],\n",
       "       [3.54212387],\n",
       "       [7.26572218],\n",
       "       [6.87370237],\n",
       "       [6.02146349],\n",
       "       [6.34093323],\n",
       "       [4.63961982],\n",
       "       [3.01506128],\n",
       "       [5.12035158],\n",
       "       [6.91218264],\n",
       "       [4.82864109],\n",
       "       [4.29073891],\n",
       "       [5.16016768],\n",
       "       [7.05310416],\n",
       "       [5.3770966 ],\n",
       "       [7.47916983],\n",
       "       [4.89789001],\n",
       "       [4.86872507],\n",
       "       [6.03426675],\n",
       "       [5.82245543],\n",
       "       [4.93932847],\n",
       "       [6.92689513],\n",
       "       [4.66420368],\n",
       "       [5.27380491],\n",
       "       [5.13971679],\n",
       "       [5.54711961],\n",
       "       [5.77679506],\n",
       "       [4.89733639],\n",
       "       [5.95303467],\n",
       "       [5.44493841],\n",
       "       [6.18067334],\n",
       "       [4.78045559],\n",
       "       [7.2958409 ],\n",
       "       [6.6249947 ],\n",
       "       [5.61558942],\n",
       "       [7.28744527],\n",
       "       [5.77599553],\n",
       "       [5.80444365],\n",
       "       [6.25034821],\n",
       "       [6.77483896],\n",
       "       [6.4240019 ],\n",
       "       [4.8339722 ],\n",
       "       [6.96857733],\n",
       "       [4.39409266],\n",
       "       [4.96125997],\n",
       "       [6.48492914],\n",
       "       [4.69433748],\n",
       "       [5.15314758],\n",
       "       [3.78847445],\n",
       "       [4.8112357 ],\n",
       "       [5.5555777 ],\n",
       "       [5.09400741],\n",
       "       [6.04018062],\n",
       "       [5.37025638],\n",
       "       [7.12349176],\n",
       "       [5.60329148],\n",
       "       [6.08118038],\n",
       "       [6.24613199],\n",
       "       [5.72256589],\n",
       "       [4.71198223],\n",
       "       [5.79516424],\n",
       "       [4.79811323],\n",
       "       [6.38434276],\n",
       "       [6.02014493],\n",
       "       [7.09053322],\n",
       "       [5.08688527],\n",
       "       [6.22328988],\n",
       "       [5.91925045],\n",
       "       [4.10244019],\n",
       "       [6.6118854 ],\n",
       "       [6.80674347],\n",
       "       [5.51727011],\n",
       "       [5.10422587],\n",
       "       [6.01154173],\n",
       "       [5.17747956],\n",
       "       [6.45577881],\n",
       "       [4.89833342],\n",
       "       [6.06721905],\n",
       "       [5.87409878],\n",
       "       [6.27248805],\n",
       "       [5.73311059],\n",
       "       [6.64751606],\n",
       "       [4.30898302],\n",
       "       [4.27064246],\n",
       "       [5.25644505],\n",
       "       [7.5788223 ],\n",
       "       [6.09189983],\n",
       "       [5.36951176],\n",
       "       [4.5054392 ],\n",
       "       [3.97842554],\n",
       "       [4.87114967],\n",
       "       [6.45323442],\n",
       "       [5.94171583],\n",
       "       [6.59979385],\n",
       "       [6.26738886],\n",
       "       [5.40024305],\n",
       "       [7.6199103 ],\n",
       "       [5.83471648],\n",
       "       [5.02174935],\n",
       "       [4.98308176],\n",
       "       [5.401997  ],\n",
       "       [5.043156  ],\n",
       "       [6.0069519 ],\n",
       "       [4.31096953],\n",
       "       [4.3709983 ],\n",
       "       [5.8447359 ],\n",
       "       [5.56119729],\n",
       "       [6.25477221],\n",
       "       [6.03004892],\n",
       "       [3.89895603],\n",
       "       [4.96890814],\n",
       "       [4.1813757 ],\n",
       "       [4.95046496],\n",
       "       [5.35301994],\n",
       "       [5.93666954],\n",
       "       [5.35486823],\n",
       "       [7.80346214],\n",
       "       [6.51898225],\n",
       "       [6.58885981],\n",
       "       [4.61611123],\n",
       "       [4.23537426],\n",
       "       [6.34206715],\n",
       "       [4.68487039],\n",
       "       [4.83810331],\n",
       "       [6.31246834],\n",
       "       [6.73181159],\n",
       "       [6.39428687],\n",
       "       [4.1500342 ],\n",
       "       [4.17311761],\n",
       "       [5.32603444],\n",
       "       [4.47411169],\n",
       "       [5.20301333],\n",
       "       [6.40557524],\n",
       "       [4.94386673],\n",
       "       [3.92415467],\n",
       "       [4.61705166],\n",
       "       [7.22077867],\n",
       "       [5.10769707],\n",
       "       [5.36180049],\n",
       "       [4.94164154],\n",
       "       [5.64751711],\n",
       "       [5.99774915],\n",
       "       [3.75675681],\n",
       "       [2.41034786],\n",
       "       [6.93281615],\n",
       "       [5.57633488],\n",
       "       [4.92359009],\n",
       "       [5.33041535],\n",
       "       [5.82513006],\n",
       "       [5.62411352],\n",
       "       [5.43371947],\n",
       "       [3.68587419],\n",
       "       [4.63436915],\n",
       "       [5.19900992],\n",
       "       [4.87287446],\n",
       "       [5.3786026 ],\n",
       "       [4.26810122],\n",
       "       [4.58988736],\n",
       "       [4.27346086],\n",
       "       [4.56021459],\n",
       "       [3.76907076],\n",
       "       [4.72761898],\n",
       "       [6.02043266],\n",
       "       [6.09197814],\n",
       "       [4.84264311],\n",
       "       [5.51404826],\n",
       "       [4.85324529],\n",
       "       [4.71804903],\n",
       "       [4.22286794],\n",
       "       [6.63683997],\n",
       "       [5.10332114],\n",
       "       [5.7504721 ],\n",
       "       [6.56995981],\n",
       "       [4.70088321],\n",
       "       [5.23017032],\n",
       "       [6.45974661],\n",
       "       [6.47899325]])"
      ]
     },
     "execution_count": 220,
     "metadata": {},
     "output_type": "execute_result"
    }
   ],
   "source": [
    "x1 @ np.array([5.,1.,1.]).reshape(-1,1)"
   ]
  },
  {
   "cell_type": "code",
   "execution_count": 214,
   "metadata": {},
   "outputs": [
    {
     "data": {
      "text/plain": [
       "array([ 0.        ,  0.04764615,  0.57043876,  0.21131778,  4.42417149,\n",
       "        6.36755727, 21.51403763,  0.77074943,  1.62403304,  1.41667592])"
      ]
     },
     "execution_count": 214,
     "metadata": {},
     "output_type": "execute_result"
    }
   ],
   "source": [
    "cs[495:505]"
   ]
  },
  {
   "cell_type": "code",
   "execution_count": 213,
   "metadata": {},
   "outputs": [
    {
     "data": {
      "text/plain": [
       "array([[30.84825194,  8.25187463, 15.72870353, ...,  0.57043876,\n",
       "         0.21131778,  4.42417149],\n",
       "       [ 6.36755727, 21.51403763,  0.77074943, ...,  0.34493819,\n",
       "         5.14791751,  4.85675816],\n",
       "       [ 2.10108434,  1.53889554,  7.93323753, ...,  0.77321605,\n",
       "         2.00970083,  4.45118534],\n",
       "       [ 1.8895997 ,  2.85784282,  8.88973587, ...,  1.64799004,\n",
       "        14.91454751,  0.        ],\n",
       "       [ 0.        ,  5.79678537,  0.        , ...,  0.        ,\n",
       "         1.47129419,  0.        ],\n",
       "       [ 0.        ,  0.        ,  0.        , ...,  0.        ,\n",
       "         0.        ,  0.        ]])"
      ]
     },
     "execution_count": 213,
     "metadata": {},
     "output_type": "execute_result"
    }
   ],
   "source": [
    "cs.reshape(100,500)[:6]"
   ]
  },
  {
   "cell_type": "code",
   "execution_count": 250,
   "metadata": {},
   "outputs": [
    {
     "data": {
      "text/plain": [
       "0.00045902219751290003"
      ]
     },
     "execution_count": 250,
     "metadata": {},
     "output_type": "execute_result"
    }
   ],
   "source": [
    "gmm_obj(1., Z, shabab_nu['nu'])"
   ]
  },
  {
   "cell_type": "code",
   "execution_count": 254,
   "metadata": {},
   "outputs": [
    {
     "name": "stdout",
     "output_type": "stream",
     "text": [
      "Optimization terminated successfully.\n",
      "         Current function value: 0.000000\n",
      "         Iterations: 4\n",
      "         Function evaluations: 10\n",
      "         Gradient evaluations: 5\n"
     ]
    },
    {
     "data": {
      "text/plain": [
       "      fun: 8.344254077736244e-17\n",
       " hess_inv: array([[1.74523116]])\n",
       "      jac: array([-5.50941248e-09])\n",
       "  message: 'Optimization terminated successfully.'\n",
       "     nfev: 10\n",
       "      nit: 4\n",
       "     njev: 5\n",
       "   status: 0\n",
       "  success: True\n",
       "        x: array([1.06101318])"
      ]
     },
     "execution_count": 254,
     "metadata": {},
     "output_type": "execute_result"
    }
   ],
   "source": [
    "gmm_min(1., Z, shabab_nu['nu'])"
   ]
  },
  {
   "cell_type": "code",
   "execution_count": 247,
   "metadata": {},
   "outputs": [],
   "source": [
    "shabab_nu = loadmat('/Users/hlukas/Downloads/Nu.mat')"
   ]
  },
  {
   "cell_type": "code",
   "execution_count": 249,
   "metadata": {},
   "outputs": [
    {
     "data": {
      "text/plain": [
       "(50000, 1)"
      ]
     },
     "execution_count": 249,
     "metadata": {},
     "output_type": "execute_result"
    }
   ],
   "source": [
    "shabab_nu['nu'].shape"
   ]
  }
 ],
 "metadata": {
  "kernelspec": {
   "display_name": "Python 3",
   "language": "python",
   "name": "python3"
  },
  "language_info": {
   "codemirror_mode": {
    "name": "ipython",
    "version": 3
   },
   "file_extension": ".py",
   "mimetype": "text/x-python",
   "name": "python",
   "nbconvert_exporter": "python",
   "pygments_lexer": "ipython3",
   "version": "3.8.5"
  }
 },
 "nbformat": 4,
 "nbformat_minor": 4
}
