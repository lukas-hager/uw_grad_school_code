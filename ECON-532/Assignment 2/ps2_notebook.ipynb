{
 "cells": [
  {
   "cell_type": "markdown",
   "metadata": {},
   "source": [
    "# Problem Set 2\n",
    "### Lukas Hager,  ECON 532\n",
    "___"
   ]
  },
  {
   "cell_type": "markdown",
   "metadata": {},
   "source": [
    "## Market Simulation\n",
    "**For each of these two simulations, compare the distribution of prices, profits and consumer surplus. For consumer surplus, simulate draws of consumers from the true distribution and calculate their optimal purchasing decision and welfare**\n",
    "___\n",
    "To get prices, we simply squeeze the variable `P_opt` to be one dimensional and plot a histogram. To get profit and consumer surplus, we must simulate customers; given the simulation variable `alphas`, we take this number to be 500. Then, we calculate \n",
    "$$\\pi_{jm} = \\text{Market Share} \\times \\text{Consumers} \\times \\left(p_{jm} - mc_{jm}\\right)$$\n",
    "and\n",
    "$$CS_{im} = \\frac{1}{\\alpha_{i}}\\max_{j}U_{ijm}$$"
   ]
  },
  {
   "cell_type": "code",
   "execution_count": 1,
   "metadata": {},
   "outputs": [],
   "source": [
    "# import libraries\n",
    "import numpy as np\n",
    "import numpy.random as rand\n",
    "import pandas as pd\n",
    "import scipy as sp\n",
    "from scipy import optimize as op\n",
    "from scipy.io import loadmat\n",
    "from sklearn import linear_model as lm\n",
    "import matplotlib.pyplot as plt\n",
    "\n",
    "plt.rcParams[\"figure.figsize\"] = (20,5)\n",
    "\n",
    "source_path = '/Users/hlukas/git/uw_grad_school_code/ECON-532/Assignment 2/pset2_upload/Simulated Data/{}markets{}products.mat'\n",
    "gamma = np.array([2,1,1]).reshape(3,1)\n",
    "alpha = 1.\n",
    "sigma_alpha = 1.\n",
    "beta = np.array([5.,1.,1.]).reshape((3,1))"
   ]
  },
  {
   "cell_type": "code",
   "execution_count": 2,
   "metadata": {},
   "outputs": [],
   "source": [
    "# function to import the data into python\n",
    "\n",
    "def import_data(mkts,prods):\n",
    "    mat_data = loadmat(source_path.format(mkts,prods))\n",
    "    variable_names = [x for x in mat_data.keys() if x not in ['__header__', '__version__', '__globals__']]\n",
    "    return([mat_data[x] for x in variable_names])"
   ]
  },
  {
   "cell_type": "code",
   "execution_count": 3,
   "metadata": {},
   "outputs": [],
   "source": [
    "# function to plot prices\n",
    "\n",
    "def plot_prices(mkts, prods):\n",
    "    # import data\n",
    "    x1,xi_all,w,eta,Z,alphas,P_opt,shares = import_data(mkts,prods)\n",
    "    \n",
    "    p_flat = P_opt.reshape(prods * mkts)\n",
    "    plt.hist(p_flat, bins=int(np.ceil(p_flat.max() - np.min([0., np.min(p_flat)]))*2), ec='black', range=(np.floor(np.min([0., np.min(p_flat)])), np.ceil(p_flat.max())))\n",
    "    plt.title('Price Distribution ({} Products, {} Markets)'.format(prods, mkts))\n",
    "    plt.xlabel('Price')\n",
    "    plt.ylabel('Products')\n",
    "    plt.show()"
   ]
  },
  {
   "cell_type": "code",
   "execution_count": 4,
   "metadata": {},
   "outputs": [],
   "source": [
    "# function to plot profits\n",
    "\n",
    "def plot_profit(mkts, prods):\n",
    "    # import data\n",
    "    x1,xi_all,w,eta,Z,alphas,P_opt,shares = import_data(mkts,prods)\n",
    "    \n",
    "    # get consumers\n",
    "    n_consumers = alphas.shape[1]\n",
    "    \n",
    "    # get the marginal cost\n",
    "    mc_jm = np.column_stack([np.ones(prods * mkts),w, Z]) @ gamma + eta\n",
    "    markup = P_opt.T - mc_jm.reshape((mkts, prods))\n",
    "\n",
    "    profit = markup * shares.T * n_consumers\n",
    "    \n",
    "    profit_flat = profit.reshape(prods * mkts)\n",
    "    plt.hist(profit_flat, bins='fd', ec = 'black')\n",
    "    plt.title('Profit Distribution ({} Products, {} Markets, {} Consumers)'.format(prods, mkts, n_consumers))\n",
    "    plt.xlabel('Profit')\n",
    "    plt.ylabel('Products')"
   ]
  },
  {
   "cell_type": "markdown",
   "metadata": {},
   "source": [
    "The way that we calculate consumer surplus requires a little more explication. We know that\n",
    "$$U_{ijm} = X_{jm}\\beta - p_{jm}\\alpha_i + \\xi_{jm} + \\epsilon_{ijm}$$\n",
    "We can instead write utility as a $im\\times j$ matrix, so that each row represents a consumer/market combination, and each column is a given product. We can do this by getting the utility that doesn't depend on the consumer, stacking that matrix $i$ times, stacking the price and $\\xi$ matrix $i$ times, and creating an $\\alpha$ matrix by repeating each $\\alpha_i$ $j$ times:"
   ]
  },
  {
   "cell_type": "code",
   "execution_count": 5,
   "metadata": {},
   "outputs": [],
   "source": [
    "def plot_cs(mkts, prods):\n",
    "    # set a seed\n",
    "    rand.seed(seed=2022)\n",
    "    \n",
    "    # import data\n",
    "    x1,xi_all,w,eta,Z,alphas,P_opt,shares = import_data(mkts,prods)\n",
    "    \n",
    "    # get consumers\n",
    "    n_consumers = alphas.shape[1]\n",
    "\n",
    "    # get the alpha_i, reshape to be in the order first market -> last market 500 times\n",
    "    alpha_i = alphas.reshape((n_consumers * mkts,1), order = 'F')\n",
    "\n",
    "    # repeat the alpha_i for each market\n",
    "    alpha_big = np.tile(alpha_i, (1,prods))\n",
    "\n",
    "    # get the market-product level utility\n",
    "    u_jm = (x1 @ beta + xi_all).reshape((mkts,prods))\n",
    "\n",
    "    # create a big system\n",
    "    u_big = np.tile(u_jm, (n_consumers,1))\n",
    "    p_big = np.tile(P_opt.T, (n_consumers,1))\n",
    "    ep_big = rand.gumbel(size = mkts * prods * n_consumers).reshape((mkts * n_consumers, prods))\n",
    "\n",
    "    # get the CS\n",
    "    u = u_big - alpha_big * p_big + ep_big\n",
    "    u_outside = np.concatenate([u, np.zeros(mkts * n_consumers).reshape((mkts * n_consumers, 1))], axis = 1)\n",
    "    cs = u_outside.max(axis = 1) / alpha_i.squeeze()\n",
    "    cs_mean = np.mean(cs.reshape((100,500), order = 'F'), axis = 1)\n",
    "    \n",
    "    # plot\n",
    "    plt.hist(cs_mean.squeeze(), bins=int(np.ceil(cs_mean.max() - np.min([0., np.min(cs_mean)]))*2), ec='black', range=(np.min([0., np.min(cs_mean)]), np.ceil(np.max(cs_mean))))\n",
    "    plt.title('CS Distribution ({} Products, {} Markets, {} Consumers)'.format(prods, mkts, n_consumers))\n",
    "    plt.xlabel('Surplus')\n",
    "    plt.ylabel('Markets')\n",
    "    plt.show()"
   ]
  },
  {
   "cell_type": "code",
   "execution_count": 447,
   "metadata": {},
   "outputs": [],
   "source": [
    "def plot_cs(mkts, prods):\n",
    "    # import data\n",
    "    x1,xi_all,w,eta,Z,alphas,P_opt,shares = import_data(mkts,prods)\n",
    "    \n",
    "    # get consumers\n",
    "    n_consumers = alphas.shape[1]\n",
    "\n",
    "    # get the alpha_i\n",
    "    alpha_i = alphas.reshape(-1,1) - 1.\n",
    "\n",
    "    # get the market-product mean utility\n",
    "    u_jm = (x1 @ beta + xi_all - P_opt.T.reshape(-1,1)).reshape(mkts, prods)\n",
    "\n",
    "    # create a big system\n",
    "    u_big = np.repeat(u_jm, n_consumers, axis = 0)\n",
    "    p_big = np.repeat(P_opt.T, n_consumers, axis = 0)\n",
    "\n",
    "    # get the CS\n",
    "    u = u_big - alpha_i * p_big\n",
    "    #u_outside = np.concatenate([u, np.zeros(mkts * n_consumers).reshape((mkts * n_consumers, 1))], axis = 1)\n",
    "    cs = (.5772 + np.log(np.sum(np.exp(u), axis = 1))) / alpha_i.squeeze()\n",
    "    cs_mean = np.mean(cs.reshape(100,500).clip(0), axis = 1)\n",
    "    \n",
    "    # plot\n",
    "    plt.hist(cs_mean.squeeze(), bins=int(np.ceil(cs_mean.max() - np.min([0., np.min(cs_mean)]))), ec='black', range=(np.min([0., np.min(cs_mean)]), np.ceil(np.max(cs_mean))))\n",
    "    plt.title('CS Distribution ({} Products, {} Markets, {} Consumers)'.format(prods, mkts, n_consumers))\n",
    "    plt.xlabel('Surplus')\n",
    "    plt.ylabel('Markets')\n",
    "    plt.show()"
   ]
  },
  {
   "cell_type": "markdown",
   "metadata": {},
   "source": [
    "#### Price Plots\n",
    "___"
   ]
  },
  {
   "cell_type": "code",
   "execution_count": 448,
   "metadata": {},
   "outputs": [
    {
     "data": {
      "image/png": "[encoded data removed]",
      "text/plain": [
       "<Figure size 1440x360 with 1 Axes>"
      ]
     },
     "metadata": {
      "needs_background": "light"
     },
     "output_type": "display_data"
    }
   ],
   "source": [
    "plot_prices(100,3)"
   ]
  },
  {
   "cell_type": "code",
   "execution_count": 449,
   "metadata": {
    "scrolled": true
   },
   "outputs": [
    {
     "data": {
      "image/png": "[encoded data removed]",
      "text/plain": [
       "<Figure size 1440x360 with 1 Axes>"
      ]
     },
     "metadata": {
      "needs_background": "light"
     },
     "output_type": "display_data"
    }
   ],
   "source": [
    "plot_prices(100,5)"
   ]
  },
  {
   "cell_type": "markdown",
   "metadata": {},
   "source": [
    "Prices appear to be higher in the 3 good market compared to the 5 good market; this makes sense, as in a competitive market, more competition should drive down the prices that firms can charge."
   ]
  },
  {
   "cell_type": "markdown",
   "metadata": {},
   "source": [
    "#### Profit Plots\n",
    "___"
   ]
  },
  {
   "cell_type": "code",
   "execution_count": 8,
   "metadata": {},
   "outputs": [
    {
     "data": {
      "image/png": "[encoded data removed]",
      "text/plain": [
       "<Figure size 1440x360 with 1 Axes>"
      ]
     },
     "metadata": {
      "needs_background": "light"
     },
     "output_type": "display_data"
    }
   ],
   "source": [
    "plot_profit(100,3)"
   ]
  },
  {
   "cell_type": "code",
   "execution_count": 9,
   "metadata": {},
   "outputs": [
    {
     "data": {
      "image/png": "[encoded data removed]",
      "text/plain": [
       "<Figure size 1440x360 with 1 Axes>"
      ]
     },
     "metadata": {
      "needs_background": "light"
     },
     "output_type": "display_data"
    }
   ],
   "source": [
    "plot_profit(100,5)"
   ]
  },
  {
   "cell_type": "markdown",
   "metadata": {},
   "source": [
    "The takeaway is similar to the above; when there is more competition, the profits of firms decrease, and the distribution is shifted towards lower amounts of profit."
   ]
  },
  {
   "cell_type": "markdown",
   "metadata": {},
   "source": [
    "#### Consumer Surplus Plots\n",
    "___"
   ]
  },
  {
   "cell_type": "code",
   "execution_count": 450,
   "metadata": {
    "scrolled": true
   },
   "outputs": [
    {
     "data": {
      "image/png": "[encoded data removed]",
      "text/plain": [
       "<Figure size 1440x360 with 1 Axes>"
      ]
     },
     "metadata": {
      "needs_background": "light"
     },
     "output_type": "display_data"
    }
   ],
   "source": [
    "plot_cs(100,3)"
   ]
  },
  {
   "cell_type": "code",
   "execution_count": 451,
   "metadata": {},
   "outputs": [
    {
     "data": {
      "image/png": "[encoded data removed]",
      "text/plain": [
       "<Figure size 1440x360 with 1 Axes>"
      ]
     },
     "metadata": {
      "needs_background": "light"
     },
     "output_type": "display_data"
    }
   ],
   "source": [
    "plot_cs(100,5)"
   ]
  },
  {
   "cell_type": "markdown",
   "metadata": {},
   "source": [
    "Here, we see a large difference. In both simulations, a modal number of customers choose the outside option, but when there are more options, the consumer surplus increases significantly."
   ]
  },
  {
   "cell_type": "markdown",
   "metadata": {},
   "source": [
    "## BLP and Nevo Instruments\n",
    "___"
   ]
  },
  {
   "cell_type": "code",
   "execution_count": 12,
   "metadata": {},
   "outputs": [],
   "source": [
    "# import data\n",
    "x1,xi_all,w,eta,Z,alphas,P_opt,shares = import_data(100,3)\n",
    "\n",
    "# xi/X\n",
    "xi_X = np.mean(x1 * np.tile(xi_all, (1,3)), axis = 0)\n",
    "\n",
    "# xi/p\n",
    "xi_p = np.mean(P_opt.T * xi_all.reshape((100,3)))\n",
    "\n",
    "# xi/p_hat\n",
    "# to get p_hat, we compute average prices across other markets\n",
    "p_hat = np.tile(\n",
    "    np.array([np.mean(np.delete(P_opt.T,x,0)) for x in range(len(P_opt.T))]).reshape((100,1)),\n",
    "    (1,3)\n",
    ")\n",
    "\n",
    "p_hat = np.row_stack([np.mean(np.delete(P_opt.T,x,0), axis = 0) for x in range(len(P_opt.T))])\n",
    "\n",
    "xi_p_hat = np.mean(p_hat * xi_all.reshape((100,3)))"
   ]
  },
  {
   "cell_type": "code",
   "execution_count": 13,
   "metadata": {},
   "outputs": [
    {
     "data": {
      "text/plain": [
       "array([0.04346104, 0.02074192, 0.0355315 ])"
      ]
     },
     "execution_count": 13,
     "metadata": {},
     "output_type": "execute_result"
    }
   ],
   "source": [
    "xi_X"
   ]
  },
  {
   "cell_type": "code",
   "execution_count": 14,
   "metadata": {},
   "outputs": [
    {
     "data": {
      "text/plain": [
       "0.2949581371489729"
      ]
     },
     "execution_count": 14,
     "metadata": {},
     "output_type": "execute_result"
    }
   ],
   "source": [
    "xi_p"
   ]
  },
  {
   "cell_type": "code",
   "execution_count": 15,
   "metadata": {},
   "outputs": [
    {
     "data": {
      "text/plain": [
       "0.14367954767468022"
      ]
     },
     "execution_count": 15,
     "metadata": {},
     "output_type": "execute_result"
    }
   ],
   "source": [
    "xi_p_hat"
   ]
  },
  {
   "cell_type": "markdown",
   "metadata": {},
   "source": [
    "It appears that $\\mathbb{E}[\\xi_{jm}X_{jm}] \\approx 0$ and $\\mathbb{E}[\\xi_{jm}\\overline{p}_{jm}] \\approx 0$, so these conditions are likely roughly valid. Additionally, using $p$ appears to be irrelevant if we use $\\overline{p}$."
   ]
  },
  {
   "cell_type": "markdown",
   "metadata": {},
   "source": [
    "We cannot use BLP and Nevo instruments in this setting, as Nevo uses a dummy variable for brand (firm in our case), which means that the BLP instruments do not have any variance within a given firm. "
   ]
  },
  {
   "cell_type": "markdown",
   "metadata": {},
   "source": [
    "Our estimation algorithm will work as follows:\n",
    "1. Fix $\\hat{\\sigma}_{\\alpha}$\n",
    "2. Using this parameters and the simulated consumers, get\n",
    "   $$\\hat{s}_n \\approx \\frac{1}{n}\\sum_{i=1}^{500}\\frac{e^{\\delta_j + \\mu_{ij}}}{1 + \\sum_se^{\\delta_s + \\mu_{is}}}$$\n",
    "   Further, in our case, we have\n",
    "   $$\\delta_{jm} = X_{jm}\\hat{\\beta} - \\hat{\\alpha}p_{jm} + \\xi_{jm}$$\n",
    "   and \n",
    "   $$\\mu_{ij} = -\\hat{\\sigma}_{\\alpha}\\nu_ip_{jm}$$\n",
    "   We solve the fixed point problem via iteration to get the values of $\\delta_{jm}$ which result in $\\hat{s}_n = s_n$.\n",
    "3. Noting that\n",
    "   $$\\delta_{jm} = X_{jm}\\beta - \\alpha p_{jm} + \\xi_{jm}$$\n",
    "   run an IV regression on the estimated $\\delta_{jm}$ to estimate $\\hat{\\xi}_{jm},\\hat{\\alpha}_{jm},\\hat{\\beta}_{jm}$.\n",
    "4. Calculate the GMM objective function using instruments and $\\hat{\\xi}_{jm}$. When the objective function is minimized, return $\\hat{\\alpha}, \\hat{\\beta}, \\hat{\\sigma}_{\\alpha}$.\n",
    "\n",
    "The GMM objective function will be calculated using BLP-style demand moments. In particular, we will have instruments given by\n",
    "$$Z_j = \\left[X_j,\\sum_{r\\neq j, r\\in \\mathcal{F}_j}X_r,\\sum_{r\\notin \\mathcal{F}_j}X_r\\right]$$\n",
    "Informally, instruments are the product's own characteristics, the sum of other products' characteristics within a product's market, and the sum of all products characteristics in other markets. As each firm is a single-product firm, we cannot use other products' characteristics, and as one of our instrument is a constant, we cannot use a function of this constant for colinearity reasons. This implies that in our problem we will have five instruments, and $Z$ is a $5\\times 1$ vector. Then, the GMM criterion function is given by\n",
    "$$\\hat{\\theta} = \\text{arg min}_{\\theta}\\hat{\\xi}^{\\top}ZWZ'\\hat{\\xi}$$\n",
    "where $W$ is given by\n",
    "$$W = \\left(Z^{\\top}Z\\right)^{-1}$$"
   ]
  },
  {
   "cell_type": "code",
   "execution_count": 17,
   "metadata": {},
   "outputs": [],
   "source": [
    "def get_shares(mkts,prods,n_consumers,price_val,delta,sigma,nu_vals):\n",
    "    u_big = np.repeat(delta, n_consumers, axis = 0)\n",
    "    p_big = np.repeat(price_val, n_consumers, axis = 0)\n",
    "    u_indiv = u_big - sigma * p_big * nu_vals\n",
    "    u_exp = np.exp(u_indiv)\n",
    "    denom = (1. + np.sum(u_exp, axis = 1)).reshape(-1,1)\n",
    "    s_indiv = u_exp / denom\n",
    "    shares_list = [np.mean(s_indiv[(i*n_consumers):((i+1)*n_consumers)], axis = 0) for i in range(mkts)]\n",
    "    return(np.row_stack(shares_list))"
   ]
  },
  {
   "cell_type": "code",
   "execution_count": 18,
   "metadata": {},
   "outputs": [],
   "source": [
    "def calculate_theta1(delta,X,p,Z):\n",
    "    # stack data\n",
    "    big_X = np.column_stack([X, p.T.reshape(-1,1)])\n",
    "    \n",
    "    # projection matrix\n",
    "    P_Z = Z @ np.linalg.inv(Z.T @ Z) @ Z.T\n",
    "    \n",
    "    return(np.linalg.inv(big_X.T @ P_Z @ big_X) @ big_X.T @ P_Z @ delta.reshape(-1,1))"
   ]
  },
  {
   "cell_type": "code",
   "execution_count": 19,
   "metadata": {},
   "outputs": [],
   "source": [
    "def get_xi_hat(delta,X,p,Z):\n",
    "    t1_hat = calculate_theta1(delta,X,p,Z)\n",
    "    return(delta.reshape(-1,1) - np.column_stack([X, p.T.reshape(-1,1)]) @ t1_hat)"
   ]
  },
  {
   "cell_type": "code",
   "execution_count": 20,
   "metadata": {},
   "outputs": [],
   "source": [
    "def get_demand_instruments(X,prods,mkts):\n",
    "    z1 = X # own characteristics\n",
    "    \n",
    "    z2_list = [np.sum(z1[:,1:][(i*prods):((i+1)*prods)], axis = 0) for i in range(int(X.shape[0]/prods))]\n",
    "    z2 = np.repeat(np.row_stack(z2_list), prods, axis = 0) - z1[:,1:] # sum characteristics for the firm's products, subtract z1\n",
    "        \n",
    "    return(np.column_stack([z1,z2]))"
   ]
  },
  {
   "cell_type": "code",
   "execution_count": 255,
   "metadata": {},
   "outputs": [],
   "source": [
    "def get_delta(sigma,nu_i):\n",
    "    # set initial delta guess\n",
    "    delta_new = np.ones(mkts * prods).reshape(mkts,prods)\n",
    "    delta_old = np.ones(mkts * prods).reshape(mkts,prods)\n",
    "\n",
    "    # iterate (as it's a contraction mapping)\n",
    "    while True:\n",
    "        s_calc = get_shares(mkts,prods,n_consumers,P_opt.T,delta_old,sigma,nu_i)\n",
    "        delta_new = delta_old + np.log(shares.T) - np.log(s_calc)\n",
    "        crit = np.max(np.abs(delta_new - delta_old))\n",
    "        if crit > 1e-3:\n",
    "            delta_old = delta_new\n",
    "        else:\n",
    "            break\n",
    "            \n",
    "    return(delta_new)"
   ]
  },
  {
   "cell_type": "code",
   "execution_count": 202,
   "metadata": {},
   "outputs": [],
   "source": [
    "def gmm_obj(sigma, Z, nu_i_val):\n",
    "    \n",
    "    delta_new = get_delta(sigma,nu_i_val)\n",
    "    \n",
    "    theta1 = calculate_theta1(delta_new,x1,P_opt,Z)\n",
    "\n",
    "    xi_hat = get_xi_hat(delta_new,x1,P_opt,Z)\n",
    "    W = np.linalg.inv(Z.T @ Z)\n",
    "    return((xi_hat.T @ Z @ W @ Z.T @ xi_hat).item())"
   ]
  },
  {
   "cell_type": "code",
   "execution_count": 23,
   "metadata": {},
   "outputs": [],
   "source": [
    "def gmm_min(start_val, Z_val, nu_i_val):\n",
    "    return(\n",
    "        op.minimize(\n",
    "            gmm_obj, \n",
    "            x0 = start_val, \n",
    "            args = (Z_val, nu_i_val), \n",
    "            #method='Nelder-Mead',\n",
    "            options = {'disp': True}\n",
    "        )\n",
    "    )"
   ]
  },
  {
   "cell_type": "code",
   "execution_count": 440,
   "metadata": {},
   "outputs": [],
   "source": [
    "def plot_estimated_cs(mkts, prods, t2):\n",
    "    # set a seed\n",
    "    rand.seed(seed=900)\n",
    "    \n",
    "    # import data\n",
    "    x1,xi_all,w,eta,Z,alphas,P_opt,shares = import_data(mkts,prods)\n",
    "    \n",
    "    # get consumers\n",
    "    n_consumers = alphas.shape[1]\n",
    "\n",
    "    # get the alpha_i\n",
    "    nu_i = rand.lognormal(size = n_consumers * mkts).reshape(-1,1)\n",
    "    alpha_i = t2 * nu_i\n",
    "\n",
    "    # get the market-product mean utility\n",
    "    u_jm = get_delta(t2, nu_i)\n",
    "\n",
    "    # create a big system\n",
    "    u_big = np.repeat(u_jm, n_consumers, axis = 0)\n",
    "    p_big = np.repeat(P_opt.T, n_consumers, axis = 0)\n",
    "\n",
    "    # get the CS\n",
    "    u = u_big - alpha_i * p_big\n",
    "    #u_outside = np.concatenate([u, np.zeros(mkts * n_consumers).reshape((mkts * n_consumers, 1))], axis = 1)\n",
    "    cs = (.5772 + np.log(np.sum(np.exp(u), axis = 1))) / alpha_i.squeeze()\n",
    "    cs_mean = np.mean(cs.reshape(100,500).clip(0), axis = 1)\n",
    "    \n",
    "    # plot\n",
    "    plt.hist(cs_mean.squeeze(), bins=int(np.ceil(cs_mean.max() - np.min([0., np.min(cs_mean)]))), ec='black', range=(np.min([0., np.min(cs_mean)]), np.ceil(np.max(cs_mean))))\n",
    "    plt.title('CS Distribution ({} Products, {} Markets, {} Consumers)'.format(prods, mkts, n_consumers))\n",
    "    plt.xlabel('Surplus')\n",
    "    plt.ylabel('Markets')\n",
    "    plt.show()"
   ]
  },
  {
   "cell_type": "code",
   "execution_count": 196,
   "metadata": {},
   "outputs": [],
   "source": [
    "def get_elasticities(mkts,prods,n_consumers,sigma,alpha,price_vals,nu_i_vals):\n",
    "    # get implied delta and shares\n",
    "    delta = get_delta(sigma, nu_i_vals)\n",
    "    share_vals = get_shares(mkts,prods,n_consumers,price_vals.T,delta,sigma,nu_i_vals)\n",
    "    \n",
    "    # get individual shares\n",
    "    u_exp = np.exp(np.repeat(delta, n_consumers, axis = 0) - sigma * np.repeat(price_vals.T, n_consumers, axis = 0) * nu_i_vals.reshape(-1,1))\n",
    "    sum_terms = 1. + np.sum(u_exp, axis = 1).reshape(-1,1)\n",
    "    indiv_shares = (u_exp / sum_terms)\n",
    "    \n",
    "    # convert to 300x3 matrix, where each 3x3 matrix yields all elasticities for a given market\n",
    "    \n",
    "    indiv_mkts_x_shares = [indiv_shares[i].reshape(-1,1) @ indiv_shares[i].reshape(1,-1) for i in range(len(indiv_shares))]\n",
    "    cross_shares_matrix = np.concatenate(indiv_mkts_x_shares, axis = 0)\n",
    "    own_shares_ind = np.repeat(indiv_shares, prods, axis = 0) * np.tile(np.eye(prods), (n_consumers * mkts,1))\n",
    "    \n",
    "    # get the derivative terms\n",
    "    d_terms = np.repeat(alpha + sigma * nu_i_vals.reshape(-1,1), 3, axis = 0)\n",
    "\n",
    "    total_mat = d_terms * (cross_shares_matrix - own_shares_ind)\n",
    "    \n",
    "    all_blocks = []\n",
    "    for i in range(100):    \n",
    "        mkt_blocks = [total_mat[j:(j+prods)] for j in range(i * prods * n_consumers, (i+1) * prods * n_consumers, prods)]\n",
    "        all_blocks.append(np.mean(mkt_blocks, axis = 0))\n",
    "\n",
    "    all_elasticities = np.concatenate(all_blocks, axis = 0) * price_vals.T.reshape(-1,1) / np.repeat(share_vals,prods,axis = 0)\n",
    "    \n",
    "    return(all_elasticities)"
   ]
  },
  {
   "cell_type": "code",
   "execution_count": null,
   "metadata": {},
   "outputs": [],
   "source": [
    "def plot_estimated_profit(mkts,prods,n_consumers,sigma,alpha,price_vals,nu_i_vals):\n",
    "    \n",
    "    # get the elasticities\n",
    "    elas = get_elasticities(mkts,prods,n_consumers,sigma,alpha,price_vals,nu_i_vals)\n",
    "    \n",
    "    # create delta under given (one firm, one product)\n",
    "    Delta = sp.linalg.block_diag([elas[(i*prods):((i+1) * prods)] for i in range(mkts)])"
   ]
  },
  {
   "cell_type": "code",
   "execution_count": 474,
   "metadata": {},
   "outputs": [],
   "source": [
    "elas = get_elasticities(100,3,500,1.,1.,P_opt,alphas.reshape(-1,1)-1.)\n",
    "Delta = sp.linalg.block_diag(*[elas[(i*prods):((i+1) * prods)] for i in range(mkts)]) * np.eye(300)\n",
    "s_hat = get_shares(100,3,500,P_opt.T,get_delta(1.,alphas.reshape(-1,1)-1.),1.,alphas.reshape(-1,1)-1.)\n",
    "markup = np.linalg.inv(Delta) @ s_hat.reshape(-1,1)\n",
    "#[elas[(i*prods):((i+1) * prods)] for i in range(mkts)]"
   ]
  },
  {
   "cell_type": "code",
   "execution_count": 475,
   "metadata": {},
   "outputs": [
    {
     "data": {
      "text/plain": [
       "array([[-6.13079267e-06],\n",
       "       [-8.24457472e-01],\n",
       "       [-3.13164801e-02],\n",
       "       [-2.68426690e-02],\n",
       "       [-5.75419917e-02],\n",
       "       [-8.99675402e-01],\n",
       "       [-5.79431592e-02],\n",
       "       [-4.94332759e-02],\n",
       "       [-9.71171099e-01],\n",
       "       [-8.71404148e-04],\n",
       "       [-5.36420097e-01],\n",
       "       [-3.16642425e-02],\n",
       "       [-8.03830085e-03],\n",
       "       [-2.60450222e-01],\n",
       "       [-1.01081663e-01],\n",
       "       [-1.88131144e-02],\n",
       "       [-4.56395986e-02],\n",
       "       [-1.55464405e-02],\n",
       "       [-7.85965724e-02],\n",
       "       [-2.67595343e-02],\n",
       "       [-7.45098933e-03],\n",
       "       [-4.86931938e-05],\n",
       "       [-1.20044835e+00],\n",
       "       [-2.87147119e-03],\n",
       "       [-9.06544128e-05],\n",
       "       [-1.54891996e+00],\n",
       "       [-8.06843273e-02],\n",
       "       [-2.95635773e-04],\n",
       "       [-6.74383994e-01],\n",
       "       [-2.34315715e-03],\n",
       "       [-1.72217658e-02],\n",
       "       [-3.46715643e-01],\n",
       "       [-4.97484650e-03],\n",
       "       [-6.41336290e-03],\n",
       "       [-3.47996083e-01],\n",
       "       [-2.82928629e-02],\n",
       "       [-1.48469908e-04],\n",
       "       [-5.35287909e-01],\n",
       "       [-2.13637535e-02],\n",
       "       [-7.30155698e-03],\n",
       "       [-1.58864884e-01],\n",
       "       [-7.00744892e-02],\n",
       "       [-1.18617689e-03],\n",
       "       [-4.17992433e-01],\n",
       "       [-6.28195378e-02],\n",
       "       [-3.01414162e-03],\n",
       "       [-1.26692589e-02],\n",
       "       [-5.28322194e-01],\n",
       "       [-5.12647162e-05],\n",
       "       [-2.02225054e-01],\n",
       "       [-3.10815914e-01],\n",
       "       [-1.28518045e-02],\n",
       "       [-5.43682772e-01],\n",
       "       [-2.67416510e-03],\n",
       "       [-4.58050130e-02],\n",
       "       [-2.11639475e-03],\n",
       "       [-9.64508916e-01],\n",
       "       [-1.30787021e-02],\n",
       "       [-6.66907188e-02],\n",
       "       [-1.43459921e-02],\n",
       "       [-2.18471093e-02],\n",
       "       [-1.75244805e-02],\n",
       "       [-1.36883468e-01],\n",
       "       [-2.39968405e-03],\n",
       "       [-4.64181508e-01],\n",
       "       [-2.61475901e-02],\n",
       "       [-1.52245367e-06],\n",
       "       [-1.14416487e+00],\n",
       "       [-2.29107031e+00],\n",
       "       [-1.44140662e-02],\n",
       "       [-6.54845869e+00],\n",
       "       [-1.00518008e-02],\n",
       "       [-2.11662776e-03],\n",
       "       [-3.15006586e-01],\n",
       "       [-6.92358344e-02],\n",
       "       [-4.40950636e-02],\n",
       "       [-3.15744909e-04],\n",
       "       [-5.41075689e-01],\n",
       "       [-5.28323385e-03],\n",
       "       [-1.97358535e-01],\n",
       "       [-2.98908688e-01],\n",
       "       [-6.15602298e-04],\n",
       "       [-3.91113461e-01],\n",
       "       [-5.15655760e-02],\n",
       "       [-7.88651190e-03],\n",
       "       [-1.02384930e-02],\n",
       "       [-5.71299277e-02],\n",
       "       [-8.51794615e-02],\n",
       "       [-4.95340252e-02],\n",
       "       [-7.78005324e-03],\n",
       "       [-4.91335878e-05],\n",
       "       [-1.13408634e+00],\n",
       "       [-2.92729419e-02],\n",
       "       [-2.91735291e-05],\n",
       "       [-1.86483675e+00],\n",
       "       [-1.34545149e-02],\n",
       "       [-6.82873768e-02],\n",
       "       [-4.80593037e-04],\n",
       "       [-1.01313698e-01],\n",
       "       [-3.48245226e-01],\n",
       "       [-3.79846190e-01],\n",
       "       [-3.67973727e-02],\n",
       "       [-1.21971764e-01],\n",
       "       [-1.12393930e-02],\n",
       "       [-3.35124513e-01],\n",
       "       [-7.60613649e-02],\n",
       "       [-1.47945735e-03],\n",
       "       [-1.29000067e-01],\n",
       "       [-2.11877740e-04],\n",
       "       [-2.22618757e-04],\n",
       "       [-2.54298303e-01],\n",
       "       [-2.13290008e-03],\n",
       "       [-2.37388858e-01],\n",
       "       [-8.48278111e-04],\n",
       "       [-1.99781849e-02],\n",
       "       [-1.67192745e-02],\n",
       "       [-6.78488545e-01],\n",
       "       [-2.94453712e-02],\n",
       "       [-4.71594578e-02],\n",
       "       [-4.19447813e-02],\n",
       "       [-2.01226834e-01],\n",
       "       [-6.27974067e-04],\n",
       "       [-8.13197668e-01],\n",
       "       [-3.42045211e-03],\n",
       "       [-8.72018614e-01],\n",
       "       [-2.35388617e-02],\n",
       "       [-1.94567461e-03],\n",
       "       [-8.63971625e-03],\n",
       "       [-9.77366597e-01],\n",
       "       [-9.04928108e-02],\n",
       "       [-3.11633800e-01],\n",
       "       [-3.06231065e-02],\n",
       "       [-4.58359957e-02],\n",
       "       [-4.67022725e-04],\n",
       "       [-2.01358724e-01],\n",
       "       [-2.51401386e-03],\n",
       "       [-8.48522761e-02],\n",
       "       [-1.04481006e-01],\n",
       "       [-2.89574659e-02],\n",
       "       [-5.66942584e-02],\n",
       "       [-1.18397141e-01],\n",
       "       [-8.81037033e-03],\n",
       "       [-2.10826900e-01],\n",
       "       [-7.43980043e-03],\n",
       "       [-7.49599127e-01],\n",
       "       [-1.18893102e-04],\n",
       "       [-2.50553969e-01],\n",
       "       [-2.57664569e-03],\n",
       "       [-3.54174293e-01],\n",
       "       [-1.28825029e-01],\n",
       "       [-4.80243982e-02],\n",
       "       [-2.62236221e-01],\n",
       "       [-2.85326795e-03],\n",
       "       [-1.88671607e-03],\n",
       "       [-2.54703172e-01],\n",
       "       [-2.66120549e-01],\n",
       "       [-5.78665023e-03],\n",
       "       [-5.56343343e-01],\n",
       "       [-4.28484721e-02],\n",
       "       [-9.71232591e-04],\n",
       "       [-9.80955362e-03],\n",
       "       [-5.24053097e-01],\n",
       "       [-3.33787994e-01],\n",
       "       [-1.23521511e-01],\n",
       "       [-1.18027225e-03],\n",
       "       [-3.42210195e-01],\n",
       "       [-1.51203314e-02],\n",
       "       [-1.58967716e-02],\n",
       "       [-1.08653251e-02],\n",
       "       [-3.04275278e-02],\n",
       "       [-5.16807825e-01],\n",
       "       [-1.00783708e-03],\n",
       "       [-5.04934277e-01],\n",
       "       [-3.97927074e-03],\n",
       "       [-5.95803774e-04],\n",
       "       [-5.26066907e-02],\n",
       "       [-2.27021060e-01],\n",
       "       [-3.24487657e-01],\n",
       "       [-1.99648101e-01],\n",
       "       [-1.96403585e-02],\n",
       "       [-4.08464629e-03],\n",
       "       [-9.74888415e-01],\n",
       "       [-1.86765329e-02],\n",
       "       [-2.00220146e-03],\n",
       "       [-4.66827668e-01],\n",
       "       [-7.41748303e-02],\n",
       "       [-5.21508827e-05],\n",
       "       [-3.39535019e-01],\n",
       "       [-4.30609934e-03],\n",
       "       [-4.04120500e-03],\n",
       "       [-5.88771459e-01],\n",
       "       [-1.07544893e-02],\n",
       "       [-3.24553452e-02],\n",
       "       [-3.19920636e-01],\n",
       "       [-2.32477518e-04],\n",
       "       [-1.17469460e-03],\n",
       "       [-4.76917033e-01],\n",
       "       [-2.76553142e-03],\n",
       "       [-1.05250423e-02],\n",
       "       [-7.31116430e-02],\n",
       "       [-5.75412616e-01],\n",
       "       [-3.23941206e-01],\n",
       "       [-8.13044046e-03],\n",
       "       [-1.82501413e-02],\n",
       "       [-1.50378191e-03],\n",
       "       [-2.84381383e-02],\n",
       "       [-1.24678980e-02],\n",
       "       [-1.03218727e-03],\n",
       "       [-9.61619441e-02],\n",
       "       [-9.54160287e-04],\n",
       "       [-6.58655788e-03],\n",
       "       [-1.44446588e-01],\n",
       "       [-1.35095600e-03],\n",
       "       [-1.92225754e-04],\n",
       "       [-1.25722284e+00],\n",
       "       [-3.62069515e-03],\n",
       "       [-5.64739168e-02],\n",
       "       [-4.92843775e-02],\n",
       "       [-1.07404446e-01],\n",
       "       [-2.49913001e-02],\n",
       "       [-2.36958445e-01],\n",
       "       [-1.35523866e-01],\n",
       "       [-3.24434205e-02],\n",
       "       [-4.24480146e-02],\n",
       "       [-2.10161363e-02],\n",
       "       [-1.89374507e-02],\n",
       "       [-1.16846550e+00],\n",
       "       [-3.69031068e-04],\n",
       "       [-7.85837392e-03],\n",
       "       [-6.90412678e-02],\n",
       "       [-8.36436078e-02],\n",
       "       [-3.71098847e-02],\n",
       "       [-1.05270082e-02],\n",
       "       [-1.16580290e-02],\n",
       "       [-3.14418052e-03],\n",
       "       [-2.24670409e-02],\n",
       "       [-4.43409795e-01],\n",
       "       [-3.62151390e-03],\n",
       "       [-5.35532805e-01],\n",
       "       [-4.65555251e-02],\n",
       "       [-3.48947992e-02],\n",
       "       [-7.93095166e-02],\n",
       "       [-4.92147288e-03],\n",
       "       [-3.54538787e-01],\n",
       "       [-6.02817705e-02],\n",
       "       [-1.15081243e-02],\n",
       "       [-5.93482175e-05],\n",
       "       [-1.34049490e+00],\n",
       "       [-1.27447048e-01],\n",
       "       [-4.50619672e-02],\n",
       "       [-1.43342870e-03],\n",
       "       [-8.55535309e-04],\n",
       "       [-1.56850640e-02],\n",
       "       [-2.58892369e-01],\n",
       "       [-2.03257952e-01],\n",
       "       [-7.89310235e-02],\n",
       "       [-3.04452428e-01],\n",
       "       [-5.06646731e-03],\n",
       "       [-1.86897374e-02],\n",
       "       [-6.90426984e-02],\n",
       "       [-4.11703543e-02],\n",
       "       [-3.25222405e-03],\n",
       "       [-1.06352963e+00],\n",
       "       [-2.64816546e-04],\n",
       "       [-7.97580124e-03],\n",
       "       [-1.67843959e-02],\n",
       "       [-5.65324110e-01],\n",
       "       [-2.25068824e-02],\n",
       "       [-2.38706043e-01],\n",
       "       [-1.37694508e-01],\n",
       "       [-6.44963161e-05],\n",
       "       [-6.08734290e-02],\n",
       "       [-1.27256970e+00],\n",
       "       [-9.31664787e-03],\n",
       "       [-1.80514035e-01],\n",
       "       [-3.28970305e-02],\n",
       "       [-6.99333030e-04],\n",
       "       [-6.57653335e-02],\n",
       "       [-1.13084492e-02],\n",
       "       [-1.85357207e-03],\n",
       "       [-4.38326252e-01],\n",
       "       [-3.31207694e-02],\n",
       "       [-1.45144679e-04],\n",
       "       [-3.74858648e-02],\n",
       "       [-1.77461373e-01],\n",
       "       [-1.60971045e-04],\n",
       "       [-2.21160287e-02],\n",
       "       [-4.59621069e-01],\n",
       "       [-6.86171278e-02],\n",
       "       [-5.98744596e-01],\n",
       "       [-7.72139454e-03],\n",
       "       [-2.50166500e-02],\n",
       "       [-7.57686429e-02],\n",
       "       [-2.60862052e-02],\n",
       "       [-3.03818400e-03],\n",
       "       [-9.94632855e-02],\n",
       "       [-1.94500990e-01],\n",
       "       [-1.11910308e-02],\n",
       "       [-5.96340425e-02],\n",
       "       [-5.70432586e-01]])"
      ]
     },
     "execution_count": 475,
     "metadata": {},
     "output_type": "execute_result"
    }
   ],
   "source": [
    "markup"
   ]
  },
  {
   "cell_type": "code",
   "execution_count": 470,
   "metadata": {},
   "outputs": [
    {
     "data": {
      "text/plain": [
       "array([[-8.46216171e+00,  4.98683734e-04,  6.48924406e-04, ...,\n",
       "         0.00000000e+00,  0.00000000e+00,  0.00000000e+00],\n",
       "       [ 2.10200072e+00, -8.71412836e-01,  2.90656393e+00, ...,\n",
       "         0.00000000e+00,  0.00000000e+00,  0.00000000e+00],\n",
       "       [ 5.60146631e-01,  5.95223190e-01, -3.82389894e+00, ...,\n",
       "         0.00000000e+00,  0.00000000e+00,  0.00000000e+00],\n",
       "       [ 0.00000000e+00,  0.00000000e+00,  0.00000000e+00, ...,\n",
       "         0.00000000e+00,  0.00000000e+00,  0.00000000e+00],\n",
       "       [ 0.00000000e+00,  0.00000000e+00,  0.00000000e+00, ...,\n",
       "         0.00000000e+00,  0.00000000e+00,  0.00000000e+00],\n",
       "       [ 0.00000000e+00,  0.00000000e+00,  0.00000000e+00, ...,\n",
       "         0.00000000e+00,  0.00000000e+00,  0.00000000e+00]])"
      ]
     },
     "execution_count": 470,
     "metadata": {},
     "output_type": "execute_result"
    }
   ],
   "source": [
    "Delta[:6]"
   ]
  },
  {
   "cell_type": "code",
   "execution_count": 257,
   "metadata": {
    "scrolled": true
   },
   "outputs": [],
   "source": [
    "mkts = 100\n",
    "prods = 3\n",
    "\n",
    "# set a seed\n",
    "rand.seed(seed=900)\n",
    "\n",
    "# import data\n",
    "x1,xi_all,w,eta,Z,alphas,P_opt,shares = import_data(mkts,prods)\n",
    "\n",
    "# get number of consumers\n",
    "n_consumers = alphas.shape[1]\n",
    "\n",
    "# simulate consumers\n",
    "nu_i_fixed = rand.lognormal(size = n_consumers * mkts).reshape(-1,1)\n",
    "\n",
    "# get instruments\n",
    "\n",
    "demand_Z = get_demand_instruments(x1, prods, mkts)\n",
    "\n",
    "# optimize GMM for different values\n",
    "\n",
    "results_dict = {x: gmm_min(x, Z, nu_i_fixed) for x in np.arange(1.,10.,1.)}"
   ]
  },
  {
   "cell_type": "code",
   "execution_count": 245,
   "metadata": {},
   "outputs": [
    {
     "data": {
      "text/plain": [
       "{1.0: 1.1900916733692875,\n",
       " 2.0: 1.1901104521408437,\n",
       " 3.0: 1.190111478862404,\n",
       " 4.0: 1.1901080642558537,\n",
       " 5.0: 1.1901088746089905,\n",
       " 6.0: 1.19008676433187,\n",
       " 7.0: 1.1901078609167173,\n",
       " 8.0: 1.1901072565451791,\n",
       " 9.0: 1.1901112768988726}"
      ]
     },
     "execution_count": 245,
     "metadata": {},
     "output_type": "execute_result"
    }
   ],
   "source": [
    "{x: results_dict[x]['x'].item() for x in results_dict.keys()}"
   ]
  },
  {
   "cell_type": "markdown",
   "metadata": {},
   "source": [
    "We can see that regardless of the starting value, we converge to roughly the same value of $\\sigma_{\\alpha}$. If we plug these into our formula, we get essentially identical parameter estimates for $\\hat{\\beta},\\hat{\\alpha}$:"
   ]
  },
  {
   "cell_type": "code",
   "execution_count": 275,
   "metadata": {
    "scrolled": true
   },
   "outputs": [
    {
     "data": {
      "text/html": [
       "<div>\n",
       "<style scoped>\n",
       "    .dataframe tbody tr th:only-of-type {\n",
       "        vertical-align: middle;\n",
       "    }\n",
       "\n",
       "    .dataframe tbody tr th {\n",
       "        vertical-align: top;\n",
       "    }\n",
       "\n",
       "    .dataframe thead th {\n",
       "        text-align: right;\n",
       "    }\n",
       "</style>\n",
       "<table border=\"1\" class=\"dataframe\">\n",
       "  <thead>\n",
       "    <tr style=\"text-align: right;\">\n",
       "      <th></th>\n",
       "      <th>1.0</th>\n",
       "      <th>2.0</th>\n",
       "      <th>3.0</th>\n",
       "      <th>4.0</th>\n",
       "      <th>5.0</th>\n",
       "      <th>6.0</th>\n",
       "      <th>7.0</th>\n",
       "      <th>8.0</th>\n",
       "      <th>9.0</th>\n",
       "    </tr>\n",
       "  </thead>\n",
       "  <tbody>\n",
       "    <tr>\n",
       "      <th>b1</th>\n",
       "      <td>6.699743</td>\n",
       "      <td>6.699906</td>\n",
       "      <td>6.699915</td>\n",
       "      <td>6.699885</td>\n",
       "      <td>6.699892</td>\n",
       "      <td>6.699700</td>\n",
       "      <td>6.699884</td>\n",
       "      <td>6.699878</td>\n",
       "      <td>6.699913</td>\n",
       "    </tr>\n",
       "    <tr>\n",
       "      <th>b2</th>\n",
       "      <td>1.309165</td>\n",
       "      <td>1.309197</td>\n",
       "      <td>1.309199</td>\n",
       "      <td>1.309193</td>\n",
       "      <td>1.309194</td>\n",
       "      <td>1.309156</td>\n",
       "      <td>1.309193</td>\n",
       "      <td>1.309192</td>\n",
       "      <td>1.309198</td>\n",
       "    </tr>\n",
       "    <tr>\n",
       "      <th>b3</th>\n",
       "      <td>1.156545</td>\n",
       "      <td>1.156557</td>\n",
       "      <td>1.156557</td>\n",
       "      <td>1.156555</td>\n",
       "      <td>1.156556</td>\n",
       "      <td>1.156542</td>\n",
       "      <td>1.156555</td>\n",
       "      <td>1.156555</td>\n",
       "      <td>1.156557</td>\n",
       "    </tr>\n",
       "    <tr>\n",
       "      <th>b4</th>\n",
       "      <td>-1.377783</td>\n",
       "      <td>-1.377821</td>\n",
       "      <td>-1.377823</td>\n",
       "      <td>-1.377816</td>\n",
       "      <td>-1.377818</td>\n",
       "      <td>-1.377773</td>\n",
       "      <td>-1.377816</td>\n",
       "      <td>-1.377815</td>\n",
       "      <td>-1.377823</td>\n",
       "    </tr>\n",
       "  </tbody>\n",
       "</table>\n",
       "</div>"
      ],
      "text/plain": [
       "         1.0       2.0       3.0       4.0       5.0       6.0       7.0  \\\n",
       "b1  6.699743  6.699906  6.699915  6.699885  6.699892  6.699700  6.699884   \n",
       "b2  1.309165  1.309197  1.309199  1.309193  1.309194  1.309156  1.309193   \n",
       "b3  1.156545  1.156557  1.156557  1.156555  1.156556  1.156542  1.156555   \n",
       "b4 -1.377783 -1.377821 -1.377823 -1.377816 -1.377818 -1.377773 -1.377816   \n",
       "\n",
       "         8.0       9.0  \n",
       "b1  6.699878  6.699913  \n",
       "b2  1.309192  1.309198  \n",
       "b3  1.156555  1.156557  \n",
       "b4 -1.377815 -1.377823  "
      ]
     },
     "execution_count": 275,
     "metadata": {},
     "output_type": "execute_result"
    }
   ],
   "source": [
    "pd.DataFrame(data = {str(s_val): calculate_theta1(get_delta(results_dict[s_val]['x'], nu_i_fixed),x1,P_opt,demand_Z).squeeze() for s_val in results_dict.keys()},\n",
    "             index = ['b1', 'b2', 'b3', 'a'])\n",
    "\n"
   ]
  },
  {
   "cell_type": "markdown",
   "metadata": {},
   "source": [
    "To get SEs, we recall that\n",
    "$$\\hat{\\xi} = \\delta_{jm} - X_{jm}\\hat{\\beta} +p_{jm}\\hat{\\alpha}$$\n",
    "so then\n",
    "$$\\frac{\\partial G_J(\\alpha,\\beta,\\sigma_{\\alpha})}{\\partial \\beta} = -X^{\\top}Z$$\n",
    "and\n",
    "$$\\frac{\\partial G_J(\\alpha,\\beta,\\sigma_{\\alpha})}{\\partial \\alpha} = P^{\\top}Z$$\n",
    "The nonlinear parameter $\\sigma_{\\alpha}$, however, impacts $\\delta$. By the chain rule (very informally), for a given market, we know that\n",
    "$$\\frac{\\partial \\delta}{\\partial \\sigma_{\\alpha}} = \\frac{d \\delta}{d s}\\frac{d s}{d\\sigma_{\\alpha}}$$\n",
    "We have\n",
    "$$\\frac{\\partial s_j}{\\partial \\sigma_{\\alpha}} = \\frac{1}{500}\\sum_{i=1}^{500}\\frac{\\left(1 + \\sum_{k=1}^3\\exp(\\delta_k - \\sigma_{\\alpha}\\nu_ip_k)\\right)\\exp(\\delta_j - \\sigma_{\\alpha}\\nu_ip_j)(-\\nu_ip_j)-\\exp(\\delta_j - \\sigma_{\\alpha}\\nu_ip_j)\\sum_{k=1}^3(-\\nu_ip_k)\\exp(\\delta_k - \\sigma_{\\alpha}\\nu_ip_k)}{\\left(1 + \\sum_{k=1}^3\\exp(\\delta_k - \\sigma_{\\alpha}\\nu_ip_k)\\right)^2}$$\n",
    "Simplifying yields\n",
    "$$\\frac{\\partial s_j}{\\partial \\sigma_{\\alpha}} = -\\frac{1}{500}\\sum_{i=1}^{500}s_j\\nu_i\\left[p_j-\\sum_{k=1}^3s_kp_k\\right]$$\n",
    "Finally, we know that (shown more formally in the elasticity section below)\n",
    "$$\\frac{\\partial s_j}{\\partial \\delta_j} = \\frac{1}{500}\\sum_{i=1}^{500}s_{ij} - s_{ij}^2$$\n",
    "$$\\frac{\\partial s_j}{\\partial \\delta_k} = -\\frac{1}{500}\\sum_{i=1}^{500}s_{ij}s_{ik}$$\n",
    "\n",
    "Denoting this gradient vector by $\\nabla_{\\sigma_{\\alpha}}$, we then have\n",
    "$$\\frac{\\partial G_J(\\alpha,\\beta,\\sigma_{\\alpha})}{\\partial \\sigma_{\\alpha}} = \\nabla_{\\sigma_{\\alpha}}^{\\top}Z$$\n",
    "Stacking these will yield the $5\\times 5$ $\\Gamma$ matrix.\n",
    "\n",
    "We know that at the optimum of our GMM criterion, the Jacobian value is\n",
    "$$J = \\frac{\\partial}{\\partial \\sigma_{\\alpha}}\\left(\\hat{\\xi}^{\\top} Z \\left(Z^{\\top}Z\\right)^{-1} Z^{\\top}\\hat{\\xi}\\right)$$\n",
    "This means that\n",
    "$$J = 2 $$"
   ]
  },
  {
   "cell_type": "code",
   "execution_count": 397,
   "metadata": {},
   "outputs": [],
   "source": [
    "def v_cov(prods, mkts, n_consumers, sigma, Z, X, P, nu_i_vals):\n",
    "    # get implied delta and shares\n",
    "    delta = get_delta(sigma, nu_i_vals)\n",
    "    share_vals = get_shares(mkts,prods,n_consumers,P.T,delta,sigma,nu_i_vals)\n",
    "\n",
    "    # get individual shares\n",
    "    u_exp = np.exp(np.repeat(delta, n_consumers, axis = 0) - sigma * np.repeat(P.T, n_consumers, axis = 0) * nu_i_vals.reshape(-1,1))\n",
    "    sum_terms = 1. + np.sum(u_exp, axis = 1).reshape(-1,1)\n",
    "    indiv_shares = (u_exp / sum_terms)\n",
    "\n",
    "    indiv_mkts_x_shares = [indiv_shares[i].reshape(-1,1) @ indiv_shares[i].reshape(1,-1) for i in range(len(indiv_shares))]\n",
    "    cross_shares_matrix = np.concatenate(indiv_mkts_x_shares, axis = 0)\n",
    "    own_shares_ind = np.repeat(indiv_shares, prods, axis = 0) * np.tile(np.eye(prods), (n_consumers * mkts,1))\n",
    "    total_mat = own_shares_ind - cross_shares_matrix\n",
    "\n",
    "    # get the inverse matrices\n",
    "    inv_derivatives = []\n",
    "    for i in range(100):    \n",
    "        mkt_blocks = [total_mat[j:(j+prods)] for j in range(i * prods * n_consumers, (i+1) * prods * n_consumers, prods)]\n",
    "        inv_derivatives.append(np.linalg.inv(np.mean(mkt_blocks, axis = 0)))\n",
    "\n",
    "    # get the ds/dsigma derivatives and get the product\n",
    "    row_sums = np.sum(np.repeat(P.T, n_consumers, axis = 0) * indiv_shares, axis = 1)\n",
    "    diff_terms = np.repeat(P.T, n_consumers, axis = 0) - row_sums.reshape(-1,1)\n",
    "    prod_terms = -1. * indiv_shares * nu_i_vals * diff_terms\n",
    "\n",
    "    ds_dsigma = [np.mean(prod_terms[(i * 500):((i+1) * 500)], axis = 0).reshape(-1,1) for i in range(mkts)]\n",
    "    ddelta_dsigma = np.concatenate([inv_derivatives[i] @ ds_dsigma[i] for i in range(mkts)])\n",
    "    \n",
    "    # get the derivatives\n",
    "    d_beta = -X.T @ Z\n",
    "    d_alpha = P.T.reshape(-1,1).T @ Z\n",
    "    d_sigma = ddelta_dsigma.T @ Z\n",
    "    \n",
    "    # get total obs\n",
    "    n = prods * mkts\n",
    "    \n",
    "    # create gamma matrix by stacking the individual conditions\n",
    "    G = np.row_stack([d_beta,d_alpha,d_sigma]) / n\n",
    "    G_term = np.linalg.inv(G.T @ G) @ G.T\n",
    "    \n",
    "    # get V1 by getting the variance of the Z * xi terms\n",
    "    xi_hat = get_xi_hat(get_delta(sigma, nu_i_vals), X, P, Z)\n",
    "    Z_e = Z * xi_hat\n",
    "    V1 = Z_e.T @ Z_e / n\n",
    "    \n",
    "    # get V3 by getting the empirical variance from drawing nu 100 times\n",
    "#     ns_sims = []\n",
    "#     s = 100\n",
    "#     for i in range(s):\n",
    "#         nu_i = rand.lognormal(size = n_consumers * mkts).reshape(-1,1)\n",
    "#         xi_hat = get_xi_hat(get_delta(sigma, nu_i), X, P, Z)\n",
    "#         Z_xi = Z * xi_hat\n",
    "#         ns_sims.append(Z_xi.T @ Z_xi)\n",
    "        \n",
    "#     V3 = np.mean(ns_sims, axis = 0)\n",
    "    \n",
    "    #return(G_term @ (V1 + V3) @ G_term.T)\n",
    "    return(G_term @ V1 @ G_term.T)"
   ]
  },
  {
   "cell_type": "code",
   "execution_count": 388,
   "metadata": {},
   "outputs": [],
   "source": [
    "# params\n",
    "mkts = 100\n",
    "prods = 3\n",
    "n_consumers = 500\n",
    "price_vals = P_opt\n",
    "sigma = sigma_hat\n",
    "nu_i_vals = nu_i_fixed\n",
    "\n",
    "# get implied delta and shares\n",
    "delta = get_delta(sigma, nu_i_vals)\n",
    "share_vals = get_shares(mkts,prods,n_consumers,price_vals.T,delta,sigma,nu_i_vals)\n",
    "\n",
    "# get individual shares\n",
    "u_exp = np.exp(np.repeat(delta, n_consumers, axis = 0) - sigma * np.repeat(price_vals.T, n_consumers, axis = 0) * nu_i_vals.reshape(-1,1))\n",
    "sum_terms = 1. + np.sum(u_exp, axis = 1).reshape(-1,1)\n",
    "indiv_shares = (u_exp / sum_terms)\n",
    "\n",
    "indiv_mkts_x_shares = [indiv_shares[i].reshape(-1,1) @ indiv_shares[i].reshape(1,-1) for i in range(len(indiv_shares))]\n",
    "cross_shares_matrix = np.concatenate(indiv_mkts_x_shares, axis = 0)\n",
    "own_shares_ind = np.repeat(indiv_shares, prods, axis = 0) * np.tile(np.eye(prods), (n_consumers * mkts,1))\n",
    "total_mat = own_shares_ind - cross_shares_matrix\n",
    "\n",
    "# get the inverse matrices\n",
    "inv_derivatives = []\n",
    "for i in range(100):    \n",
    "    mkt_blocks = [total_mat[j:(j+prods)] for j in range(i * prods * n_consumers, (i+1) * prods * n_consumers, prods)]\n",
    "    inv_derivatives.append(np.linalg.inv(np.mean(mkt_blocks, axis = 0)))\n",
    "\n",
    "# get the ds/dsigma derivatives and get the product\n",
    "row_sums = np.sum(np.repeat(price_vals.T, n_consumers, axis = 0) * indiv_shares, axis = 1)\n",
    "diff_terms = np.repeat(price_vals.T, n_consumers, axis = 0) - row_sums.reshape(-1,1)\n",
    "prod_terms = -1. * indiv_shares * nu_i_vals * diff_terms\n",
    "\n",
    "ds_dsigma = [np.mean(prod_terms[(i * 500):((i+1) * 500)], axis = 0).reshape(-1,1) for i in range(mkts)]\n",
    "ddelta_dsigma = np.concatenate([inv_derivatives[i] @ ds_dsigma[i] for i in range(mkts)])\n",
    "d_beta = -x1.T @ demand_Z\n",
    "d_alpha = P_opt.T.reshape(-1,1).T @ demand_Z\n",
    "d_sigma = ddelta_dsigma.T @ demand_Z\n",
    "\n",
    "Gamma = np.row_stack([d_beta,d_alpha,d_sigma]) / 300\n",
    "\n",
    "# get V1 by getting the variance of the Z * xi terms\n",
    "xi_hat = get_xi_hat(get_delta(sigma, nu_i_vals), x1, P_opt, demand_Z)\n",
    "Z_e = demand_Z * xi_hat\n",
    "V1 = Z_e.T @ Z_e / 300"
   ]
  },
  {
   "cell_type": "markdown",
   "metadata": {},
   "source": [
    "To get elasticity, we need to do some calculations. We know that the cross-price (or same-price, if $j=k$) elasticity is given by\n",
    "$$\\varepsilon_{jk} = \\frac{\\partial s_j/s_j}{\\partial p_k/p_k} = \\frac{\\partial s_j}{\\partial p_k}\\frac{p_k}{s_j}$$\n",
    "\n",
    "Given our shares formulation, we have\n",
    "$$\\frac{\\partial s_j}{\\partial p_j} = \\frac{1}{n}\\sum_{i=1}^{500}\\frac{(1+\\sum_s{\\exp(\\delta_s + \\mu_{is})})(-\\alpha-\\sigma_{\\alpha}\\nu_i)\\exp(\\delta_j + \\mu_{ij}) + (\\alpha + \\sigma_{\\alpha}\\nu_i)(\\exp(\\delta_j + \\mu_{ij}))^2}{(1+\\sum_s{\\exp(\\delta_s + \\mu_{is})})^2}$$\n",
    "Simplifying yields\n",
    "$$\\frac{\\partial s_j}{\\partial p_j} = \\frac{1}{500}\\sum_{i=1}^{500}(\\alpha + \\sigma_{\\alpha}\\nu_i)(s_{ij}^2 - s_{ij})$$\n",
    "and\n",
    "$$\\frac{\\partial s_j}{\\partial p_k} = \\frac{1}{500}\\sum_{i=1}^{500}(\\alpha + \\sigma_{\\alpha}\\nu_i)(s_{ij}s_{ik})$$\n",
    "\n",
    "We implement this by creating a $300\\times 3$ matrix, where each $3\\times 3$ block represents all elasticities within a given market. "
   ]
  },
  {
   "cell_type": "code",
   "execution_count": 281,
   "metadata": {},
   "outputs": [],
   "source": [
    "# arbitrarily take first results to get parameter estimates since they're all roughly the same\n",
    "sigma_hat = results_dict[1.0]['x']\n",
    "theta_hat = calculate_theta1(get_delta(sigma_hat, nu_i_fixed),x1,P_opt,demand_Z)\n",
    "alpha_hat = -1 * theta_hat[3]\n",
    "all_elasticities = get_elasticities(mkts, prods, n_consumers, sigma_hat, alpha_hat, P_opt, nu_i_fixed)"
   ]
  },
  {
   "cell_type": "code",
   "execution_count": 455,
   "metadata": {},
   "outputs": [
    {
     "data": {
      "text/plain": [
       "array([[-8.46216171e+00,  4.98683734e-04,  6.48924406e-04],\n",
       "       [ 2.10200072e+00, -8.71412836e-01,  2.90656393e+00],\n",
       "       [ 5.60146631e-01,  5.95223190e-01, -3.82389894e+00],\n",
       "       [-3.47082960e+00,  3.87359101e-01,  3.83945214e-01],\n",
       "       [ 2.72297670e-01, -2.39988026e+00,  3.99914384e-01],\n",
       "       [ 1.34808996e+00,  1.99749858e+00, -7.76256681e-01]])"
      ]
     },
     "execution_count": 455,
     "metadata": {},
     "output_type": "execute_result"
    }
   ],
   "source": [
    "get_elasticities(mkts, prods, n_consumers, 1., 1., P_opt, alphas.reshape(-1,1)-1.)[:6]"
   ]
  },
  {
   "cell_type": "markdown",
   "metadata": {},
   "source": [
    "It's difficult to report so many elasticities, so I provide an example with the first market (the rows represent the $p_j$, and the columns the $s_k$):"
   ]
  },
  {
   "cell_type": "code",
   "execution_count": 282,
   "metadata": {},
   "outputs": [
    {
     "data": {
      "text/html": [
       "<div>\n",
       "<style scoped>\n",
       "    .dataframe tbody tr th:only-of-type {\n",
       "        vertical-align: middle;\n",
       "    }\n",
       "\n",
       "    .dataframe tbody tr th {\n",
       "        vertical-align: top;\n",
       "    }\n",
       "\n",
       "    .dataframe thead th {\n",
       "        text-align: right;\n",
       "    }\n",
       "</style>\n",
       "<table border=\"1\" class=\"dataframe\">\n",
       "  <thead>\n",
       "    <tr style=\"text-align: right;\">\n",
       "      <th></th>\n",
       "      <th>0</th>\n",
       "      <th>1</th>\n",
       "      <th>2</th>\n",
       "    </tr>\n",
       "  </thead>\n",
       "  <tbody>\n",
       "    <tr>\n",
       "      <th>0</th>\n",
       "      <td>-11.050328</td>\n",
       "      <td>0.000651</td>\n",
       "      <td>0.000868</td>\n",
       "    </tr>\n",
       "    <tr>\n",
       "      <th>1</th>\n",
       "      <td>2.742007</td>\n",
       "      <td>-1.045454</td>\n",
       "      <td>3.610526</td>\n",
       "    </tr>\n",
       "    <tr>\n",
       "      <th>2</th>\n",
       "      <td>0.749070</td>\n",
       "      <td>0.739385</td>\n",
       "      <td>-4.681548</td>\n",
       "    </tr>\n",
       "  </tbody>\n",
       "</table>\n",
       "</div>"
      ],
      "text/plain": [
       "           0         1         2\n",
       "0 -11.050328  0.000651  0.000868\n",
       "1   2.742007 -1.045454  3.610526\n",
       "2   0.749070  0.739385 -4.681548"
      ]
     },
     "execution_count": 282,
     "metadata": {},
     "output_type": "execute_result"
    }
   ],
   "source": [
    "pd.DataFrame(all_elasticities[:3])"
   ]
  },
  {
   "cell_type": "markdown",
   "metadata": {},
   "source": [
    "The other metric that's reported in BLP is the number of firms (here I will use the percentage of total firms) that have inelastic same-price elasticity:"
   ]
  },
  {
   "cell_type": "code",
   "execution_count": 290,
   "metadata": {},
   "outputs": [
    {
     "name": "stdout",
     "output_type": "stream",
     "text": [
      "6.33% of firms are pricing in the inelastic part of demand.\n"
     ]
    }
   ],
   "source": [
    "own_elasticity = all_elasticities * np.tile(np.eye(prods), (mkts,1))\n",
    "own_elasticity = own_elasticity[np.where(own_elasticity != 0)]\n",
    "\n",
    "inelastic_elasticities = np.sum(own_elasticity > -1.) / len(own_elasticity)\n",
    "print('{}% of firms are pricing in the inelastic part of demand.'.format(round(inelastic_elasticities* 100, 2)))"
   ]
  },
  {
   "cell_type": "code",
   "execution_count": 462,
   "metadata": {},
   "outputs": [
    {
     "data": {
      "text/html": [
       "<div>\n",
       "<style scoped>\n",
       "    .dataframe tbody tr th:only-of-type {\n",
       "        vertical-align: middle;\n",
       "    }\n",
       "\n",
       "    .dataframe tbody tr th {\n",
       "        vertical-align: top;\n",
       "    }\n",
       "\n",
       "    .dataframe thead th {\n",
       "        text-align: right;\n",
       "    }\n",
       "</style>\n",
       "<table border=\"1\" class=\"dataframe\">\n",
       "  <thead>\n",
       "    <tr style=\"text-align: right;\">\n",
       "      <th></th>\n",
       "      <th>0</th>\n",
       "      <th>1</th>\n",
       "    </tr>\n",
       "  </thead>\n",
       "  <tbody>\n",
       "    <tr>\n",
       "      <th>count</th>\n",
       "      <td>100.000000</td>\n",
       "      <td>100.000000</td>\n",
       "    </tr>\n",
       "    <tr>\n",
       "      <th>mean</th>\n",
       "      <td>-6.521570</td>\n",
       "      <td>-3.290727</td>\n",
       "    </tr>\n",
       "    <tr>\n",
       "      <th>std</th>\n",
       "      <td>2.564710</td>\n",
       "      <td>2.191735</td>\n",
       "    </tr>\n",
       "    <tr>\n",
       "      <th>min</th>\n",
       "      <td>-12.256497</td>\n",
       "      <td>-10.794546</td>\n",
       "    </tr>\n",
       "    <tr>\n",
       "      <th>25%</th>\n",
       "      <td>-8.276042</td>\n",
       "      <td>-4.813488</td>\n",
       "    </tr>\n",
       "    <tr>\n",
       "      <th>50%</th>\n",
       "      <td>-6.427495</td>\n",
       "      <td>-2.696886</td>\n",
       "    </tr>\n",
       "    <tr>\n",
       "      <th>75%</th>\n",
       "      <td>-4.678346</td>\n",
       "      <td>-1.447285</td>\n",
       "    </tr>\n",
       "    <tr>\n",
       "      <th>max</th>\n",
       "      <td>-1.035658</td>\n",
       "      <td>-0.144028</td>\n",
       "    </tr>\n",
       "  </tbody>\n",
       "</table>\n",
       "</div>"
      ],
      "text/plain": [
       "                0           1\n",
       "count  100.000000  100.000000\n",
       "mean    -6.521570   -3.290727\n",
       "std      2.564710    2.191735\n",
       "min    -12.256497  -10.794546\n",
       "25%     -8.276042   -4.813488\n",
       "50%     -6.427495   -2.696886\n",
       "75%     -4.678346   -1.447285\n",
       "max     -1.035658   -0.144028"
      ]
     },
     "execution_count": 462,
     "metadata": {},
     "output_type": "execute_result"
    }
   ],
   "source": [
    "pd.DataFrame(np.column_stack([own_elasticity[range(0,300,3)], own_elasticity[range(1,300,3)]])).describe()"
   ]
  },
  {
   "cell_type": "markdown",
   "metadata": {},
   "source": [
    "### 3. Adding Supply Side Instruments\n",
    "___\n",
    "\n",
    "1a. In this case, we again will have moments given by\n",
    "$$\\mathbb{E}\\left[\\left[X_i, \\sum_{j\\in t}X_{j\\neq i}, W_i\\right]^{\\top}\\xi_i\\right] = 0$$"
   ]
  },
  {
   "cell_type": "code",
   "execution_count": 36,
   "metadata": {},
   "outputs": [],
   "source": [
    "def get_demand_supply_instruments(X,W,prds,mkts):\n",
    "    z1 = X # own characteristics\n",
    "    \n",
    "    z2_list = [np.sum(z1[:,1:][(i*prods):((i+1)*prods)], axis = 0) for i in range(int(X.shape[0]/prods))]\n",
    "    z2 = np.repeat(np.row_stack(z2_list), prods, axis = 0) - z1[:,1:] # sum characteristics for the firm's products, subtract z1\n",
    "    \n",
    "    return(np.column_stack([z1,z2,w]))"
   ]
  },
  {
   "cell_type": "code",
   "execution_count": 457,
   "metadata": {},
   "outputs": [
    {
     "name": "stdout",
     "output_type": "stream",
     "text": [
      "Optimization terminated successfully.\n",
      "         Current function value: 0.003856\n",
      "         Iterations: 3\n",
      "         Function evaluations: 10\n",
      "         Gradient evaluations: 5\n",
      "Optimization terminated successfully.\n",
      "         Current function value: 0.003856\n",
      "         Iterations: 4\n",
      "         Function evaluations: 10\n",
      "         Gradient evaluations: 5\n",
      "Optimization terminated successfully.\n",
      "         Current function value: 0.003856\n",
      "         Iterations: 6\n",
      "         Function evaluations: 14\n",
      "         Gradient evaluations: 7\n",
      "Optimization terminated successfully.\n",
      "         Current function value: 0.003856\n",
      "         Iterations: 6\n",
      "         Function evaluations: 14\n",
      "         Gradient evaluations: 7\n"
     ]
    }
   ],
   "source": [
    "mkts = 100\n",
    "prods = 3\n",
    "\n",
    "# set a seed\n",
    "rand.seed(seed=900)\n",
    "\n",
    "# import data\n",
    "x1,xi_all,w,eta,Z,alphas,P_opt,shares = import_data(mkts,prods)\n",
    "\n",
    "# get number of consumers\n",
    "n_consumers = alphas.shape[1]\n",
    "\n",
    "# simulate consumers\n",
    "nu_i_fixed = rand.lognormal(size = n_consumers * mkts).reshape(-1,1)\n",
    "\n",
    "# get instruments\n",
    "\n",
    "Z = get_demand_supply_instruments(x1, w, prods, mkts)\n",
    "\n",
    "# optimize GMM for different values\n",
    "\n",
    "results_dict = {x: gmm_min(x, Z, nu_i_fixed) for x in np.arange(1.,5.,1.)}"
   ]
  },
  {
   "cell_type": "code",
   "execution_count": 452,
   "metadata": {},
   "outputs": [
    {
     "data": {
      "image/png": "[encoded data removed]",
      "text/plain": [
       "<Figure size 1440x360 with 1 Axes>"
      ]
     },
     "metadata": {
      "needs_background": "light"
     },
     "output_type": "display_data"
    }
   ],
   "source": [
    "plot_estimated_cs(100, 3, 1.25)"
   ]
  },
  {
   "cell_type": "code",
   "execution_count": 443,
   "metadata": {},
   "outputs": [
    {
     "data": {
      "image/png": "[encoded data removed]",
      "text/plain": [
       "<Figure size 1440x360 with 1 Axes>"
      ]
     },
     "metadata": {
      "needs_background": "light"
     },
     "output_type": "display_data"
    }
   ],
   "source": [
    "plot_cs(100, 3)"
   ]
  },
  {
   "cell_type": "markdown",
   "metadata": {},
   "source": [
    "2a. We can here use our elasticity formulations. If there is perfect competition, we know that $MC = P$ and we can just use the prices as marginal costs.\n",
    "\n",
    "If this is oligopoly, and each firm is only pricing for their one product, we will have $\\Delta$ given by\n",
    "\n",
    "$$\\Delta = \\begin{bmatrix}\n",
    "-\\frac{\\partial s_{11}}{\\partial p_{11}} & 0 & 0 & ... & 0 \\\\\n",
    "0 & -\\frac{\\partial s_{12}}{\\partial p_{12}} & 0 & ... & 0 \\\\\n",
    "\\vdots & \\vdots & \\ddots & \\vdots & \\vdots \\\\\n",
    "0 & 0 & ... & -\\frac{\\partial s_{(m-1)(j-1)}}{\\partial p_{(m-1)(j-1)}} & 0 \\\\\n",
    "0 & 0 & 0 & ... & -\\frac{\\partial s_{mj}}{\\partial p_{mj}}\n",
    "\\end{bmatrix}$$\n",
    "\n",
    "which yields $MC = P - \\Delta^{-1}s$\n",
    "\n",
    "Under perfect collusion, all firms care about the impact of price changes on the shares of other products in their market:\n",
    "$$\\Delta = \\begin{bmatrix}\n",
    "-\\frac{\\partial s_{11}}{\\partial p_{11}} & -\\frac{\\partial s_{12}}{\\partial p_{11}} & -\\frac{\\partial s_{13}}{\\partial p_{11}} & ... & -\\frac{\\partial s_{1j}}{\\partial p_{11}} & 0 & 0 & ... & 0 \\\\\n",
    "-\\frac{\\partial s_{11}}{\\partial p_{12}} & -\\frac{\\partial s_{12}}{\\partial p_{12}} & -\\frac{\\partial s_{13}}{\\partial p_{12}} & ... & -\\frac{\\partial s_{1j}}{\\partial p_{12}} & 0 & 0 & ... & 0 \\\\\n",
    "\\vdots & \\vdots & \\vdots & \\vdots & \\vdots & \\vdots & \\vdots & \\vdots & \\vdots \\\\\n",
    "0 & 0 & 0 & ... & 0 & ... & -\\frac{\\partial s_{m(j-2)}}{\\partial p_{mj}} & -\\frac{\\partial s_{m(j-1)}}{\\partial p_{mj}} & -\\frac{\\partial s_{mj}}{\\partial p_{mj}}\n",
    "\\end{bmatrix}$$\n",
    "\n",
    "which yields $MC = P - \\Delta^{-1}s$\n",
    "<!-- We then calculate $\\Delta$. As firms produce one good per market, $\\Delta$ will be diagonal, with elements given by\n",
    "$$-\\frac{\\partial s_j}{\\partial p_j}$$\n",
    "For an individual $i$, the choice probability of choosing product $j$ is given by\n",
    "$$\\mathbb{P}_{ij} = \\frac{\\exp(\\delta_j - p_j \\nu_i \\sigma_{\\alpha})}{1 + \\sum_{k=1}^J\\exp(\\delta_k - p_k \\nu_i \\sigma_{\\alpha})}$$\n",
    "This means that\n",
    "$$\\frac{\\partial \\mathbb{P}_{ij}}{\\partial p_j} = \\frac{\\left(1 + \\sum_{k=1}^J\\exp(\\delta_k - p_k \\nu_i \\sigma_{\\alpha})\\right)\\exp(\\delta_j - p_j \\nu_i \\sigma_{\\alpha})(-\\alpha - \\sigma_{\\alpha}\\nu_i) - \\exp(\\delta_j - p_j \\nu_i \\sigma_{\\alpha})^2(-\\alpha - \\sigma_{\\alpha}\\nu_i)}{\\left(1 + \\sum_{k=1}^J\\exp(\\delta_k - p_k \\nu_i \\sigma_{\\alpha})\\right)^2}$$\n",
    "and\n",
    "$$-\\frac{\\partial s_j}{\\partial p_j} = -\\frac{1}{n}\\sum_{i=1}^{ns}\\frac{\\partial \\mathbb{P}_{ij}}{\\partial p_j}$$\n",
    "Given our shares formulation, we have\n",
    "$$-\\frac{\\partial s_j}{\\partial p_j} = -\\frac{1}{n}\\sum_{i=1}^{500}\\frac{(1+\\sum_s{\\exp(\\delta_s + \\mu_{is})})(-\\alpha-\\sigma_{\\alpha}\\nu_i)\\exp(\\delta_j + \\mu_{ij}) + (\\alpha + \\sigma_{\\alpha}\\nu_i)(\\exp(\\delta_j + \\mu_{ij}))^2}{(1+\\sum_s{\\exp(\\delta_s + \\mu_{is})})^2}$$\n",
    "Simplifying yields\n",
    "$$\\frac{\\partial s_j}{\\partial p_j} = \\frac{1}{n}\\sum_{i=1}^{500}(\\alpha + \\sigma_{\\alpha}\\nu_i)(s_{ij}^2 - s_{ij})$$\n",
    "and\n",
    "$$\\frac{\\partial s_j}{\\partial p_k} = \\frac{1}{n}\\sum_{i=1}^{500}(\\alpha + \\sigma_{\\alpha}\\nu_i)(s_{ij}s_{ik})$$ -->"
   ]
  },
  {
   "cell_type": "code",
   "execution_count": 499,
   "metadata": {},
   "outputs": [],
   "source": [
    "def get_markup(mkts,prods,n_consumers,sigma,alpha,price_vals,nu_i_vals,comp_type):\n",
    "    if comp_type == 'perfect':\n",
    "        return(np.zeros(mkts * prods).reshape(-1,1))\n",
    "    elif comp_type == 'oligopoly':\n",
    "        elas = get_elasticities(100,3,500,1.,1.,P_opt,alphas.reshape(-1,1)-1.)\n",
    "        Delta = -1 * sp.linalg.block_diag(*[elas[(i*prods):((i+1) * prods)] for i in range(mkts)]) * np.eye(300)\n",
    "        s_hat = get_shares(100,3,500,P_opt.T,get_delta(1.,alphas.reshape(-1,1)-1.),1.,alphas.reshape(-1,1)-1.)\n",
    "        markup = np.linalg.inv(Delta) @ s_hat.reshape(-1,1)\n",
    "        return(markup)\n",
    "    elif comp_type == 'collusion':\n",
    "        elas = get_elasticities(100,3,500,1.,1.,P_opt,alphas.reshape(-1,1)-1.)\n",
    "        Delta = -1 * sp.linalg.block_diag(*[elas[(i*prods):((i+1) * prods)] for i in range(mkts)])\n",
    "        s_hat = get_shares(100,3,500,P_opt.T,get_delta(1.,alphas.reshape(-1,1)-1.),1.,alphas.reshape(-1,1)-1.)\n",
    "        markup = np.linalg.inv(Delta) @ s_hat.reshape(-1,1)\n",
    "        return(markup)"
   ]
  },
  {
   "cell_type": "code",
   "execution_count": 500,
   "metadata": {},
   "outputs": [],
   "source": [
    "# import data\n",
    "x1,xi_all,w,eta,Z,alphas,P_opt,shares = import_data(mkts,prods)\n",
    "\n",
    "mc_true = (np.column_stack([np.ones(prods * mkts),w, Z]) @ gamma + eta).reshape(100,3)\n",
    "\n",
    "mc_perf_comp = P_opt.T - get_markup(100,3,500,1.,1.,P_opt,alphas.reshape(-1,1)-1., 'perfect').reshape(mkts, prods)\n",
    "mc_olig = P_opt.T - get_markup(100,3,500,1.,1.,P_opt,alphas.reshape(-1,1)-1., 'oligopoly').reshape(mkts, prods)\n",
    "mc_collusion = P_opt.T - get_markup(100,3,500,1.,1.,P_opt,alphas.reshape(-1,1)-1., 'collusion').reshape(mkts, prods)"
   ]
  },
  {
   "cell_type": "code",
   "execution_count": 501,
   "metadata": {},
   "outputs": [
    {
     "data": {
      "text/html": [
       "<div>\n",
       "<style scoped>\n",
       "    .dataframe tbody tr th:only-of-type {\n",
       "        vertical-align: middle;\n",
       "    }\n",
       "\n",
       "    .dataframe tbody tr th {\n",
       "        vertical-align: top;\n",
       "    }\n",
       "\n",
       "    .dataframe thead th {\n",
       "        text-align: right;\n",
       "    }\n",
       "</style>\n",
       "<table border=\"1\" class=\"dataframe\">\n",
       "  <thead>\n",
       "    <tr style=\"text-align: right;\">\n",
       "      <th></th>\n",
       "      <th>mc_true</th>\n",
       "      <th>mc_perf_comp</th>\n",
       "      <th>mc_olig</th>\n",
       "      <th>mc_collusion</th>\n",
       "    </tr>\n",
       "  </thead>\n",
       "  <tbody>\n",
       "    <tr>\n",
       "      <th>count</th>\n",
       "      <td>300.000000</td>\n",
       "      <td>300.000000</td>\n",
       "      <td>300.000000</td>\n",
       "      <td>300.000000</td>\n",
       "    </tr>\n",
       "    <tr>\n",
       "      <th>mean</th>\n",
       "      <td>2.051214</td>\n",
       "      <td>3.026549</td>\n",
       "      <td>2.825875</td>\n",
       "      <td>1.874335</td>\n",
       "    </tr>\n",
       "    <tr>\n",
       "      <th>std</th>\n",
       "      <td>1.577606</td>\n",
       "      <td>1.371157</td>\n",
       "      <td>1.648588</td>\n",
       "      <td>7.971247</td>\n",
       "    </tr>\n",
       "    <tr>\n",
       "      <th>min</th>\n",
       "      <td>-2.259204</td>\n",
       "      <td>0.163102</td>\n",
       "      <td>-6.223062</td>\n",
       "      <td>-95.240258</td>\n",
       "    </tr>\n",
       "    <tr>\n",
       "      <th>25%</th>\n",
       "      <td>0.847252</td>\n",
       "      <td>1.988151</td>\n",
       "      <td>1.829541</td>\n",
       "      <td>1.390512</td>\n",
       "    </tr>\n",
       "    <tr>\n",
       "      <th>50%</th>\n",
       "      <td>2.047371</td>\n",
       "      <td>2.827857</td>\n",
       "      <td>2.797871</td>\n",
       "      <td>2.666966</td>\n",
       "    </tr>\n",
       "    <tr>\n",
       "      <th>75%</th>\n",
       "      <td>3.181108</td>\n",
       "      <td>3.963675</td>\n",
       "      <td>3.947232</td>\n",
       "      <td>3.847671</td>\n",
       "    </tr>\n",
       "    <tr>\n",
       "      <th>max</th>\n",
       "      <td>6.283119</td>\n",
       "      <td>7.028482</td>\n",
       "      <td>7.028430</td>\n",
       "      <td>7.028087</td>\n",
       "    </tr>\n",
       "  </tbody>\n",
       "</table>\n",
       "</div>"
      ],
      "text/plain": [
       "          mc_true  mc_perf_comp     mc_olig  mc_collusion\n",
       "count  300.000000    300.000000  300.000000    300.000000\n",
       "mean     2.051214      3.026549    2.825875      1.874335\n",
       "std      1.577606      1.371157    1.648588      7.971247\n",
       "min     -2.259204      0.163102   -6.223062    -95.240258\n",
       "25%      0.847252      1.988151    1.829541      1.390512\n",
       "50%      2.047371      2.827857    2.797871      2.666966\n",
       "75%      3.181108      3.963675    3.947232      3.847671\n",
       "max      6.283119      7.028482    7.028430      7.028087"
      ]
     },
     "execution_count": 501,
     "metadata": {},
     "output_type": "execute_result"
    }
   ],
   "source": [
    "pd.DataFrame(data = {'mc_true': mc_true.reshape(-1),\n",
    "                     'mc_perf_comp': mc_perf_comp.reshape(-1),\n",
    "                     'mc_olig': mc_olig.reshape(-1),\n",
    "                     'mc_collusion': mc_collusion.reshape(-1)}).describe()"
   ]
  },
  {
   "cell_type": "markdown",
   "metadata": {},
   "source": [
    "To compute all the parameters under these assumptions, we need to get the values of $\\hat{\\omega}$ by using the pricing assumption, and then feed that into the new GMM criterion function. Thus, we need to add code to get the $\\hat{\\omega}$ values, and adjust the GMM criterion."
   ]
  },
  {
   "cell_type": "code",
   "execution_count": 502,
   "metadata": {},
   "outputs": [],
   "source": [
    "def calculate_gamma(P,markup_vals,w_val,Z):\n",
    "    # get the marginal cost\n",
    "    mc = P.T - markup_vals\n",
    "    \n",
    "    # projection matrix\n",
    "    P_Z = Z @ np.linalg.inv(Z.T @ Z) @ Z.T\n",
    "    \n",
    "    return(np.linalg.inv(w_val.T @ P_Z @ w_val) @ w_val.T @ P_Z @ mc.reshape(-1,1))"
   ]
  },
  {
   "cell_type": "code",
   "execution_count": null,
   "metadata": {},
   "outputs": [],
   "source": [
    "def calculate_omega_hat(P,markup_vals,w_val,Z):\n",
    "    # get the marginal cost\n",
    "    mc = P.T - markup_vals\n",
    "    # get the gamma hat\n",
    "    gamma_hat = calculate_gamma(P,markup_vals,w_val,Z)\n",
    "    \n",
    "    return(mc.reshape(-1,1) - w_val @ gamma_hat)"
   ]
  },
  {
   "cell_type": "code",
   "execution_count": null,
   "metadata": {},
   "outputs": [],
   "source": [
    "def gmm_supply_obj(sigma, Z, nu_i_val):\n",
    "    \n",
    "    delta_new = get_delta(sigma,nu_i_val)\n",
    "    \n",
    "    theta1 = calculate_theta1(delta_new,x1,P_opt,Z)\n",
    "\n",
    "    xi_hat = get_xi_hat(delta_new,x1,P_opt,Z)\n",
    "    W = np.linalg.inv(Z.T @ Z)\n",
    "    return((xi_hat.T @ Z @ W @ Z.T @ xi_hat).item())"
   ]
  },
  {
   "cell_type": "code",
   "execution_count": 509,
   "metadata": {},
   "outputs": [
    {
     "ename": "TypeError",
     "evalue": "'module' object is not callable",
     "output_type": "error",
     "traceback": [
      "\u001b[0;31m---------------------------------------------------------------------------\u001b[0m",
      "\u001b[0;31mTypeError\u001b[0m                                 Traceback (most recent call last)",
      "\u001b[0;32m<ipython-input-509-b6d84d7d6d20>\u001b[0m in \u001b[0;36m<module>\u001b[0;34m\u001b[0m\n\u001b[1;32m     13\u001b[0m \u001b[0;34m\u001b[0m\u001b[0m\n\u001b[1;32m     14\u001b[0m \u001b[0mgrad_val\u001b[0m \u001b[0;34m=\u001b[0m \u001b[0mgrad\u001b[0m\u001b[0;34m(\u001b[0m\u001b[0mgmm_obj\u001b[0m\u001b[0;34m)\u001b[0m\u001b[0;34m\u001b[0m\u001b[0;34m\u001b[0m\u001b[0m\n\u001b[0;32m---> 15\u001b[0;31m \u001b[0mgrad_val\u001b[0m\u001b[0;34m(\u001b[0m\u001b[0mag_np\u001b[0m\u001b[0;34m(\u001b[0m\u001b[0;36m1.\u001b[0m\u001b[0;34m,\u001b[0m \u001b[0mdtype\u001b[0m \u001b[0;34m=\u001b[0m \u001b[0;34m'float'\u001b[0m\u001b[0;34m)\u001b[0m\u001b[0;34m)\u001b[0m\u001b[0;34m\u001b[0m\u001b[0;34m\u001b[0m\u001b[0m\n\u001b[0m",
      "\u001b[0;31mTypeError\u001b[0m: 'module' object is not callable"
     ]
    }
   ],
   "source": [
    "import autograd.numpy as np\n",
    "from autograd import grad, jacobian\n",
    "\n",
    "def gmm_obj(sigma):\n",
    "    \n",
    "    delta_new = get_delta(sigma,nu_i_fixed)\n",
    "    \n",
    "    theta1 = calculate_theta1(delta_new,x1,P_opt,demand_Z)\n",
    "\n",
    "    xi_hat = get_xi_hat(delta_new,x1,P_opt,demand_Z)\n",
    "    W = ag_np.linalg.inv(Z.T @ Z)\n",
    "    return((xi_hat.T @ Z @ W @ Z.T @ xi_hat).item())\n",
    "\n",
    "grad_val = grad(gmm_obj)\n",
    "grad_val(ag_np(1., dtype = 'float'))"
   ]
  },
  {
   "cell_type": "code",
   "execution_count": 508,
   "metadata": {},
   "outputs": [
    {
     "data": {
      "text/plain": [
       "array([ 3.33333333, -3.11111111])"
      ]
     },
     "execution_count": 508,
     "metadata": {},
     "output_type": "execute_result"
    }
   ],
   "source": [
    "x = ag_np.array([5,3], dtype=float)\n",
    "\n",
    "def cost(x):\n",
    "    return x[0]**2 / x[1] - ag_np.log(x[1])\n",
    "\n",
    "gradient_cost = grad(cost)\n",
    "jacobian_cost = jacobian(cost)\n",
    "\n",
    "gradient_cost(x)\n",
    "#jacobian_cost(np.array([x,x,x]))"
   ]
  }
 ],
 "metadata": {
  "kernelspec": {
   "display_name": "Python 3",
   "language": "python",
   "name": "python3"
  },
  "language_info": {
   "codemirror_mode": {
    "name": "ipython",
    "version": 3
   },
   "file_extension": ".py",
   "mimetype": "text/x-python",
   "name": "python",
   "nbconvert_exporter": "python",
   "pygments_lexer": "ipython3",
   "version": "3.8.5"
  }
 },
 "nbformat": 4,
 "nbformat_minor": 4
}
