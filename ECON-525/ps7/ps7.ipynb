{
 "cells": [
  {
   "cell_type": "markdown",
   "metadata": {},
   "source": [
    "# Assignment 7\n",
    "## Lukas Hager\n",
    "___"
   ]
  },
  {
   "cell_type": "code",
   "execution_count": 1,
   "metadata": {},
   "outputs": [],
   "source": [
    "import numpy as np"
   ]
  },
  {
   "cell_type": "markdown",
   "metadata": {},
   "source": [
    "There are eight distinct choice probabilities, one for each of the eight possible states, given by $(a_{it-1}, a_{-it-1}, M_t)$. In plain English, the possibilities are all combinations of your past action, your opponent's past action, and the market forces."
   ]
  },
  {
   "cell_type": "markdown",
   "metadata": {},
   "source": [
    "Following the notation of the notes, we can write in matrix form that for $8\\times1$ value function $V_i^*$ induced by an equilibrium choice probability vector $P_i^*$ as \n",
    "$$\\left(I-\\beta F^{P^*}\\right)V_i^{P^*} = \\sum_{a_i=0}^1P_i^*(a_i) \\times \\left(\\pi_i^{P^*}(a_i) + e_i^{P^*}(a_i)\\right)$$\n",
    "Here, $F^{P^*}$ is the transition matrix induced by $P^*$, $\\pi_i^{P^*}(a_i)$ is the expected payoff of playing strategy $a_i$ in state $x$, and $e_i^{P^*}(a_i)$ is\n",
    "$$\\mathbb{E}\\left[\\varepsilon(a_i)|\\sigma^*=a_i,x\\right]$$\n",
    "To calculate this final term, we use the properties of the Gumbel distribution:\n",
    "$$\\mathbb{E}\\left[\\varepsilon(a_i)|x,\\sigma^* = a_i\\right] = \\mu + \\log\\left(1 + \\exp(\\pi(a_{-i},x) - \\pi(a_{i},x))\\right)$$"
   ]
  },
  {
   "cell_type": "code",
   "execution_count": 2,
   "metadata": {},
   "outputs": [],
   "source": [
    "beta = .95\n",
    "lam = 2\n",
    "delta = 2\n",
    "gamma = 1.5\n",
    "mu = .5772\n",
    "M = np.array([1.,1.5])\n",
    "B = np.array([.5,.5,.4,.6]).reshape(2,-1)\n",
    "X = (np.array(np.meshgrid([0,1], [0,1], [1,1.5])).T).reshape(-1,3)\n",
    "X = X[np.lexsort((X[:,1], X[:,2]))]"
   ]
  },
  {
   "cell_type": "code",
   "execution_count": 3,
   "metadata": {},
   "outputs": [],
   "source": [
    "# payoff function\n",
    "def Pi(choice, a_i, a_j, M):\n",
    "    return(choice * (lam * M - delta * a_j - gamma * (1-a_i)))\n",
    "\n",
    "# expected payoff\n",
    "def pi(choice, P_cond):\n",
    "    a_i = X[:,0]\n",
    "    M = X[:,2]\n",
    "    \n",
    "    P_cond_2 = P_cond.copy()\n",
    "    P_cond_2[2], P_cond_2[1], P_cond_2[6], P_cond_2[5] = P_cond_2[1], P_cond_2[2], P_cond_2[5], P_cond_2[6]\n",
    "    \n",
    "    Pi_val = Pi(choice, a_i, np.ones(8), M) * P_cond_2 + Pi(choice, a_i, np.zeros(8), M) * (1.-P_cond_2)\n",
    "    return(Pi_val)\n",
    "\n",
    "# conditional gumbel expectation\n",
    "def e(choice, P_cond):\n",
    "    other = 1. - choice\n",
    "    return(mu + np.log(1. + np.exp(pi(other,P_cond) - pi(choice,P_cond))))"
   ]
  },
  {
   "cell_type": "code",
   "execution_count": 4,
   "metadata": {},
   "outputs": [],
   "source": [
    "# create transition probability function for given P\n",
    "# order: (m1,0,0), (m1,1,0), (m1,0,1), (m1,1,1), (m2,0,0), (m2,1,0), (m2,0,1), (m2,1,1)\n",
    "\n",
    "def F(P_cond):\n",
    "    # flip indices for second player\n",
    "    P_cond_2 = P_cond.copy()\n",
    "    P_cond_2[2], P_cond_2[1], P_cond_2[6], P_cond_2[5] = P_cond_2[1], P_cond_2[2], P_cond_2[5], P_cond_2[6]\n",
    "    \n",
    "    P_1 = np.column_stack([1.-P_cond, \n",
    "                           P_cond, \n",
    "                           1.-P_cond, \n",
    "                           P_cond])\n",
    "    P_2 = np.column_stack([1.-P_cond_2, \n",
    "                           1.-P_cond_2, \n",
    "                           P_cond_2, \n",
    "                           P_cond_2])\n",
    "    big_P_1 = np.column_stack([P_1,P_1])\n",
    "    big_P_2 = np.column_stack([P_2,P_2])\n",
    "    \n",
    "    big_B = np.repeat(np.repeat(B, 4, axis = 0), 4, axis = 1)\n",
    "\n",
    "    return(big_P_1 * big_P_2 * big_B)"
   ]
  },
  {
   "cell_type": "code",
   "execution_count": 5,
   "metadata": {},
   "outputs": [],
   "source": [
    "def Gamma(P_cond):\n",
    "    inv_term = np.linalg.inv(np.eye(8) - beta * F(P_cond))\n",
    "    e_1 = e(1., P_cond)\n",
    "    e_0 = e(0., P_cond)\n",
    "    sum_term = P_cond * (pi(1., P_cond) + e_1) + (1.-P_cond) * e_0\n",
    "    return(inv_term @ sum_term.reshape(-1,1))"
   ]
  },
  {
   "cell_type": "code",
   "execution_count": 6,
   "metadata": {},
   "outputs": [],
   "source": [
    "def Psi(P_cond):\n",
    "    gamma_vals = Gamma(P_cond)\n",
    "    probs = F(P_cond)\n",
    "    \n",
    "    in_probs = probs.copy()\n",
    "    in_probs[:,np.where(X[:,0] == 0.)] = 0.\n",
    "    \n",
    "    out_probs = probs.copy()\n",
    "    out_probs[:,np.where(X[:,0] == 1.)] = 0.\n",
    "    \n",
    "    cond_prob_in = in_probs / np.sum(in_probs, axis = 1).reshape(-1,1)\n",
    "    cond_prob_out = out_probs / np.sum(out_probs, axis = 1).reshape(-1,1)\n",
    "    \n",
    "    e_1 = e(1., P_cond).reshape(-1,1)\n",
    "    e_0 = e(0., P_cond).reshape(-1,1)\n",
    "        \n",
    "    V_1 = pi(1., P_cond).reshape(-1,1) + e_1 + beta * cond_prob_in @ gamma_vals\n",
    "    V_0 = pi(0., P_cond).reshape(-1,1) + e_0 + beta * cond_prob_out @ gamma_vals\n",
    "        \n",
    "    P_update = np.exp(V_1) / (np.exp(V_0) + np.exp(V_1))\n",
    "    \n",
    "    \n",
    "    return(P_update.reshape(-1))"
   ]
  },
  {
   "cell_type": "code",
   "execution_count": 7,
   "metadata": {},
   "outputs": [],
   "source": [
    "converged = False\n",
    "crit = 1e-6\n",
    "P_cond_old = np.ones(8) / 2.\n",
    "while not converged:\n",
    "    P_cond_new = Psi(P_cond_old)\n",
    "    if np.max(np.abs(P_cond_new - P_cond_old)) <= crit:\n",
    "        converged = True\n",
    "    else:\n",
    "        P_cond_old = P_cond_new"
   ]
  },
  {
   "cell_type": "markdown",
   "metadata": {},
   "source": [
    "Thus, our equilibrium solution $P^*$ of choice probabilities is as follows:"
   ]
  },
  {
   "cell_type": "code",
   "execution_count": 8,
   "metadata": {},
   "outputs": [
    {
     "data": {
      "text/plain": [
       "array([0.69539266, 0.69539266, 0.69539266, 0.69539266, 0.70216229,\n",
       "       0.70216229, 0.70216229, 0.70216229])"
      ]
     },
     "execution_count": 8,
     "metadata": {},
     "output_type": "execute_result"
    }
   ],
   "source": [
    "P_cond_new"
   ]
  },
  {
   "cell_type": "markdown",
   "metadata": {},
   "source": [
    "where the states are given as tuples of the form $(a_{it-1},a_{-it-1},M)$ by"
   ]
  },
  {
   "cell_type": "code",
   "execution_count": 9,
   "metadata": {},
   "outputs": [
    {
     "data": {
      "text/plain": [
       "array([[0. , 0. , 1. ],\n",
       "       [1. , 0. , 1. ],\n",
       "       [0. , 1. , 1. ],\n",
       "       [1. , 1. , 1. ],\n",
       "       [0. , 0. , 1.5],\n",
       "       [1. , 0. , 1.5],\n",
       "       [0. , 1. , 1.5],\n",
       "       [1. , 1. , 1.5]])"
      ]
     },
     "execution_count": 9,
     "metadata": {},
     "output_type": "execute_result"
    }
   ],
   "source": [
    "X"
   ]
  }
 ],
 "metadata": {
  "kernelspec": {
   "display_name": "Python 3",
   "language": "python",
   "name": "python3"
  },
  "language_info": {
   "codemirror_mode": {
    "name": "ipython",
    "version": 3
   },
   "file_extension": ".py",
   "mimetype": "text/x-python",
   "name": "python",
   "nbconvert_exporter": "python",
   "pygments_lexer": "ipython3",
   "version": "3.8.5"
  }
 },
 "nbformat": 4,
 "nbformat_minor": 4
}
