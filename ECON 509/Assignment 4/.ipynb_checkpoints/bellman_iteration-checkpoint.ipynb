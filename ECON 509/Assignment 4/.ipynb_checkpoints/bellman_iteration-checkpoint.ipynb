{
 "cells": [
  {
   "cell_type": "markdown",
   "metadata": {},
   "source": [
    "# Value Function Iteration"
   ]
  },
  {
   "cell_type": "markdown",
   "metadata": {},
   "source": [
    "#### Import Numpy"
   ]
  },
  {
   "cell_type": "code",
   "execution_count": 1,
   "metadata": {},
   "outputs": [],
   "source": [
    "import numpy as np\n",
    "import pandas as pd\n",
    "import matplotlib.pyplot as plt\n",
    "from numpy import linalg\n",
    "%load_ext watermark"
   ]
  },
  {
   "cell_type": "code",
   "execution_count": 2,
   "metadata": {},
   "outputs": [
    {
     "name": "stdout",
     "output_type": "stream",
     "text": [
      "Author: Lukas Hager\n",
      "\n",
      "Python implementation: CPython\n",
      "Python version       : 3.8.5\n",
      "IPython version      : 7.19.0\n",
      "\n",
      "numpy : 1.19.2\n",
      "pandas: 1.1.3\n",
      "\n"
     ]
    }
   ],
   "source": [
    "%watermark -a \"Lukas Hager\" -v --python -p numpy,pandas"
   ]
  },
  {
   "cell_type": "markdown",
   "metadata": {},
   "source": [
    "#### Define Parameters"
   ]
  },
  {
   "cell_type": "code",
   "execution_count": 3,
   "metadata": {},
   "outputs": [],
   "source": [
    "transition_mat = np.array([[.75, .25],\n",
    "                           [.2, .8]])\n",
    "\n",
    "state_vec = np.array([.5, 1])\n",
    "\n",
    "r = .01\n",
    "beta = .97\n",
    "gamma = 1.5\n",
    "epsilon = 10**(-4)"
   ]
  },
  {
   "cell_type": "markdown",
   "metadata": {},
   "source": [
    "#### Define the Stationary Distribution of Markov Chain"
   ]
  },
  {
   "cell_type": "code",
   "execution_count": 4,
   "metadata": {},
   "outputs": [],
   "source": [
    "eigens = np.linalg.eig(transition_mat.transpose())"
   ]
  },
  {
   "cell_type": "markdown",
   "metadata": {},
   "source": [
    "Get the eigenvector corresponding to an eigenalue of 1 and standardize to probabilities"
   ]
  },
  {
   "cell_type": "code",
   "execution_count": 5,
   "metadata": {},
   "outputs": [],
   "source": [
    "eig_idx = np.where(eigens[0] == 1)\n",
    "eig_vectors = eigens[1][:,eig_idx]\n",
    "stat_dist = np.squeeze(eig_vectors/eig_vectors.sum())"
   ]
  },
  {
   "cell_type": "markdown",
   "metadata": {},
   "source": [
    "#### Define Grid"
   ]
  },
  {
   "cell_type": "code",
   "execution_count": 6,
   "metadata": {},
   "outputs": [],
   "source": [
    "a_grid = np.linspace(0,50,num=250)\n",
    "z_grid = np.linspace(.5,1,num=2)\n",
    "ag, zg = np.meshgrid(a_grid, z_grid)\n",
    "grid = np.column_stack((ag.flatten(), zg.flatten()))"
   ]
  },
  {
   "cell_type": "markdown",
   "metadata": {},
   "source": [
    "#### Define Utility Function"
   ]
  },
  {
   "cell_type": "code",
   "execution_count": 7,
   "metadata": {},
   "outputs": [],
   "source": [
    "def u(c):\n",
    "    u_val = (c**(1-gamma))/(1-gamma)\n",
    "    return(u_val)"
   ]
  },
  {
   "cell_type": "markdown",
   "metadata": {},
   "source": [
    "#### Define Old and New Value Function Arrays and Iterate"
   ]
  },
  {
   "cell_type": "code",
   "execution_count": 8,
   "metadata": {},
   "outputs": [
    {
     "name": "stdout",
     "output_type": "stream",
     "text": [
      "Maximum difference: 2.85842712474619\n",
      "Maximum difference: 2.5717807332528535\n",
      "Maximum difference: 2.3874505875251355\n",
      "Maximum difference: 2.2530385474951924\n",
      "Maximum difference: 2.1492369475885074\n",
      "Maximum difference: 2.065393921179494\n",
      "Maximum difference: 1.988819765255112\n",
      "Maximum difference: 1.9213572482961503\n",
      "Maximum difference: 1.8585958461298233\n",
      "Maximum difference: 1.7987067052476178\n"
     ]
    },
    {
     "name": "stderr",
     "output_type": "stream",
     "text": [
      "<ipython-input-7-2a839d6e222f>:2: RuntimeWarning: invalid value encountered in power\n",
      "  u_val = (c**(1-gamma))/(1-gamma)\n",
      "<ipython-input-7-2a839d6e222f>:2: RuntimeWarning: divide by zero encountered in power\n",
      "  u_val = (c**(1-gamma))/(1-gamma)\n"
     ]
    },
    {
     "name": "stdout",
     "output_type": "stream",
     "text": [
      "Maximum difference: 1.7423468871463967\n",
      "Maximum difference: 1.6881719820559908\n",
      "Maximum difference: 1.6358809135953791\n",
      "Maximum difference: 1.585773139005319\n",
      "Maximum difference: 1.537481798162915\n",
      "Maximum difference: 1.4904906918881267\n",
      "Maximum difference: 1.4452294721140007\n",
      "Maximum difference: 1.401309858005721\n",
      "Maximum difference: 1.3588309061162462\n",
      "Maximum difference: 1.3177407044137723\n",
      "Maximum difference: 1.2779951698191994\n",
      "Maximum difference: 1.2393807438668318\n",
      "Maximum difference: 1.2019856586695\n",
      "Maximum difference: 1.1657602935678355\n",
      "Maximum difference: 1.1306690022536756\n",
      "Maximum difference: 1.0966533268538612\n",
      "Maximum difference: 1.0636826982830172\n",
      "Maximum difference: 1.0316893649429417\n",
      "Maximum difference: 1.0006764892436308\n",
      "Maximum difference: 0.9706041401382492\n",
      "Maximum difference: 0.9414473239487862\n",
      "Maximum difference: 0.9131629754655464\n",
      "Maximum difference: 0.8857269789856232\n",
      "Maximum difference: 0.859123881438542\n",
      "Maximum difference: 0.833325212388381\n",
      "Maximum difference: 0.8083054153177187\n",
      "Maximum difference: 0.7840404422754972\n",
      "Maximum difference: 0.760506658338187\n",
      "Maximum difference: 0.7376813947568621\n",
      "Maximum difference: 0.7155429680475649\n",
      "Maximum difference: 0.694070243171879\n",
      "Maximum difference: 0.6732430197902133\n",
      "Maximum difference: 0.6530416118273195\n",
      "Maximum difference: 0.6334470884197643\n",
      "Maximum difference: 0.6144410454138125\n",
      "Maximum difference: 0.596005710176442\n",
      "Maximum difference: 0.578123855337715\n",
      "Maximum difference: 0.5607787966993527\n",
      "Maximum difference: 0.5439543567279657\n",
      "Maximum difference: 0.5276348675786693\n",
      "Maximum difference: 0.5118051342421737\n",
      "Maximum difference: 0.4964504314070197\n",
      "Maximum difference: 0.48155647930141043\n",
      "Maximum difference: 0.467109434092535\n",
      "Maximum difference: 0.4530958704032386\n",
      "Maximum difference: 0.43950277003036575\n",
      "Maximum difference: 0.4263175075479708\n",
      "Maximum difference: 0.4135278389792916\n",
      "Maximum difference: 0.401121889159171\n",
      "Maximum difference: 0.38908814085922927\n",
      "Maximum difference: 0.3774154233607163\n",
      "Maximum difference: 0.36609290209440815\n",
      "Maximum difference: 0.35511006820091495\n",
      "Maximum difference: 0.3444567287219229\n",
      "Maximum difference: 0.3341229969290538\n",
      "Maximum difference: 0.3240992830953928\n",
      "Maximum difference: 0.31437628547230645\n",
      "Maximum difference: 0.3049449816156624\n",
      "Maximum difference: 0.29579661994026196\n",
      "Maximum difference: 0.286922711567712\n",
      "Maximum difference: 0.2783150224059199\n",
      "Maximum difference: 0.2699655654864017\n",
      "Maximum difference: 0.26186659352701724\n",
      "Maximum difference: 0.2540105917281892\n",
      "Maximum difference: 0.24639027078394804\n",
      "Maximum difference: 0.23899856010827136\n",
      "Maximum difference: 0.2318286012645956\n",
      "Maximum difference: 0.22487374159543094\n",
      "Maximum difference: 0.21812752804343916\n",
      "Maximum difference: 0.21158370115952607\n",
      "Maximum difference: 0.20523618929121312\n",
      "Maximum difference: 0.19907910294610076\n",
      "Maximum difference: 0.19310672932496686\n",
      "Maximum difference: 0.18731352701928472\n",
      "Maximum difference: 0.18169412086820103\n",
      "Maximum difference: 0.17624329696992902\n",
      "Maximum difference: 0.17095599784319404\n",
      "Maximum difference: 0.1658273177338998\n",
      "Maximum difference: 0.16085249806278057\n",
      "Maximum difference: 0.15602692300969068\n",
      "Maximum difference: 0.15134611523048136\n",
      "Maximum difference: 0.1468057317025\n",
      "Maximum difference: 0.14240155969459067\n",
      "Maximum difference: 0.13812951285832753\n",
      "Maximum difference: 0.1339856274362603\n",
      "Maximum difference: 0.1299660585841309\n",
      "Maximum difference: 0.12606707680339468\n",
      "Maximum difference: 0.12228506448073517\n",
      "Maximum difference: 0.11861651253147443\n",
      "Maximum difference: 0.11505801714366726\n",
      "Maximum difference: 0.11160627661986666\n",
      "Maximum difference: 0.10825808831370409\n",
      "Maximum difference: 0.10501034565821499\n",
      "Maximum difference: 0.10186003528363585\n",
      "Maximum difference: 0.09880423422124807\n",
      "Maximum difference: 0.09584010719150626\n",
      "Maximum difference: 0.09296490397329649\n",
      "Maximum difference: 0.09017595685210722\n",
      "Maximum difference: 0.08747067814498166\n",
      "Maximum difference: 0.08484655779935224\n",
      "Maximum difference: 0.08230116106436469\n",
      "Maximum difference: 0.07983212623163638\n",
      "Maximum difference: 0.07743716244402776\n",
      "Maximum difference: 0.0751140475701817\n",
      "Maximum difference: 0.07286062614267053\n",
      "Maximum difference: 0.07067480735805987\n",
      "Maximum difference: 0.06855456313705588\n",
      "Maximum difference: 0.06649792624271811\n",
      "Maximum difference: 0.06450298845528835\n",
      "Maximum difference: 0.06256789880147551\n",
      "Maximum difference: 0.060690861837343846\n",
      "Maximum difference: 0.058870135982132865\n",
      "Maximum difference: 0.05710403190258262\n",
      "Maximum difference: 0.055390910945476435\n",
      "Maximum difference: 0.053729183617065246\n",
      "Maximum difference: 0.05211730810850668\n",
      "Maximum difference: 0.050553788865229876\n",
      "Maximum difference: 0.04903717519924555\n",
      "Maximum difference: 0.04756605994325014\n",
      "Maximum difference: 0.046139078144932455\n",
      "Maximum difference: 0.0447549058005734\n",
      "Maximum difference: 0.043412258626560174\n",
      "Maximum difference: 0.0421098908677493\n",
      "Maximum difference: 0.04084659414171199\n",
      "Maximum difference: 0.0396211963174693\n",
      "Maximum difference: 0.038432560427949625\n",
      "Maximum difference: 0.03727958361508854\n",
      "Maximum difference: 0.03616119610664725\n",
      "Maximum difference: 0.03507636022344229\n",
      "Maximum difference: 0.03402406941674485\n",
      "Maximum difference: 0.033003347334243927\n",
      "Maximum difference: 0.03201324691421803\n",
      "Maximum difference: 0.031052849506778557\n",
      "Maximum difference: 0.03012126402158799\n",
      "Maximum difference: 0.02921762610093026\n",
      "Maximum difference: 0.028341097317905906\n",
      "Maximum difference: 0.02749086439837356\n",
      "Maximum difference: 0.026666138466410416\n",
      "Maximum difference: 0.025866154312424783\n",
      "Maximum difference: 0.025090169683053887\n",
      "Maximum difference: 0.024337464592562696\n",
      "Maximum difference: 0.023607340654791642\n",
      "Maximum difference: 0.02289912043515585\n",
      "Maximum difference: 0.022212146822099044\n",
      "Maximum difference: 0.021545782417433657\n",
      "Maximum difference: 0.02089940894491349\n",
      "Maximum difference: 0.02027242667656992\n",
      "Maximum difference: 0.019664253876271687\n",
      "Maximum difference: 0.01907432625996819\n",
      "Maximum difference: 0.018502096472175822\n",
      "Maximum difference: 0.017947033578025184\n",
      "Maximum difference: 0.01740862257068443\n",
      "Maximum difference: 0.016886363893561906\n",
      "Maximum difference: 0.016379772976762297\n",
      "Maximum difference: 0.015888379787455165\n",
      "Maximum difference: 0.015411728393829094\n",
      "Maximum difference: 0.014949376542006121\n",
      "Maximum difference: 0.014500895245745937\n",
      "Maximum difference: 0.014065868388385638\n",
      "Maximum difference: 0.0136438923367308\n",
      "Maximum difference: 0.013234575566627882\n",
      "Maximum difference: 0.012837538299621087\n",
      "Maximum difference: 0.012452412150651071\n",
      "Maximum difference: 0.01207883978612756\n",
      "Maximum difference: 0.011716474592546433\n",
      "Maximum difference: 0.011364980354770182\n",
      "Maximum difference: 0.01102403094411386\n",
      "Maximum difference: 0.010693310015795987\n",
      "Maximum difference: 0.010372510715328076\n",
      "Maximum difference: 0.010061335393871218\n",
      "Maximum difference: 0.009759495332048118\n",
      "Maximum difference: 0.009466710472096906\n",
      "Maximum difference: 0.009182709157926183\n",
      "Maximum difference: 0.008907227883199198\n",
      "Maximum difference: 0.008640011046708196\n",
      "Maximum difference: 0.00838081071530894\n",
      "Maximum difference: 0.008129386393846971\n",
      "Maximum difference: 0.007885504802032983\n",
      "Maximum difference: 0.007648939657968867\n",
      "Maximum difference: 0.0074194714682391805\n",
      "Maximum difference: 0.007196887324198542\n",
      "Maximum difference: 0.006980980704469175\n",
      "Maximum difference: 0.006771551283321742\n",
      "Maximum difference: 0.006568404744825784\n",
      "Maximum difference: 0.006371352602485558\n",
      "Maximum difference: 0.006180212024418097\n",
      "Maximum difference: 0.005994805663689817\n",
      "Maximum difference: 0.005814961493769033\n",
      "Maximum difference: 0.005640512648966478\n",
      "Maximum difference: 0.005471297269494357\n",
      "Maximum difference: 0.005307158351399721\n",
      "Maximum difference: 0.005147943600860572\n",
      "Maximum difference: 0.004993505292844702\n",
      "Maximum difference: 0.004843700134060214\n",
      "Maximum difference: 0.004698389130041392\n",
      "Maximum difference: 0.004557437456128355\n",
      "Maximum difference: 0.0044207143324541676\n",
      "Maximum difference: 0.004288092902484664\n",
      "Maximum difference: 0.004159450115395202\n",
      "Maximum difference: 0.004034666611957505\n",
      "Maximum difference: 0.0039136266135813\n",
      "Maximum difference: 0.003796217815178693\n",
      "Maximum difference: 0.00368233128072859\n",
      "Maximum difference: 0.00357186134230858\n",
      "Maximum difference: 0.0034647055020329276\n",
      "Maximum difference: 0.003360764336974853\n",
      "Maximum difference: 0.0032599414068670285\n",
      "Maximum difference: 0.0031621431646726705\n",
      "Maximum difference: 0.003067278869735901\n",
      "Maximum difference: 0.002975260503632171\n",
      "Maximum difference: 0.002886002688526901\n",
      "Maximum difference: 0.0027994226078718043\n",
      "Maximum difference: 0.002715439929637853\n",
      "Maximum difference: 0.0026339767317438145\n",
      "Maximum difference: 0.002554957429794058\n"
     ]
    },
    {
     "name": "stdout",
     "output_type": "stream",
     "text": [
      "Maximum difference: 0.0024783087069124576\n",
      "Maximum difference: 0.0024039594457008207\n",
      "Maximum difference: 0.002331840662336049\n",
      "Maximum difference: 0.0022618854424649726\n",
      "Maximum difference: 0.0021940288791881812\n",
      "Maximum difference: 0.0021282080128202097\n",
      "Maximum difference: 0.002064361772440293\n",
      "Maximum difference: 0.0020024309192621104\n",
      "Maximum difference: 0.0019423579916804101\n",
      "Maximum difference: 0.0018840872519376717\n",
      "Maximum difference: 0.0018275646343823837\n",
      "Maximum difference: 0.0017727376953473595\n",
      "Maximum difference: 0.0017195555644775595\n",
      "Maximum difference: 0.001667968897550054\n",
      "Maximum difference: 0.0016179298306298051\n",
      "Maximum difference: 0.0015693919357104846\n",
      "Maximum difference: 0.0015223101776342673\n",
      "Maximum difference: 0.0014766408723119184\n",
      "Maximum difference: 0.0014323416461508032\n",
      "Maximum difference: 0.0013893713967547683\n",
      "Maximum difference: 0.0013476902548461567\n",
      "Maximum difference: 0.0013072595472038984\n",
      "Maximum difference: 0.0012680417607953132\n",
      "Maximum difference: 0.0012300005079737275\n",
      "Maximum difference: 0.0011931004927276945\n",
      "Maximum difference: 0.0011573074779533954\n",
      "Maximum difference: 0.0011225882536223253\n",
      "Maximum difference: 0.0010889106060005815\n",
      "Maximum difference: 0.0010562432878344907\n",
      "Maximum difference: 0.0010245559892041456\n",
      "Maximum difference: 0.0009938193095280212\n",
      "Maximum difference: 0.0009640047302355015\n",
      "Maximum difference: 0.0009350845883346892\n",
      "Maximum difference: 0.0009070320506765484\n",
      "Maximum difference: 0.0008798210891640679\n",
      "Maximum difference: 0.0008534264564872274\n",
      "Maximum difference: 0.0008278236628029845\n",
      "Maximum difference: 0.000802988952926853\n",
      "Maximum difference: 0.0007788992843273945\n",
      "Maximum difference: 0.0007555323058028307\n",
      "Maximum difference: 0.0007328663366337196\n",
      "Maximum difference: 0.0007108803465314395\n",
      "Maximum difference: 0.0006895539361408964\n",
      "Maximum difference: 0.0006688673180548221\n",
      "Maximum difference: 0.0006488012985101932\n",
      "Maximum difference: 0.0006293372595536084\n",
      "Maximum difference: 0.0006104571417679949\n",
      "Maximum difference: 0.000592143427510905\n",
      "Maximum difference: 0.0005743791246857199\n",
      "Maximum difference: 0.0005571477509533906\n",
      "Maximum difference: 0.0005404333184344523\n",
      "Maximum difference: 0.0005242203188657868\n",
      "Maximum difference: 0.0005084937093045028\n",
      "Maximum difference: 0.0004932388980307678\n",
      "Maximum difference: 0.000478441731090129\n",
      "Maximum difference: 0.0004640884791484723\n",
      "Maximum difference: 0.0004501658247733076\n",
      "Maximum difference: 0.0004366608500561142\n",
      "Maximum difference: 0.00042356102454732536\n",
      "Maximum difference: 0.00041085419381658994\n",
      "Maximum difference: 0.00039852856799882375\n",
      "Maximum difference: 0.0003865727109513273\n",
      "Maximum difference: 0.00037497552962406644\n",
      "Maximum difference: 0.000363726263742592\n",
      "Maximum difference: 0.00035281447581780867\n",
      "Maximum difference: 0.00034223004155364833\n",
      "Maximum difference: 0.0003319631402973755\n",
      "Maximum difference: 0.0003220042461009598\n",
      "Maximum difference: 0.000312344118711394\n",
      "Maximum difference: 0.000302973795172079\n",
      "Maximum difference: 0.0002938845812963109\n",
      "Maximum difference: 0.00028506804386552176\n",
      "Maximum difference: 0.0002765160025575142\n",
      "Maximum difference: 0.0002682205224715517\n",
      "Maximum difference: 0.0002601739068097686\n",
      "Maximum difference: 0.0002523686896012123\n",
      "Maximum difference: 0.00024479762890905477\n",
      "Maximum difference: 0.00023745370005201494\n",
      "Maximum difference: 0.0002303300890389437\n",
      "Maximum difference: 0.0002234201863728913\n",
      "Maximum difference: 0.0002167175807841204\n",
      "Maximum difference: 0.00021021605336102311\n",
      "Maximum difference: 0.00020390957178051394\n",
      "Maximum difference: 0.00019779228462368792\n",
      "Maximum difference: 0.0001918585160751718\n",
      "Maximum difference: 0.0001861027605940535\n",
      "Maximum difference: 0.00018051967778376365\n",
      "Maximum difference: 0.00017510408743248718\n",
      "Maximum difference: 0.00016985096480937045\n",
      "Maximum difference: 0.00016475543587546326\n",
      "Maximum difference: 0.00015981277280729955\n",
      "Maximum difference: 0.00015501838961995418\n",
      "Maximum difference: 0.0001503678379322082\n",
      "Maximum difference: 0.00014585680278855762\n",
      "Maximum difference: 0.0001414810987085957\n",
      "Maximum difference: 0.00013723666575060633\n",
      "Maximum difference: 0.00013311956578831996\n",
      "Maximum difference: 0.0001291259788018806\n",
      "Maximum difference: 0.00012525219943881893\n",
      "Maximum difference: 0.00012149463346133871\n",
      "Maximum difference: 0.00011784979444939836\n",
      "Maximum difference: 0.00011431430063169046\n",
      "Maximum difference: 0.00011088487161714511\n",
      "Maximum difference: 0.00010755832545328303\n",
      "Maximum difference: 0.00010433157569877949\n",
      "Maximum difference: 0.00010120162843918479\n",
      "Maximum difference: 9.816557957265104e-05\n"
     ]
    }
   ],
   "source": [
    "V_new = np.ones((len(a_grid), len(z_grid)))\n",
    "policy = np.zeros((len(a_grid), len(z_grid)))\n",
    "\n",
    "diff = 100\n",
    "while diff > epsilon:\n",
    "    \n",
    "    # reset V grids\n",
    "    V_old = V_new.copy()\n",
    "    \n",
    "    for val in grid:\n",
    "        \n",
    "        # define parameters and calculate c and u(c)\n",
    "        a_i = val[0]\n",
    "        z_j = val[1]\n",
    "        trans = transition_mat[np.where(z_grid == z_j)].squeeze()\n",
    "        V_idx = (np.where(a_grid == a_i)[0].item(), \n",
    "                 np.where(z_grid == z_j)[0].item())\n",
    "        \n",
    "        c = (1+r)*a_i + z_j - a_grid\n",
    "        \n",
    "        # restrict to positive consumption and calculate V_new value\n",
    "        pos_c = np.where(c >= 0)\n",
    "        V = u(c)[pos_c] + beta * np.matmul(V_old, trans)[pos_c]\n",
    "        max_V = V.max()\n",
    "        \n",
    "        # get the policy function\n",
    "        chosen_a = a_grid[pos_c[0]][np.where(V == max_V)]\n",
    "        \n",
    "        # update element in array\n",
    "        V_new[V_idx] = max_V\n",
    "        policy[V_idx] = chosen_a\n",
    "        \n",
    "    # compare to the previous iteration and get the max value\n",
    "    diff = abs(V_new - V_old).max()\n",
    "    \n",
    "    # print max diff for reference\n",
    "    print('Maximum difference: {}'.format(diff))\n"
   ]
  },
  {
   "cell_type": "code",
   "execution_count": 9,
   "metadata": {},
   "outputs": [
    {
     "data": {
      "image/png": "[encoded data removed]",
      "text/plain": [
       "<Figure size 432x288 with 1 Axes>"
      ]
     },
     "metadata": {
      "needs_background": "light"
     },
     "output_type": "display_data"
    }
   ],
   "source": [
    "fig = plt.figure()\n",
    "ax = plt.axes()\n",
    "\n",
    "ax.plot(a_grid, V_new[:,0], label = 'z=.5');\n",
    "ax.plot(a_grid, V_new[:,1], label = 'z=1');\n",
    "plt.legend();\n",
    "ax.set(title = 'Value Functions',\n",
    "       xlabel = 'a',\n",
    "       ylabel = 'V(a,z)');"
   ]
  },
  {
   "cell_type": "code",
   "execution_count": 12,
   "metadata": {},
   "outputs": [
    {
     "data": {
      "image/png": "[encoded data removed]",
      "text/plain": [
       "<Figure size 432x288 with 1 Axes>"
      ]
     },
     "metadata": {
      "needs_background": "light"
     },
     "output_type": "display_data"
    }
   ],
   "source": [
    "fig = plt.figure()\n",
    "ax = plt.axes()\n",
    "\n",
    "ax.plot(a_grid, policy[:,0], label = 'z=.5');\n",
    "ax.plot(a_grid, policy[:,1], label = 'z=1');\n",
    "plt.axhline(y=50, color='r', linestyle='-')\n",
    "plt.legend();\n",
    "ax.set(title = 'Policy Functions',\n",
    "       xlabel = 'a',\n",
    "       ylabel = 'a\\'');"
   ]
  },
  {
   "cell_type": "markdown",
   "metadata": {},
   "source": [
    "#### Export"
   ]
  },
  {
   "cell_type": "code",
   "execution_count": 11,
   "metadata": {},
   "outputs": [],
   "source": [
    "value_df = pd.DataFrame(V_new, index=a_grid, columns = z_grid)\n",
    "policy_df = pd.DataFrame(policy, index=a_grid, columns = z_grid)\n",
    "\n",
    "value_df.to_csv('/Users/hlukas/git/uw_grad_school_code/ECON 509/Assignment 4/value_df.csv')\n",
    "policy_df.to_csv('/Users/hlukas/git/uw_grad_school_code/ECON 509/Assignment 4/policy_df.csv')"
   ]
  }
 ],
 "metadata": {
  "kernelspec": {
   "display_name": "Python 3",
   "language": "python",
   "name": "python3"
  },
  "language_info": {
   "codemirror_mode": {
    "name": "ipython",
    "version": 3
   },
   "file_extension": ".py",
   "mimetype": "text/x-python",
   "name": "python",
   "nbconvert_exporter": "python",
   "pygments_lexer": "ipython3",
   "version": "3.8.5"
  }
 },
 "nbformat": 4,
 "nbformat_minor": 4
}
